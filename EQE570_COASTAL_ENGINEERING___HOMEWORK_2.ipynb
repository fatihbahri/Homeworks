{
  "nbformat": 4,
  "nbformat_minor": 0,
  "metadata": {
    "colab": {
      "name": "EQE570-COASTAL ENGINEERING | HOMEWORK 2",
      "provenance": [],
      "collapsed_sections": [
        "IBfyrQUXolyr",
        "RlCxNhpFY1t5",
        "Li7z7MqRY9Yg",
        "_GrdPkHtZBTO",
        "deKODL9RZDQF",
        "m90P-iGgZGO2",
        "sZ_wsK6zZH9f",
        "ht7hjFDqxX21"
      ]
    },
    "kernelspec": {
      "name": "python3",
      "display_name": "Python 3"
    },
    "language_info": {
      "name": "python"
    },
    "accelerator": "GPU"
  },
  "cells": [
    {
      "cell_type": "markdown",
      "metadata": {
        "id": "zZoHN6HZVbyG"
      },
      "source": [
        "# EQE570-COASTAL ENGINEERING | HOMEWORK 2"
      ]
    },
    {
      "cell_type": "code",
      "metadata": {
        "id": "7WCyudA5muVI"
      },
      "source": [
        "import math\n",
        "import numpy as np\n",
        "import matplotlib.pyplot as plt\n",
        "import pandas as pd"
      ],
      "execution_count": null,
      "outputs": []
    },
    {
      "cell_type": "markdown",
      "metadata": {
        "id": "IBfyrQUXolyr"
      },
      "source": [
        "## Question 1"
      ]
    },
    {
      "cell_type": "markdown",
      "metadata": {
        "id": "_Pg8Jw9Sd8fl"
      },
      "source": [
        "### Velocity Potential Function"
      ]
    },
    {
      "cell_type": "code",
      "metadata": {
        "colab": {
          "base_uri": "https://localhost:8080/",
          "height": 57
        },
        "id": "tPnlr8_QdLal",
        "outputId": "12e96bc5-5342-461c-faa2-1cb4fc54d2dc"
      },
      "source": [
        "%%latex\n",
        " \\phi = \\dfrac{ag\\cosh\\left(k\\left(z+d\\right)\\right)}{{\\omega}\\sinh\\left(kd\\right)}\\cos\\left(kx - {\\omega}t\\right)"
      ],
      "execution_count": null,
      "outputs": [
        {
          "output_type": "display_data",
          "data": {
            "text/latex": " \\phi = \\dfrac{ag\\cosh\\left(k\\left(z+d\\right)\\right)}{{\\omega}\\sinh\\left(kd\\right)}\\cos\\left(kx - {\\omega}t\\right)",
            "text/plain": [
              "<IPython.core.display.Latex object>"
            ]
          },
          "metadata": {
            "tags": []
          }
        }
      ]
    },
    {
      "cell_type": "code",
      "metadata": {
        "colab": {
          "base_uri": "https://localhost:8080/",
          "height": 61
        },
        "id": "Nq2NtyKjeAYs",
        "outputId": "923b4034-805c-43d5-aa1f-1934de782026"
      },
      "source": [
        "%%latex\n",
        "u = \\frac{\\partial\\phi}{\\partial x} \\\\\n",
        "\\\\ w = \\frac{\\partial\\phi}{\\partial z}"
      ],
      "execution_count": null,
      "outputs": [
        {
          "output_type": "display_data",
          "data": {
            "text/latex": "u = \\frac{\\partial\\phi}{\\partial x} \\\\\n\\\\ w = \\frac{\\partial\\phi}{\\partial z}",
            "text/plain": [
              "<IPython.core.display.Latex object>"
            ]
          },
          "metadata": {
            "tags": []
          }
        }
      ]
    },
    {
      "cell_type": "markdown",
      "metadata": {
        "id": "dtJZZE_IemB2"
      },
      "source": [
        "If the flow is irrotational:"
      ]
    },
    {
      "cell_type": "code",
      "metadata": {
        "colab": {
          "base_uri": "https://localhost:8080/",
          "height": 41
        },
        "id": "W1gLdpjZelsP",
        "outputId": "032c2165-44a4-4fa5-f691-1e1eb373a1c1"
      },
      "source": [
        "%%latex\n",
        "\\frac{\\partial u}{\\partial x} + \\frac{\\partial w}{\\partial z} = 0 = \\frac{\\partial ^2\\phi}{\\partial x^2} + \\frac{\\partial ^2\\phi}{\\partial z^2}"
      ],
      "execution_count": null,
      "outputs": [
        {
          "output_type": "display_data",
          "data": {
            "text/latex": "\\frac{\\partial u}{\\partial x} + \\frac{\\partial w}{\\partial z} = 0 = \\frac{\\partial ^2\\phi}{\\partial x^2} + \\frac{\\partial ^2\\phi}{\\partial z^2}",
            "text/plain": [
              "<IPython.core.display.Latex object>"
            ]
          },
          "metadata": {
            "tags": []
          }
        }
      ]
    },
    {
      "cell_type": "markdown",
      "metadata": {
        "id": "TqpCFtA1m1cN"
      },
      "source": [
        "### a. u velocity is:"
      ]
    },
    {
      "cell_type": "code",
      "metadata": {
        "colab": {
          "base_uri": "https://localhost:8080/",
          "height": 57
        },
        "id": "eACkOwVbfPqA",
        "outputId": "e715caf4-37ec-4ae5-944e-663b79d31b4c"
      },
      "source": [
        "%%latex\n",
        "u = \\dfrac{agk\\cosh\\left(k\\left(z+d\\right)\\right)\\sin\\left(kx-{\\omega}t\\right)}{\\sinh\\left(dk\\right){\\omega}}"
      ],
      "execution_count": null,
      "outputs": [
        {
          "output_type": "display_data",
          "data": {
            "text/latex": "u = \\dfrac{agk\\cosh\\left(k\\left(z+d\\right)\\right)\\sin\\left(kx-{\\omega}t\\right)}{\\sinh\\left(dk\\right){\\omega}}",
            "text/plain": [
              "<IPython.core.display.Latex object>"
            ]
          },
          "metadata": {
            "tags": []
          }
        }
      ]
    },
    {
      "cell_type": "markdown",
      "metadata": {
        "id": "gTqWuGxjgDIE"
      },
      "source": [
        "w velocity is:"
      ]
    },
    {
      "cell_type": "code",
      "metadata": {
        "colab": {
          "base_uri": "https://localhost:8080/",
          "height": 57
        },
        "id": "ay8pbe6ogFDd",
        "outputId": "ed3d98e5-b7fb-4bb1-95ea-564752c76658"
      },
      "source": [
        "%%latex\n",
        "w = -\\dfrac{agk\\cos\\left(kx-{\\omega}t\\right)\\sinh\\left(k\\left(z+d\\right)\\right)}{\\sinh\\left(dk\\right){\\omega}}"
      ],
      "execution_count": null,
      "outputs": [
        {
          "output_type": "display_data",
          "data": {
            "text/latex": "w = -\\dfrac{agk\\cos\\left(kx-{\\omega}t\\right)\\sinh\\left(k\\left(z+d\\right)\\right)}{\\sinh\\left(dk\\right){\\omega}}",
            "text/plain": [
              "<IPython.core.display.Latex object>"
            ]
          },
          "metadata": {
            "tags": []
          }
        }
      ]
    },
    {
      "cell_type": "markdown",
      "metadata": {
        "id": "Mo2WYz37hntf"
      },
      "source": [
        "Checking if the flow is irrorational:"
      ]
    },
    {
      "cell_type": "code",
      "metadata": {
        "colab": {
          "base_uri": "https://localhost:8080/",
          "height": 58
        },
        "id": "EM8FnZQthwwm",
        "outputId": "f0f47de4-e075-4897-85f2-dbdd055f33f9"
      },
      "source": [
        "%%latex\n",
        "\\frac{\\partial u}{\\partial x} + \\frac{\\partial w}{\\partial z} = -\\dfrac{agk^2\\cosh\\left(k\\left(z+d\\right)\\right)\\cos\\left(kx-{\\omega}t\\right)}{\\sinh\\left(dk\\right){\\omega}} + \\dfrac{agk^2\\cos\\left(kx-{\\omega}t\\right)\\cosh\\left(k\\left(z+d\\right)\\right)}{\\sinh\\left(dk\\right){\\omega}} = 0"
      ],
      "execution_count": null,
      "outputs": [
        {
          "output_type": "display_data",
          "data": {
            "text/latex": "\\frac{\\partial u}{\\partial x} + \\frac{\\partial w}{\\partial z} = -\\dfrac{agk^2\\cosh\\left(k\\left(z+d\\right)\\right)\\cos\\left(kx-{\\omega}t\\right)}{\\sinh\\left(dk\\right){\\omega}} + \\dfrac{agk^2\\cos\\left(kx-{\\omega}t\\right)\\cosh\\left(k\\left(z+d\\right)\\right)}{\\sinh\\left(dk\\right){\\omega}} = 0",
            "text/plain": [
              "<IPython.core.display.Latex object>"
            ]
          },
          "metadata": {
            "tags": []
          }
        }
      ]
    },
    {
      "cell_type": "markdown",
      "metadata": {
        "id": "zqw7d_OQiCjK"
      },
      "source": [
        "Therefore, this flow is irrotational."
      ]
    },
    {
      "cell_type": "markdown",
      "metadata": {
        "id": "Otnxhc-vie3Z"
      },
      "source": [
        "### b. Laplace Equation"
      ]
    },
    {
      "cell_type": "code",
      "metadata": {
        "colab": {
          "base_uri": "https://localhost:8080/",
          "height": 41
        },
        "id": "4Br81GO7ik2K",
        "outputId": "844d2070-bf98-495e-d031-881b7a927400"
      },
      "source": [
        "%%latex\n",
        "\\frac{\\partial ^2\\phi}{\\partial x^2} + \\frac{\\partial ^2\\phi}{\\partial z^2} = 0"
      ],
      "execution_count": null,
      "outputs": [
        {
          "output_type": "display_data",
          "data": {
            "text/latex": "\\frac{\\partial ^2\\phi}{\\partial x^2} + \\frac{\\partial ^2\\phi}{\\partial z^2} = 0",
            "text/plain": [
              "<IPython.core.display.Latex object>"
            ]
          },
          "metadata": {
            "tags": []
          }
        }
      ]
    },
    {
      "cell_type": "code",
      "metadata": {
        "colab": {
          "base_uri": "https://localhost:8080/",
          "height": 58
        },
        "id": "8C_PhzYfitZ3",
        "outputId": "55e665c4-147d-4bff-db1b-17506c4985d0"
      },
      "source": [
        "%%latex\n",
        "\\dfrac{agk^2\\cos\\left(kx-{\\omega}t\\right)\\cosh\\left(k\\left(z+d\\right)\\right)}{\\sinh\\left(dk\\right){\\omega}} + -\\dfrac{agk^2\\cosh\\left(k\\left(z+d\\right)\\right)\\cos\\left(kx-{\\omega}t\\right)}{\\sinh\\left(dk\\right){\\omega}} = 0"
      ],
      "execution_count": null,
      "outputs": [
        {
          "output_type": "display_data",
          "data": {
            "text/latex": "\\dfrac{agk^2\\cos\\left(kx-{\\omega}t\\right)\\cosh\\left(k\\left(z+d\\right)\\right)}{\\sinh\\left(dk\\right){\\omega}} + -\\dfrac{agk^2\\cosh\\left(k\\left(z+d\\right)\\right)\\cos\\left(kx-{\\omega}t\\right)}{\\sinh\\left(dk\\right){\\omega}} = 0",
            "text/plain": [
              "<IPython.core.display.Latex object>"
            ]
          },
          "metadata": {
            "tags": []
          }
        }
      ]
    },
    {
      "cell_type": "markdown",
      "metadata": {
        "id": "qWlV_wB7i7F2"
      },
      "source": [
        "This function satisfies the Laplace equation."
      ]
    },
    {
      "cell_type": "markdown",
      "metadata": {
        "id": "cb-j40iFktnL"
      },
      "source": [
        "### c. Boundary Conditions"
      ]
    },
    {
      "cell_type": "markdown",
      "metadata": {
        "id": "UB0THQJ6kzTY"
      },
      "source": [
        "Any solution for ϕ should satisfies the Laplace equation throughout the body of the flow. Additionally this solution must satisfy the boundary conditions at the bed and on the surface. At the bed assumed horizontal, the vertical velocity w must be zero. At the surface, any particle on the surface must remain on the surface, hence"
      ]
    },
    {
      "cell_type": "markdown",
      "metadata": {
        "id": "-6BDTknC-kzc"
      },
      "source": [
        "Kinematic FSC:"
      ]
    },
    {
      "cell_type": "code",
      "metadata": {
        "colab": {
          "base_uri": "https://localhost:8080/",
          "height": 39
        },
        "id": "1uZhS0Yhi25X",
        "outputId": "94ce31bb-88e9-428b-f356-eb416860cd54"
      },
      "source": [
        "%%latex\n",
        "w = \\frac{\\partial\\eta}{\\partial t}"
      ],
      "execution_count": null,
      "outputs": [
        {
          "output_type": "display_data",
          "data": {
            "text/latex": "w = \\frac{\\partial\\eta}{\\partial t}",
            "text/plain": [
              "<IPython.core.display.Latex object>"
            ]
          },
          "metadata": {
            "tags": []
          }
        }
      ]
    },
    {
      "cell_type": "code",
      "metadata": {
        "colab": {
          "base_uri": "https://localhost:8080/",
          "height": 38
        },
        "id": "sdMOSCtEL0Qc",
        "outputId": "891e0750-83c0-47cd-8c52-7ccc35aa1fe1"
      },
      "source": [
        "%%latex\n",
        "w = ak\\cos\\left(kx-{\\omega}t\\right)"
      ],
      "execution_count": null,
      "outputs": [
        {
          "output_type": "display_data",
          "data": {
            "text/latex": "w = ak\\cos\\left(kx-{\\omega}t\\right)",
            "text/plain": [
              "<IPython.core.display.Latex object>"
            ]
          },
          "metadata": {
            "tags": []
          }
        }
      ]
    },
    {
      "cell_type": "markdown",
      "metadata": {
        "id": "WVfeeyiknT_r"
      },
      "source": [
        "Dynamic FSC:"
      ]
    },
    {
      "cell_type": "code",
      "metadata": {
        "colab": {
          "base_uri": "https://localhost:8080/",
          "height": 39
        },
        "id": "_miY2JWlm7tG",
        "outputId": "3c4ba4a5-c7a5-4781-b7cb-abab2e9ec138"
      },
      "source": [
        "%%latex\n",
        "-\\frac{\\partial\\phi}{\\partial t} + g \\eta = 0"
      ],
      "execution_count": null,
      "outputs": [
        {
          "output_type": "display_data",
          "data": {
            "text/latex": "-\\frac{\\partial\\phi}{\\partial t} + g \\eta = 0",
            "text/plain": [
              "<IPython.core.display.Latex object>"
            ]
          },
          "metadata": {
            "tags": []
          }
        }
      ]
    },
    {
      "cell_type": "code",
      "metadata": {
        "colab": {
          "base_uri": "https://localhost:8080/",
          "height": 57
        },
        "id": "_CpMweW9Mvm9",
        "outputId": "b1b4914d-8f3e-45e8-a8fe-6ce103bcea34"
      },
      "source": [
        "%%latex\n",
        "\\dfrac{ag{\\omega}\\left(\\cosh\\left(k\\left(z+d\\right)\\right)-\\sinh\\left(dk\\right)\\right)\\cos\\left({\\omega}t-kx\\right)}{\\sinh\\left(dk\\right)}"
      ],
      "execution_count": null,
      "outputs": [
        {
          "output_type": "display_data",
          "data": {
            "text/latex": "\\dfrac{ag{\\omega}\\left(\\cosh\\left(k\\left(z+d\\right)\\right)-\\sinh\\left(dk\\right)\\right)\\cos\\left({\\omega}t-kx\\right)}{\\sinh\\left(dk\\right)}",
            "text/plain": [
              "<IPython.core.display.Latex object>"
            ]
          },
          "metadata": {
            "tags": []
          }
        }
      ]
    },
    {
      "cell_type": "markdown",
      "metadata": {
        "id": "k1px9p5jQVZr"
      },
      "source": [
        "where η = z the equation would be equal to zero."
      ]
    },
    {
      "cell_type": "markdown",
      "metadata": {
        "id": "RlCxNhpFY1t5"
      },
      "source": [
        "## Qustion 2"
      ]
    },
    {
      "cell_type": "code",
      "metadata": {
        "colab": {
          "base_uri": "https://localhost:8080/",
          "height": 58
        },
        "id": "9icADPivib10",
        "outputId": "161a62ec-51e8-412f-8ebc-0f353fec5316"
      },
      "source": [
        "%%latex\n",
        "\\eta = a\\cos\\left(\\dfrac{{\\pi}x}{25}-\\dfrac{{\\pi}t}{2}\\right)"
      ],
      "execution_count": null,
      "outputs": [
        {
          "output_type": "display_data",
          "data": {
            "text/latex": "\\eta = a\\cos\\left(\\dfrac{{\\pi}x}{25}-\\dfrac{{\\pi}t}{2}\\right)",
            "text/plain": [
              "<IPython.core.display.Latex object>"
            ]
          },
          "metadata": {
            "tags": []
          }
        }
      ]
    },
    {
      "cell_type": "markdown",
      "metadata": {
        "id": "4lfFnJb23ZBl"
      },
      "source": [
        "### a.Draw the surface profile"
      ]
    },
    {
      "cell_type": "markdown",
      "metadata": {
        "id": "35ApC3Qpv0aw"
      },
      "source": [
        "With try-error method wave defines in intermediate water depth. Therefore to define depth these values and codes was used:"
      ]
    },
    {
      "cell_type": "markdown",
      "metadata": {
        "id": "STm7ResXxNxr"
      },
      "source": [
        "k = 0.13"
      ]
    },
    {
      "cell_type": "markdown",
      "metadata": {
        "id": "KExi-ZntxP0y"
      },
      "source": [
        "w = 1.57"
      ]
    },
    {
      "cell_type": "markdown",
      "metadata": {
        "id": "9WvCRlTuxTJ2"
      },
      "source": [
        "L = 50m"
      ]
    },
    {
      "cell_type": "markdown",
      "metadata": {
        "id": "eVS-0tbSxU6A"
      },
      "source": [
        "T = 4s"
      ]
    },
    {
      "cell_type": "code",
      "metadata": {
        "colab": {
          "base_uri": "https://localhost:8080/"
        },
        "id": "bH1FmRA_vw68",
        "outputId": "167d2112-c674-4218-90f2-ce97ec88c90b"
      },
      "source": [
        "for i in np.arange(start=0, stop=15, step=0.0001):\n",
        "    d = i\n",
        "    L =50\n",
        "    solved = 9.8*16*math.tanh(d*(2*math.pi/L))\n",
        "    if round(solved, 3) == 50:\n",
        "        print(\"equation solved = \", solved)\n",
        "        print(\"d =\", d)\n",
        "    else:\n",
        "        continue"
      ],
      "execution_count": null,
      "outputs": [
        {
          "output_type": "stream",
          "text": [
            "equation solved =  49.99970534832381\n",
            "d = 2.6292\n"
          ],
          "name": "stdout"
        }
      ]
    },
    {
      "cell_type": "markdown",
      "metadata": {
        "id": "dYopyMGbw8Zj"
      },
      "source": [
        "Water depth (d) = 2.63m"
      ]
    },
    {
      "cell_type": "code",
      "metadata": {
        "colab": {
          "base_uri": "https://localhost:8080/",
          "height": 295
        },
        "id": "DHxnwf39jBgV",
        "outputId": "4ca99264-6a8d-4904-8c29-a328e914afbd"
      },
      "source": [
        "x = np.arange(0, 180, 0.01)\n",
        "a = 3\n",
        "T = 4\n",
        "t = 0\n",
        "L = 50\n",
        "y = []\n",
        "for i in range(len(x)):\n",
        "  y.append(a*np.cos(2*math.pi*(x[i]/L) - (t/T)))\n",
        "plt.title('Wave Surface Profile t=0')\n",
        "plt.xlabel('Wave Lenght')\n",
        "plt.ylabel('Amplitude (m)')\n",
        "plt.plot(x,y, 'red')\n",
        "plt.vlines(x=25, ymin= -3, ymax= 3, color='black', linestyle='dotted')\n",
        "plt.vlines(x=0, ymin= -3, ymax= 3, color='black', linestyle='dotted')\n",
        "plt.show()"
      ],
      "execution_count": null,
      "outputs": [
        {
          "output_type": "display_data",
          "data": {
            "image/png": "[encoded data removed]",
            "text/plain": [
              "<Figure size 432x288 with 1 Axes>"
            ]
          },
          "metadata": {
            "tags": [],
            "needs_background": "light"
          }
        }
      ]
    },
    {
      "cell_type": "code",
      "metadata": {
        "colab": {
          "base_uri": "https://localhost:8080/",
          "height": 295
        },
        "id": "cr7qjA-MzwS9",
        "outputId": "a72b4f24-741b-4b4c-c665-08b24da82f04"
      },
      "source": [
        "x = np.arange(0, 180, 0.01)\n",
        "a = 3\n",
        "T = 4\n",
        "t = T/4\n",
        "L = 50\n",
        "y = []\n",
        "for i in range(len(x)):\n",
        "  y.append(a*np.cos(2*math.pi*(x[i]/L) - (t/T)))\n",
        "plt.title('Wave Surface Profile t=1')\n",
        "plt.xlabel('Wave Lenght')\n",
        "plt.ylabel('Amplitude (m)')\n",
        "plt.plot(x,y, 'blue')\n",
        "plt.vlines(x=25, ymin= -3, ymax= 3, color='r', linestyle='dotted')\n",
        "plt.vlines(x=0, ymin= -3, ymax= 3, color='r', linestyle='dotted')\n",
        "plt.show()"
      ],
      "execution_count": null,
      "outputs": [
        {
          "output_type": "display_data",
          "data": {
            "image/png": "[encoded data removed]",
            "text/plain": [
              "<Figure size 432x288 with 1 Axes>"
            ]
          },
          "metadata": {
            "tags": [],
            "needs_background": "light"
          }
        }
      ]
    },
    {
      "cell_type": "code",
      "metadata": {
        "colab": {
          "base_uri": "https://localhost:8080/",
          "height": 295
        },
        "id": "4RbMRpFd0PWo",
        "outputId": "208d127e-d9ff-4941-ee24-517e23aba478"
      },
      "source": [
        "x = np.arange(0, 180, 0.01)\n",
        "a = 3\n",
        "T = 4\n",
        "t = T/2\n",
        "L = 50\n",
        "y = []\n",
        "for i in range(len(x)):\n",
        "  y.append(a*np.cos(2*math.pi*(x[i]/L) - (t/T)))\n",
        "plt.title('Wave Surface Profile t=2')\n",
        "plt.xlabel('Wave Lenght')\n",
        "plt.ylabel('Amplitude (m)')\n",
        "plt.plot(x,y, 'magenta')\n",
        "plt.vlines(x=25, ymin= -3, ymax= 3, color='black', linestyle='dotted')\n",
        "plt.vlines(x=0, ymin= -3, ymax= 3, color='black', linestyle='dotted')\n",
        "plt.show()"
      ],
      "execution_count": null,
      "outputs": [
        {
          "output_type": "display_data",
          "data": {
            "image/png": "[encoded data removed]",
            "text/plain": [
              "<Figure size 432x288 with 1 Axes>"
            ]
          },
          "metadata": {
            "tags": [],
            "needs_background": "light"
          }
        }
      ]
    },
    {
      "cell_type": "code",
      "metadata": {
        "colab": {
          "base_uri": "https://localhost:8080/",
          "height": 295
        },
        "id": "axuy7h900VtN",
        "outputId": "9a17f135-d429-4cba-bc0d-0c8553bd55bc"
      },
      "source": [
        "x = np.arange(0, 180, 0.01)\n",
        "a = 3\n",
        "T = 4\n",
        "t = 3*T/4\n",
        "L = 50\n",
        "y = []\n",
        "for i in range(len(x)):\n",
        "  y.append(a*np.cos(2*math.pi*(x[i]/L) - (t/T)))\n",
        "plt.title('Wave Surface Profile t=3')\n",
        "plt.xlabel('Wave Lenght')\n",
        "plt.ylabel('Amplitude (m)')\n",
        "plt.plot(x,y, 'green')\n",
        "plt.vlines(x=25, ymin= -3, ymax= 3, color='r', linestyle='dotted')\n",
        "plt.vlines(x=0, ymin= -3, ymax= 3, color='r', linestyle='dotted')\n",
        "plt.show()"
      ],
      "execution_count": null,
      "outputs": [
        {
          "output_type": "display_data",
          "data": {
            "image/png": "[encoded data removed]",
            "text/plain": [
              "<Figure size 432x288 with 1 Axes>"
            ]
          },
          "metadata": {
            "tags": [],
            "needs_background": "light"
          }
        }
      ]
    },
    {
      "cell_type": "code",
      "metadata": {
        "colab": {
          "base_uri": "https://localhost:8080/",
          "height": 295
        },
        "id": "DvnloZu61PAC",
        "outputId": "0c090df3-ad85-4393-bf7e-91451b72aa7c"
      },
      "source": [
        "x = np.arange(0, 180, 0.01)\n",
        "a = 3\n",
        "T = 4\n",
        "t = T\n",
        "L = 50\n",
        "y = []\n",
        "for i in range(len(x)):\n",
        "  y.append(a*np.cos(2*math.pi*(x[i]/L) - (t/T)))\n",
        "plt.title('Wave Surface Profile t=4')\n",
        "plt.xlabel('Wave Lenght')\n",
        "plt.ylabel('Amplitude (m)')\n",
        "plt.plot(x,y, 'black')\n",
        "plt.vlines(x=25, ymin= -3, ymax= 3, color='r', linestyle='dotted')\n",
        "plt.vlines(x=0, ymin= -3, ymax= 3, color='r', linestyle='dotted')\n",
        "plt.show()"
      ],
      "execution_count": null,
      "outputs": [
        {
          "output_type": "display_data",
          "data": {
            "image/png": "[encoded data removed]",
            "text/plain": [
              "<Figure size 432x288 with 1 Axes>"
            ]
          },
          "metadata": {
            "tags": [],
            "needs_background": "light"
          }
        }
      ]
    },
    {
      "cell_type": "markdown",
      "metadata": {
        "id": "KaKrageq4JLW"
      },
      "source": [
        "### b. Explain"
      ]
    },
    {
      "cell_type": "markdown",
      "metadata": {
        "id": "kEu8A5Oe4MbW"
      },
      "source": [
        "We have set t to a constant because wave function η is a cos function related to both x and t values"
      ]
    },
    {
      "cell_type": "markdown",
      "metadata": {
        "id": "Li7z7MqRY9Yg"
      },
      "source": [
        "## Question 3"
      ]
    },
    {
      "cell_type": "markdown",
      "metadata": {
        "id": "OnirpSRMQQ-4"
      },
      "source": [
        "### a. Depth is 80m or 100m"
      ]
    },
    {
      "cell_type": "markdown",
      "metadata": {
        "id": "1oJ0c0lqXvVS"
      },
      "source": [
        "d = 80m \\\\\n",
        "L = 156m \\\\\n",
        "d/L = 0.51 > 0.5 \\\\\n",
        "Deep Water \\\\\n",
        "T = 10 s"
      ]
    },
    {
      "cell_type": "markdown",
      "metadata": {
        "id": "SoXaRunKX-Qm"
      },
      "source": [
        "u = w \\\\\n",
        "A = B"
      ]
    },
    {
      "cell_type": "code",
      "metadata": {
        "colab": {
          "base_uri": "https://localhost:8080/",
          "height": 57
        },
        "id": "97RTdegGRK2B",
        "outputId": "b6a4ec7a-5085-40c6-e803-92f681d7f804"
      },
      "source": [
        "%%latex\n",
        "{u}_\\text{max} = \\dfrac{a{\\omega}\\cosh\\left(\\left(z+d\\right)k\\right)\\sin\\left(kx-{\\omega}t\\right)}{\\sinh\\left(kd\\right)}"
      ],
      "execution_count": null,
      "outputs": [
        {
          "output_type": "display_data",
          "data": {
            "text/latex": "{u}_\\text{max} = \\dfrac{a{\\omega}\\cosh\\left(\\left(z+d\\right)k\\right)\\sin\\left(kx-{\\omega}t\\right)}{\\sinh\\left(kd\\right)}",
            "text/plain": [
              "<IPython.core.display.Latex object>"
            ]
          },
          "metadata": {
            "tags": []
          }
        }
      ]
    },
    {
      "cell_type": "code",
      "metadata": {
        "colab": {
          "base_uri": "https://localhost:8080/",
          "height": 38
        },
        "id": "Mzc4sff6VCJN",
        "outputId": "c0669c4f-1df2-473e-a5bf-0e6570c37e6d"
      },
      "source": [
        "%%latex\n",
        "\\sin\\left(kx-{\\omega}t\\right) = 1"
      ],
      "execution_count": null,
      "outputs": [
        {
          "output_type": "display_data",
          "data": {
            "text/latex": "\\sin\\left(kx-{\\omega}t\\right) = 1",
            "text/plain": [
              "<IPython.core.display.Latex object>"
            ]
          },
          "metadata": {
            "tags": []
          }
        }
      ]
    },
    {
      "cell_type": "code",
      "metadata": {
        "colab": {
          "base_uri": "https://localhost:8080/",
          "height": 48
        },
        "id": "sYCK_w4vVZH8",
        "outputId": "333d3a16-16a8-434b-fb7a-d7315ec4b31c"
      },
      "source": [
        "%%latex\n",
        "kx-{\\omega}t = \\dfrac{\\pi}{2}"
      ],
      "execution_count": null,
      "outputs": [
        {
          "output_type": "display_data",
          "data": {
            "text/latex": "kx-{\\omega}t = \\dfrac{\\pi}{2}",
            "text/plain": [
              "<IPython.core.display.Latex object>"
            ]
          },
          "metadata": {
            "tags": []
          }
        }
      ]
    },
    {
      "cell_type": "code",
      "metadata": {
        "colab": {
          "base_uri": "https://localhost:8080/",
          "height": 118
        },
        "id": "76tZlJEkWh6u",
        "outputId": "f647cad0-83e6-400b-de13-a7362d3eb4b0"
      },
      "source": [
        "%%latex\n",
        "{u}_\\text{max} = \\dfrac{a{\\omega}\\cosh\\left(\\left(z+d\\right)k\\right)}{\\sinh\\left(kd\\right)} \\\\\n",
        "z = 0 \\\\\n",
        "{u}_\\text{max} = \\dfrac{a{\\omega}\\cosh\\left(kd\\right)}{\\sinh\\left(kd\\right)}"
      ],
      "execution_count": null,
      "outputs": [
        {
          "output_type": "display_data",
          "data": {
            "text/latex": "{u}_\\text{max} = \\dfrac{a{\\omega}\\cosh\\left(\\left(z+d\\right)k\\right)}{\\sinh\\left(kd\\right)} \\\\\nz = 0 \\\\\n{u}_\\text{max} = \\dfrac{a{\\omega}\\cosh\\left(kd\\right)}{\\sinh\\left(kd\\right)}",
            "text/plain": [
              "<IPython.core.display.Latex object>"
            ]
          },
          "metadata": {
            "tags": []
          }
        }
      ]
    },
    {
      "cell_type": "code",
      "metadata": {
        "colab": {
          "base_uri": "https://localhost:8080/"
        },
        "id": "3FOlxJwPMAYf",
        "outputId": "c35c09fa-0f52-4d6c-ff15-b5f816758051"
      },
      "source": [
        "L3 = 156\n",
        "k3 = 2*math.pi/L3\n",
        "d3 = 80\n",
        "T3 = 10\n",
        "omega3 = 2*math.pi/T3\n",
        "# a = H/2 = 1m\n",
        "aw = 1*omega3\n",
        "umax = aw*np.cosh(k3*d3)/np.sinh(k3*d3)\n",
        "print('umax = wmax =' ,umax)"
      ],
      "execution_count": null,
      "outputs": [
        {
          "output_type": "stream",
          "text": [
            "umax = wmax = 0.6303192217632168\n"
          ],
          "name": "stdout"
        }
      ]
    },
    {
      "cell_type": "markdown",
      "metadata": {
        "id": "3hV1xAmJPa1J"
      },
      "source": [
        "If the water depth was 100m:"
      ]
    },
    {
      "cell_type": "markdown",
      "metadata": {
        "id": "1SQGYB2RPsD7"
      },
      "source": [
        "L, T and k doesn't change."
      ]
    },
    {
      "cell_type": "code",
      "metadata": {
        "colab": {
          "base_uri": "https://localhost:8080/"
        },
        "id": "rsTUgi9GPZ0I",
        "outputId": "d11db98f-ab61-4bb5-a66a-aee38d768701"
      },
      "source": [
        "L3 = 156\n",
        "k3 = 2*math.pi/L3\n",
        "d3 = 100\n",
        "T3 = 10\n",
        "omega3 = 2*math.pi/T3\n",
        "# a = H/2 = 1m\n",
        "aw = 1*omega3\n",
        "umax = aw*np.cosh(k3*d3)/np.sinh(k3*d3)\n",
        "print('umax = wmax =' ,round(umax, 2), 'm/s')"
      ],
      "execution_count": null,
      "outputs": [
        {
          "output_type": "stream",
          "text": [
            "umax = wmax = 0.63 m/s\n"
          ],
          "name": "stdout"
        }
      ]
    },
    {
      "cell_type": "code",
      "metadata": {
        "colab": {
          "base_uri": "https://localhost:8080/",
          "height": 57
        },
        "id": "DpUt8NQLRIUw",
        "outputId": "5f782e95-b84d-436e-d837-e3658ab6d43c"
      },
      "source": [
        "%%latex\n",
        "A = \\dfrac{a\\cosh\\left(kd\\right)}{\\sinh\\left(kd\\right)}"
      ],
      "execution_count": null,
      "outputs": [
        {
          "output_type": "display_data",
          "data": {
            "text/latex": "A = \\dfrac{a\\cosh\\left(kd\\right)}{\\sinh\\left(kd\\right)}",
            "text/plain": [
              "<IPython.core.display.Latex object>"
            ]
          },
          "metadata": {
            "tags": []
          }
        }
      ]
    },
    {
      "cell_type": "code",
      "metadata": {
        "colab": {
          "base_uri": "https://localhost:8080/"
        },
        "id": "9-dXSGEiR3-Y",
        "outputId": "8854f756-f0de-4730-cac4-f5fb5ec34312"
      },
      "source": [
        "a = 1\n",
        "A = a*np.cosh(k3*d3)/np.sinh(k3*d3)\n",
        "print ('A = ', round(A, 2))"
      ],
      "execution_count": null,
      "outputs": [
        {
          "output_type": "stream",
          "text": [
            "A =  1.0\n"
          ],
          "name": "stdout"
        }
      ]
    },
    {
      "cell_type": "code",
      "metadata": {
        "colab": {
          "base_uri": "https://localhost:8080/",
          "height": 57
        },
        "id": "xESAw8L1STlk",
        "outputId": "29e6de90-192c-4d63-972a-67150ece5f8e"
      },
      "source": [
        "%%latex\n",
        "B = \\dfrac{a\\sinh\\left(kd\\right)}{\\sinh\\left(kd\\right)}"
      ],
      "execution_count": null,
      "outputs": [
        {
          "output_type": "display_data",
          "data": {
            "text/latex": "B = \\dfrac{a\\sinh\\left(kd\\right)}{\\sinh\\left(kd\\right)}",
            "text/plain": [
              "<IPython.core.display.Latex object>"
            ]
          },
          "metadata": {
            "tags": []
          }
        }
      ]
    },
    {
      "cell_type": "code",
      "metadata": {
        "colab": {
          "base_uri": "https://localhost:8080/"
        },
        "id": "LjY7BdIsSYTR",
        "outputId": "ee3805e0-19a5-456c-f508-63385c08fc05"
      },
      "source": [
        "B = a*np.sinh(k3*d3)/np.sinh(k3*d3)\n",
        "print ('B = ', round(B, 2))"
      ],
      "execution_count": null,
      "outputs": [
        {
          "output_type": "stream",
          "text": [
            "B =  1.0\n"
          ],
          "name": "stdout"
        }
      ]
    },
    {
      "cell_type": "markdown",
      "metadata": {
        "id": "znfD8KSYQTzb"
      },
      "source": [
        "### b. Depth is 30m or 39m"
      ]
    },
    {
      "cell_type": "markdown",
      "metadata": {
        "id": "UTDCmcScQdQX"
      },
      "source": [
        "d = 30m \\\\\n",
        "L = 156m \\\\\n",
        "d/L = 0.19 < 0.5 \\\\\n",
        "Shallo Water \\\\\n",
        "T = 10 s"
      ]
    },
    {
      "cell_type": "code",
      "metadata": {
        "colab": {
          "base_uri": "https://localhost:8080/",
          "height": 52
        },
        "id": "KB2VqUhmUePJ",
        "outputId": "988d4cf8-b793-464b-c67a-d9b238638c1b"
      },
      "source": [
        "%%latex\n",
        "{u}_\\text{max} = \\dfrac{H}{2d}\\text{  }c\\text{  }{\\sin\\left(\\theta\\right)}"
      ],
      "execution_count": null,
      "outputs": [
        {
          "output_type": "display_data",
          "data": {
            "text/latex": "{u}_\\text{max} = \\dfrac{H}{2d}\\text{  }c\\text{  }{\\sin\\left(\\theta\\right)}",
            "text/plain": [
              "<IPython.core.display.Latex object>"
            ]
          },
          "metadata": {
            "tags": []
          }
        }
      ]
    },
    {
      "cell_type": "code",
      "metadata": {
        "colab": {
          "base_uri": "https://localhost:8080/"
        },
        "id": "yv_M75McVCqN",
        "outputId": "85eda216-002e-429b-9204-cabe365f5953"
      },
      "source": [
        "H = 2\n",
        "d3b = 30\n",
        "d3b2 = 39 #if the water depth was 39m\n",
        "# c = L/T\n",
        "# sin(theta) = 1\n",
        "c = 156/10\n",
        "umaxb = H/(2*d3b)*c*1\n",
        "print('umax =' ,umaxb, 'm/s')"
      ],
      "execution_count": null,
      "outputs": [
        {
          "output_type": "stream",
          "text": [
            "umax = 0.52 m/s\n"
          ],
          "name": "stdout"
        }
      ]
    },
    {
      "cell_type": "code",
      "metadata": {
        "colab": {
          "base_uri": "https://localhost:8080/"
        },
        "id": "O0OpqVmVVczR",
        "outputId": "109e6a6a-fbe0-41a3-db17-294c90e268f8"
      },
      "source": [
        "T =10\n",
        "# cos(theta) = 1\n",
        "wmaxb = math.pi*H/T*(1+(0/d3b))*1\n",
        "print('wmax = ', round(wmaxb,2), 'm/s')"
      ],
      "execution_count": null,
      "outputs": [
        {
          "output_type": "stream",
          "text": [
            "wmax =  0.63 m/s\n"
          ],
          "name": "stdout"
        }
      ]
    },
    {
      "cell_type": "markdown",
      "metadata": {
        "id": "wHCjZLzQXrty"
      },
      "source": [
        "At water surface z = 0"
      ]
    },
    {
      "cell_type": "code",
      "metadata": {
        "colab": {
          "base_uri": "https://localhost:8080/",
          "height": 97
        },
        "id": "nWyJ-MsTXx-f",
        "outputId": "ceda1122-978e-4159-9f3a-b0ab99989275"
      },
      "source": [
        "%%latex\n",
        "A = \\dfrac{a\\cosh\\left(kd\\right)}{\\sinh\\left(kd\\right)} \\\\\n",
        "B = \\dfrac{a\\sinh\\left(kd\\right)}{\\sinh\\left(kd\\right)}"
      ],
      "execution_count": null,
      "outputs": [
        {
          "output_type": "display_data",
          "data": {
            "text/latex": "A = \\dfrac{a\\cosh\\left(kd\\right)}{\\sinh\\left(kd\\right)} \\\\\nB = \\dfrac{a\\sinh\\left(kd\\right)}{\\sinh\\left(kd\\right)}",
            "text/plain": [
              "<IPython.core.display.Latex object>"
            ]
          },
          "metadata": {
            "tags": []
          }
        }
      ]
    },
    {
      "cell_type": "code",
      "metadata": {
        "colab": {
          "base_uri": "https://localhost:8080/"
        },
        "id": "rPMMNq7LYCea",
        "outputId": "a8a27873-b997-4214-e161-9a6d112396c0"
      },
      "source": [
        "a = 1\n",
        "print ('A = ', round(a*math.cosh(k3*d3b)/math.sinh(k3*d3b), 2))\n",
        "print ('B = ', round(a*math.sinh(k3*d3b)/math.sinh(k3*d3b), 2))"
      ],
      "execution_count": null,
      "outputs": [
        {
          "output_type": "stream",
          "text": [
            "A =  1.2\n",
            "B =  1.0\n"
          ],
          "name": "stdout"
        }
      ]
    },
    {
      "cell_type": "markdown",
      "metadata": {
        "id": "aJ4-r8IeYtWY"
      },
      "source": [
        "For 39m depth:"
      ]
    },
    {
      "cell_type": "code",
      "metadata": {
        "colab": {
          "base_uri": "https://localhost:8080/"
        },
        "id": "x6Qn_PB7ZMrb",
        "outputId": "d4364cc5-555d-4557-b235-6141bc1375fa"
      },
      "source": [
        "depth39u = H/(2*d3b2)*c*1\n",
        "print('umax =' ,round(depth39u,2), 'm/s')"
      ],
      "execution_count": null,
      "outputs": [
        {
          "output_type": "stream",
          "text": [
            "umax = 0.4 m/s\n"
          ],
          "name": "stdout"
        }
      ]
    },
    {
      "cell_type": "code",
      "metadata": {
        "colab": {
          "base_uri": "https://localhost:8080/"
        },
        "id": "ACZC6ajmY1jH",
        "outputId": "cb8c6462-6cc9-4fe9-d3da-e89fbcd1c0d0"
      },
      "source": [
        "depth39w = math.pi*H/T*(1+(0/d3b2))*1\n",
        "print('wmax = ', round(depth39w,2), 'm/s')"
      ],
      "execution_count": null,
      "outputs": [
        {
          "output_type": "stream",
          "text": [
            "wmax =  0.63 m/s\n"
          ],
          "name": "stdout"
        }
      ]
    },
    {
      "cell_type": "code",
      "metadata": {
        "colab": {
          "base_uri": "https://localhost:8080/"
        },
        "id": "qcH60hbnZbcC",
        "outputId": "4c4fad04-c336-427d-d02a-bb705f767c05"
      },
      "source": [
        "print ('A = ', round(a*math.cosh(k3*d3b2)/math.sinh(k3*d3b2), 2))\n",
        "print ('B = ', round(a*math.sinh(k3*d3b2)/math.sinh(k3*d3b2), 2))"
      ],
      "execution_count": null,
      "outputs": [
        {
          "output_type": "stream",
          "text": [
            "A =  1.09\n",
            "B =  1.0\n"
          ],
          "name": "stdout"
        }
      ]
    },
    {
      "cell_type": "markdown",
      "metadata": {
        "id": "ZA962VOAZroz"
      },
      "source": [
        "### c. Depth is 30m or 2.4m"
      ]
    },
    {
      "cell_type": "markdown",
      "metadata": {
        "id": "eYMF7vcBZ6Qp"
      },
      "source": [
        "For 30m water depth calculations was made before:"
      ]
    },
    {
      "cell_type": "code",
      "metadata": {
        "colab": {
          "base_uri": "https://localhost:8080/",
          "height": 59
        },
        "id": "XKfmu6pmaGO-",
        "outputId": "6673da13-abbf-4099-973c-32d23c5f5415"
      },
      "source": [
        "%%latex\n",
        "{u}_\\text{max} = 0.52 m/s \\\\\n",
        "{w}_\\text{max} = 0.63 m/s \\\\"
      ],
      "execution_count": null,
      "outputs": [
        {
          "output_type": "display_data",
          "data": {
            "text/latex": "{u}_\\text{max} = 0.52 m/s \\\\\n{w}_\\text{max} = 0.63 m/s \\\\",
            "text/plain": [
              "<IPython.core.display.Latex object>"
            ]
          },
          "metadata": {
            "tags": []
          }
        }
      ]
    },
    {
      "cell_type": "markdown",
      "metadata": {
        "id": "akuDh3FYaTtn"
      },
      "source": [
        "If the water depth was 2.4m:"
      ]
    },
    {
      "cell_type": "code",
      "metadata": {
        "colab": {
          "base_uri": "https://localhost:8080/"
        },
        "id": "-MupGrIcaQUu",
        "outputId": "f37f8006-8c2e-46e1-ec7d-21b3d87be877"
      },
      "source": [
        "d3bc = 2.4\n",
        "depth2u = H/(2*d3bc)*c*1\n",
        "print('umax =' ,round(depth2u,2), 'm/s')"
      ],
      "execution_count": null,
      "outputs": [
        {
          "output_type": "stream",
          "text": [
            "umax = 6.5 m/s\n"
          ],
          "name": "stdout"
        }
      ]
    },
    {
      "cell_type": "code",
      "metadata": {
        "colab": {
          "base_uri": "https://localhost:8080/"
        },
        "id": "3qVhM5EGajpG",
        "outputId": "c86809af-227f-49a2-dfc4-8bdd1df9dcff"
      },
      "source": [
        "depth2w = math.pi*H/T*(1+(0/d3bc))*1\n",
        "print('wmax = ', round(depth2w,2), 'm/s')"
      ],
      "execution_count": null,
      "outputs": [
        {
          "output_type": "stream",
          "text": [
            "wmax =  0.63 m/s\n"
          ],
          "name": "stdout"
        }
      ]
    },
    {
      "cell_type": "markdown",
      "metadata": {
        "id": "_GrdPkHtZBTO"
      },
      "source": [
        "## Question 4"
      ]
    },
    {
      "cell_type": "markdown",
      "metadata": {
        "id": "IHAFtgG9ynvc"
      },
      "source": [
        "d = 19m \\\\\n",
        "T = 8s \\\\\n",
        "ω = 0.79 \\\\\n",
        "k = 0.063"
      ]
    },
    {
      "cell_type": "markdown",
      "metadata": {
        "id": "7mxeaku6y8Nx"
      },
      "source": [
        "ƞ = acos(0.063x - 0.79t)"
      ]
    },
    {
      "cell_type": "markdown",
      "metadata": {
        "id": "Wrr8CZRPyXFS"
      },
      "source": [
        "If we solve the equation, roots can be 1 (ß) and 1.975 (α)"
      ]
    },
    {
      "cell_type": "code",
      "metadata": {
        "colab": {
          "base_uri": "https://localhost:8080/"
        },
        "id": "nTUifTE1wIOp",
        "outputId": "870143b4-1dd6-44ef-db49-810a11824aa5"
      },
      "source": [
        "print ('α = ', round(a*math.cosh(0.0063*19)/math.sinh(0.0063*19)*math.cos(1.33318), 4))\n",
        "print ('ß = ', round(a*math.sinh(0.0063*19)/math.sinh(0.0063*19)*math.sin(1.33318), 4))"
      ],
      "execution_count": null,
      "outputs": [
        {
          "output_type": "stream",
          "text": [
            "α =  1.9759\n",
            "ß =  0.9719\n"
          ],
          "name": "stdout"
        }
      ]
    },
    {
      "cell_type": "markdown",
      "metadata": {
        "id": "3kCI8U9jzQB8"
      },
      "source": [
        "Thefore the angle can set 1.333 rad"
      ]
    },
    {
      "cell_type": "markdown",
      "metadata": {
        "id": "deKODL9RZDQF"
      },
      "source": [
        "## Question 5"
      ]
    },
    {
      "cell_type": "code",
      "metadata": {
        "colab": {
          "base_uri": "https://localhost:8080/"
        },
        "id": "kvIhwAXN5uYc",
        "outputId": "abafd625-dd35-42bd-cfc0-b4c8fe226809"
      },
      "source": [
        "for i in np.arange(start=0.001, stop=150, step=0.001):\n",
        "    L4 = i\n",
        "    solved = 126.36*math.tanh(4*(2*math.pi/L4))\n",
        "    if round(solved, 1) == L4:\n",
        "        print(\"equation solved = \", solved)\n",
        "        print(\"L4 =\", L4)\n",
        "    else:\n",
        "        continue"
      ],
      "execution_count": null,
      "outputs": [
        {
          "output_type": "stream",
          "text": [
            "equation solved =  54.46394229481108\n",
            "L4 = 54.5\n"
          ],
          "name": "stdout"
        }
      ]
    },
    {
      "cell_type": "markdown",
      "metadata": {
        "id": "EuEzi53O7TuG"
      },
      "source": [
        "Given values:\n",
        "T = 9s \\\\\n",
        "H = 1.5m \\\\\n",
        "a = 0.75m \\\\\n",
        "d = 4m \\\\\n",
        "z = +1.5, -1.5m \\\\\n",
        "\\\\ \\\\\n",
        "Calculated values: \\\\\n",
        "L0 = 126.36m \\\\\n",
        "L = 54.5m \\\\\n",
        "k = 0.1153 \\\\\n",
        "ω = 0.698"
      ]
    },
    {
      "cell_type": "code",
      "metadata": {
        "colab": {
          "base_uri": "https://localhost:8080/"
        },
        "id": "_bWCKG8t-28z",
        "outputId": "47fafca0-2b76-4bcf-e6ef-943da9122321"
      },
      "source": [
        "math.sin(1.57079633)"
      ],
      "execution_count": null,
      "outputs": [
        {
          "output_type": "execute_result",
          "data": {
            "text/plain": [
              "1.0"
            ]
          },
          "metadata": {
            "tags": []
          },
          "execution_count": 110
        }
      ]
    },
    {
      "cell_type": "code",
      "metadata": {
        "colab": {
          "base_uri": "https://localhost:8080/",
          "height": 297
        },
        "id": "G_2YhXr59UtB",
        "outputId": "0923741f-db48-4074-b3d4-942e76bd9f9e"
      },
      "source": [
        "dz1 = 5.5\n",
        "\n",
        "k = 0.1153\n",
        "def pr(t,x):\n",
        "  return (9.8*math.cosh(k*dz1)*0.75*math.sin(k*x-0.698*t)/math.cosh(k*4))\n",
        "f2 = np.vectorize(pr)\n",
        "t = np.arange(0,81,0.25)\n",
        "plt.plot(t, f2(t,0))\n",
        "plt.title(\"Dynamic Pressure Under the Crest\")\n",
        "plt.tight_layout()\n",
        "plt.show()\n",
        "\n",
        "dz2 = 2.5"
      ],
      "execution_count": null,
      "outputs": [
        {
          "output_type": "display_data",
          "data": {
            "image/png": "[encoded data removed]",
            "text/plain": [
              "<Figure size 432x288 with 1 Axes>"
            ]
          },
          "metadata": {
            "tags": [],
            "needs_background": "light"
          }
        }
      ]
    },
    {
      "cell_type": "code",
      "metadata": {
        "colab": {
          "base_uri": "https://localhost:8080/",
          "height": 297
        },
        "id": "d6sKGO35EU0b",
        "outputId": "67eba27a-45a5-444a-eed7-d3401dfbf566"
      },
      "source": [
        "def pr2(t,x):\n",
        "  return (9.8*math.cosh(k*dz2)*0.75*math.sin(k*x-0.698*t)/math.cosh(k*4))\n",
        "f2_2 = np.vectorize(pr2)\n",
        "t = np.arange(0,81,0.25)\n",
        "plt.plot(t, f2_2(t,0))\n",
        "plt.title(\"Dynamic Pressure Under the Trough\")\n",
        "plt.tight_layout()\n",
        "plt.show()"
      ],
      "execution_count": null,
      "outputs": [
        {
          "output_type": "display_data",
          "data": {
            "image/png": "[encoded data removed]",
            "text/plain": [
              "<Figure size 432x288 with 1 Axes>"
            ]
          },
          "metadata": {
            "tags": [],
            "needs_background": "light"
          }
        }
      ]
    },
    {
      "cell_type": "markdown",
      "metadata": {
        "id": "m90P-iGgZGO2"
      },
      "source": [
        "## Question 6"
      ]
    },
    {
      "cell_type": "code",
      "metadata": {
        "colab": {
          "base_uri": "https://localhost:8080/"
        },
        "id": "o61chibSKj-Q",
        "outputId": "f0d41208-bd1d-4589-c9fc-101aa668b2c2"
      },
      "source": [
        "for i in np.arange(start=0.001, stop=150, step=0.001):\n",
        "    L50 = i\n",
        "    solved = 99.84*math.tanh(50*(2*math.pi/L50))\n",
        "    if round(solved, 1) == L50:\n",
        "        print(\"equation solved = \", solved)\n",
        "        print(\"L50 =\", L50)\n",
        "    else:\n",
        "        continue"
      ],
      "execution_count": null,
      "outputs": [
        {
          "output_type": "stream",
          "text": [
            "equation solved =  99.47935124931558\n",
            "L50 = 99.5\n"
          ],
          "name": "stdout"
        }
      ]
    },
    {
      "cell_type": "markdown",
      "metadata": {
        "id": "xiEP4YTdPpXV"
      },
      "source": [
        "For A-B channel wave lenght was found as 99.5m \\\\\n",
        "B-C L10 = 19.93m \\\\\n",
        "C-D L1.5 = 2.99m \\\\\n",
        "T = 8s"
      ]
    },
    {
      "cell_type": "code",
      "metadata": {
        "colab": {
          "base_uri": "https://localhost:8080/"
        },
        "id": "eQJRLHedQD4o",
        "outputId": "53fd5a9e-cefe-40d4-b3e2-2c911eddd1a9"
      },
      "source": [
        "x50 = (400/99.5)*8\n",
        "x10 = (400/19.93)*8\n",
        "x1_5 = (400/2.99)*8\n",
        "total_t = x50+x10+x1_5\n",
        "print ('Δt = ', round(total_t,1), 's')"
      ],
      "execution_count": null,
      "outputs": [
        {
          "output_type": "stream",
          "text": [
            "Δt =  1263.0 s\n"
          ],
          "name": "stdout"
        }
      ]
    },
    {
      "cell_type": "markdown",
      "metadata": {
        "id": "CWLyy0OimVpb"
      },
      "source": [
        "## Question 7"
      ]
    },
    {
      "cell_type": "markdown",
      "metadata": {
        "id": "sZ_wsK6zZH9f"
      },
      "source": [
        "## Question 8"
      ]
    },
    {
      "cell_type": "markdown",
      "metadata": {
        "id": "OQ605T5UmZD-"
      },
      "source": [
        "### Normal Dist."
      ]
    },
    {
      "cell_type": "code",
      "metadata": {
        "colab": {
          "base_uri": "https://localhost:8080/"
        },
        "id": "0zaQ_OnmjR-A",
        "outputId": "b0b716f9-6a8a-4217-cd2e-eba87d72cd31"
      },
      "source": [
        "from google.colab import drive\n",
        "drive.mount('/gdrive')\n",
        "%cd /gdrive"
      ],
      "execution_count": null,
      "outputs": [
        {
          "output_type": "stream",
          "text": [
            "Mounted at /gdrive\n",
            "/gdrive\n"
          ],
          "name": "stdout"
        }
      ]
    },
    {
      "cell_type": "code",
      "metadata": {
        "colab": {
          "base_uri": "https://localhost:8080/"
        },
        "id": "yBmETmFfjoY9",
        "outputId": "288c04a0-5ada-4463-a008-ae388124079a"
      },
      "source": [
        "%cd MyDrive/Colab\\ Notebooks"
      ],
      "execution_count": null,
      "outputs": [
        {
          "output_type": "stream",
          "text": [
            "/gdrive/MyDrive/Colab Notebooks\n"
          ],
          "name": "stdout"
        }
      ]
    },
    {
      "cell_type": "code",
      "metadata": {
        "colab": {
          "base_uri": "https://localhost:8080/"
        },
        "id": "M4okRZdxlLt1",
        "outputId": "c0efb5c9-e326-4908-f7e4-0d7adb2d9ec3"
      },
      "source": [
        "%ls *csv"
      ],
      "execution_count": null,
      "outputs": [
        {
          "output_type": "stream",
          "text": [
            "fer2013.csv  short.csv\n"
          ],
          "name": "stdout"
        }
      ]
    },
    {
      "cell_type": "code",
      "metadata": {
        "id": "suAb0bBTkZp4"
      },
      "source": [
        "df = pd.read_csv('short.csv')\n",
        "df1 = df.iloc[:,0:1]\n",
        "df1 = df.to_numpy()\n",
        "df2 = df.iloc[:,1:2]\n",
        "df2 = df.to_numpy()\n",
        "df3 = df.iloc[:,2:3]\n",
        "df3 = df.to_numpy()\n",
        "df4 = df.iloc[:,3:4]\n",
        "df4 = df.to_numpy()\n",
        "df5 = df.iloc[:,4:5]\n",
        "df5 = df.to_numpy()\n",
        "df6 = df.iloc[:,5:6]\n",
        "df6 = df.to_numpy()\n",
        "df7 = df.iloc[:,6:7]\n",
        "df7 = df.to_numpy()"
      ],
      "execution_count": null,
      "outputs": []
    },
    {
      "cell_type": "markdown",
      "metadata": {
        "id": "hpBBaD7Wnykb"
      },
      "source": [
        "### 1. Normal Distribution fits better"
      ]
    },
    {
      "cell_type": "markdown",
      "metadata": {
        "id": "PP3R5ofLqRYC"
      },
      "source": [
        "#### Normal Distribution"
      ]
    },
    {
      "cell_type": "code",
      "metadata": {
        "colab": {
          "base_uri": "https://localhost:8080/",
          "height": 281
        },
        "id": "J9rGkJUrgS6U",
        "outputId": "8a7f6c48-963c-41df-ccf8-be2d52dd74f9"
      },
      "source": [
        "from scipy.stats import norm, rayleigh\n",
        "import matplotlib.pyplot as plt\n",
        "fig, ax = plt.subplots(1, 1)\n",
        "mean, var, skew, kurt = norm.stats(moments='mvsk')\n",
        "x = np.linspace(norm.ppf(0.01),\n",
        "                norm.ppf(0.99), 100)\n",
        "ax.plot(x, norm.pdf(x),\n",
        "       'r-', lw=3, alpha=0.6, label='Normal Dist. pdf')\n",
        "\n",
        "vals = norm.ppf([0.001, 0.5, 0.999])\n",
        "np.allclose([0.001, 0.5, 0.999], norm.cdf(vals))\n",
        "\n",
        "ax.hist(df1, density=True, histtype='stepfilled', alpha=0.8)\n",
        "ax.legend(loc='best', frameon=True)\n",
        "plt.title(\"Normal Distribution\")\n",
        "plt.show()"
      ],
      "execution_count": null,
      "outputs": [
        {
          "output_type": "display_data",
          "data": {
            "image/png": "[encoded data removed]",
            "text/plain": [
              "<Figure size 432x288 with 1 Axes>"
            ]
          },
          "metadata": {
            "tags": [],
            "needs_background": "light"
          }
        }
      ]
    },
    {
      "cell_type": "markdown",
      "metadata": {
        "id": "zqLv9qJemrTs"
      },
      "source": [
        "#### Rayleigh Dist.\n"
      ]
    },
    {
      "cell_type": "code",
      "metadata": {
        "colab": {
          "base_uri": "https://localhost:8080/",
          "height": 281
        },
        "id": "cSOycglKmwd9",
        "outputId": "7e0492d1-85f9-4cf8-ed43-c1115d403877"
      },
      "source": [
        "fig, ax = plt.subplots(1, 1)\n",
        "mean, var, skew, kurt = rayleigh.stats(moments='mvsk')\n",
        "x = np.linspace(rayleigh.ppf(0.01),\n",
        "                rayleigh.ppf(0.99), 100)\n",
        "ax.plot(x, rayleigh.pdf(x),\n",
        "       'r-', lw=5, alpha=0.6, label='Rayleigh Dist. pdf')\n",
        "\n",
        "\n",
        "vals = rayleigh.ppf([0.001, 0.5, 0.999])\n",
        "np.allclose([0.001, 0.5, 0.999], rayleigh.cdf(vals))\n",
        "\n",
        "ax.hist(df2, density=True, histtype='stepfilled', alpha=0.8)\n",
        "ax.legend(loc='best', frameon=True)\n",
        "plt.title(\"Rayleigh Distribution\")\n",
        "plt.show()\n"
      ],
      "execution_count": null,
      "outputs": [
        {
          "output_type": "display_data",
          "data": {
            "image/png": "[encoded data removed]",
            "text/plain": [
              "<Figure size 432x288 with 1 Axes>"
            ]
          },
          "metadata": {
            "tags": [],
            "needs_background": "light"
          }
        }
      ]
    },
    {
      "cell_type": "markdown",
      "metadata": {
        "id": "T2TFd6wZp-VN"
      },
      "source": [
        "### 2. Normal Distribution fits better"
      ]
    },
    {
      "cell_type": "code",
      "metadata": {
        "colab": {
          "base_uri": "https://localhost:8080/"
        },
        "id": "b_MxN6Qwm9ZA",
        "outputId": "583bd7e5-13c4-4be7-88a8-e6bd15cfc8e2"
      },
      "source": [
        "fig, ax = plt.subplots(1, 1)\n",
        "mean, var, skew, kurt = norm.stats(moments='mvsk')\n",
        "x = np.linspace(norm.ppf(0.01),\n",
        "                norm.ppf(0.99), 100)\n",
        "ax.plot(x, norm.pdf(x),\n",
        "       'r-', lw=3, alpha=0.6, label='Normal Dist. pdf')\n",
        "\n",
        "vals = norm.ppf([0.001, 0.5, 0.999])\n",
        "np.allclose([0.001, 0.5, 0.999], norm.cdf(vals))\n",
        "\n",
        "ax.hist(df2, density=True, histtype='stepfilled', alpha=0.8)\n",
        "ax.legend(loc='best', frameon=True)\n",
        "plt.title(\"Normal Distribution\")\n",
        "plt.show()"
      ],
      "execution_count": null,
      "outputs": [
        {
          "output_type": "display_data",
          "data": {
            "image/png": "[encoded data removed]",
            "text/plain": [
              "<Figure size 432x288 with 1 Axes>"
            ]
          },
          "metadata": {
            "tags": [],
            "needs_background": "light"
          }
        }
      ]
    },
    {
      "cell_type": "code",
      "metadata": {
        "colab": {
          "base_uri": "https://localhost:8080/"
        },
        "id": "3-01jTJeqAah",
        "outputId": "441ffdb2-8f0b-4876-fef4-032890cec5ca"
      },
      "source": [
        "fig, ax = plt.subplots(1, 1)\n",
        "mean, var, skew, kurt = rayleigh.stats(moments='mvsk')\n",
        "x = np.linspace(rayleigh.ppf(0.01),\n",
        "                rayleigh.ppf(0.99), 100)\n",
        "ax.plot(x, rayleigh.pdf(x),\n",
        "       'r-', lw=5, alpha=0.6, label='Rayleigh Dist. pdf')\n",
        "\n",
        "\n",
        "vals = rayleigh.ppf([0.001, 0.5, 0.999])\n",
        "np.allclose([0.001, 0.5, 0.999], rayleigh.cdf(vals))\n",
        "\n",
        "ax.hist(df2, density=True, histtype='stepfilled', alpha=0.8)\n",
        "ax.legend(loc='best', frameon=True)\n",
        "plt.title(\"Rayleigh Distribution\")\n",
        "plt.show()"
      ],
      "execution_count": null,
      "outputs": [
        {
          "output_type": "display_data",
          "data": {
            "image/png": "[encoded data removed]",
            "text/plain": [
              "<Figure size 432x288 with 1 Axes>"
            ]
          },
          "metadata": {
            "tags": [],
            "needs_background": "light"
          }
        }
      ]
    },
    {
      "cell_type": "markdown",
      "metadata": {
        "id": "hPBIA49-qcKp"
      },
      "source": [
        "### 3.Normal Distribution fits better"
      ]
    },
    {
      "cell_type": "code",
      "metadata": {
        "colab": {
          "base_uri": "https://localhost:8080/",
          "height": 281
        },
        "id": "oYGI_FNWqdTw",
        "outputId": "fe45aa04-a28c-4548-f974-7b7bed64c987"
      },
      "source": [
        "fig, ax = plt.subplots(1, 1)\n",
        "mean, var, skew, kurt = norm.stats(moments='mvsk')\n",
        "x = np.linspace(norm.ppf(0.01),\n",
        "                norm.ppf(0.99), 100)\n",
        "ax.plot(x, norm.pdf(x),\n",
        "       'r-', lw=3, alpha=0.6, label='Normal Dist. pdf')\n",
        "\n",
        "vals = norm.ppf([0.001, 0.5, 0.999])\n",
        "np.allclose([0.001, 0.5, 0.999], norm.cdf(vals))\n",
        "\n",
        "ax.hist(df3, density=True, histtype='stepfilled', alpha=0.8)\n",
        "ax.legend(loc='best', frameon=True)\n",
        "plt.title(\"Normal Distribution\")\n",
        "plt.show()"
      ],
      "execution_count": null,
      "outputs": [
        {
          "output_type": "display_data",
          "data": {
            "image/png": "[encoded data removed]",
            "text/plain": [
              "<Figure size 432x288 with 1 Axes>"
            ]
          },
          "metadata": {
            "tags": [],
            "needs_background": "light"
          }
        }
      ]
    },
    {
      "cell_type": "code",
      "metadata": {
        "colab": {
          "base_uri": "https://localhost:8080/",
          "height": 281
        },
        "id": "lGZhfoMDqfTn",
        "outputId": "64e1a1d5-e55b-4c23-c0ec-6e28a41c6e4c"
      },
      "source": [
        "fig, ax = plt.subplots(1, 1)\n",
        "mean, var, skew, kurt = rayleigh.stats(moments='mvsk')\n",
        "x = np.linspace(rayleigh.ppf(0.01),\n",
        "                rayleigh.ppf(0.99), 100)\n",
        "ax.plot(x, rayleigh.pdf(x),\n",
        "       'r-', lw=5, alpha=0.6, label='Rayleigh Dist. pdf')\n",
        "\n",
        "\n",
        "vals = rayleigh.ppf([0.001, 0.5, 0.999])\n",
        "np.allclose([0.001, 0.5, 0.999], rayleigh.cdf(vals))\n",
        "\n",
        "ax.hist(df3, density=True, histtype='stepfilled', alpha=0.8)\n",
        "ax.legend(loc='best', frameon=True)\n",
        "plt.title(\"Rayleigh Distribution\")\n",
        "plt.show()"
      ],
      "execution_count": null,
      "outputs": [
        {
          "output_type": "display_data",
          "data": {
            "image/png": "[encoded data removed]",
            "text/plain": [
              "<Figure size 432x288 with 1 Axes>"
            ]
          },
          "metadata": {
            "tags": [],
            "needs_background": "light"
          }
        }
      ]
    },
    {
      "cell_type": "markdown",
      "metadata": {
        "id": "bKZbKB7Tqph6"
      },
      "source": [
        "### 4.Normal Distribution fits better"
      ]
    },
    {
      "cell_type": "code",
      "metadata": {
        "colab": {
          "base_uri": "https://localhost:8080/",
          "height": 281
        },
        "id": "9Co_K5R2qjK1",
        "outputId": "708025c5-75c2-4d9b-9c4f-df34b5ee8a80"
      },
      "source": [
        "fig, ax = plt.subplots(1, 1)\n",
        "mean, var, skew, kurt = norm.stats(moments='mvsk')\n",
        "x = np.linspace(norm.ppf(0.01),\n",
        "                norm.ppf(0.99), 100)\n",
        "ax.plot(x, norm.pdf(x),\n",
        "       'r-', lw=3, alpha=0.6, label='Normal Dist. pdf')\n",
        "\n",
        "vals = norm.ppf([0.001, 0.5, 0.999])\n",
        "np.allclose([0.001, 0.5, 0.999], norm.cdf(vals))\n",
        "\n",
        "ax.hist(df4, density=True, histtype='stepfilled', alpha=0.8)\n",
        "ax.legend(loc='best', frameon=True)\n",
        "plt.title(\"Normal Distribution\")\n",
        "plt.show()"
      ],
      "execution_count": null,
      "outputs": [
        {
          "output_type": "display_data",
          "data": {
            "image/png": "[encoded data removed]",
            "text/plain": [
              "<Figure size 432x288 with 1 Axes>"
            ]
          },
          "metadata": {
            "tags": [],
            "needs_background": "light"
          }
        }
      ]
    },
    {
      "cell_type": "code",
      "metadata": {
        "colab": {
          "base_uri": "https://localhost:8080/",
          "height": 281
        },
        "id": "FEepIZG0qsE-",
        "outputId": "020d226e-796d-4587-cf74-6aa25f74fb7f"
      },
      "source": [
        "fig, ax = plt.subplots(1, 1)\n",
        "mean, var, skew, kurt = rayleigh.stats(moments='mvsk')\n",
        "x = np.linspace(rayleigh.ppf(0.01),\n",
        "                rayleigh.ppf(0.99), 100)\n",
        "ax.plot(x, rayleigh.pdf(x),\n",
        "       'r-', lw=5, alpha=0.6, label='Rayleigh Dist. pdf')\n",
        "\n",
        "\n",
        "vals = rayleigh.ppf([0.001, 0.5, 0.999])\n",
        "np.allclose([0.001, 0.5, 0.999], rayleigh.cdf(vals))\n",
        "\n",
        "ax.hist(df4, density=True, histtype='stepfilled', alpha=0.8)\n",
        "ax.legend(loc='best', frameon=True)\n",
        "plt.title(\"Rayleigh Distribution\")\n",
        "plt.show()"
      ],
      "execution_count": null,
      "outputs": [
        {
          "output_type": "display_data",
          "data": {
            "image/png": "[encoded data removed]",
            "text/plain": [
              "<Figure size 432x288 with 1 Axes>"
            ]
          },
          "metadata": {
            "tags": [],
            "needs_background": "light"
          }
        }
      ]
    },
    {
      "cell_type": "markdown",
      "metadata": {
        "id": "axCKpIsPrkBX"
      },
      "source": [
        "### 5.Normal Distribution fits better"
      ]
    },
    {
      "cell_type": "code",
      "metadata": {
        "colab": {
          "base_uri": "https://localhost:8080/",
          "height": 281
        },
        "id": "NwEI9YkkrlOn",
        "outputId": "37bd3230-b940-4520-bd1d-bb987b012d3b"
      },
      "source": [
        "fig, ax = plt.subplots(1, 1)\n",
        "mean, var, skew, kurt = norm.stats(moments='mvsk')\n",
        "x = np.linspace(norm.ppf(0.01),\n",
        "                norm.ppf(0.99), 100)\n",
        "ax.plot(x, norm.pdf(x),\n",
        "       'r-', lw=3, alpha=0.6, label='Normal Dist. pdf')\n",
        "\n",
        "vals = norm.ppf([0.001, 0.5, 0.999])\n",
        "np.allclose([0.001, 0.5, 0.999], norm.cdf(vals))\n",
        "\n",
        "ax.hist(df5, density=True, histtype='stepfilled', alpha=0.8)\n",
        "ax.legend(loc='best', frameon=True)\n",
        "plt.title(\"Normal Distribution\")\n",
        "plt.show()"
      ],
      "execution_count": null,
      "outputs": [
        {
          "output_type": "display_data",
          "data": {
            "image/png": "[encoded data removed]",
            "text/plain": [
              "<Figure size 432x288 with 1 Axes>"
            ]
          },
          "metadata": {
            "tags": [],
            "needs_background": "light"
          }
        }
      ]
    },
    {
      "cell_type": "code",
      "metadata": {
        "colab": {
          "base_uri": "https://localhost:8080/",
          "height": 281
        },
        "id": "iGMlP4QHrltr",
        "outputId": "4e18d553-c803-4834-e215-a473f7bf3644"
      },
      "source": [
        "fig, ax = plt.subplots(1, 1)\n",
        "mean, var, skew, kurt = rayleigh.stats(moments='mvsk')\n",
        "x = np.linspace(rayleigh.ppf(0.01),\n",
        "                rayleigh.ppf(0.99), 100)\n",
        "ax.plot(x, rayleigh.pdf(x),\n",
        "       'r-', lw=5, alpha=0.6, label='Rayleigh Dist. pdf')\n",
        "\n",
        "\n",
        "vals = rayleigh.ppf([0.001, 0.5, 0.999])\n",
        "np.allclose([0.001, 0.5, 0.999], rayleigh.cdf(vals))\n",
        "\n",
        "ax.hist(df5, density=True, histtype='stepfilled', alpha=0.8)\n",
        "ax.legend(loc='best', frameon=True)\n",
        "plt.title(\"Rayleigh Distribution\")\n",
        "plt.show()"
      ],
      "execution_count": null,
      "outputs": [
        {
          "output_type": "display_data",
          "data": {
            "image/png": "[encoded data removed]",
            "text/plain": [
              "<Figure size 432x288 with 1 Axes>"
            ]
          },
          "metadata": {
            "tags": [],
            "needs_background": "light"
          }
        }
      ]
    },
    {
      "cell_type": "markdown",
      "metadata": {
        "id": "9a-YSXeJrr3G"
      },
      "source": [
        "### 6.Normal Distribution fits better"
      ]
    },
    {
      "cell_type": "code",
      "metadata": {
        "colab": {
          "base_uri": "https://localhost:8080/",
          "height": 281
        },
        "id": "NSJsWhR9rnUO",
        "outputId": "baaef78e-6bb5-46d2-f355-26b42eaa9a34"
      },
      "source": [
        "fig, ax = plt.subplots(1, 1)\n",
        "mean, var, skew, kurt = norm.stats(moments='mvsk')\n",
        "x = np.linspace(norm.ppf(0.01),\n",
        "                norm.ppf(0.99), 100)\n",
        "ax.plot(x, norm.pdf(x),\n",
        "       'r-', lw=3, alpha=0.6, label='Normal Dist. pdf')\n",
        "\n",
        "vals = norm.ppf([0.001, 0.5, 0.999])\n",
        "np.allclose([0.001, 0.5, 0.999], norm.cdf(vals))\n",
        "\n",
        "ax.hist(df6, density=True, histtype='stepfilled', alpha=0.8)\n",
        "ax.legend(loc='best', frameon=True)\n",
        "plt.title(\"Normal Distribution\")\n",
        "plt.show()"
      ],
      "execution_count": null,
      "outputs": [
        {
          "output_type": "display_data",
          "data": {
            "image/png": "[encoded data removed]",
            "text/plain": [
              "<Figure size 432x288 with 1 Axes>"
            ]
          },
          "metadata": {
            "tags": [],
            "needs_background": "light"
          }
        }
      ]
    },
    {
      "cell_type": "code",
      "metadata": {
        "colab": {
          "base_uri": "https://localhost:8080/",
          "height": 281
        },
        "id": "ADMd1CJqrtgE",
        "outputId": "aaa79580-cffd-4cb0-d4fe-02eb7fbaa773"
      },
      "source": [
        "fig, ax = plt.subplots(1, 1)\n",
        "mean, var, skew, kurt = rayleigh.stats(moments='mvsk')\n",
        "x = np.linspace(rayleigh.ppf(0.01),\n",
        "                rayleigh.ppf(0.99), 100)\n",
        "ax.plot(x, rayleigh.pdf(x),\n",
        "       'r-', lw=5, alpha=0.6, label='Rayleigh Dist. pdf')\n",
        "\n",
        "\n",
        "vals = rayleigh.ppf([0.001, 0.5, 0.999])\n",
        "np.allclose([0.001, 0.5, 0.999], rayleigh.cdf(vals))\n",
        "\n",
        "ax.hist(df6, density=True, histtype='stepfilled', alpha=0.8)\n",
        "ax.legend(loc='best', frameon=True)\n",
        "plt.title(\"Rayleigh Distribution\")\n",
        "plt.show()"
      ],
      "execution_count": null,
      "outputs": [
        {
          "output_type": "display_data",
          "data": {
            "image/png": "[encoded data removed]",
            "text/plain": [
              "<Figure size 432x288 with 1 Axes>"
            ]
          },
          "metadata": {
            "tags": [],
            "needs_background": "light"
          }
        }
      ]
    },
    {
      "cell_type": "markdown",
      "metadata": {
        "id": "fT7Zvd-wr0f8"
      },
      "source": [
        "### 7.Normal Distribution fits better"
      ]
    },
    {
      "cell_type": "code",
      "metadata": {
        "colab": {
          "base_uri": "https://localhost:8080/",
          "height": 281
        },
        "id": "BnnfsomZr2F8",
        "outputId": "7729c402-0cf9-4bc5-ee04-089ef6104523"
      },
      "source": [
        "fig, ax = plt.subplots(1, 1)\n",
        "mean, var, skew, kurt = norm.stats(moments='mvsk')\n",
        "x = np.linspace(norm.ppf(0.01),\n",
        "                norm.ppf(0.99), 100)\n",
        "ax.plot(x, norm.pdf(x),\n",
        "       'r-', lw=3, alpha=0.6, label='Normal Dist. pdf')\n",
        "\n",
        "vals = norm.ppf([0.001, 0.5, 0.999])\n",
        "np.allclose([0.001, 0.5, 0.999], norm.cdf(vals))\n",
        "\n",
        "ax.hist(df7, density=True, histtype='stepfilled', alpha=0.8)\n",
        "ax.legend(loc='best', frameon=True)\n",
        "plt.title(\"Normal Distribution\")\n",
        "plt.show()"
      ],
      "execution_count": null,
      "outputs": [
        {
          "output_type": "display_data",
          "data": {
            "image/png": "[encoded data removed]",
            "text/plain": [
              "<Figure size 432x288 with 1 Axes>"
            ]
          },
          "metadata": {
            "tags": [],
            "needs_background": "light"
          }
        }
      ]
    },
    {
      "cell_type": "code",
      "metadata": {
        "colab": {
          "base_uri": "https://localhost:8080/",
          "height": 281
        },
        "id": "dsMPsMpxr33W",
        "outputId": "b12cdfec-f3f2-472e-ed9e-37f3bc4abba4"
      },
      "source": [
        "fig, ax = plt.subplots(1, 1)\n",
        "mean, var, skew, kurt = rayleigh.stats(moments='mvsk')\n",
        "x = np.linspace(rayleigh.ppf(0.01),\n",
        "                rayleigh.ppf(0.99), 100)\n",
        "ax.plot(x, rayleigh.pdf(x),\n",
        "       'r-', lw=5, alpha=0.6, label='Rayleigh Dist. pdf')\n",
        "\n",
        "\n",
        "vals = rayleigh.ppf([0.001, 0.5, 0.999])\n",
        "np.allclose([0.001, 0.5, 0.999], rayleigh.cdf(vals))\n",
        "\n",
        "ax.hist(df7, density=True, histtype='stepfilled', alpha=0.8)\n",
        "ax.legend(loc='best', frameon=True)\n",
        "plt.title(\"Rayleigh Distribution\")\n",
        "plt.show()"
      ],
      "execution_count": null,
      "outputs": [
        {
          "output_type": "display_data",
          "data": {
            "image/png": "[encoded data removed]",
            "text/plain": [
              "<Figure size 432x288 with 1 Axes>"
            ]
          },
          "metadata": {
            "tags": [],
            "needs_background": "light"
          }
        }
      ]
    },
    {
      "cell_type": "markdown",
      "metadata": {
        "id": "YKi9r_NBsSlz"
      },
      "source": [
        "# Fatih Bahri AYDIN \n",
        "205023030010"
      ]
    },
    {
      "cell_type": "markdown",
      "metadata": {
        "id": "ht7hjFDqxX21"
      },
      "source": [
        "# References"
      ]
    },
    {
      "cell_type": "markdown",
      "metadata": {
        "id": "KtNGBGlLxeBF"
      },
      "source": [
        "Class Notes \\\\\n",
        "http://www.coastalwiki.org/wiki/Shallow-water_wave_theory#:~:text=Small%20amplitude%20wave%20theory,-The%20earliest%20mathematical&text=Airy%20wave%20theory%20is%20strictly,assumptions%20made%20in%20its%20derivation. \\\\\n",
        "https://www.derivative-calculator.net/ \\\\\n",
        "scipy.org \\\\\n",
        "https://matplotlib.org/ \\\\\n"
      ]
    },
    {
      "cell_type": "code",
      "metadata": {
        "id": "JzM_YVkPsYm-"
      },
      "source": [
        ""
      ],
      "execution_count": null,
      "outputs": []
    }
  ]
}