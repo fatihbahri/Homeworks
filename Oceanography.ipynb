{
  "nbformat": 4,
  "nbformat_minor": 0,
  "metadata": {
    "colab": {
      "name": "Oceanography.ipynb",
      "provenance": [],
      "collapsed_sections": []
    },
    "kernelspec": {
      "name": "python3",
      "display_name": "Python 3"
    },
    "language_info": {
      "name": "python"
    }
  },
  "cells": [
    {
      "cell_type": "markdown",
      "metadata": {
        "id": "Y_SUt1jv4p1h"
      },
      "source": [
        "# CE-676 - Physical Oceanography - Homework\n",
        "\n"
      ]
    },
    {
      "cell_type": "markdown",
      "metadata": {
        "id": "OvKpJtmHfo_r"
      },
      "source": [
        "## Introduction"
      ]
    },
    {
      "cell_type": "markdown",
      "metadata": {
        "id": "AKwMQSAhfs0E"
      },
      "source": [
        "In Physical Oceanography the works based on programming languages like Python and Matlab is very wide. In this study we have applied the formulas we learned in Physical Oceanography lessons with using the given data."
      ]
    },
    {
      "cell_type": "markdown",
      "metadata": {
        "id": "IDrw1_yxiFW2"
      },
      "source": [
        "\n",
        "We have used Python libraries such as gsw, mathplotlib, xarray and numpy while applying the formulas. Therefore we have to import those libraries."
      ]
    },
    {
      "cell_type": "markdown",
      "metadata": {
        "id": "6HQcTx_UfU1A"
      },
      "source": [
        "## Import Data and Libraries"
      ]
    },
    {
      "cell_type": "markdown",
      "metadata": {
        "id": "KkbPw61NteJS"
      },
      "source": [
        "Open the link select your drive account and copy the authentication code and paste below."
      ]
    },
    {
      "cell_type": "code",
      "metadata": {
        "colab": {
          "base_uri": "https://localhost:8080/"
        },
        "id": "TqQ7xfdg8hN4",
        "outputId": "312c3517-7498-4b5a-b42c-e502a0569268"
      },
      "source": [
        "from google.colab import drive\n",
        "drive.mount('/gdrive')\n",
        "%cd /gdrive"
      ],
      "execution_count": null,
      "outputs": [
        {
          "output_type": "stream",
          "text": [
            "Mounted at /gdrive\n",
            "/gdrive\n"
          ],
          "name": "stdout"
        }
      ]
    },
    {
      "cell_type": "code",
      "metadata": {
        "id": "L6rQkCngDCp9"
      },
      "source": [
        "import os\n",
        "os.chdir('/gdrive/My Drive/')"
      ],
      "execution_count": null,
      "outputs": []
    },
    {
      "cell_type": "code",
      "metadata": {
        "colab": {
          "base_uri": "https://localhost:8080/"
        },
        "id": "PTmY06YTDHyl",
        "outputId": "7e22a437-f07d-4b07-9beb-08a01f8ba27a"
      },
      "source": [
        "!ls *.nc"
      ],
      "execution_count": null,
      "outputs": [
        {
          "output_type": "stream",
          "text": [
            "Ssect_2000.nc  Tauxsect_2000.nc  Tsect_2000.nc\n"
          ],
          "name": "stdout"
        }
      ]
    },
    {
      "cell_type": "markdown",
      "metadata": {
        "id": "-3yzHl3JtvXq"
      },
      "source": [
        "Our data are in \"Ssect_2000.nc\", \"Tauxsect_2000.nc\" and \"Tsect_2000.nc\""
      ]
    },
    {
      "cell_type": "code",
      "metadata": {
        "id": "gudQMpEWDpNe"
      },
      "source": [
        "import xarray as xr\n",
        "import matplotlib.pyplot as plt\n",
        "from math import sqrt, pi, sin\n",
        "%matplotlib inline\n",
        "import numpy as np"
      ],
      "execution_count": null,
      "outputs": []
    },
    {
      "cell_type": "code",
      "metadata": {
        "id": "JF0bSkcmJcZj"
      },
      "source": [
        "df = xr.open_dataset('Tsect_2000.nc')\n",
        "ds = xr.open_dataset('Ssect_2000.nc')\n",
        "dt = xr.open_dataset('Tauxsect_2000.nc')"
      ],
      "execution_count": null,
      "outputs": []
    },
    {
      "cell_type": "code",
      "metadata": {
        "colab": {
          "base_uri": "https://localhost:8080/",
          "height": 306
        },
        "id": "2Wi6PqD7k1gM",
        "outputId": "627b7711-7f62-4fcb-e50a-d34ec961114d"
      },
      "source": [
        "df"
      ],
      "execution_count": null,
      "outputs": [
        {
          "output_type": "execute_result",
          "data": {
            "text/html": [
              "<div><svg style=\"position: absolute; width: 0; height: 0; overflow: hidden\">\n",
              "<defs>\n",
              "<symbol id=\"icon-database\" viewBox=\"0 0 32 32\">\n",
              "<path d=\"M16 0c-8.837 0-16 2.239-16 5v4c0 2.761 7.163 5 16 5s16-2.239 16-5v-4c0-2.761-7.163-5-16-5z\"></path>\n",
              "<path d=\"M16 17c-8.837 0-16-2.239-16-5v6c0 2.761 7.163 5 16 5s16-2.239 16-5v-6c0 2.761-7.163 5-16 5z\"></path>\n",
              "<path d=\"M16 26c-8.837 0-16-2.239-16-5v6c0 2.761 7.163 5 16 5s16-2.239 16-5v-6c0 2.761-7.163 5-16 5z\"></path>\n",
              "</symbol>\n",
              "<symbol id=\"icon-file-text2\" viewBox=\"0 0 32 32\">\n",
              "<path d=\"M28.681 7.159c-0.694-0.947-1.662-2.053-2.724-3.116s-2.169-2.030-3.116-2.724c-1.612-1.182-2.393-1.319-2.841-1.319h-15.5c-1.378 0-2.5 1.121-2.5 2.5v27c0 1.378 1.122 2.5 2.5 2.5h23c1.378 0 2.5-1.122 2.5-2.5v-19.5c0-0.448-0.137-1.23-1.319-2.841zM24.543 5.457c0.959 0.959 1.712 1.825 2.268 2.543h-4.811v-4.811c0.718 0.556 1.584 1.309 2.543 2.268zM28 29.5c0 0.271-0.229 0.5-0.5 0.5h-23c-0.271 0-0.5-0.229-0.5-0.5v-27c0-0.271 0.229-0.5 0.5-0.5 0 0 15.499-0 15.5 0v7c0 0.552 0.448 1 1 1h7v19.5z\"></path>\n",
              "<path d=\"M23 26h-14c-0.552 0-1-0.448-1-1s0.448-1 1-1h14c0.552 0 1 0.448 1 1s-0.448 1-1 1z\"></path>\n",
              "<path d=\"M23 22h-14c-0.552 0-1-0.448-1-1s0.448-1 1-1h14c0.552 0 1 0.448 1 1s-0.448 1-1 1z\"></path>\n",
              "<path d=\"M23 18h-14c-0.552 0-1-0.448-1-1s0.448-1 1-1h14c0.552 0 1 0.448 1 1s-0.448 1-1 1z\"></path>\n",
              "</symbol>\n",
              "</defs>\n",
              "</svg>\n",
              "<style>/* CSS stylesheet for displaying xarray objects in jupyterlab.\n",
              " *\n",
              " */\n",
              "\n",
              ":root {\n",
              "  --xr-font-color0: var(--jp-content-font-color0, rgba(0, 0, 0, 1));\n",
              "  --xr-font-color2: var(--jp-content-font-color2, rgba(0, 0, 0, 0.54));\n",
              "  --xr-font-color3: var(--jp-content-font-color3, rgba(0, 0, 0, 0.38));\n",
              "  --xr-border-color: var(--jp-border-color2, #e0e0e0);\n",
              "  --xr-disabled-color: var(--jp-layout-color3, #bdbdbd);\n",
              "  --xr-background-color: var(--jp-layout-color0, white);\n",
              "  --xr-background-color-row-even: var(--jp-layout-color1, white);\n",
              "  --xr-background-color-row-odd: var(--jp-layout-color2, #eeeeee);\n",
              "}\n",
              "\n",
              "html[theme=dark],\n",
              "body.vscode-dark {\n",
              "  --xr-font-color0: rgba(255, 255, 255, 1);\n",
              "  --xr-font-color2: rgba(255, 255, 255, 0.54);\n",
              "  --xr-font-color3: rgba(255, 255, 255, 0.38);\n",
              "  --xr-border-color: #1F1F1F;\n",
              "  --xr-disabled-color: #515151;\n",
              "  --xr-background-color: #111111;\n",
              "  --xr-background-color-row-even: #111111;\n",
              "  --xr-background-color-row-odd: #313131;\n",
              "}\n",
              "\n",
              ".xr-wrap {\n",
              "  display: block;\n",
              "  min-width: 300px;\n",
              "  max-width: 700px;\n",
              "}\n",
              "\n",
              ".xr-text-repr-fallback {\n",
              "  /* fallback to plain text repr when CSS is not injected (untrusted notebook) */\n",
              "  display: none;\n",
              "}\n",
              "\n",
              ".xr-header {\n",
              "  padding-top: 6px;\n",
              "  padding-bottom: 6px;\n",
              "  margin-bottom: 4px;\n",
              "  border-bottom: solid 1px var(--xr-border-color);\n",
              "}\n",
              "\n",
              ".xr-header > div,\n",
              ".xr-header > ul {\n",
              "  display: inline;\n",
              "  margin-top: 0;\n",
              "  margin-bottom: 0;\n",
              "}\n",
              "\n",
              ".xr-obj-type,\n",
              ".xr-array-name {\n",
              "  margin-left: 2px;\n",
              "  margin-right: 10px;\n",
              "}\n",
              "\n",
              ".xr-obj-type {\n",
              "  color: var(--xr-font-color2);\n",
              "}\n",
              "\n",
              ".xr-sections {\n",
              "  padding-left: 0 !important;\n",
              "  display: grid;\n",
              "  grid-template-columns: 150px auto auto 1fr 20px 20px;\n",
              "}\n",
              "\n",
              ".xr-section-item {\n",
              "  display: contents;\n",
              "}\n",
              "\n",
              ".xr-section-item input {\n",
              "  display: none;\n",
              "}\n",
              "\n",
              ".xr-section-item input + label {\n",
              "  color: var(--xr-disabled-color);\n",
              "}\n",
              "\n",
              ".xr-section-item input:enabled + label {\n",
              "  cursor: pointer;\n",
              "  color: var(--xr-font-color2);\n",
              "}\n",
              "\n",
              ".xr-section-item input:enabled + label:hover {\n",
              "  color: var(--xr-font-color0);\n",
              "}\n",
              "\n",
              ".xr-section-summary {\n",
              "  grid-column: 1;\n",
              "  color: var(--xr-font-color2);\n",
              "  font-weight: 500;\n",
              "}\n",
              "\n",
              ".xr-section-summary > span {\n",
              "  display: inline-block;\n",
              "  padding-left: 0.5em;\n",
              "}\n",
              "\n",
              ".xr-section-summary-in:disabled + label {\n",
              "  color: var(--xr-font-color2);\n",
              "}\n",
              "\n",
              ".xr-section-summary-in + label:before {\n",
              "  display: inline-block;\n",
              "  content: '►';\n",
              "  font-size: 11px;\n",
              "  width: 15px;\n",
              "  text-align: center;\n",
              "}\n",
              "\n",
              ".xr-section-summary-in:disabled + label:before {\n",
              "  color: var(--xr-disabled-color);\n",
              "}\n",
              "\n",
              ".xr-section-summary-in:checked + label:before {\n",
              "  content: '▼';\n",
              "}\n",
              "\n",
              ".xr-section-summary-in:checked + label > span {\n",
              "  display: none;\n",
              "}\n",
              "\n",
              ".xr-section-summary,\n",
              ".xr-section-inline-details {\n",
              "  padding-top: 4px;\n",
              "  padding-bottom: 4px;\n",
              "}\n",
              "\n",
              ".xr-section-inline-details {\n",
              "  grid-column: 2 / -1;\n",
              "}\n",
              "\n",
              ".xr-section-details {\n",
              "  display: none;\n",
              "  grid-column: 1 / -1;\n",
              "  margin-bottom: 5px;\n",
              "}\n",
              "\n",
              ".xr-section-summary-in:checked ~ .xr-section-details {\n",
              "  display: contents;\n",
              "}\n",
              "\n",
              ".xr-array-wrap {\n",
              "  grid-column: 1 / -1;\n",
              "  display: grid;\n",
              "  grid-template-columns: 20px auto;\n",
              "}\n",
              "\n",
              ".xr-array-wrap > label {\n",
              "  grid-column: 1;\n",
              "  vertical-align: top;\n",
              "}\n",
              "\n",
              ".xr-preview {\n",
              "  color: var(--xr-font-color3);\n",
              "}\n",
              "\n",
              ".xr-array-preview,\n",
              ".xr-array-data {\n",
              "  padding: 0 5px !important;\n",
              "  grid-column: 2;\n",
              "}\n",
              "\n",
              ".xr-array-data,\n",
              ".xr-array-in:checked ~ .xr-array-preview {\n",
              "  display: none;\n",
              "}\n",
              "\n",
              ".xr-array-in:checked ~ .xr-array-data,\n",
              ".xr-array-preview {\n",
              "  display: inline-block;\n",
              "}\n",
              "\n",
              ".xr-dim-list {\n",
              "  display: inline-block !important;\n",
              "  list-style: none;\n",
              "  padding: 0 !important;\n",
              "  margin: 0;\n",
              "}\n",
              "\n",
              ".xr-dim-list li {\n",
              "  display: inline-block;\n",
              "  padding: 0;\n",
              "  margin: 0;\n",
              "}\n",
              "\n",
              ".xr-dim-list:before {\n",
              "  content: '(';\n",
              "}\n",
              "\n",
              ".xr-dim-list:after {\n",
              "  content: ')';\n",
              "}\n",
              "\n",
              ".xr-dim-list li:not(:last-child):after {\n",
              "  content: ',';\n",
              "  padding-right: 5px;\n",
              "}\n",
              "\n",
              ".xr-has-index {\n",
              "  font-weight: bold;\n",
              "}\n",
              "\n",
              ".xr-var-list,\n",
              ".xr-var-item {\n",
              "  display: contents;\n",
              "}\n",
              "\n",
              ".xr-var-item > div,\n",
              ".xr-var-item label,\n",
              ".xr-var-item > .xr-var-name span {\n",
              "  background-color: var(--xr-background-color-row-even);\n",
              "  margin-bottom: 0;\n",
              "}\n",
              "\n",
              ".xr-var-item > .xr-var-name:hover span {\n",
              "  padding-right: 5px;\n",
              "}\n",
              "\n",
              ".xr-var-list > li:nth-child(odd) > div,\n",
              ".xr-var-list > li:nth-child(odd) > label,\n",
              ".xr-var-list > li:nth-child(odd) > .xr-var-name span {\n",
              "  background-color: var(--xr-background-color-row-odd);\n",
              "}\n",
              "\n",
              ".xr-var-name {\n",
              "  grid-column: 1;\n",
              "}\n",
              "\n",
              ".xr-var-dims {\n",
              "  grid-column: 2;\n",
              "}\n",
              "\n",
              ".xr-var-dtype {\n",
              "  grid-column: 3;\n",
              "  text-align: right;\n",
              "  color: var(--xr-font-color2);\n",
              "}\n",
              "\n",
              ".xr-var-preview {\n",
              "  grid-column: 4;\n",
              "}\n",
              "\n",
              ".xr-var-name,\n",
              ".xr-var-dims,\n",
              ".xr-var-dtype,\n",
              ".xr-preview,\n",
              ".xr-attrs dt {\n",
              "  white-space: nowrap;\n",
              "  overflow: hidden;\n",
              "  text-overflow: ellipsis;\n",
              "  padding-right: 10px;\n",
              "}\n",
              "\n",
              ".xr-var-name:hover,\n",
              ".xr-var-dims:hover,\n",
              ".xr-var-dtype:hover,\n",
              ".xr-attrs dt:hover {\n",
              "  overflow: visible;\n",
              "  width: auto;\n",
              "  z-index: 1;\n",
              "}\n",
              "\n",
              ".xr-var-attrs,\n",
              ".xr-var-data {\n",
              "  display: none;\n",
              "  background-color: var(--xr-background-color) !important;\n",
              "  padding-bottom: 5px !important;\n",
              "}\n",
              "\n",
              ".xr-var-attrs-in:checked ~ .xr-var-attrs,\n",
              ".xr-var-data-in:checked ~ .xr-var-data {\n",
              "  display: block;\n",
              "}\n",
              "\n",
              ".xr-var-data > table {\n",
              "  float: right;\n",
              "}\n",
              "\n",
              ".xr-var-name span,\n",
              ".xr-var-data,\n",
              ".xr-attrs {\n",
              "  padding-left: 25px !important;\n",
              "}\n",
              "\n",
              ".xr-attrs,\n",
              ".xr-var-attrs,\n",
              ".xr-var-data {\n",
              "  grid-column: 1 / -1;\n",
              "}\n",
              "\n",
              "dl.xr-attrs {\n",
              "  padding: 0;\n",
              "  margin: 0;\n",
              "  display: grid;\n",
              "  grid-template-columns: 125px auto;\n",
              "}\n",
              "\n",
              ".xr-attrs dt,\n",
              ".xr-attrs dd {\n",
              "  padding: 0;\n",
              "  margin: 0;\n",
              "  float: left;\n",
              "  padding-right: 10px;\n",
              "  width: auto;\n",
              "}\n",
              "\n",
              ".xr-attrs dt {\n",
              "  font-weight: normal;\n",
              "  grid-column: 1;\n",
              "}\n",
              "\n",
              ".xr-attrs dt:hover span {\n",
              "  display: inline-block;\n",
              "  background: var(--xr-background-color);\n",
              "  padding-right: 10px;\n",
              "}\n",
              "\n",
              ".xr-attrs dd {\n",
              "  grid-column: 2;\n",
              "  white-space: pre-wrap;\n",
              "  word-break: break-all;\n",
              "}\n",
              "\n",
              ".xr-icon-database,\n",
              ".xr-icon-file-text2 {\n",
              "  display: inline-block;\n",
              "  vertical-align: middle;\n",
              "  width: 1em;\n",
              "  height: 1.5em !important;\n",
              "  stroke-width: 0;\n",
              "  stroke: currentColor;\n",
              "  fill: currentColor;\n",
              "}\n",
              "</style><pre class='xr-text-repr-fallback'>&lt;xarray.Dataset&gt;\n",
              "Dimensions:  (lev: 35, x: 400)\n",
              "Coordinates:\n",
              "    lat      (x) float32 32.38 32.38 32.38 32.38 ... 32.38 32.38 32.38 32.38\n",
              "    lon      (x) float32 -99.88 -99.62 -99.38 -99.12 ... -0.625 -0.375 -0.125\n",
              "  * x        (x) float64 -99.87 -99.62 -99.36 -99.11 ... 0.02098 0.2693 0.5177\n",
              "  * lev      (lev) float64 2.5 10.0 20.0 32.5 ... 5e+03 5.5e+03 6e+03 6.5e+03\n",
              "    y        float64 32.38\n",
              "    year     int32 2001\n",
              "Data variables:\n",
              "    thetao   (lev, x) float32 nan nan nan nan nan nan ... nan nan nan nan nan</pre><div class='xr-wrap' hidden><div class='xr-header'><div class='xr-obj-type'>xarray.Dataset</div></div><ul class='xr-sections'><li class='xr-section-item'><input id='section-a1cf91f3-dc0a-4e01-9f9a-09309aa77875' class='xr-section-summary-in' type='checkbox' disabled ><label for='section-a1cf91f3-dc0a-4e01-9f9a-09309aa77875' class='xr-section-summary'  title='Expand/collapse section'>Dimensions:</label><div class='xr-section-inline-details'><ul class='xr-dim-list'><li><span class='xr-has-index'>lev</span>: 35</li><li><span class='xr-has-index'>x</span>: 400</li></ul></div><div class='xr-section-details'></div></li><li class='xr-section-item'><input id='section-6a47c6df-6c8c-4bff-bd88-0a5537ec0b9f' class='xr-section-summary-in' type='checkbox'  checked><label for='section-6a47c6df-6c8c-4bff-bd88-0a5537ec0b9f' class='xr-section-summary' >Coordinates: <span>(6)</span></label><div class='xr-section-inline-details'></div><div class='xr-section-details'><ul class='xr-var-list'><li class='xr-var-item'><div class='xr-var-name'><span>lat</span></div><div class='xr-var-dims'>(x)</div><div class='xr-var-dtype'>float32</div><div class='xr-var-preview xr-preview'>...</div><input id='attrs-59f62f4a-aa5a-4ad5-b315-5cce23c1f81c' class='xr-var-attrs-in' type='checkbox' ><label for='attrs-59f62f4a-aa5a-4ad5-b315-5cce23c1f81c' title='Show/Hide attributes'><svg class='icon xr-icon-file-text2'><use xlink:href='#icon-file-text2'></use></svg></label><input id='data-0624c87a-35c5-47c8-b3da-c44532026782' class='xr-var-data-in' type='checkbox'><label for='data-0624c87a-35c5-47c8-b3da-c44532026782' title='Show/Hide data repr'><svg class='icon xr-icon-database'><use xlink:href='#icon-database'></use></svg></label><div class='xr-var-attrs'><dl class='xr-attrs'><dt><span>bounds :</span></dt><dd>lat_bnds</dd><dt><span>cell_methods :</span></dt><dd>y: point x: point</dd><dt><span>long_name :</span></dt><dd>latitude</dd><dt><span>standard_name :</span></dt><dd>latitude</dd><dt><span>units :</span></dt><dd>degrees_north</dd></dl></div><div class='xr-var-data'><pre>array([32.375427, 32.375427, 32.375427, ..., 32.375427, 32.375427, 32.375427],\n",
              "      dtype=float32)</pre></div></li><li class='xr-var-item'><div class='xr-var-name'><span>lon</span></div><div class='xr-var-dims'>(x)</div><div class='xr-var-dtype'>float32</div><div class='xr-var-preview xr-preview'>...</div><input id='attrs-6343b036-50fe-4d6e-b38b-435937af685c' class='xr-var-attrs-in' type='checkbox' ><label for='attrs-6343b036-50fe-4d6e-b38b-435937af685c' title='Show/Hide attributes'><svg class='icon xr-icon-file-text2'><use xlink:href='#icon-file-text2'></use></svg></label><input id='data-38018b4d-0cbe-45e3-b5fd-1b408f11a2ad' class='xr-var-data-in' type='checkbox'><label for='data-38018b4d-0cbe-45e3-b5fd-1b408f11a2ad' title='Show/Hide data repr'><svg class='icon xr-icon-database'><use xlink:href='#icon-database'></use></svg></label><div class='xr-var-attrs'><dl class='xr-attrs'><dt><span>bounds :</span></dt><dd>lon_bnds</dd><dt><span>cell_methods :</span></dt><dd>y: point x: point</dd><dt><span>long_name :</span></dt><dd>longitude</dd><dt><span>standard_name :</span></dt><dd>longitude</dd><dt><span>units :</span></dt><dd>degrees_east</dd></dl></div><div class='xr-var-data'><pre>array([-99.875, -99.625, -99.375, ...,  -0.625,  -0.375,  -0.125],\n",
              "      dtype=float32)</pre></div></li><li class='xr-var-item'><div class='xr-var-name'><span class='xr-has-index'>x</span></div><div class='xr-var-dims'>(x)</div><div class='xr-var-dtype'>float64</div><div class='xr-var-preview xr-preview'>-99.87 -99.62 ... 0.2693 0.5177</div><input id='attrs-dd4c458f-ed24-46a3-bd99-ca994a122ac2' class='xr-var-attrs-in' type='checkbox' ><label for='attrs-dd4c458f-ed24-46a3-bd99-ca994a122ac2' title='Show/Hide attributes'><svg class='icon xr-icon-file-text2'><use xlink:href='#icon-file-text2'></use></svg></label><input id='data-08829221-5b5d-4b6f-9905-7ede9184be3f' class='xr-var-data-in' type='checkbox'><label for='data-08829221-5b5d-4b6f-9905-7ede9184be3f' title='Show/Hide data repr'><svg class='icon xr-icon-database'><use xlink:href='#icon-database'></use></svg></label><div class='xr-var-attrs'><dl class='xr-attrs'><dt><span>axis :</span></dt><dd>X</dd><dt><span>long_name :</span></dt><dd>x coordinate of projection</dd><dt><span>standard_name :</span></dt><dd>projection_x_coordinate</dd><dt><span>units :</span></dt><dd>degrees</dd></dl></div><div class='xr-var-data'><pre>array([-9.987285e+01, -9.961855e+01, -9.936425e+01, ...,  2.098417e-02,\n",
              "        2.693434e-01,  5.176932e-01])</pre></div></li><li class='xr-var-item'><div class='xr-var-name'><span class='xr-has-index'>lev</span></div><div class='xr-var-dims'>(lev)</div><div class='xr-var-dtype'>float64</div><div class='xr-var-preview xr-preview'>2.5 10.0 20.0 ... 6e+03 6.5e+03</div><input id='attrs-09b9236a-38a6-44c3-b4c3-178e54fa37ee' class='xr-var-attrs-in' type='checkbox' ><label for='attrs-09b9236a-38a6-44c3-b4c3-178e54fa37ee' title='Show/Hide attributes'><svg class='icon xr-icon-file-text2'><use xlink:href='#icon-file-text2'></use></svg></label><input id='data-1926fb53-371b-469f-942f-625c095059d4' class='xr-var-data-in' type='checkbox'><label for='data-1926fb53-371b-469f-942f-625c095059d4' title='Show/Hide data repr'><svg class='icon xr-icon-database'><use xlink:href='#icon-database'></use></svg></label><div class='xr-var-attrs'><dl class='xr-attrs'><dt><span>axis :</span></dt><dd>Z</dd><dt><span>bounds :</span></dt><dd>lev_bnds</dd><dt><span>description :</span></dt><dd>generic ocean model vertical coordinate (nondimensional or dimensional)</dd><dt><span>long_name :</span></dt><dd>ocean model level</dd><dt><span>positive :</span></dt><dd>down</dd><dt><span>units :</span></dt><dd>m</dd></dl></div><div class='xr-var-data'><pre>array([2.5000e+00, 1.0000e+01, 2.0000e+01, 3.2500e+01, 5.1250e+01, 7.5000e+01,\n",
              "       1.0000e+02, 1.2500e+02, 1.5625e+02, 2.0000e+02, 2.5000e+02, 3.1250e+02,\n",
              "       4.0000e+02, 5.0000e+02, 6.0000e+02, 7.0000e+02, 8.0000e+02, 9.0000e+02,\n",
              "       1.0000e+03, 1.1000e+03, 1.2000e+03, 1.3000e+03, 1.4000e+03, 1.5375e+03,\n",
              "       1.7500e+03, 2.0625e+03, 2.5000e+03, 3.0000e+03, 3.5000e+03, 4.0000e+03,\n",
              "       4.5000e+03, 5.0000e+03, 5.5000e+03, 6.0000e+03, 6.5000e+03])</pre></div></li><li class='xr-var-item'><div class='xr-var-name'><span>y</span></div><div class='xr-var-dims'>()</div><div class='xr-var-dtype'>float64</div><div class='xr-var-preview xr-preview'>...</div><input id='attrs-f8374897-327f-4d72-8e5c-b23921c21c5a' class='xr-var-attrs-in' type='checkbox' ><label for='attrs-f8374897-327f-4d72-8e5c-b23921c21c5a' title='Show/Hide attributes'><svg class='icon xr-icon-file-text2'><use xlink:href='#icon-file-text2'></use></svg></label><input id='data-8deee66e-14be-4303-ae13-dbd1b94110f3' class='xr-var-data-in' type='checkbox'><label for='data-8deee66e-14be-4303-ae13-dbd1b94110f3' title='Show/Hide data repr'><svg class='icon xr-icon-database'><use xlink:href='#icon-database'></use></svg></label><div class='xr-var-attrs'><dl class='xr-attrs'><dt><span>axis :</span></dt><dd>Y</dd><dt><span>long_name :</span></dt><dd>y coordinate of projection</dd><dt><span>standard_name :</span></dt><dd>projection_y_coordinate</dd><dt><span>units :</span></dt><dd>degrees</dd></dl></div><div class='xr-var-data'><pre>array(32.375425)</pre></div></li><li class='xr-var-item'><div class='xr-var-name'><span>year</span></div><div class='xr-var-dims'>()</div><div class='xr-var-dtype'>int32</div><div class='xr-var-preview xr-preview'>...</div><input id='attrs-2ccf516f-21b3-4527-95fc-f49824f645d0' class='xr-var-attrs-in' type='checkbox' disabled><label for='attrs-2ccf516f-21b3-4527-95fc-f49824f645d0' title='Show/Hide attributes'><svg class='icon xr-icon-file-text2'><use xlink:href='#icon-file-text2'></use></svg></label><input id='data-58d2f42e-405e-4fa6-acbe-e9f21fc7343b' class='xr-var-data-in' type='checkbox'><label for='data-58d2f42e-405e-4fa6-acbe-e9f21fc7343b' title='Show/Hide data repr'><svg class='icon xr-icon-database'><use xlink:href='#icon-database'></use></svg></label><div class='xr-var-attrs'><dl class='xr-attrs'></dl></div><div class='xr-var-data'><pre>array(2001, dtype=int32)</pre></div></li></ul></div></li><li class='xr-section-item'><input id='section-573ac409-4fd4-4616-bae0-f5d1da6a9449' class='xr-section-summary-in' type='checkbox'  checked><label for='section-573ac409-4fd4-4616-bae0-f5d1da6a9449' class='xr-section-summary' >Data variables: <span>(1)</span></label><div class='xr-section-inline-details'></div><div class='xr-section-details'><ul class='xr-var-list'><li class='xr-var-item'><div class='xr-var-name'><span>thetao</span></div><div class='xr-var-dims'>(lev, x)</div><div class='xr-var-dtype'>float32</div><div class='xr-var-preview xr-preview'>...</div><input id='attrs-ba03e9a0-de56-44d8-aa47-e211d03773c3' class='xr-var-attrs-in' type='checkbox' disabled><label for='attrs-ba03e9a0-de56-44d8-aa47-e211d03773c3' title='Show/Hide attributes'><svg class='icon xr-icon-file-text2'><use xlink:href='#icon-file-text2'></use></svg></label><input id='data-492a2648-9c48-4410-923e-87c479047ce6' class='xr-var-data-in' type='checkbox'><label for='data-492a2648-9c48-4410-923e-87c479047ce6' title='Show/Hide data repr'><svg class='icon xr-icon-database'><use xlink:href='#icon-database'></use></svg></label><div class='xr-var-attrs'><dl class='xr-attrs'></dl></div><div class='xr-var-data'><pre>array([[nan, nan, nan, ..., nan, nan, nan],\n",
              "       [nan, nan, nan, ..., nan, nan, nan],\n",
              "       [nan, nan, nan, ..., nan, nan, nan],\n",
              "       ...,\n",
              "       [nan, nan, nan, ..., nan, nan, nan],\n",
              "       [nan, nan, nan, ..., nan, nan, nan],\n",
              "       [nan, nan, nan, ..., nan, nan, nan]], dtype=float32)</pre></div></li></ul></div></li><li class='xr-section-item'><input id='section-732a0346-2db7-498d-b5e6-c5598bfbd3ca' class='xr-section-summary-in' type='checkbox' disabled ><label for='section-732a0346-2db7-498d-b5e6-c5598bfbd3ca' class='xr-section-summary'  title='Expand/collapse section'>Attributes: <span>(0)</span></label><div class='xr-section-inline-details'></div><div class='xr-section-details'><dl class='xr-attrs'></dl></div></li></ul></div></div>"
            ],
            "text/plain": [
              "<xarray.Dataset>\n",
              "Dimensions:  (lev: 35, x: 400)\n",
              "Coordinates:\n",
              "    lat      (x) float32 ...\n",
              "    lon      (x) float32 ...\n",
              "  * x        (x) float64 -99.87 -99.62 -99.36 -99.11 ... 0.02098 0.2693 0.5177\n",
              "  * lev      (lev) float64 2.5 10.0 20.0 32.5 ... 5e+03 5.5e+03 6e+03 6.5e+03\n",
              "    y        float64 ...\n",
              "    year     int32 ...\n",
              "Data variables:\n",
              "    thetao   (lev, x) float32 ..."
            ]
          },
          "metadata": {
            "tags": []
          },
          "execution_count": 7
        }
      ]
    },
    {
      "cell_type": "markdown",
      "metadata": {
        "id": "qgTBTyT8uAwY"
      },
      "source": [
        "\"Tsect_2000.nc\" dataset consist of *theta*, longitude, latitude and levels (m)"
      ]
    },
    {
      "cell_type": "code",
      "metadata": {
        "colab": {
          "base_uri": "https://localhost:8080/",
          "height": 444
        },
        "id": "Cpa5vdInDvQl",
        "outputId": "6281ef1c-b256-430b-c8ca-6bf3c62723d8"
      },
      "source": [
        "plt.figure(figsize=(9,7))\n",
        "plt.title('Temperature')\n",
        "plt.pcolormesh(df.x, -df.lev, df.thetao);plt.colorbar();"
      ],
      "execution_count": null,
      "outputs": [
        {
          "output_type": "display_data",
          "data": {
            "image/png": "[encoded data removed]",
            "text/plain": [
              "<Figure size 648x504 with 2 Axes>"
            ]
          },
          "metadata": {
            "tags": [],
            "needs_background": "light"
          }
        }
      ]
    },
    {
      "cell_type": "markdown",
      "metadata": {
        "id": "FMWxTkOqucLq"
      },
      "source": [
        "These plot show the temperature of the cross-section"
      ]
    },
    {
      "cell_type": "markdown",
      "metadata": {
        "id": "C_hEvFb1ulNc"
      },
      "source": [
        "Our cross-section is in 32.375427 latitude"
      ]
    },
    {
      "cell_type": "code",
      "metadata": {
        "colab": {
          "base_uri": "https://localhost:8080/",
          "height": 333
        },
        "id": "PsIV5pJMFoZC",
        "outputId": "7bb49abe-a218-427e-9caa-2e5b3abf5b6c"
      },
      "source": [
        "df.lat"
      ],
      "execution_count": null,
      "outputs": [
        {
          "output_type": "execute_result",
          "data": {
            "text/html": [
              "<div><svg style=\"position: absolute; width: 0; height: 0; overflow: hidden\">\n",
              "<defs>\n",
              "<symbol id=\"icon-database\" viewBox=\"0 0 32 32\">\n",
              "<path d=\"M16 0c-8.837 0-16 2.239-16 5v4c0 2.761 7.163 5 16 5s16-2.239 16-5v-4c0-2.761-7.163-5-16-5z\"></path>\n",
              "<path d=\"M16 17c-8.837 0-16-2.239-16-5v6c0 2.761 7.163 5 16 5s16-2.239 16-5v-6c0 2.761-7.163 5-16 5z\"></path>\n",
              "<path d=\"M16 26c-8.837 0-16-2.239-16-5v6c0 2.761 7.163 5 16 5s16-2.239 16-5v-6c0 2.761-7.163 5-16 5z\"></path>\n",
              "</symbol>\n",
              "<symbol id=\"icon-file-text2\" viewBox=\"0 0 32 32\">\n",
              "<path d=\"M28.681 7.159c-0.694-0.947-1.662-2.053-2.724-3.116s-2.169-2.030-3.116-2.724c-1.612-1.182-2.393-1.319-2.841-1.319h-15.5c-1.378 0-2.5 1.121-2.5 2.5v27c0 1.378 1.122 2.5 2.5 2.5h23c1.378 0 2.5-1.122 2.5-2.5v-19.5c0-0.448-0.137-1.23-1.319-2.841zM24.543 5.457c0.959 0.959 1.712 1.825 2.268 2.543h-4.811v-4.811c0.718 0.556 1.584 1.309 2.543 2.268zM28 29.5c0 0.271-0.229 0.5-0.5 0.5h-23c-0.271 0-0.5-0.229-0.5-0.5v-27c0-0.271 0.229-0.5 0.5-0.5 0 0 15.499-0 15.5 0v7c0 0.552 0.448 1 1 1h7v19.5z\"></path>\n",
              "<path d=\"M23 26h-14c-0.552 0-1-0.448-1-1s0.448-1 1-1h14c0.552 0 1 0.448 1 1s-0.448 1-1 1z\"></path>\n",
              "<path d=\"M23 22h-14c-0.552 0-1-0.448-1-1s0.448-1 1-1h14c0.552 0 1 0.448 1 1s-0.448 1-1 1z\"></path>\n",
              "<path d=\"M23 18h-14c-0.552 0-1-0.448-1-1s0.448-1 1-1h14c0.552 0 1 0.448 1 1s-0.448 1-1 1z\"></path>\n",
              "</symbol>\n",
              "</defs>\n",
              "</svg>\n",
              "<style>/* CSS stylesheet for displaying xarray objects in jupyterlab.\n",
              " *\n",
              " */\n",
              "\n",
              ":root {\n",
              "  --xr-font-color0: var(--jp-content-font-color0, rgba(0, 0, 0, 1));\n",
              "  --xr-font-color2: var(--jp-content-font-color2, rgba(0, 0, 0, 0.54));\n",
              "  --xr-font-color3: var(--jp-content-font-color3, rgba(0, 0, 0, 0.38));\n",
              "  --xr-border-color: var(--jp-border-color2, #e0e0e0);\n",
              "  --xr-disabled-color: var(--jp-layout-color3, #bdbdbd);\n",
              "  --xr-background-color: var(--jp-layout-color0, white);\n",
              "  --xr-background-color-row-even: var(--jp-layout-color1, white);\n",
              "  --xr-background-color-row-odd: var(--jp-layout-color2, #eeeeee);\n",
              "}\n",
              "\n",
              "html[theme=dark],\n",
              "body.vscode-dark {\n",
              "  --xr-font-color0: rgba(255, 255, 255, 1);\n",
              "  --xr-font-color2: rgba(255, 255, 255, 0.54);\n",
              "  --xr-font-color3: rgba(255, 255, 255, 0.38);\n",
              "  --xr-border-color: #1F1F1F;\n",
              "  --xr-disabled-color: #515151;\n",
              "  --xr-background-color: #111111;\n",
              "  --xr-background-color-row-even: #111111;\n",
              "  --xr-background-color-row-odd: #313131;\n",
              "}\n",
              "\n",
              ".xr-wrap {\n",
              "  display: block;\n",
              "  min-width: 300px;\n",
              "  max-width: 700px;\n",
              "}\n",
              "\n",
              ".xr-text-repr-fallback {\n",
              "  /* fallback to plain text repr when CSS is not injected (untrusted notebook) */\n",
              "  display: none;\n",
              "}\n",
              "\n",
              ".xr-header {\n",
              "  padding-top: 6px;\n",
              "  padding-bottom: 6px;\n",
              "  margin-bottom: 4px;\n",
              "  border-bottom: solid 1px var(--xr-border-color);\n",
              "}\n",
              "\n",
              ".xr-header > div,\n",
              ".xr-header > ul {\n",
              "  display: inline;\n",
              "  margin-top: 0;\n",
              "  margin-bottom: 0;\n",
              "}\n",
              "\n",
              ".xr-obj-type,\n",
              ".xr-array-name {\n",
              "  margin-left: 2px;\n",
              "  margin-right: 10px;\n",
              "}\n",
              "\n",
              ".xr-obj-type {\n",
              "  color: var(--xr-font-color2);\n",
              "}\n",
              "\n",
              ".xr-sections {\n",
              "  padding-left: 0 !important;\n",
              "  display: grid;\n",
              "  grid-template-columns: 150px auto auto 1fr 20px 20px;\n",
              "}\n",
              "\n",
              ".xr-section-item {\n",
              "  display: contents;\n",
              "}\n",
              "\n",
              ".xr-section-item input {\n",
              "  display: none;\n",
              "}\n",
              "\n",
              ".xr-section-item input + label {\n",
              "  color: var(--xr-disabled-color);\n",
              "}\n",
              "\n",
              ".xr-section-item input:enabled + label {\n",
              "  cursor: pointer;\n",
              "  color: var(--xr-font-color2);\n",
              "}\n",
              "\n",
              ".xr-section-item input:enabled + label:hover {\n",
              "  color: var(--xr-font-color0);\n",
              "}\n",
              "\n",
              ".xr-section-summary {\n",
              "  grid-column: 1;\n",
              "  color: var(--xr-font-color2);\n",
              "  font-weight: 500;\n",
              "}\n",
              "\n",
              ".xr-section-summary > span {\n",
              "  display: inline-block;\n",
              "  padding-left: 0.5em;\n",
              "}\n",
              "\n",
              ".xr-section-summary-in:disabled + label {\n",
              "  color: var(--xr-font-color2);\n",
              "}\n",
              "\n",
              ".xr-section-summary-in + label:before {\n",
              "  display: inline-block;\n",
              "  content: '►';\n",
              "  font-size: 11px;\n",
              "  width: 15px;\n",
              "  text-align: center;\n",
              "}\n",
              "\n",
              ".xr-section-summary-in:disabled + label:before {\n",
              "  color: var(--xr-disabled-color);\n",
              "}\n",
              "\n",
              ".xr-section-summary-in:checked + label:before {\n",
              "  content: '▼';\n",
              "}\n",
              "\n",
              ".xr-section-summary-in:checked + label > span {\n",
              "  display: none;\n",
              "}\n",
              "\n",
              ".xr-section-summary,\n",
              ".xr-section-inline-details {\n",
              "  padding-top: 4px;\n",
              "  padding-bottom: 4px;\n",
              "}\n",
              "\n",
              ".xr-section-inline-details {\n",
              "  grid-column: 2 / -1;\n",
              "}\n",
              "\n",
              ".xr-section-details {\n",
              "  display: none;\n",
              "  grid-column: 1 / -1;\n",
              "  margin-bottom: 5px;\n",
              "}\n",
              "\n",
              ".xr-section-summary-in:checked ~ .xr-section-details {\n",
              "  display: contents;\n",
              "}\n",
              "\n",
              ".xr-array-wrap {\n",
              "  grid-column: 1 / -1;\n",
              "  display: grid;\n",
              "  grid-template-columns: 20px auto;\n",
              "}\n",
              "\n",
              ".xr-array-wrap > label {\n",
              "  grid-column: 1;\n",
              "  vertical-align: top;\n",
              "}\n",
              "\n",
              ".xr-preview {\n",
              "  color: var(--xr-font-color3);\n",
              "}\n",
              "\n",
              ".xr-array-preview,\n",
              ".xr-array-data {\n",
              "  padding: 0 5px !important;\n",
              "  grid-column: 2;\n",
              "}\n",
              "\n",
              ".xr-array-data,\n",
              ".xr-array-in:checked ~ .xr-array-preview {\n",
              "  display: none;\n",
              "}\n",
              "\n",
              ".xr-array-in:checked ~ .xr-array-data,\n",
              ".xr-array-preview {\n",
              "  display: inline-block;\n",
              "}\n",
              "\n",
              ".xr-dim-list {\n",
              "  display: inline-block !important;\n",
              "  list-style: none;\n",
              "  padding: 0 !important;\n",
              "  margin: 0;\n",
              "}\n",
              "\n",
              ".xr-dim-list li {\n",
              "  display: inline-block;\n",
              "  padding: 0;\n",
              "  margin: 0;\n",
              "}\n",
              "\n",
              ".xr-dim-list:before {\n",
              "  content: '(';\n",
              "}\n",
              "\n",
              ".xr-dim-list:after {\n",
              "  content: ')';\n",
              "}\n",
              "\n",
              ".xr-dim-list li:not(:last-child):after {\n",
              "  content: ',';\n",
              "  padding-right: 5px;\n",
              "}\n",
              "\n",
              ".xr-has-index {\n",
              "  font-weight: bold;\n",
              "}\n",
              "\n",
              ".xr-var-list,\n",
              ".xr-var-item {\n",
              "  display: contents;\n",
              "}\n",
              "\n",
              ".xr-var-item > div,\n",
              ".xr-var-item label,\n",
              ".xr-var-item > .xr-var-name span {\n",
              "  background-color: var(--xr-background-color-row-even);\n",
              "  margin-bottom: 0;\n",
              "}\n",
              "\n",
              ".xr-var-item > .xr-var-name:hover span {\n",
              "  padding-right: 5px;\n",
              "}\n",
              "\n",
              ".xr-var-list > li:nth-child(odd) > div,\n",
              ".xr-var-list > li:nth-child(odd) > label,\n",
              ".xr-var-list > li:nth-child(odd) > .xr-var-name span {\n",
              "  background-color: var(--xr-background-color-row-odd);\n",
              "}\n",
              "\n",
              ".xr-var-name {\n",
              "  grid-column: 1;\n",
              "}\n",
              "\n",
              ".xr-var-dims {\n",
              "  grid-column: 2;\n",
              "}\n",
              "\n",
              ".xr-var-dtype {\n",
              "  grid-column: 3;\n",
              "  text-align: right;\n",
              "  color: var(--xr-font-color2);\n",
              "}\n",
              "\n",
              ".xr-var-preview {\n",
              "  grid-column: 4;\n",
              "}\n",
              "\n",
              ".xr-var-name,\n",
              ".xr-var-dims,\n",
              ".xr-var-dtype,\n",
              ".xr-preview,\n",
              ".xr-attrs dt {\n",
              "  white-space: nowrap;\n",
              "  overflow: hidden;\n",
              "  text-overflow: ellipsis;\n",
              "  padding-right: 10px;\n",
              "}\n",
              "\n",
              ".xr-var-name:hover,\n",
              ".xr-var-dims:hover,\n",
              ".xr-var-dtype:hover,\n",
              ".xr-attrs dt:hover {\n",
              "  overflow: visible;\n",
              "  width: auto;\n",
              "  z-index: 1;\n",
              "}\n",
              "\n",
              ".xr-var-attrs,\n",
              ".xr-var-data {\n",
              "  display: none;\n",
              "  background-color: var(--xr-background-color) !important;\n",
              "  padding-bottom: 5px !important;\n",
              "}\n",
              "\n",
              ".xr-var-attrs-in:checked ~ .xr-var-attrs,\n",
              ".xr-var-data-in:checked ~ .xr-var-data {\n",
              "  display: block;\n",
              "}\n",
              "\n",
              ".xr-var-data > table {\n",
              "  float: right;\n",
              "}\n",
              "\n",
              ".xr-var-name span,\n",
              ".xr-var-data,\n",
              ".xr-attrs {\n",
              "  padding-left: 25px !important;\n",
              "}\n",
              "\n",
              ".xr-attrs,\n",
              ".xr-var-attrs,\n",
              ".xr-var-data {\n",
              "  grid-column: 1 / -1;\n",
              "}\n",
              "\n",
              "dl.xr-attrs {\n",
              "  padding: 0;\n",
              "  margin: 0;\n",
              "  display: grid;\n",
              "  grid-template-columns: 125px auto;\n",
              "}\n",
              "\n",
              ".xr-attrs dt,\n",
              ".xr-attrs dd {\n",
              "  padding: 0;\n",
              "  margin: 0;\n",
              "  float: left;\n",
              "  padding-right: 10px;\n",
              "  width: auto;\n",
              "}\n",
              "\n",
              ".xr-attrs dt {\n",
              "  font-weight: normal;\n",
              "  grid-column: 1;\n",
              "}\n",
              "\n",
              ".xr-attrs dt:hover span {\n",
              "  display: inline-block;\n",
              "  background: var(--xr-background-color);\n",
              "  padding-right: 10px;\n",
              "}\n",
              "\n",
              ".xr-attrs dd {\n",
              "  grid-column: 2;\n",
              "  white-space: pre-wrap;\n",
              "  word-break: break-all;\n",
              "}\n",
              "\n",
              ".xr-icon-database,\n",
              ".xr-icon-file-text2 {\n",
              "  display: inline-block;\n",
              "  vertical-align: middle;\n",
              "  width: 1em;\n",
              "  height: 1.5em !important;\n",
              "  stroke-width: 0;\n",
              "  stroke: currentColor;\n",
              "  fill: currentColor;\n",
              "}\n",
              "</style><pre class='xr-text-repr-fallback'>&lt;xarray.DataArray &#x27;lat&#x27; (x: 400)&gt;\n",
              "array([32.375427, 32.375427, 32.375427, ..., 32.375427, 32.375427, 32.375427],\n",
              "      dtype=float32)\n",
              "Coordinates:\n",
              "    lat      (x) float32 32.38 32.38 32.38 32.38 ... 32.38 32.38 32.38 32.38\n",
              "    lon      (x) float32 -99.88 -99.62 -99.38 -99.12 ... -0.625 -0.375 -0.125\n",
              "  * x        (x) float64 -99.87 -99.62 -99.36 -99.11 ... 0.02098 0.2693 0.5177\n",
              "    y        float64 32.38\n",
              "    year     int32 2001\n",
              "Attributes:\n",
              "    bounds:         lat_bnds\n",
              "    cell_methods:   y: point x: point\n",
              "    long_name:      latitude\n",
              "    standard_name:  latitude\n",
              "    units:          degrees_north</pre><div class='xr-wrap' hidden><div class='xr-header'><div class='xr-obj-type'>xarray.DataArray</div><div class='xr-array-name'>'lat'</div><ul class='xr-dim-list'><li><span class='xr-has-index'>x</span>: 400</li></ul></div><ul class='xr-sections'><li class='xr-section-item'><div class='xr-array-wrap'><input id='section-2ca1c56d-7ac8-4990-9d74-0005187f0d9e' class='xr-array-in' type='checkbox' checked><label for='section-2ca1c56d-7ac8-4990-9d74-0005187f0d9e' title='Show/hide data repr'><svg class='icon xr-icon-database'><use xlink:href='#icon-database'></use></svg></label><div class='xr-array-preview xr-preview'><span>32.38 32.38 32.38 32.38 32.38 32.38 ... 32.38 32.38 32.38 32.38 32.38</span></div><div class='xr-array-data'><pre>array([32.375427, 32.375427, 32.375427, ..., 32.375427, 32.375427, 32.375427],\n",
              "      dtype=float32)</pre></div></div></li><li class='xr-section-item'><input id='section-f6c1900a-b6f1-4955-858c-a90ffbe8c0c7' class='xr-section-summary-in' type='checkbox'  checked><label for='section-f6c1900a-b6f1-4955-858c-a90ffbe8c0c7' class='xr-section-summary' >Coordinates: <span>(5)</span></label><div class='xr-section-inline-details'></div><div class='xr-section-details'><ul class='xr-var-list'><li class='xr-var-item'><div class='xr-var-name'><span>lat</span></div><div class='xr-var-dims'>(x)</div><div class='xr-var-dtype'>float32</div><div class='xr-var-preview xr-preview'>32.38 32.38 32.38 ... 32.38 32.38</div><input id='attrs-b441301d-fc17-4fbe-a987-98e960aa0ecf' class='xr-var-attrs-in' type='checkbox' ><label for='attrs-b441301d-fc17-4fbe-a987-98e960aa0ecf' title='Show/Hide attributes'><svg class='icon xr-icon-file-text2'><use xlink:href='#icon-file-text2'></use></svg></label><input id='data-c0e210af-3a44-43eb-8474-b43d5ea50b87' class='xr-var-data-in' type='checkbox'><label for='data-c0e210af-3a44-43eb-8474-b43d5ea50b87' title='Show/Hide data repr'><svg class='icon xr-icon-database'><use xlink:href='#icon-database'></use></svg></label><div class='xr-var-attrs'><dl class='xr-attrs'><dt><span>bounds :</span></dt><dd>lat_bnds</dd><dt><span>cell_methods :</span></dt><dd>y: point x: point</dd><dt><span>long_name :</span></dt><dd>latitude</dd><dt><span>standard_name :</span></dt><dd>latitude</dd><dt><span>units :</span></dt><dd>degrees_north</dd></dl></div><div class='xr-var-data'><pre>array([32.375427, 32.375427, 32.375427, ..., 32.375427, 32.375427, 32.375427],\n",
              "      dtype=float32)</pre></div></li><li class='xr-var-item'><div class='xr-var-name'><span>lon</span></div><div class='xr-var-dims'>(x)</div><div class='xr-var-dtype'>float32</div><div class='xr-var-preview xr-preview'>-99.88 -99.62 ... -0.375 -0.125</div><input id='attrs-a846fab1-4d91-4262-80c0-40c60324cf7d' class='xr-var-attrs-in' type='checkbox' ><label for='attrs-a846fab1-4d91-4262-80c0-40c60324cf7d' title='Show/Hide attributes'><svg class='icon xr-icon-file-text2'><use xlink:href='#icon-file-text2'></use></svg></label><input id='data-10c58995-8150-480e-8cdb-41296a6ccbe3' class='xr-var-data-in' type='checkbox'><label for='data-10c58995-8150-480e-8cdb-41296a6ccbe3' title='Show/Hide data repr'><svg class='icon xr-icon-database'><use xlink:href='#icon-database'></use></svg></label><div class='xr-var-attrs'><dl class='xr-attrs'><dt><span>bounds :</span></dt><dd>lon_bnds</dd><dt><span>cell_methods :</span></dt><dd>y: point x: point</dd><dt><span>long_name :</span></dt><dd>longitude</dd><dt><span>standard_name :</span></dt><dd>longitude</dd><dt><span>units :</span></dt><dd>degrees_east</dd></dl></div><div class='xr-var-data'><pre>array([-99.875, -99.625, -99.375, ...,  -0.625,  -0.375,  -0.125],\n",
              "      dtype=float32)</pre></div></li><li class='xr-var-item'><div class='xr-var-name'><span class='xr-has-index'>x</span></div><div class='xr-var-dims'>(x)</div><div class='xr-var-dtype'>float64</div><div class='xr-var-preview xr-preview'>-99.87 -99.62 ... 0.2693 0.5177</div><input id='attrs-a1bafc6f-2bd5-46c0-a519-55f1e9cd8835' class='xr-var-attrs-in' type='checkbox' ><label for='attrs-a1bafc6f-2bd5-46c0-a519-55f1e9cd8835' title='Show/Hide attributes'><svg class='icon xr-icon-file-text2'><use xlink:href='#icon-file-text2'></use></svg></label><input id='data-9a0a269c-0b9f-408d-87b7-3c5bb3f590fb' class='xr-var-data-in' type='checkbox'><label for='data-9a0a269c-0b9f-408d-87b7-3c5bb3f590fb' title='Show/Hide data repr'><svg class='icon xr-icon-database'><use xlink:href='#icon-database'></use></svg></label><div class='xr-var-attrs'><dl class='xr-attrs'><dt><span>axis :</span></dt><dd>X</dd><dt><span>long_name :</span></dt><dd>x coordinate of projection</dd><dt><span>standard_name :</span></dt><dd>projection_x_coordinate</dd><dt><span>units :</span></dt><dd>degrees</dd></dl></div><div class='xr-var-data'><pre>array([-9.987285e+01, -9.961855e+01, -9.936425e+01, ...,  2.098417e-02,\n",
              "        2.693434e-01,  5.176932e-01])</pre></div></li><li class='xr-var-item'><div class='xr-var-name'><span>y</span></div><div class='xr-var-dims'>()</div><div class='xr-var-dtype'>float64</div><div class='xr-var-preview xr-preview'>32.38</div><input id='attrs-ca3a1722-adaa-4c11-9953-22ff33b8e2e9' class='xr-var-attrs-in' type='checkbox' ><label for='attrs-ca3a1722-adaa-4c11-9953-22ff33b8e2e9' title='Show/Hide attributes'><svg class='icon xr-icon-file-text2'><use xlink:href='#icon-file-text2'></use></svg></label><input id='data-72913318-8b26-489c-ac4b-36e1e6b2034d' class='xr-var-data-in' type='checkbox'><label for='data-72913318-8b26-489c-ac4b-36e1e6b2034d' title='Show/Hide data repr'><svg class='icon xr-icon-database'><use xlink:href='#icon-database'></use></svg></label><div class='xr-var-attrs'><dl class='xr-attrs'><dt><span>axis :</span></dt><dd>Y</dd><dt><span>long_name :</span></dt><dd>y coordinate of projection</dd><dt><span>standard_name :</span></dt><dd>projection_y_coordinate</dd><dt><span>units :</span></dt><dd>degrees</dd></dl></div><div class='xr-var-data'><pre>array(32.375425)</pre></div></li><li class='xr-var-item'><div class='xr-var-name'><span>year</span></div><div class='xr-var-dims'>()</div><div class='xr-var-dtype'>int32</div><div class='xr-var-preview xr-preview'>2001</div><input id='attrs-873fe07b-8b7d-4040-88e7-2a4f512a1c72' class='xr-var-attrs-in' type='checkbox' disabled><label for='attrs-873fe07b-8b7d-4040-88e7-2a4f512a1c72' title='Show/Hide attributes'><svg class='icon xr-icon-file-text2'><use xlink:href='#icon-file-text2'></use></svg></label><input id='data-2ca9815d-3b40-4aa8-8dbb-5c5e0ef0ca12' class='xr-var-data-in' type='checkbox'><label for='data-2ca9815d-3b40-4aa8-8dbb-5c5e0ef0ca12' title='Show/Hide data repr'><svg class='icon xr-icon-database'><use xlink:href='#icon-database'></use></svg></label><div class='xr-var-attrs'><dl class='xr-attrs'></dl></div><div class='xr-var-data'><pre>array(2001, dtype=int32)</pre></div></li></ul></div></li><li class='xr-section-item'><input id='section-29412ad9-f749-4575-8a66-aff0f3db2583' class='xr-section-summary-in' type='checkbox'  checked><label for='section-29412ad9-f749-4575-8a66-aff0f3db2583' class='xr-section-summary' >Attributes: <span>(5)</span></label><div class='xr-section-inline-details'></div><div class='xr-section-details'><dl class='xr-attrs'><dt><span>bounds :</span></dt><dd>lat_bnds</dd><dt><span>cell_methods :</span></dt><dd>y: point x: point</dd><dt><span>long_name :</span></dt><dd>latitude</dd><dt><span>standard_name :</span></dt><dd>latitude</dd><dt><span>units :</span></dt><dd>degrees_north</dd></dl></div></li></ul></div></div>"
            ],
            "text/plain": [
              "<xarray.DataArray 'lat' (x: 400)>\n",
              "array([32.375427, 32.375427, 32.375427, ..., 32.375427, 32.375427, 32.375427],\n",
              "      dtype=float32)\n",
              "Coordinates:\n",
              "    lat      (x) float32 32.38 32.38 32.38 32.38 ... 32.38 32.38 32.38 32.38\n",
              "    lon      (x) float32 -99.88 -99.62 -99.38 -99.12 ... -0.625 -0.375 -0.125\n",
              "  * x        (x) float64 -99.87 -99.62 -99.36 -99.11 ... 0.02098 0.2693 0.5177\n",
              "    y        float64 32.38\n",
              "    year     int32 2001\n",
              "Attributes:\n",
              "    bounds:         lat_bnds\n",
              "    cell_methods:   y: point x: point\n",
              "    long_name:      latitude\n",
              "    standard_name:  latitude\n",
              "    units:          degrees_north"
            ]
          },
          "metadata": {
            "tags": []
          },
          "execution_count": 9
        }
      ]
    },
    {
      "cell_type": "markdown",
      "metadata": {
        "id": "ZBAcGQX3v0JE"
      },
      "source": [
        "Ssect_2000.nc dataset consist of salinity, levels, longitudes and latitude"
      ]
    },
    {
      "cell_type": "code",
      "metadata": {
        "colab": {
          "base_uri": "https://localhost:8080/",
          "height": 444
        },
        "id": "xOsnLiJTFcvF",
        "outputId": "c0a69854-074a-4f67-cd3c-4036fa6e2df8"
      },
      "source": [
        "plt.figure(figsize=(9,7))\n",
        "plt.title('Salinity')\n",
        "plt.pcolormesh(ds.x, -ds.lev, ds.so);plt.colorbar();"
      ],
      "execution_count": null,
      "outputs": [
        {
          "output_type": "display_data",
          "data": {
            "image/png": "[encoded data removed]",
            "text/plain": [
              "<Figure size 648x504 with 2 Axes>"
            ]
          },
          "metadata": {
            "tags": [],
            "needs_background": "light"
          }
        }
      ]
    },
    {
      "cell_type": "markdown",
      "metadata": {
        "id": "toT2wxf2vhh7"
      },
      "source": [
        "This plot shows the salinity. We can see the more salinity caused Mediterranean near to Gibraltar.\n"
      ]
    },
    {
      "cell_type": "markdown",
      "metadata": {
        "id": "JllcNRp8wJat"
      },
      "source": [
        "Tauxsect_2000.nc dataset has wind stresses"
      ]
    },
    {
      "cell_type": "code",
      "metadata": {
        "colab": {
          "base_uri": "https://localhost:8080/",
          "height": 516
        },
        "id": "ZlMgh62SF8ZB",
        "outputId": "b09d9d87-2ed9-4a8f-92c3-f5f4cc77b4f4"
      },
      "source": [
        "plt.figure(figsize=(10,8))\n",
        "plt.title('Wind Stress')\n",
        "plt.plot(dt.tauuo)"
      ],
      "execution_count": null,
      "outputs": [
        {
          "output_type": "execute_result",
          "data": {
            "text/plain": [
              "[<matplotlib.lines.Line2D at 0x7fa1c32fce90>]"
            ]
          },
          "metadata": {
            "tags": []
          },
          "execution_count": 11
        },
        {
          "output_type": "display_data",
          "data": {
            "image/png": "[encoded data removed]",
            "text/plain": [
              "<Figure size 720x576 with 1 Axes>"
            ]
          },
          "metadata": {
            "tags": [],
            "needs_background": "light"
          }
        }
      ]
    },
    {
      "cell_type": "markdown",
      "metadata": {
        "id": "FZGX8D0tINUo"
      },
      "source": [
        "## Density Graph"
      ]
    },
    {
      "cell_type": "markdown",
      "metadata": {
        "id": "sJyH4ZPVwS4j"
      },
      "source": [
        "We can calculate densities of given locations. For this, we need pressure, salinity and temperature. We have salinity and temperature in given datasets but we don't have pressure informations. We can calculate pressure from levels. \"gsw\" library has functions to calculate them. Therefore now we install and import the library."
      ]
    },
    {
      "cell_type": "code",
      "metadata": {
        "colab": {
          "base_uri": "https://localhost:8080/"
        },
        "id": "P-nUhj1QIMiE",
        "outputId": "50ee7bb7-7e28-4ea0-cb11-746949c8f235"
      },
      "source": [
        "!pip install gsw"
      ],
      "execution_count": null,
      "outputs": [
        {
          "output_type": "stream",
          "text": [
            "Collecting gsw\n",
            "\u001b[?25l  Downloading https://files.pythonhosted.org/packages/72/33/c3ec417e4cd1cc7f8039ce75f92f67010cca7f46a505906e32be2b33f008/gsw-3.4.0-cp37-cp37m-manylinux2010_x86_64.whl (2.4MB)\n",
            "\r\u001b[K     |▏                               | 10kB 16.7MB/s eta 0:00:01\r\u001b[K     |▎                               | 20kB 23.1MB/s eta 0:00:01\r\u001b[K     |▍                               | 30kB 28.7MB/s eta 0:00:01\r\u001b[K     |▋                               | 40kB 17.9MB/s eta 0:00:01\r\u001b[K     |▊                               | 51kB 14.2MB/s eta 0:00:01\r\u001b[K     |▉                               | 61kB 12.0MB/s eta 0:00:01\r\u001b[K     |█                               | 71kB 13.3MB/s eta 0:00:01\r\u001b[K     |█▏                              | 81kB 13.0MB/s eta 0:00:01\r\u001b[K     |█▎                              | 92kB 12.0MB/s eta 0:00:01\r\u001b[K     |█▍                              | 102kB 13.0MB/s eta 0:00:01\r\u001b[K     |█▌                              | 112kB 13.0MB/s eta 0:00:01\r\u001b[K     |█▊                              | 122kB 13.0MB/s eta 0:00:01\r\u001b[K     |█▉                              | 133kB 13.0MB/s eta 0:00:01\r\u001b[K     |██                              | 143kB 13.0MB/s eta 0:00:01\r\u001b[K     |██                              | 153kB 13.0MB/s eta 0:00:01\r\u001b[K     |██▎                             | 163kB 13.0MB/s eta 0:00:01\r\u001b[K     |██▍                             | 174kB 13.0MB/s eta 0:00:01\r\u001b[K     |██▌                             | 184kB 13.0MB/s eta 0:00:01\r\u001b[K     |██▋                             | 194kB 13.0MB/s eta 0:00:01\r\u001b[K     |██▉                             | 204kB 13.0MB/s eta 0:00:01\r\u001b[K     |███                             | 215kB 13.0MB/s eta 0:00:01\r\u001b[K     |███                             | 225kB 13.0MB/s eta 0:00:01\r\u001b[K     |███▏                            | 235kB 13.0MB/s eta 0:00:01\r\u001b[K     |███▍                            | 245kB 13.0MB/s eta 0:00:01\r\u001b[K     |███▌                            | 256kB 13.0MB/s eta 0:00:01\r\u001b[K     |███▋                            | 266kB 13.0MB/s eta 0:00:01\r\u001b[K     |███▊                            | 276kB 13.0MB/s eta 0:00:01\r\u001b[K     |████                            | 286kB 13.0MB/s eta 0:00:01\r\u001b[K     |████                            | 296kB 13.0MB/s eta 0:00:01\r\u001b[K     |████▏                           | 307kB 13.0MB/s eta 0:00:01\r\u001b[K     |████▎                           | 317kB 13.0MB/s eta 0:00:01\r\u001b[K     |████▌                           | 327kB 13.0MB/s eta 0:00:01\r\u001b[K     |████▋                           | 337kB 13.0MB/s eta 0:00:01\r\u001b[K     |████▊                           | 348kB 13.0MB/s eta 0:00:01\r\u001b[K     |████▉                           | 358kB 13.0MB/s eta 0:00:01\r\u001b[K     |█████                           | 368kB 13.0MB/s eta 0:00:01\r\u001b[K     |█████▏                          | 378kB 13.0MB/s eta 0:00:01\r\u001b[K     |█████▎                          | 389kB 13.0MB/s eta 0:00:01\r\u001b[K     |█████▍                          | 399kB 13.0MB/s eta 0:00:01\r\u001b[K     |█████▋                          | 409kB 13.0MB/s eta 0:00:01\r\u001b[K     |█████▊                          | 419kB 13.0MB/s eta 0:00:01\r\u001b[K     |█████▉                          | 430kB 13.0MB/s eta 0:00:01\r\u001b[K     |██████                          | 440kB 13.0MB/s eta 0:00:01\r\u001b[K     |██████▏                         | 450kB 13.0MB/s eta 0:00:01\r\u001b[K     |██████▎                         | 460kB 13.0MB/s eta 0:00:01\r\u001b[K     |██████▍                         | 471kB 13.0MB/s eta 0:00:01\r\u001b[K     |██████▌                         | 481kB 13.0MB/s eta 0:00:01\r\u001b[K     |██████▊                         | 491kB 13.0MB/s eta 0:00:01\r\u001b[K     |██████▉                         | 501kB 13.0MB/s eta 0:00:01\r\u001b[K     |███████                         | 512kB 13.0MB/s eta 0:00:01\r\u001b[K     |███████                         | 522kB 13.0MB/s eta 0:00:01\r\u001b[K     |███████▎                        | 532kB 13.0MB/s eta 0:00:01\r\u001b[K     |███████▍                        | 542kB 13.0MB/s eta 0:00:01\r\u001b[K     |███████▌                        | 552kB 13.0MB/s eta 0:00:01\r\u001b[K     |███████▋                        | 563kB 13.0MB/s eta 0:00:01\r\u001b[K     |███████▉                        | 573kB 13.0MB/s eta 0:00:01\r\u001b[K     |████████                        | 583kB 13.0MB/s eta 0:00:01\r\u001b[K     |████████                        | 593kB 13.0MB/s eta 0:00:01\r\u001b[K     |████████▎                       | 604kB 13.0MB/s eta 0:00:01\r\u001b[K     |████████▍                       | 614kB 13.0MB/s eta 0:00:01\r\u001b[K     |████████▌                       | 624kB 13.0MB/s eta 0:00:01\r\u001b[K     |████████▋                       | 634kB 13.0MB/s eta 0:00:01\r\u001b[K     |████████▉                       | 645kB 13.0MB/s eta 0:00:01\r\u001b[K     |█████████                       | 655kB 13.0MB/s eta 0:00:01\r\u001b[K     |█████████                       | 665kB 13.0MB/s eta 0:00:01\r\u001b[K     |█████████▏                      | 675kB 13.0MB/s eta 0:00:01\r\u001b[K     |█████████▍                      | 686kB 13.0MB/s eta 0:00:01\r\u001b[K     |█████████▌                      | 696kB 13.0MB/s eta 0:00:01\r\u001b[K     |█████████▋                      | 706kB 13.0MB/s eta 0:00:01\r\u001b[K     |█████████▊                      | 716kB 13.0MB/s eta 0:00:01\r\u001b[K     |██████████                      | 727kB 13.0MB/s eta 0:00:01\r\u001b[K     |██████████                      | 737kB 13.0MB/s eta 0:00:01\r\u001b[K     |██████████▏                     | 747kB 13.0MB/s eta 0:00:01\r\u001b[K     |██████████▎                     | 757kB 13.0MB/s eta 0:00:01\r\u001b[K     |██████████▌                     | 768kB 13.0MB/s eta 0:00:01\r\u001b[K     |██████████▋                     | 778kB 13.0MB/s eta 0:00:01\r\u001b[K     |██████████▊                     | 788kB 13.0MB/s eta 0:00:01\r\u001b[K     |██████████▉                     | 798kB 13.0MB/s eta 0:00:01\r\u001b[K     |███████████                     | 808kB 13.0MB/s eta 0:00:01\r\u001b[K     |███████████▏                    | 819kB 13.0MB/s eta 0:00:01\r\u001b[K     |███████████▎                    | 829kB 13.0MB/s eta 0:00:01\r\u001b[K     |███████████▍                    | 839kB 13.0MB/s eta 0:00:01\r\u001b[K     |███████████▋                    | 849kB 13.0MB/s eta 0:00:01\r\u001b[K     |███████████▊                    | 860kB 13.0MB/s eta 0:00:01\r\u001b[K     |███████████▉                    | 870kB 13.0MB/s eta 0:00:01\r\u001b[K     |████████████                    | 880kB 13.0MB/s eta 0:00:01\r\u001b[K     |████████████▏                   | 890kB 13.0MB/s eta 0:00:01\r\u001b[K     |████████████▎                   | 901kB 13.0MB/s eta 0:00:01\r\u001b[K     |████████████▍                   | 911kB 13.0MB/s eta 0:00:01\r\u001b[K     |████████████▌                   | 921kB 13.0MB/s eta 0:00:01\r\u001b[K     |████████████▊                   | 931kB 13.0MB/s eta 0:00:01\r\u001b[K     |████████████▉                   | 942kB 13.0MB/s eta 0:00:01\r\u001b[K     |█████████████                   | 952kB 13.0MB/s eta 0:00:01\r\u001b[K     |█████████████                   | 962kB 13.0MB/s eta 0:00:01\r\u001b[K     |█████████████▎                  | 972kB 13.0MB/s eta 0:00:01\r\u001b[K     |█████████████▍                  | 983kB 13.0MB/s eta 0:00:01\r\u001b[K     |█████████████▌                  | 993kB 13.0MB/s eta 0:00:01\r\u001b[K     |█████████████▋                  | 1.0MB 13.0MB/s eta 0:00:01\r\u001b[K     |█████████████▉                  | 1.0MB 13.0MB/s eta 0:00:01\r\u001b[K     |██████████████                  | 1.0MB 13.0MB/s eta 0:00:01\r\u001b[K     |██████████████                  | 1.0MB 13.0MB/s eta 0:00:01\r\u001b[K     |██████████████▏                 | 1.0MB 13.0MB/s eta 0:00:01\r\u001b[K     |██████████████▍                 | 1.1MB 13.0MB/s eta 0:00:01\r\u001b[K     |██████████████▌                 | 1.1MB 13.0MB/s eta 0:00:01\r\u001b[K     |██████████████▋                 | 1.1MB 13.0MB/s eta 0:00:01\r\u001b[K     |██████████████▊                 | 1.1MB 13.0MB/s eta 0:00:01\r\u001b[K     |███████████████                 | 1.1MB 13.0MB/s eta 0:00:01\r\u001b[K     |███████████████                 | 1.1MB 13.0MB/s eta 0:00:01\r\u001b[K     |███████████████▏                | 1.1MB 13.0MB/s eta 0:00:01\r\u001b[K     |███████████████▎                | 1.1MB 13.0MB/s eta 0:00:01\r\u001b[K     |███████████████▌                | 1.1MB 13.0MB/s eta 0:00:01\r\u001b[K     |███████████████▋                | 1.1MB 13.0MB/s eta 0:00:01\r\u001b[K     |███████████████▊                | 1.2MB 13.0MB/s eta 0:00:01\r\u001b[K     |████████████████                | 1.2MB 13.0MB/s eta 0:00:01\r\u001b[K     |████████████████                | 1.2MB 13.0MB/s eta 0:00:01\r\u001b[K     |████████████████▏               | 1.2MB 13.0MB/s eta 0:00:01\r\u001b[K     |████████████████▎               | 1.2MB 13.0MB/s eta 0:00:01\r\u001b[K     |████████████████▌               | 1.2MB 13.0MB/s eta 0:00:01\r\u001b[K     |████████████████▋               | 1.2MB 13.0MB/s eta 0:00:01\r\u001b[K     |████████████████▊               | 1.2MB 13.0MB/s eta 0:00:01\r\u001b[K     |████████████████▉               | 1.2MB 13.0MB/s eta 0:00:01\r\u001b[K     |█████████████████               | 1.2MB 13.0MB/s eta 0:00:01\r\u001b[K     |█████████████████▏              | 1.3MB 13.0MB/s eta 0:00:01\r\u001b[K     |█████████████████▎              | 1.3MB 13.0MB/s eta 0:00:01\r\u001b[K     |█████████████████▍              | 1.3MB 13.0MB/s eta 0:00:01\r\u001b[K     |█████████████████▋              | 1.3MB 13.0MB/s eta 0:00:01\r\u001b[K     |█████████████████▊              | 1.3MB 13.0MB/s eta 0:00:01\r\u001b[K     |█████████████████▉              | 1.3MB 13.0MB/s eta 0:00:01\r\u001b[K     |██████████████████              | 1.3MB 13.0MB/s eta 0:00:01\r\u001b[K     |██████████████████▏             | 1.3MB 13.0MB/s eta 0:00:01\r\u001b[K     |██████████████████▎             | 1.3MB 13.0MB/s eta 0:00:01\r\u001b[K     |██████████████████▍             | 1.4MB 13.0MB/s eta 0:00:01\r\u001b[K     |██████████████████▌             | 1.4MB 13.0MB/s eta 0:00:01\r\u001b[K     |██████████████████▊             | 1.4MB 13.0MB/s eta 0:00:01\r\u001b[K     |██████████████████▉             | 1.4MB 13.0MB/s eta 0:00:01\r\u001b[K     |███████████████████             | 1.4MB 13.0MB/s eta 0:00:01\r\u001b[K     |███████████████████             | 1.4MB 13.0MB/s eta 0:00:01\r\u001b[K     |███████████████████▎            | 1.4MB 13.0MB/s eta 0:00:01\r\u001b[K     |███████████████████▍            | 1.4MB 13.0MB/s eta 0:00:01\r\u001b[K     |███████████████████▌            | 1.4MB 13.0MB/s eta 0:00:01\r\u001b[K     |███████████████████▋            | 1.4MB 13.0MB/s eta 0:00:01\r\u001b[K     |███████████████████▉            | 1.5MB 13.0MB/s eta 0:00:01\r\u001b[K     |████████████████████            | 1.5MB 13.0MB/s eta 0:00:01\r\u001b[K     |████████████████████            | 1.5MB 13.0MB/s eta 0:00:01\r\u001b[K     |████████████████████▏           | 1.5MB 13.0MB/s eta 0:00:01\r\u001b[K     |████████████████████▍           | 1.5MB 13.0MB/s eta 0:00:01\r\u001b[K     |████████████████████▌           | 1.5MB 13.0MB/s eta 0:00:01\r\u001b[K     |████████████████████▋           | 1.5MB 13.0MB/s eta 0:00:01\r\u001b[K     |████████████████████▊           | 1.5MB 13.0MB/s eta 0:00:01\r\u001b[K     |█████████████████████           | 1.5MB 13.0MB/s eta 0:00:01\r\u001b[K     |█████████████████████           | 1.5MB 13.0MB/s eta 0:00:01\r\u001b[K     |█████████████████████▏          | 1.6MB 13.0MB/s eta 0:00:01\r\u001b[K     |█████████████████████▎          | 1.6MB 13.0MB/s eta 0:00:01\r\u001b[K     |█████████████████████▌          | 1.6MB 13.0MB/s eta 0:00:01\r\u001b[K     |█████████████████████▋          | 1.6MB 13.0MB/s eta 0:00:01\r\u001b[K     |█████████████████████▊          | 1.6MB 13.0MB/s eta 0:00:01\r\u001b[K     |█████████████████████▉          | 1.6MB 13.0MB/s eta 0:00:01\r\u001b[K     |██████████████████████          | 1.6MB 13.0MB/s eta 0:00:01\r\u001b[K     |██████████████████████▏         | 1.6MB 13.0MB/s eta 0:00:01\r\u001b[K     |██████████████████████▎         | 1.6MB 13.0MB/s eta 0:00:01\r\u001b[K     |██████████████████████▍         | 1.6MB 13.0MB/s eta 0:00:01\r\u001b[K     |██████████████████████▋         | 1.7MB 13.0MB/s eta 0:00:01\r\u001b[K     |██████████████████████▊         | 1.7MB 13.0MB/s eta 0:00:01\r\u001b[K     |██████████████████████▉         | 1.7MB 13.0MB/s eta 0:00:01\r\u001b[K     |███████████████████████         | 1.7MB 13.0MB/s eta 0:00:01\r\u001b[K     |███████████████████████▏        | 1.7MB 13.0MB/s eta 0:00:01\r\u001b[K     |███████████████████████▎        | 1.7MB 13.0MB/s eta 0:00:01\r\u001b[K     |███████████████████████▍        | 1.7MB 13.0MB/s eta 0:00:01\r\u001b[K     |███████████████████████▌        | 1.7MB 13.0MB/s eta 0:00:01\r\u001b[K     |███████████████████████▊        | 1.7MB 13.0MB/s eta 0:00:01\r\u001b[K     |███████████████████████▉        | 1.8MB 13.0MB/s eta 0:00:01\r\u001b[K     |████████████████████████        | 1.8MB 13.0MB/s eta 0:00:01\r\u001b[K     |████████████████████████▏       | 1.8MB 13.0MB/s eta 0:00:01\r\u001b[K     |████████████████████████▎       | 1.8MB 13.0MB/s eta 0:00:01\r\u001b[K     |████████████████████████▍       | 1.8MB 13.0MB/s eta 0:00:01\r\u001b[K     |████████████████████████▌       | 1.8MB 13.0MB/s eta 0:00:01\r\u001b[K     |████████████████████████▊       | 1.8MB 13.0MB/s eta 0:00:01\r\u001b[K     |████████████████████████▉       | 1.8MB 13.0MB/s eta 0:00:01\r\u001b[K     |█████████████████████████       | 1.8MB 13.0MB/s eta 0:00:01\r\u001b[K     |█████████████████████████       | 1.8MB 13.0MB/s eta 0:00:01\r\u001b[K     |█████████████████████████▎      | 1.9MB 13.0MB/s eta 0:00:01\r\u001b[K     |█████████████████████████▍      | 1.9MB 13.0MB/s eta 0:00:01\r\u001b[K     |█████████████████████████▌      | 1.9MB 13.0MB/s eta 0:00:01\r\u001b[K     |█████████████████████████▋      | 1.9MB 13.0MB/s eta 0:00:01\r\u001b[K     |█████████████████████████▉      | 1.9MB 13.0MB/s eta 0:00:01\r\u001b[K     |██████████████████████████      | 1.9MB 13.0MB/s eta 0:00:01\r\u001b[K     |██████████████████████████      | 1.9MB 13.0MB/s eta 0:00:01\r\u001b[K     |██████████████████████████▏     | 1.9MB 13.0MB/s eta 0:00:01\r\u001b[K     |██████████████████████████▍     | 1.9MB 13.0MB/s eta 0:00:01\r\u001b[K     |██████████████████████████▌     | 1.9MB 13.0MB/s eta 0:00:01\r\u001b[K     |██████████████████████████▋     | 2.0MB 13.0MB/s eta 0:00:01\r\u001b[K     |██████████████████████████▊     | 2.0MB 13.0MB/s eta 0:00:01\r\u001b[K     |███████████████████████████     | 2.0MB 13.0MB/s eta 0:00:01\r\u001b[K     |███████████████████████████     | 2.0MB 13.0MB/s eta 0:00:01\r\u001b[K     |███████████████████████████▏    | 2.0MB 13.0MB/s eta 0:00:01\r\u001b[K     |███████████████████████████▎    | 2.0MB 13.0MB/s eta 0:00:01\r\u001b[K     |███████████████████████████▌    | 2.0MB 13.0MB/s eta 0:00:01\r\u001b[K     |███████████████████████████▋    | 2.0MB 13.0MB/s eta 0:00:01\r\u001b[K     |███████████████████████████▊    | 2.0MB 13.0MB/s eta 0:00:01\r\u001b[K     |███████████████████████████▉    | 2.0MB 13.0MB/s eta 0:00:01\r\u001b[K     |████████████████████████████    | 2.1MB 13.0MB/s eta 0:00:01\r\u001b[K     |████████████████████████████▏   | 2.1MB 13.0MB/s eta 0:00:01\r\u001b[K     |████████████████████████████▎   | 2.1MB 13.0MB/s eta 0:00:01\r\u001b[K     |████████████████████████████▍   | 2.1MB 13.0MB/s eta 0:00:01\r\u001b[K     |████████████████████████████▋   | 2.1MB 13.0MB/s eta 0:00:01\r\u001b[K     |████████████████████████████▊   | 2.1MB 13.0MB/s eta 0:00:01\r\u001b[K     |████████████████████████████▉   | 2.1MB 13.0MB/s eta 0:00:01\r\u001b[K     |█████████████████████████████   | 2.1MB 13.0MB/s eta 0:00:01\r\u001b[K     |█████████████████████████████▏  | 2.1MB 13.0MB/s eta 0:00:01\r\u001b[K     |█████████████████████████████▎  | 2.2MB 13.0MB/s eta 0:00:01\r\u001b[K     |█████████████████████████████▍  | 2.2MB 13.0MB/s eta 0:00:01\r\u001b[K     |█████████████████████████████▌  | 2.2MB 13.0MB/s eta 0:00:01\r\u001b[K     |█████████████████████████████▊  | 2.2MB 13.0MB/s eta 0:00:01\r\u001b[K     |█████████████████████████████▉  | 2.2MB 13.0MB/s eta 0:00:01\r\u001b[K     |██████████████████████████████  | 2.2MB 13.0MB/s eta 0:00:01\r\u001b[K     |██████████████████████████████  | 2.2MB 13.0MB/s eta 0:00:01\r\u001b[K     |██████████████████████████████▎ | 2.2MB 13.0MB/s eta 0:00:01\r\u001b[K     |██████████████████████████████▍ | 2.2MB 13.0MB/s eta 0:00:01\r\u001b[K     |██████████████████████████████▌ | 2.2MB 13.0MB/s eta 0:00:01\r\u001b[K     |██████████████████████████████▋ | 2.3MB 13.0MB/s eta 0:00:01\r\u001b[K     |██████████████████████████████▉ | 2.3MB 13.0MB/s eta 0:00:01\r\u001b[K     |███████████████████████████████ | 2.3MB 13.0MB/s eta 0:00:01\r\u001b[K     |███████████████████████████████ | 2.3MB 13.0MB/s eta 0:00:01\r\u001b[K     |███████████████████████████████▏| 2.3MB 13.0MB/s eta 0:00:01\r\u001b[K     |███████████████████████████████▍| 2.3MB 13.0MB/s eta 0:00:01\r\u001b[K     |███████████████████████████████▌| 2.3MB 13.0MB/s eta 0:00:01\r\u001b[K     |███████████████████████████████▋| 2.3MB 13.0MB/s eta 0:00:01\r\u001b[K     |███████████████████████████████▉| 2.3MB 13.0MB/s eta 0:00:01\r\u001b[K     |████████████████████████████████| 2.3MB 13.0MB/s eta 0:00:01\r\u001b[K     |████████████████████████████████| 2.4MB 13.0MB/s \n",
            "\u001b[?25hRequirement already satisfied: numpy in /usr/local/lib/python3.7/dist-packages (from gsw) (1.19.5)\n",
            "Installing collected packages: gsw\n",
            "Successfully installed gsw-3.4.0\n"
          ],
          "name": "stdout"
        }
      ]
    },
    {
      "cell_type": "code",
      "metadata": {
        "id": "ImnSk64fKBOf"
      },
      "source": [
        "import gsw"
      ],
      "execution_count": null,
      "outputs": []
    },
    {
      "cell_type": "code",
      "metadata": {
        "colab": {
          "base_uri": "https://localhost:8080/"
        },
        "id": "izgva7GsgOZv",
        "outputId": "119193ae-fd56-4437-a9e6-4955a5cb0f84"
      },
      "source": [
        "-df.lev"
      ],
      "execution_count": null,
      "outputs": [
        {
          "output_type": "execute_result",
          "data": {
            "text/html": [
              "<div><svg style=\"position: absolute; width: 0; height: 0; overflow: hidden\">\n",
              "<defs>\n",
              "<symbol id=\"icon-database\" viewBox=\"0 0 32 32\">\n",
              "<path d=\"M16 0c-8.837 0-16 2.239-16 5v4c0 2.761 7.163 5 16 5s16-2.239 16-5v-4c0-2.761-7.163-5-16-5z\"></path>\n",
              "<path d=\"M16 17c-8.837 0-16-2.239-16-5v6c0 2.761 7.163 5 16 5s16-2.239 16-5v-6c0 2.761-7.163 5-16 5z\"></path>\n",
              "<path d=\"M16 26c-8.837 0-16-2.239-16-5v6c0 2.761 7.163 5 16 5s16-2.239 16-5v-6c0 2.761-7.163 5-16 5z\"></path>\n",
              "</symbol>\n",
              "<symbol id=\"icon-file-text2\" viewBox=\"0 0 32 32\">\n",
              "<path d=\"M28.681 7.159c-0.694-0.947-1.662-2.053-2.724-3.116s-2.169-2.030-3.116-2.724c-1.612-1.182-2.393-1.319-2.841-1.319h-15.5c-1.378 0-2.5 1.121-2.5 2.5v27c0 1.378 1.122 2.5 2.5 2.5h23c1.378 0 2.5-1.122 2.5-2.5v-19.5c0-0.448-0.137-1.23-1.319-2.841zM24.543 5.457c0.959 0.959 1.712 1.825 2.268 2.543h-4.811v-4.811c0.718 0.556 1.584 1.309 2.543 2.268zM28 29.5c0 0.271-0.229 0.5-0.5 0.5h-23c-0.271 0-0.5-0.229-0.5-0.5v-27c0-0.271 0.229-0.5 0.5-0.5 0 0 15.499-0 15.5 0v7c0 0.552 0.448 1 1 1h7v19.5z\"></path>\n",
              "<path d=\"M23 26h-14c-0.552 0-1-0.448-1-1s0.448-1 1-1h14c0.552 0 1 0.448 1 1s-0.448 1-1 1z\"></path>\n",
              "<path d=\"M23 22h-14c-0.552 0-1-0.448-1-1s0.448-1 1-1h14c0.552 0 1 0.448 1 1s-0.448 1-1 1z\"></path>\n",
              "<path d=\"M23 18h-14c-0.552 0-1-0.448-1-1s0.448-1 1-1h14c0.552 0 1 0.448 1 1s-0.448 1-1 1z\"></path>\n",
              "</symbol>\n",
              "</defs>\n",
              "</svg>\n",
              "<style>/* CSS stylesheet for displaying xarray objects in jupyterlab.\n",
              " *\n",
              " */\n",
              "\n",
              ":root {\n",
              "  --xr-font-color0: var(--jp-content-font-color0, rgba(0, 0, 0, 1));\n",
              "  --xr-font-color2: var(--jp-content-font-color2, rgba(0, 0, 0, 0.54));\n",
              "  --xr-font-color3: var(--jp-content-font-color3, rgba(0, 0, 0, 0.38));\n",
              "  --xr-border-color: var(--jp-border-color2, #e0e0e0);\n",
              "  --xr-disabled-color: var(--jp-layout-color3, #bdbdbd);\n",
              "  --xr-background-color: var(--jp-layout-color0, white);\n",
              "  --xr-background-color-row-even: var(--jp-layout-color1, white);\n",
              "  --xr-background-color-row-odd: var(--jp-layout-color2, #eeeeee);\n",
              "}\n",
              "\n",
              "html[theme=dark],\n",
              "body.vscode-dark {\n",
              "  --xr-font-color0: rgba(255, 255, 255, 1);\n",
              "  --xr-font-color2: rgba(255, 255, 255, 0.54);\n",
              "  --xr-font-color3: rgba(255, 255, 255, 0.38);\n",
              "  --xr-border-color: #1F1F1F;\n",
              "  --xr-disabled-color: #515151;\n",
              "  --xr-background-color: #111111;\n",
              "  --xr-background-color-row-even: #111111;\n",
              "  --xr-background-color-row-odd: #313131;\n",
              "}\n",
              "\n",
              ".xr-wrap {\n",
              "  display: block;\n",
              "  min-width: 300px;\n",
              "  max-width: 700px;\n",
              "}\n",
              "\n",
              ".xr-text-repr-fallback {\n",
              "  /* fallback to plain text repr when CSS is not injected (untrusted notebook) */\n",
              "  display: none;\n",
              "}\n",
              "\n",
              ".xr-header {\n",
              "  padding-top: 6px;\n",
              "  padding-bottom: 6px;\n",
              "  margin-bottom: 4px;\n",
              "  border-bottom: solid 1px var(--xr-border-color);\n",
              "}\n",
              "\n",
              ".xr-header > div,\n",
              ".xr-header > ul {\n",
              "  display: inline;\n",
              "  margin-top: 0;\n",
              "  margin-bottom: 0;\n",
              "}\n",
              "\n",
              ".xr-obj-type,\n",
              ".xr-array-name {\n",
              "  margin-left: 2px;\n",
              "  margin-right: 10px;\n",
              "}\n",
              "\n",
              ".xr-obj-type {\n",
              "  color: var(--xr-font-color2);\n",
              "}\n",
              "\n",
              ".xr-sections {\n",
              "  padding-left: 0 !important;\n",
              "  display: grid;\n",
              "  grid-template-columns: 150px auto auto 1fr 20px 20px;\n",
              "}\n",
              "\n",
              ".xr-section-item {\n",
              "  display: contents;\n",
              "}\n",
              "\n",
              ".xr-section-item input {\n",
              "  display: none;\n",
              "}\n",
              "\n",
              ".xr-section-item input + label {\n",
              "  color: var(--xr-disabled-color);\n",
              "}\n",
              "\n",
              ".xr-section-item input:enabled + label {\n",
              "  cursor: pointer;\n",
              "  color: var(--xr-font-color2);\n",
              "}\n",
              "\n",
              ".xr-section-item input:enabled + label:hover {\n",
              "  color: var(--xr-font-color0);\n",
              "}\n",
              "\n",
              ".xr-section-summary {\n",
              "  grid-column: 1;\n",
              "  color: var(--xr-font-color2);\n",
              "  font-weight: 500;\n",
              "}\n",
              "\n",
              ".xr-section-summary > span {\n",
              "  display: inline-block;\n",
              "  padding-left: 0.5em;\n",
              "}\n",
              "\n",
              ".xr-section-summary-in:disabled + label {\n",
              "  color: var(--xr-font-color2);\n",
              "}\n",
              "\n",
              ".xr-section-summary-in + label:before {\n",
              "  display: inline-block;\n",
              "  content: '►';\n",
              "  font-size: 11px;\n",
              "  width: 15px;\n",
              "  text-align: center;\n",
              "}\n",
              "\n",
              ".xr-section-summary-in:disabled + label:before {\n",
              "  color: var(--xr-disabled-color);\n",
              "}\n",
              "\n",
              ".xr-section-summary-in:checked + label:before {\n",
              "  content: '▼';\n",
              "}\n",
              "\n",
              ".xr-section-summary-in:checked + label > span {\n",
              "  display: none;\n",
              "}\n",
              "\n",
              ".xr-section-summary,\n",
              ".xr-section-inline-details {\n",
              "  padding-top: 4px;\n",
              "  padding-bottom: 4px;\n",
              "}\n",
              "\n",
              ".xr-section-inline-details {\n",
              "  grid-column: 2 / -1;\n",
              "}\n",
              "\n",
              ".xr-section-details {\n",
              "  display: none;\n",
              "  grid-column: 1 / -1;\n",
              "  margin-bottom: 5px;\n",
              "}\n",
              "\n",
              ".xr-section-summary-in:checked ~ .xr-section-details {\n",
              "  display: contents;\n",
              "}\n",
              "\n",
              ".xr-array-wrap {\n",
              "  grid-column: 1 / -1;\n",
              "  display: grid;\n",
              "  grid-template-columns: 20px auto;\n",
              "}\n",
              "\n",
              ".xr-array-wrap > label {\n",
              "  grid-column: 1;\n",
              "  vertical-align: top;\n",
              "}\n",
              "\n",
              ".xr-preview {\n",
              "  color: var(--xr-font-color3);\n",
              "}\n",
              "\n",
              ".xr-array-preview,\n",
              ".xr-array-data {\n",
              "  padding: 0 5px !important;\n",
              "  grid-column: 2;\n",
              "}\n",
              "\n",
              ".xr-array-data,\n",
              ".xr-array-in:checked ~ .xr-array-preview {\n",
              "  display: none;\n",
              "}\n",
              "\n",
              ".xr-array-in:checked ~ .xr-array-data,\n",
              ".xr-array-preview {\n",
              "  display: inline-block;\n",
              "}\n",
              "\n",
              ".xr-dim-list {\n",
              "  display: inline-block !important;\n",
              "  list-style: none;\n",
              "  padding: 0 !important;\n",
              "  margin: 0;\n",
              "}\n",
              "\n",
              ".xr-dim-list li {\n",
              "  display: inline-block;\n",
              "  padding: 0;\n",
              "  margin: 0;\n",
              "}\n",
              "\n",
              ".xr-dim-list:before {\n",
              "  content: '(';\n",
              "}\n",
              "\n",
              ".xr-dim-list:after {\n",
              "  content: ')';\n",
              "}\n",
              "\n",
              ".xr-dim-list li:not(:last-child):after {\n",
              "  content: ',';\n",
              "  padding-right: 5px;\n",
              "}\n",
              "\n",
              ".xr-has-index {\n",
              "  font-weight: bold;\n",
              "}\n",
              "\n",
              ".xr-var-list,\n",
              ".xr-var-item {\n",
              "  display: contents;\n",
              "}\n",
              "\n",
              ".xr-var-item > div,\n",
              ".xr-var-item label,\n",
              ".xr-var-item > .xr-var-name span {\n",
              "  background-color: var(--xr-background-color-row-even);\n",
              "  margin-bottom: 0;\n",
              "}\n",
              "\n",
              ".xr-var-item > .xr-var-name:hover span {\n",
              "  padding-right: 5px;\n",
              "}\n",
              "\n",
              ".xr-var-list > li:nth-child(odd) > div,\n",
              ".xr-var-list > li:nth-child(odd) > label,\n",
              ".xr-var-list > li:nth-child(odd) > .xr-var-name span {\n",
              "  background-color: var(--xr-background-color-row-odd);\n",
              "}\n",
              "\n",
              ".xr-var-name {\n",
              "  grid-column: 1;\n",
              "}\n",
              "\n",
              ".xr-var-dims {\n",
              "  grid-column: 2;\n",
              "}\n",
              "\n",
              ".xr-var-dtype {\n",
              "  grid-column: 3;\n",
              "  text-align: right;\n",
              "  color: var(--xr-font-color2);\n",
              "}\n",
              "\n",
              ".xr-var-preview {\n",
              "  grid-column: 4;\n",
              "}\n",
              "\n",
              ".xr-var-name,\n",
              ".xr-var-dims,\n",
              ".xr-var-dtype,\n",
              ".xr-preview,\n",
              ".xr-attrs dt {\n",
              "  white-space: nowrap;\n",
              "  overflow: hidden;\n",
              "  text-overflow: ellipsis;\n",
              "  padding-right: 10px;\n",
              "}\n",
              "\n",
              ".xr-var-name:hover,\n",
              ".xr-var-dims:hover,\n",
              ".xr-var-dtype:hover,\n",
              ".xr-attrs dt:hover {\n",
              "  overflow: visible;\n",
              "  width: auto;\n",
              "  z-index: 1;\n",
              "}\n",
              "\n",
              ".xr-var-attrs,\n",
              ".xr-var-data {\n",
              "  display: none;\n",
              "  background-color: var(--xr-background-color) !important;\n",
              "  padding-bottom: 5px !important;\n",
              "}\n",
              "\n",
              ".xr-var-attrs-in:checked ~ .xr-var-attrs,\n",
              ".xr-var-data-in:checked ~ .xr-var-data {\n",
              "  display: block;\n",
              "}\n",
              "\n",
              ".xr-var-data > table {\n",
              "  float: right;\n",
              "}\n",
              "\n",
              ".xr-var-name span,\n",
              ".xr-var-data,\n",
              ".xr-attrs {\n",
              "  padding-left: 25px !important;\n",
              "}\n",
              "\n",
              ".xr-attrs,\n",
              ".xr-var-attrs,\n",
              ".xr-var-data {\n",
              "  grid-column: 1 / -1;\n",
              "}\n",
              "\n",
              "dl.xr-attrs {\n",
              "  padding: 0;\n",
              "  margin: 0;\n",
              "  display: grid;\n",
              "  grid-template-columns: 125px auto;\n",
              "}\n",
              "\n",
              ".xr-attrs dt,\n",
              ".xr-attrs dd {\n",
              "  padding: 0;\n",
              "  margin: 0;\n",
              "  float: left;\n",
              "  padding-right: 10px;\n",
              "  width: auto;\n",
              "}\n",
              "\n",
              ".xr-attrs dt {\n",
              "  font-weight: normal;\n",
              "  grid-column: 1;\n",
              "}\n",
              "\n",
              ".xr-attrs dt:hover span {\n",
              "  display: inline-block;\n",
              "  background: var(--xr-background-color);\n",
              "  padding-right: 10px;\n",
              "}\n",
              "\n",
              ".xr-attrs dd {\n",
              "  grid-column: 2;\n",
              "  white-space: pre-wrap;\n",
              "  word-break: break-all;\n",
              "}\n",
              "\n",
              ".xr-icon-database,\n",
              ".xr-icon-file-text2 {\n",
              "  display: inline-block;\n",
              "  vertical-align: middle;\n",
              "  width: 1em;\n",
              "  height: 1.5em !important;\n",
              "  stroke-width: 0;\n",
              "  stroke: currentColor;\n",
              "  fill: currentColor;\n",
              "}\n",
              "</style><pre class='xr-text-repr-fallback'>&lt;xarray.DataArray &#x27;lev&#x27; (lev: 35)&gt;\n",
              "array([-2.5000e+00, -1.0000e+01, -2.0000e+01, -3.2500e+01, -5.1250e+01,\n",
              "       -7.5000e+01, -1.0000e+02, -1.2500e+02, -1.5625e+02, -2.0000e+02,\n",
              "       -2.5000e+02, -3.1250e+02, -4.0000e+02, -5.0000e+02, -6.0000e+02,\n",
              "       -7.0000e+02, -8.0000e+02, -9.0000e+02, -1.0000e+03, -1.1000e+03,\n",
              "       -1.2000e+03, -1.3000e+03, -1.4000e+03, -1.5375e+03, -1.7500e+03,\n",
              "       -2.0625e+03, -2.5000e+03, -3.0000e+03, -3.5000e+03, -4.0000e+03,\n",
              "       -4.5000e+03, -5.0000e+03, -5.5000e+03, -6.0000e+03, -6.5000e+03])\n",
              "Coordinates:\n",
              "  * lev      (lev) float64 2.5 10.0 20.0 32.5 ... 5e+03 5.5e+03 6e+03 6.5e+03\n",
              "    y        float64 32.38\n",
              "    year     int32 2001\n",
              "Attributes:\n",
              "    axis:         Z\n",
              "    bounds:       lev_bnds\n",
              "    description:  generic ocean model vertical coordinate (nondimensional or ...\n",
              "    long_name:    ocean model level\n",
              "    positive:     down\n",
              "    units:        m</pre><div class='xr-wrap' hidden><div class='xr-header'><div class='xr-obj-type'>xarray.DataArray</div><div class='xr-array-name'>'lev'</div><ul class='xr-dim-list'><li><span class='xr-has-index'>lev</span>: 35</li></ul></div><ul class='xr-sections'><li class='xr-section-item'><div class='xr-array-wrap'><input id='section-8b01d749-63ec-46eb-bf73-f840eb3cf56a' class='xr-array-in' type='checkbox' checked><label for='section-8b01d749-63ec-46eb-bf73-f840eb3cf56a' title='Show/hide data repr'><svg class='icon xr-icon-database'><use xlink:href='#icon-database'></use></svg></label><div class='xr-array-preview xr-preview'><span>-2.5 -10.0 -20.0 -32.5 -51.25 ... -5e+03 -5.5e+03 -6e+03 -6.5e+03</span></div><div class='xr-array-data'><pre>array([-2.5000e+00, -1.0000e+01, -2.0000e+01, -3.2500e+01, -5.1250e+01,\n",
              "       -7.5000e+01, -1.0000e+02, -1.2500e+02, -1.5625e+02, -2.0000e+02,\n",
              "       -2.5000e+02, -3.1250e+02, -4.0000e+02, -5.0000e+02, -6.0000e+02,\n",
              "       -7.0000e+02, -8.0000e+02, -9.0000e+02, -1.0000e+03, -1.1000e+03,\n",
              "       -1.2000e+03, -1.3000e+03, -1.4000e+03, -1.5375e+03, -1.7500e+03,\n",
              "       -2.0625e+03, -2.5000e+03, -3.0000e+03, -3.5000e+03, -4.0000e+03,\n",
              "       -4.5000e+03, -5.0000e+03, -5.5000e+03, -6.0000e+03, -6.5000e+03])</pre></div></div></li><li class='xr-section-item'><input id='section-174f4ed6-fcd9-4d8a-826d-986ad7041f90' class='xr-section-summary-in' type='checkbox'  checked><label for='section-174f4ed6-fcd9-4d8a-826d-986ad7041f90' class='xr-section-summary' >Coordinates: <span>(3)</span></label><div class='xr-section-inline-details'></div><div class='xr-section-details'><ul class='xr-var-list'><li class='xr-var-item'><div class='xr-var-name'><span class='xr-has-index'>lev</span></div><div class='xr-var-dims'>(lev)</div><div class='xr-var-dtype'>float64</div><div class='xr-var-preview xr-preview'>2.5 10.0 20.0 ... 6e+03 6.5e+03</div><input id='attrs-47788625-23dc-4f46-8b60-3b120f287772' class='xr-var-attrs-in' type='checkbox' ><label for='attrs-47788625-23dc-4f46-8b60-3b120f287772' title='Show/Hide attributes'><svg class='icon xr-icon-file-text2'><use xlink:href='#icon-file-text2'></use></svg></label><input id='data-3e44f978-b5ef-4522-9dd0-ce5d84169b0e' class='xr-var-data-in' type='checkbox'><label for='data-3e44f978-b5ef-4522-9dd0-ce5d84169b0e' title='Show/Hide data repr'><svg class='icon xr-icon-database'><use xlink:href='#icon-database'></use></svg></label><div class='xr-var-attrs'><dl class='xr-attrs'><dt><span>axis :</span></dt><dd>Z</dd><dt><span>bounds :</span></dt><dd>lev_bnds</dd><dt><span>description :</span></dt><dd>generic ocean model vertical coordinate (nondimensional or dimensional)</dd><dt><span>long_name :</span></dt><dd>ocean model level</dd><dt><span>positive :</span></dt><dd>down</dd><dt><span>units :</span></dt><dd>m</dd></dl></div><div class='xr-var-data'><pre>array([2.5000e+00, 1.0000e+01, 2.0000e+01, 3.2500e+01, 5.1250e+01, 7.5000e+01,\n",
              "       1.0000e+02, 1.2500e+02, 1.5625e+02, 2.0000e+02, 2.5000e+02, 3.1250e+02,\n",
              "       4.0000e+02, 5.0000e+02, 6.0000e+02, 7.0000e+02, 8.0000e+02, 9.0000e+02,\n",
              "       1.0000e+03, 1.1000e+03, 1.2000e+03, 1.3000e+03, 1.4000e+03, 1.5375e+03,\n",
              "       1.7500e+03, 2.0625e+03, 2.5000e+03, 3.0000e+03, 3.5000e+03, 4.0000e+03,\n",
              "       4.5000e+03, 5.0000e+03, 5.5000e+03, 6.0000e+03, 6.5000e+03])</pre></div></li><li class='xr-var-item'><div class='xr-var-name'><span>y</span></div><div class='xr-var-dims'>()</div><div class='xr-var-dtype'>float64</div><div class='xr-var-preview xr-preview'>32.38</div><input id='attrs-d1aed5e1-93e7-44e3-818c-0fa0433923b5' class='xr-var-attrs-in' type='checkbox' ><label for='attrs-d1aed5e1-93e7-44e3-818c-0fa0433923b5' title='Show/Hide attributes'><svg class='icon xr-icon-file-text2'><use xlink:href='#icon-file-text2'></use></svg></label><input id='data-4b6c8ebc-a4bd-4936-bae1-73444b35a602' class='xr-var-data-in' type='checkbox'><label for='data-4b6c8ebc-a4bd-4936-bae1-73444b35a602' title='Show/Hide data repr'><svg class='icon xr-icon-database'><use xlink:href='#icon-database'></use></svg></label><div class='xr-var-attrs'><dl class='xr-attrs'><dt><span>axis :</span></dt><dd>Y</dd><dt><span>long_name :</span></dt><dd>y coordinate of projection</dd><dt><span>standard_name :</span></dt><dd>projection_y_coordinate</dd><dt><span>units :</span></dt><dd>degrees</dd></dl></div><div class='xr-var-data'><pre>array(32.375425)</pre></div></li><li class='xr-var-item'><div class='xr-var-name'><span>year</span></div><div class='xr-var-dims'>()</div><div class='xr-var-dtype'>int32</div><div class='xr-var-preview xr-preview'>2001</div><input id='attrs-ccb73b4b-8732-4d8a-9ce2-032ca85b5886' class='xr-var-attrs-in' type='checkbox' disabled><label for='attrs-ccb73b4b-8732-4d8a-9ce2-032ca85b5886' title='Show/Hide attributes'><svg class='icon xr-icon-file-text2'><use xlink:href='#icon-file-text2'></use></svg></label><input id='data-66b0a3dc-9130-4121-9a3b-877ae9a5123f' class='xr-var-data-in' type='checkbox'><label for='data-66b0a3dc-9130-4121-9a3b-877ae9a5123f' title='Show/Hide data repr'><svg class='icon xr-icon-database'><use xlink:href='#icon-database'></use></svg></label><div class='xr-var-attrs'><dl class='xr-attrs'></dl></div><div class='xr-var-data'><pre>array(2001, dtype=int32)</pre></div></li></ul></div></li><li class='xr-section-item'><input id='section-988959e9-8b08-4827-bd91-42c104d23924' class='xr-section-summary-in' type='checkbox'  checked><label for='section-988959e9-8b08-4827-bd91-42c104d23924' class='xr-section-summary' >Attributes: <span>(6)</span></label><div class='xr-section-inline-details'></div><div class='xr-section-details'><dl class='xr-attrs'><dt><span>axis :</span></dt><dd>Z</dd><dt><span>bounds :</span></dt><dd>lev_bnds</dd><dt><span>description :</span></dt><dd>generic ocean model vertical coordinate (nondimensional or dimensional)</dd><dt><span>long_name :</span></dt><dd>ocean model level</dd><dt><span>positive :</span></dt><dd>down</dd><dt><span>units :</span></dt><dd>m</dd></dl></div></li></ul></div></div>"
            ],
            "text/plain": [
              "<xarray.DataArray 'lev' (lev: 35)>\n",
              "array([-2.5000e+00, -1.0000e+01, -2.0000e+01, -3.2500e+01, -5.1250e+01,\n",
              "       -7.5000e+01, -1.0000e+02, -1.2500e+02, -1.5625e+02, -2.0000e+02,\n",
              "       -2.5000e+02, -3.1250e+02, -4.0000e+02, -5.0000e+02, -6.0000e+02,\n",
              "       -7.0000e+02, -8.0000e+02, -9.0000e+02, -1.0000e+03, -1.1000e+03,\n",
              "       -1.2000e+03, -1.3000e+03, -1.4000e+03, -1.5375e+03, -1.7500e+03,\n",
              "       -2.0625e+03, -2.5000e+03, -3.0000e+03, -3.5000e+03, -4.0000e+03,\n",
              "       -4.5000e+03, -5.0000e+03, -5.5000e+03, -6.0000e+03, -6.5000e+03])\n",
              "Coordinates:\n",
              "  * lev      (lev) float64 2.5 10.0 20.0 32.5 ... 5e+03 5.5e+03 6e+03 6.5e+03\n",
              "    y        float64 32.38\n",
              "    year     int32 2001\n",
              "Attributes:\n",
              "    axis:         Z\n",
              "    bounds:       lev_bnds\n",
              "    description:  generic ocean model vertical coordinate (nondimensional or ...\n",
              "    long_name:    ocean model level\n",
              "    positive:     down\n",
              "    units:        m"
            ]
          },
          "metadata": {
            "tags": []
          },
          "execution_count": 14
        }
      ]
    },
    {
      "cell_type": "code",
      "metadata": {
        "colab": {
          "base_uri": "https://localhost:8080/"
        },
        "id": "vTzhIuESj16d",
        "outputId": "9d6bff1e-73af-41eb-ac40-e7f8ff932fe8"
      },
      "source": [
        "latitude = 32.375427\n",
        "latitude"
      ],
      "execution_count": null,
      "outputs": [
        {
          "output_type": "execute_result",
          "data": {
            "text/plain": [
              "32.375427"
            ]
          },
          "metadata": {
            "tags": []
          },
          "execution_count": 15
        }
      ]
    },
    {
      "cell_type": "markdown",
      "metadata": {
        "id": "Qb3PFolwy8pX"
      },
      "source": [
        "`gsw.p_from_z` function calculate pressure (dbar) from levels, latitude."
      ]
    },
    {
      "cell_type": "code",
      "metadata": {
        "colab": {
          "base_uri": "https://localhost:8080/"
        },
        "id": "kuczaKGZOnRp",
        "outputId": "757df3ca-8bab-4e79-ff9d-2934b1964e88"
      },
      "source": [
        "help(gsw.p_from_z)"
      ],
      "execution_count": null,
      "outputs": [
        {
          "output_type": "stream",
          "text": [
            "Help on function p_from_z in module gsw._fixed_wrapped_ufuncs:\n",
            "\n",
            "p_from_z(z, lat, geo_strf_dyn_height=0, sea_surface_geopotential=0)\n",
            "    Calculates sea pressure from height using computationally-efficient\n",
            "    75-term expression for density, in terms of SA, CT and p (Roquet et al.,\n",
            "    2015).  Dynamic height anomaly, geo_strf_dyn_height, if provided,\n",
            "    must be computed with its p_ref = 0 (the surface). Also if provided,\n",
            "    sea_surface_geopotental is the geopotential at zero sea pressure. This\n",
            "    function solves Eqn.(3.32.3) of IOC et al. (2010) iteratively for p.\n",
            "    \n",
            "    Parameters\n",
            "    ----------\n",
            "    z : array-like\n",
            "        Depth, positive up, m\n",
            "    lat : array-like\n",
            "        Latitude, -90 to 90 degrees\n",
            "    geo_strf_dyn_height : array-like\n",
            "        dynamic height anomaly, m^2/s^2\n",
            "            Note that the reference pressure, p_ref, of geo_strf_dyn_height must\n",
            "            be zero (0) dbar.\n",
            "    sea_surface_geopotential : array-like\n",
            "        geopotential at zero sea pressure,  m^2/s^2\n",
            "    \n",
            "    Returns\n",
            "    -------\n",
            "    p : array-like, dbar\n",
            "        sea pressure\n",
            "        ( i.e. absolute pressure - 10.1325 dbar )\n",
            "\n"
          ],
          "name": "stdout"
        }
      ]
    },
    {
      "cell_type": "markdown",
      "metadata": {
        "id": "FpkMFpw_vZPB"
      },
      "source": [
        "###Convert depth to pressure (dbar)"
      ]
    },
    {
      "cell_type": "code",
      "metadata": {
        "colab": {
          "base_uri": "https://localhost:8080/"
        },
        "id": "uBowu-vhN5m0",
        "outputId": "5f1aac52-ba53-49b3-d684-0d3b104a991f"
      },
      "source": [
        "p = gsw.p_from_z(-df.lev, latitude, geo_strf_dyn_height=0, sea_surface_geopotential=0)\n",
        "p"
      ],
      "execution_count": null,
      "outputs": [
        {
          "output_type": "execute_result",
          "data": {
            "text/html": [
              "<div><svg style=\"position: absolute; width: 0; height: 0; overflow: hidden\">\n",
              "<defs>\n",
              "<symbol id=\"icon-database\" viewBox=\"0 0 32 32\">\n",
              "<path d=\"M16 0c-8.837 0-16 2.239-16 5v4c0 2.761 7.163 5 16 5s16-2.239 16-5v-4c0-2.761-7.163-5-16-5z\"></path>\n",
              "<path d=\"M16 17c-8.837 0-16-2.239-16-5v6c0 2.761 7.163 5 16 5s16-2.239 16-5v-6c0 2.761-7.163 5-16 5z\"></path>\n",
              "<path d=\"M16 26c-8.837 0-16-2.239-16-5v6c0 2.761 7.163 5 16 5s16-2.239 16-5v-6c0 2.761-7.163 5-16 5z\"></path>\n",
              "</symbol>\n",
              "<symbol id=\"icon-file-text2\" viewBox=\"0 0 32 32\">\n",
              "<path d=\"M28.681 7.159c-0.694-0.947-1.662-2.053-2.724-3.116s-2.169-2.030-3.116-2.724c-1.612-1.182-2.393-1.319-2.841-1.319h-15.5c-1.378 0-2.5 1.121-2.5 2.5v27c0 1.378 1.122 2.5 2.5 2.5h23c1.378 0 2.5-1.122 2.5-2.5v-19.5c0-0.448-0.137-1.23-1.319-2.841zM24.543 5.457c0.959 0.959 1.712 1.825 2.268 2.543h-4.811v-4.811c0.718 0.556 1.584 1.309 2.543 2.268zM28 29.5c0 0.271-0.229 0.5-0.5 0.5h-23c-0.271 0-0.5-0.229-0.5-0.5v-27c0-0.271 0.229-0.5 0.5-0.5 0 0 15.499-0 15.5 0v7c0 0.552 0.448 1 1 1h7v19.5z\"></path>\n",
              "<path d=\"M23 26h-14c-0.552 0-1-0.448-1-1s0.448-1 1-1h14c0.552 0 1 0.448 1 1s-0.448 1-1 1z\"></path>\n",
              "<path d=\"M23 22h-14c-0.552 0-1-0.448-1-1s0.448-1 1-1h14c0.552 0 1 0.448 1 1s-0.448 1-1 1z\"></path>\n",
              "<path d=\"M23 18h-14c-0.552 0-1-0.448-1-1s0.448-1 1-1h14c0.552 0 1 0.448 1 1s-0.448 1-1 1z\"></path>\n",
              "</symbol>\n",
              "</defs>\n",
              "</svg>\n",
              "<style>/* CSS stylesheet for displaying xarray objects in jupyterlab.\n",
              " *\n",
              " */\n",
              "\n",
              ":root {\n",
              "  --xr-font-color0: var(--jp-content-font-color0, rgba(0, 0, 0, 1));\n",
              "  --xr-font-color2: var(--jp-content-font-color2, rgba(0, 0, 0, 0.54));\n",
              "  --xr-font-color3: var(--jp-content-font-color3, rgba(0, 0, 0, 0.38));\n",
              "  --xr-border-color: var(--jp-border-color2, #e0e0e0);\n",
              "  --xr-disabled-color: var(--jp-layout-color3, #bdbdbd);\n",
              "  --xr-background-color: var(--jp-layout-color0, white);\n",
              "  --xr-background-color-row-even: var(--jp-layout-color1, white);\n",
              "  --xr-background-color-row-odd: var(--jp-layout-color2, #eeeeee);\n",
              "}\n",
              "\n",
              "html[theme=dark],\n",
              "body.vscode-dark {\n",
              "  --xr-font-color0: rgba(255, 255, 255, 1);\n",
              "  --xr-font-color2: rgba(255, 255, 255, 0.54);\n",
              "  --xr-font-color3: rgba(255, 255, 255, 0.38);\n",
              "  --xr-border-color: #1F1F1F;\n",
              "  --xr-disabled-color: #515151;\n",
              "  --xr-background-color: #111111;\n",
              "  --xr-background-color-row-even: #111111;\n",
              "  --xr-background-color-row-odd: #313131;\n",
              "}\n",
              "\n",
              ".xr-wrap {\n",
              "  display: block;\n",
              "  min-width: 300px;\n",
              "  max-width: 700px;\n",
              "}\n",
              "\n",
              ".xr-text-repr-fallback {\n",
              "  /* fallback to plain text repr when CSS is not injected (untrusted notebook) */\n",
              "  display: none;\n",
              "}\n",
              "\n",
              ".xr-header {\n",
              "  padding-top: 6px;\n",
              "  padding-bottom: 6px;\n",
              "  margin-bottom: 4px;\n",
              "  border-bottom: solid 1px var(--xr-border-color);\n",
              "}\n",
              "\n",
              ".xr-header > div,\n",
              ".xr-header > ul {\n",
              "  display: inline;\n",
              "  margin-top: 0;\n",
              "  margin-bottom: 0;\n",
              "}\n",
              "\n",
              ".xr-obj-type,\n",
              ".xr-array-name {\n",
              "  margin-left: 2px;\n",
              "  margin-right: 10px;\n",
              "}\n",
              "\n",
              ".xr-obj-type {\n",
              "  color: var(--xr-font-color2);\n",
              "}\n",
              "\n",
              ".xr-sections {\n",
              "  padding-left: 0 !important;\n",
              "  display: grid;\n",
              "  grid-template-columns: 150px auto auto 1fr 20px 20px;\n",
              "}\n",
              "\n",
              ".xr-section-item {\n",
              "  display: contents;\n",
              "}\n",
              "\n",
              ".xr-section-item input {\n",
              "  display: none;\n",
              "}\n",
              "\n",
              ".xr-section-item input + label {\n",
              "  color: var(--xr-disabled-color);\n",
              "}\n",
              "\n",
              ".xr-section-item input:enabled + label {\n",
              "  cursor: pointer;\n",
              "  color: var(--xr-font-color2);\n",
              "}\n",
              "\n",
              ".xr-section-item input:enabled + label:hover {\n",
              "  color: var(--xr-font-color0);\n",
              "}\n",
              "\n",
              ".xr-section-summary {\n",
              "  grid-column: 1;\n",
              "  color: var(--xr-font-color2);\n",
              "  font-weight: 500;\n",
              "}\n",
              "\n",
              ".xr-section-summary > span {\n",
              "  display: inline-block;\n",
              "  padding-left: 0.5em;\n",
              "}\n",
              "\n",
              ".xr-section-summary-in:disabled + label {\n",
              "  color: var(--xr-font-color2);\n",
              "}\n",
              "\n",
              ".xr-section-summary-in + label:before {\n",
              "  display: inline-block;\n",
              "  content: '►';\n",
              "  font-size: 11px;\n",
              "  width: 15px;\n",
              "  text-align: center;\n",
              "}\n",
              "\n",
              ".xr-section-summary-in:disabled + label:before {\n",
              "  color: var(--xr-disabled-color);\n",
              "}\n",
              "\n",
              ".xr-section-summary-in:checked + label:before {\n",
              "  content: '▼';\n",
              "}\n",
              "\n",
              ".xr-section-summary-in:checked + label > span {\n",
              "  display: none;\n",
              "}\n",
              "\n",
              ".xr-section-summary,\n",
              ".xr-section-inline-details {\n",
              "  padding-top: 4px;\n",
              "  padding-bottom: 4px;\n",
              "}\n",
              "\n",
              ".xr-section-inline-details {\n",
              "  grid-column: 2 / -1;\n",
              "}\n",
              "\n",
              ".xr-section-details {\n",
              "  display: none;\n",
              "  grid-column: 1 / -1;\n",
              "  margin-bottom: 5px;\n",
              "}\n",
              "\n",
              ".xr-section-summary-in:checked ~ .xr-section-details {\n",
              "  display: contents;\n",
              "}\n",
              "\n",
              ".xr-array-wrap {\n",
              "  grid-column: 1 / -1;\n",
              "  display: grid;\n",
              "  grid-template-columns: 20px auto;\n",
              "}\n",
              "\n",
              ".xr-array-wrap > label {\n",
              "  grid-column: 1;\n",
              "  vertical-align: top;\n",
              "}\n",
              "\n",
              ".xr-preview {\n",
              "  color: var(--xr-font-color3);\n",
              "}\n",
              "\n",
              ".xr-array-preview,\n",
              ".xr-array-data {\n",
              "  padding: 0 5px !important;\n",
              "  grid-column: 2;\n",
              "}\n",
              "\n",
              ".xr-array-data,\n",
              ".xr-array-in:checked ~ .xr-array-preview {\n",
              "  display: none;\n",
              "}\n",
              "\n",
              ".xr-array-in:checked ~ .xr-array-data,\n",
              ".xr-array-preview {\n",
              "  display: inline-block;\n",
              "}\n",
              "\n",
              ".xr-dim-list {\n",
              "  display: inline-block !important;\n",
              "  list-style: none;\n",
              "  padding: 0 !important;\n",
              "  margin: 0;\n",
              "}\n",
              "\n",
              ".xr-dim-list li {\n",
              "  display: inline-block;\n",
              "  padding: 0;\n",
              "  margin: 0;\n",
              "}\n",
              "\n",
              ".xr-dim-list:before {\n",
              "  content: '(';\n",
              "}\n",
              "\n",
              ".xr-dim-list:after {\n",
              "  content: ')';\n",
              "}\n",
              "\n",
              ".xr-dim-list li:not(:last-child):after {\n",
              "  content: ',';\n",
              "  padding-right: 5px;\n",
              "}\n",
              "\n",
              ".xr-has-index {\n",
              "  font-weight: bold;\n",
              "}\n",
              "\n",
              ".xr-var-list,\n",
              ".xr-var-item {\n",
              "  display: contents;\n",
              "}\n",
              "\n",
              ".xr-var-item > div,\n",
              ".xr-var-item label,\n",
              ".xr-var-item > .xr-var-name span {\n",
              "  background-color: var(--xr-background-color-row-even);\n",
              "  margin-bottom: 0;\n",
              "}\n",
              "\n",
              ".xr-var-item > .xr-var-name:hover span {\n",
              "  padding-right: 5px;\n",
              "}\n",
              "\n",
              ".xr-var-list > li:nth-child(odd) > div,\n",
              ".xr-var-list > li:nth-child(odd) > label,\n",
              ".xr-var-list > li:nth-child(odd) > .xr-var-name span {\n",
              "  background-color: var(--xr-background-color-row-odd);\n",
              "}\n",
              "\n",
              ".xr-var-name {\n",
              "  grid-column: 1;\n",
              "}\n",
              "\n",
              ".xr-var-dims {\n",
              "  grid-column: 2;\n",
              "}\n",
              "\n",
              ".xr-var-dtype {\n",
              "  grid-column: 3;\n",
              "  text-align: right;\n",
              "  color: var(--xr-font-color2);\n",
              "}\n",
              "\n",
              ".xr-var-preview {\n",
              "  grid-column: 4;\n",
              "}\n",
              "\n",
              ".xr-var-name,\n",
              ".xr-var-dims,\n",
              ".xr-var-dtype,\n",
              ".xr-preview,\n",
              ".xr-attrs dt {\n",
              "  white-space: nowrap;\n",
              "  overflow: hidden;\n",
              "  text-overflow: ellipsis;\n",
              "  padding-right: 10px;\n",
              "}\n",
              "\n",
              ".xr-var-name:hover,\n",
              ".xr-var-dims:hover,\n",
              ".xr-var-dtype:hover,\n",
              ".xr-attrs dt:hover {\n",
              "  overflow: visible;\n",
              "  width: auto;\n",
              "  z-index: 1;\n",
              "}\n",
              "\n",
              ".xr-var-attrs,\n",
              ".xr-var-data {\n",
              "  display: none;\n",
              "  background-color: var(--xr-background-color) !important;\n",
              "  padding-bottom: 5px !important;\n",
              "}\n",
              "\n",
              ".xr-var-attrs-in:checked ~ .xr-var-attrs,\n",
              ".xr-var-data-in:checked ~ .xr-var-data {\n",
              "  display: block;\n",
              "}\n",
              "\n",
              ".xr-var-data > table {\n",
              "  float: right;\n",
              "}\n",
              "\n",
              ".xr-var-name span,\n",
              ".xr-var-data,\n",
              ".xr-attrs {\n",
              "  padding-left: 25px !important;\n",
              "}\n",
              "\n",
              ".xr-attrs,\n",
              ".xr-var-attrs,\n",
              ".xr-var-data {\n",
              "  grid-column: 1 / -1;\n",
              "}\n",
              "\n",
              "dl.xr-attrs {\n",
              "  padding: 0;\n",
              "  margin: 0;\n",
              "  display: grid;\n",
              "  grid-template-columns: 125px auto;\n",
              "}\n",
              "\n",
              ".xr-attrs dt,\n",
              ".xr-attrs dd {\n",
              "  padding: 0;\n",
              "  margin: 0;\n",
              "  float: left;\n",
              "  padding-right: 10px;\n",
              "  width: auto;\n",
              "}\n",
              "\n",
              ".xr-attrs dt {\n",
              "  font-weight: normal;\n",
              "  grid-column: 1;\n",
              "}\n",
              "\n",
              ".xr-attrs dt:hover span {\n",
              "  display: inline-block;\n",
              "  background: var(--xr-background-color);\n",
              "  padding-right: 10px;\n",
              "}\n",
              "\n",
              ".xr-attrs dd {\n",
              "  grid-column: 2;\n",
              "  white-space: pre-wrap;\n",
              "  word-break: break-all;\n",
              "}\n",
              "\n",
              ".xr-icon-database,\n",
              ".xr-icon-file-text2 {\n",
              "  display: inline-block;\n",
              "  vertical-align: middle;\n",
              "  width: 1em;\n",
              "  height: 1.5em !important;\n",
              "  stroke-width: 0;\n",
              "  stroke: currentColor;\n",
              "  fill: currentColor;\n",
              "}\n",
              "</style><pre class='xr-text-repr-fallback'>&lt;xarray.DataArray &#x27;lev&#x27; (lev: 35)&gt;\n",
              "array([2.51763096e+00, 1.00707085e+01, 2.01419096e+01, 3.27316033e+01,\n",
              "       5.16175861e+01, 7.55423148e+01, 1.00729238e+02, 1.25919234e+02,\n",
              "       1.57411049e+02, 2.01507651e+02, 2.51915273e+02, 3.14942046e+02,\n",
              "       4.03211681e+02, 5.04137135e+02, 6.05111441e+02, 7.06134515e+02,\n",
              "       8.07206278e+02, 9.08326647e+02, 1.00949554e+03, 1.11071288e+03,\n",
              "       1.21197857e+03, 1.31329255e+03, 1.41465472e+03, 1.55410624e+03,\n",
              "       1.76980067e+03, 2.08739043e+03, 2.53279592e+03, 3.04293667e+03,\n",
              "       3.55424709e+03, 4.06671675e+03, 4.58033524e+03, 5.09509212e+03,\n",
              "       5.61097700e+03, 6.12797952e+03, 6.64608936e+03])\n",
              "Coordinates:\n",
              "  * lev      (lev) float64 2.5 10.0 20.0 32.5 ... 5e+03 5.5e+03 6e+03 6.5e+03\n",
              "    y        float64 32.38\n",
              "    year     int32 2001\n",
              "Attributes:\n",
              "    axis:         Z\n",
              "    bounds:       lev_bnds\n",
              "    description:  generic ocean model vertical coordinate (nondimensional or ...\n",
              "    long_name:    ocean model level\n",
              "    positive:     down\n",
              "    units:        m</pre><div class='xr-wrap' hidden><div class='xr-header'><div class='xr-obj-type'>xarray.DataArray</div><div class='xr-array-name'>'lev'</div><ul class='xr-dim-list'><li><span class='xr-has-index'>lev</span>: 35</li></ul></div><ul class='xr-sections'><li class='xr-section-item'><div class='xr-array-wrap'><input id='section-563c1474-7c7f-43fd-a5e4-bfaec8b0b2f3' class='xr-array-in' type='checkbox' checked><label for='section-563c1474-7c7f-43fd-a5e4-bfaec8b0b2f3' title='Show/hide data repr'><svg class='icon xr-icon-database'><use xlink:href='#icon-database'></use></svg></label><div class='xr-array-preview xr-preview'><span>2.518 10.07 20.14 32.73 ... 5.095e+03 5.611e+03 6.128e+03 6.646e+03</span></div><div class='xr-array-data'><pre>array([2.51763096e+00, 1.00707085e+01, 2.01419096e+01, 3.27316033e+01,\n",
              "       5.16175861e+01, 7.55423148e+01, 1.00729238e+02, 1.25919234e+02,\n",
              "       1.57411049e+02, 2.01507651e+02, 2.51915273e+02, 3.14942046e+02,\n",
              "       4.03211681e+02, 5.04137135e+02, 6.05111441e+02, 7.06134515e+02,\n",
              "       8.07206278e+02, 9.08326647e+02, 1.00949554e+03, 1.11071288e+03,\n",
              "       1.21197857e+03, 1.31329255e+03, 1.41465472e+03, 1.55410624e+03,\n",
              "       1.76980067e+03, 2.08739043e+03, 2.53279592e+03, 3.04293667e+03,\n",
              "       3.55424709e+03, 4.06671675e+03, 4.58033524e+03, 5.09509212e+03,\n",
              "       5.61097700e+03, 6.12797952e+03, 6.64608936e+03])</pre></div></div></li><li class='xr-section-item'><input id='section-df02b214-b6e5-492d-90b2-cda59aa4bc90' class='xr-section-summary-in' type='checkbox'  checked><label for='section-df02b214-b6e5-492d-90b2-cda59aa4bc90' class='xr-section-summary' >Coordinates: <span>(3)</span></label><div class='xr-section-inline-details'></div><div class='xr-section-details'><ul class='xr-var-list'><li class='xr-var-item'><div class='xr-var-name'><span class='xr-has-index'>lev</span></div><div class='xr-var-dims'>(lev)</div><div class='xr-var-dtype'>float64</div><div class='xr-var-preview xr-preview'>2.5 10.0 20.0 ... 6e+03 6.5e+03</div><input id='attrs-45308195-9a5b-45a5-9441-8246d7a9ca76' class='xr-var-attrs-in' type='checkbox' ><label for='attrs-45308195-9a5b-45a5-9441-8246d7a9ca76' title='Show/Hide attributes'><svg class='icon xr-icon-file-text2'><use xlink:href='#icon-file-text2'></use></svg></label><input id='data-38386bfc-4eae-4727-a998-9c42eeda6605' class='xr-var-data-in' type='checkbox'><label for='data-38386bfc-4eae-4727-a998-9c42eeda6605' title='Show/Hide data repr'><svg class='icon xr-icon-database'><use xlink:href='#icon-database'></use></svg></label><div class='xr-var-attrs'><dl class='xr-attrs'><dt><span>axis :</span></dt><dd>Z</dd><dt><span>bounds :</span></dt><dd>lev_bnds</dd><dt><span>description :</span></dt><dd>generic ocean model vertical coordinate (nondimensional or dimensional)</dd><dt><span>long_name :</span></dt><dd>ocean model level</dd><dt><span>positive :</span></dt><dd>down</dd><dt><span>units :</span></dt><dd>m</dd></dl></div><div class='xr-var-data'><pre>array([2.5000e+00, 1.0000e+01, 2.0000e+01, 3.2500e+01, 5.1250e+01, 7.5000e+01,\n",
              "       1.0000e+02, 1.2500e+02, 1.5625e+02, 2.0000e+02, 2.5000e+02, 3.1250e+02,\n",
              "       4.0000e+02, 5.0000e+02, 6.0000e+02, 7.0000e+02, 8.0000e+02, 9.0000e+02,\n",
              "       1.0000e+03, 1.1000e+03, 1.2000e+03, 1.3000e+03, 1.4000e+03, 1.5375e+03,\n",
              "       1.7500e+03, 2.0625e+03, 2.5000e+03, 3.0000e+03, 3.5000e+03, 4.0000e+03,\n",
              "       4.5000e+03, 5.0000e+03, 5.5000e+03, 6.0000e+03, 6.5000e+03])</pre></div></li><li class='xr-var-item'><div class='xr-var-name'><span>y</span></div><div class='xr-var-dims'>()</div><div class='xr-var-dtype'>float64</div><div class='xr-var-preview xr-preview'>32.38</div><input id='attrs-7ac17a27-a798-400f-8943-c01c1611c2af' class='xr-var-attrs-in' type='checkbox' ><label for='attrs-7ac17a27-a798-400f-8943-c01c1611c2af' title='Show/Hide attributes'><svg class='icon xr-icon-file-text2'><use xlink:href='#icon-file-text2'></use></svg></label><input id='data-591a1cf0-54ac-4599-9102-8820c9993057' class='xr-var-data-in' type='checkbox'><label for='data-591a1cf0-54ac-4599-9102-8820c9993057' title='Show/Hide data repr'><svg class='icon xr-icon-database'><use xlink:href='#icon-database'></use></svg></label><div class='xr-var-attrs'><dl class='xr-attrs'><dt><span>axis :</span></dt><dd>Y</dd><dt><span>long_name :</span></dt><dd>y coordinate of projection</dd><dt><span>standard_name :</span></dt><dd>projection_y_coordinate</dd><dt><span>units :</span></dt><dd>degrees</dd></dl></div><div class='xr-var-data'><pre>array(32.375425)</pre></div></li><li class='xr-var-item'><div class='xr-var-name'><span>year</span></div><div class='xr-var-dims'>()</div><div class='xr-var-dtype'>int32</div><div class='xr-var-preview xr-preview'>2001</div><input id='attrs-48988cbf-b1f8-48f2-9c5d-f8e4fd540f20' class='xr-var-attrs-in' type='checkbox' disabled><label for='attrs-48988cbf-b1f8-48f2-9c5d-f8e4fd540f20' title='Show/Hide attributes'><svg class='icon xr-icon-file-text2'><use xlink:href='#icon-file-text2'></use></svg></label><input id='data-a9034e99-2376-43e4-958a-ffaa7d457882' class='xr-var-data-in' type='checkbox'><label for='data-a9034e99-2376-43e4-958a-ffaa7d457882' title='Show/Hide data repr'><svg class='icon xr-icon-database'><use xlink:href='#icon-database'></use></svg></label><div class='xr-var-attrs'><dl class='xr-attrs'></dl></div><div class='xr-var-data'><pre>array(2001, dtype=int32)</pre></div></li></ul></div></li><li class='xr-section-item'><input id='section-c8788432-da10-41de-9693-05e573b74eec' class='xr-section-summary-in' type='checkbox'  checked><label for='section-c8788432-da10-41de-9693-05e573b74eec' class='xr-section-summary' >Attributes: <span>(6)</span></label><div class='xr-section-inline-details'></div><div class='xr-section-details'><dl class='xr-attrs'><dt><span>axis :</span></dt><dd>Z</dd><dt><span>bounds :</span></dt><dd>lev_bnds</dd><dt><span>description :</span></dt><dd>generic ocean model vertical coordinate (nondimensional or dimensional)</dd><dt><span>long_name :</span></dt><dd>ocean model level</dd><dt><span>positive :</span></dt><dd>down</dd><dt><span>units :</span></dt><dd>m</dd></dl></div></li></ul></div></div>"
            ],
            "text/plain": [
              "<xarray.DataArray 'lev' (lev: 35)>\n",
              "array([2.51763096e+00, 1.00707085e+01, 2.01419096e+01, 3.27316033e+01,\n",
              "       5.16175861e+01, 7.55423148e+01, 1.00729238e+02, 1.25919234e+02,\n",
              "       1.57411049e+02, 2.01507651e+02, 2.51915273e+02, 3.14942046e+02,\n",
              "       4.03211681e+02, 5.04137135e+02, 6.05111441e+02, 7.06134515e+02,\n",
              "       8.07206278e+02, 9.08326647e+02, 1.00949554e+03, 1.11071288e+03,\n",
              "       1.21197857e+03, 1.31329255e+03, 1.41465472e+03, 1.55410624e+03,\n",
              "       1.76980067e+03, 2.08739043e+03, 2.53279592e+03, 3.04293667e+03,\n",
              "       3.55424709e+03, 4.06671675e+03, 4.58033524e+03, 5.09509212e+03,\n",
              "       5.61097700e+03, 6.12797952e+03, 6.64608936e+03])\n",
              "Coordinates:\n",
              "  * lev      (lev) float64 2.5 10.0 20.0 32.5 ... 5e+03 5.5e+03 6e+03 6.5e+03\n",
              "    y        float64 32.38\n",
              "    year     int32 2001\n",
              "Attributes:\n",
              "    axis:         Z\n",
              "    bounds:       lev_bnds\n",
              "    description:  generic ocean model vertical coordinate (nondimensional or ...\n",
              "    long_name:    ocean model level\n",
              "    positive:     down\n",
              "    units:        m"
            ]
          },
          "metadata": {
            "tags": []
          },
          "execution_count": 17
        }
      ]
    },
    {
      "cell_type": "code",
      "metadata": {
        "colab": {
          "base_uri": "https://localhost:8080/"
        },
        "id": "jYu-Bh1NkNLb",
        "outputId": "7447b404-be3d-4aa3-ec90-4b852264005b"
      },
      "source": [
        "aa = np.copy(ds.so)\n",
        "aa.shape"
      ],
      "execution_count": null,
      "outputs": [
        {
          "output_type": "execute_result",
          "data": {
            "text/plain": [
              "(35, 400)"
            ]
          },
          "metadata": {
            "tags": []
          },
          "execution_count": 18
        }
      ]
    },
    {
      "cell_type": "markdown",
      "metadata": {
        "id": "vX0HGwhuzS_U"
      },
      "source": [
        "`gsw.rho` function calculate the density from salinity, temrepature and pressure."
      ]
    },
    {
      "cell_type": "code",
      "metadata": {
        "colab": {
          "base_uri": "https://localhost:8080/"
        },
        "id": "uG-fPGXZwTiE",
        "outputId": "cc2c38ad-d5b0-48ec-fb58-e908caa88351"
      },
      "source": [
        "Sa = ds.so\n",
        "Ct = df.thetao\n",
        "help(gsw.rho)"
      ],
      "execution_count": null,
      "outputs": [
        {
          "output_type": "stream",
          "text": [
            "Help on function rho in module gsw._wrapped_ufuncs:\n",
            "\n",
            "rho(SA, CT, p)\n",
            "    Calculates in-situ density from Absolute Salinity and Conservative\n",
            "    Temperature, using the computationally-efficient expression for\n",
            "    specific volume in terms of SA, CT and p  (Roquet et al., 2015).\n",
            "    \n",
            "    Parameters\n",
            "    ----------\n",
            "    SA : array-like\n",
            "        Absolute Salinity, g/kg\n",
            "    CT : array-like\n",
            "        Conservative Temperature (ITS-90), degrees C\n",
            "    p : array-like\n",
            "        Sea pressure (absolute pressure minus 10.1325 dbar), dbar\n",
            "    \n",
            "    Returns\n",
            "    -------\n",
            "    rho : array-like, kg/m\n",
            "        in-situ density\n",
            "\n"
          ],
          "name": "stdout"
        }
      ]
    },
    {
      "cell_type": "code",
      "metadata": {
        "colab": {
          "base_uri": "https://localhost:8080/"
        },
        "id": "Ue2tQgpQKEJm",
        "outputId": "9fcf9efb-a6ba-451b-f4b7-60c78909e625"
      },
      "source": [
        "rho = gsw.rho(Sa, Ct, p)\n",
        "rho.mean()"
      ],
      "execution_count": null,
      "outputs": [
        {
          "output_type": "execute_result",
          "data": {
            "text/html": [
              "<div><svg style=\"position: absolute; width: 0; height: 0; overflow: hidden\">\n",
              "<defs>\n",
              "<symbol id=\"icon-database\" viewBox=\"0 0 32 32\">\n",
              "<path d=\"M16 0c-8.837 0-16 2.239-16 5v4c0 2.761 7.163 5 16 5s16-2.239 16-5v-4c0-2.761-7.163-5-16-5z\"></path>\n",
              "<path d=\"M16 17c-8.837 0-16-2.239-16-5v6c0 2.761 7.163 5 16 5s16-2.239 16-5v-6c0 2.761-7.163 5-16 5z\"></path>\n",
              "<path d=\"M16 26c-8.837 0-16-2.239-16-5v6c0 2.761 7.163 5 16 5s16-2.239 16-5v-6c0 2.761-7.163 5-16 5z\"></path>\n",
              "</symbol>\n",
              "<symbol id=\"icon-file-text2\" viewBox=\"0 0 32 32\">\n",
              "<path d=\"M28.681 7.159c-0.694-0.947-1.662-2.053-2.724-3.116s-2.169-2.030-3.116-2.724c-1.612-1.182-2.393-1.319-2.841-1.319h-15.5c-1.378 0-2.5 1.121-2.5 2.5v27c0 1.378 1.122 2.5 2.5 2.5h23c1.378 0 2.5-1.122 2.5-2.5v-19.5c0-0.448-0.137-1.23-1.319-2.841zM24.543 5.457c0.959 0.959 1.712 1.825 2.268 2.543h-4.811v-4.811c0.718 0.556 1.584 1.309 2.543 2.268zM28 29.5c0 0.271-0.229 0.5-0.5 0.5h-23c-0.271 0-0.5-0.229-0.5-0.5v-27c0-0.271 0.229-0.5 0.5-0.5 0 0 15.499-0 15.5 0v7c0 0.552 0.448 1 1 1h7v19.5z\"></path>\n",
              "<path d=\"M23 26h-14c-0.552 0-1-0.448-1-1s0.448-1 1-1h14c0.552 0 1 0.448 1 1s-0.448 1-1 1z\"></path>\n",
              "<path d=\"M23 22h-14c-0.552 0-1-0.448-1-1s0.448-1 1-1h14c0.552 0 1 0.448 1 1s-0.448 1-1 1z\"></path>\n",
              "<path d=\"M23 18h-14c-0.552 0-1-0.448-1-1s0.448-1 1-1h14c0.552 0 1 0.448 1 1s-0.448 1-1 1z\"></path>\n",
              "</symbol>\n",
              "</defs>\n",
              "</svg>\n",
              "<style>/* CSS stylesheet for displaying xarray objects in jupyterlab.\n",
              " *\n",
              " */\n",
              "\n",
              ":root {\n",
              "  --xr-font-color0: var(--jp-content-font-color0, rgba(0, 0, 0, 1));\n",
              "  --xr-font-color2: var(--jp-content-font-color2, rgba(0, 0, 0, 0.54));\n",
              "  --xr-font-color3: var(--jp-content-font-color3, rgba(0, 0, 0, 0.38));\n",
              "  --xr-border-color: var(--jp-border-color2, #e0e0e0);\n",
              "  --xr-disabled-color: var(--jp-layout-color3, #bdbdbd);\n",
              "  --xr-background-color: var(--jp-layout-color0, white);\n",
              "  --xr-background-color-row-even: var(--jp-layout-color1, white);\n",
              "  --xr-background-color-row-odd: var(--jp-layout-color2, #eeeeee);\n",
              "}\n",
              "\n",
              "html[theme=dark],\n",
              "body.vscode-dark {\n",
              "  --xr-font-color0: rgba(255, 255, 255, 1);\n",
              "  --xr-font-color2: rgba(255, 255, 255, 0.54);\n",
              "  --xr-font-color3: rgba(255, 255, 255, 0.38);\n",
              "  --xr-border-color: #1F1F1F;\n",
              "  --xr-disabled-color: #515151;\n",
              "  --xr-background-color: #111111;\n",
              "  --xr-background-color-row-even: #111111;\n",
              "  --xr-background-color-row-odd: #313131;\n",
              "}\n",
              "\n",
              ".xr-wrap {\n",
              "  display: block;\n",
              "  min-width: 300px;\n",
              "  max-width: 700px;\n",
              "}\n",
              "\n",
              ".xr-text-repr-fallback {\n",
              "  /* fallback to plain text repr when CSS is not injected (untrusted notebook) */\n",
              "  display: none;\n",
              "}\n",
              "\n",
              ".xr-header {\n",
              "  padding-top: 6px;\n",
              "  padding-bottom: 6px;\n",
              "  margin-bottom: 4px;\n",
              "  border-bottom: solid 1px var(--xr-border-color);\n",
              "}\n",
              "\n",
              ".xr-header > div,\n",
              ".xr-header > ul {\n",
              "  display: inline;\n",
              "  margin-top: 0;\n",
              "  margin-bottom: 0;\n",
              "}\n",
              "\n",
              ".xr-obj-type,\n",
              ".xr-array-name {\n",
              "  margin-left: 2px;\n",
              "  margin-right: 10px;\n",
              "}\n",
              "\n",
              ".xr-obj-type {\n",
              "  color: var(--xr-font-color2);\n",
              "}\n",
              "\n",
              ".xr-sections {\n",
              "  padding-left: 0 !important;\n",
              "  display: grid;\n",
              "  grid-template-columns: 150px auto auto 1fr 20px 20px;\n",
              "}\n",
              "\n",
              ".xr-section-item {\n",
              "  display: contents;\n",
              "}\n",
              "\n",
              ".xr-section-item input {\n",
              "  display: none;\n",
              "}\n",
              "\n",
              ".xr-section-item input + label {\n",
              "  color: var(--xr-disabled-color);\n",
              "}\n",
              "\n",
              ".xr-section-item input:enabled + label {\n",
              "  cursor: pointer;\n",
              "  color: var(--xr-font-color2);\n",
              "}\n",
              "\n",
              ".xr-section-item input:enabled + label:hover {\n",
              "  color: var(--xr-font-color0);\n",
              "}\n",
              "\n",
              ".xr-section-summary {\n",
              "  grid-column: 1;\n",
              "  color: var(--xr-font-color2);\n",
              "  font-weight: 500;\n",
              "}\n",
              "\n",
              ".xr-section-summary > span {\n",
              "  display: inline-block;\n",
              "  padding-left: 0.5em;\n",
              "}\n",
              "\n",
              ".xr-section-summary-in:disabled + label {\n",
              "  color: var(--xr-font-color2);\n",
              "}\n",
              "\n",
              ".xr-section-summary-in + label:before {\n",
              "  display: inline-block;\n",
              "  content: '►';\n",
              "  font-size: 11px;\n",
              "  width: 15px;\n",
              "  text-align: center;\n",
              "}\n",
              "\n",
              ".xr-section-summary-in:disabled + label:before {\n",
              "  color: var(--xr-disabled-color);\n",
              "}\n",
              "\n",
              ".xr-section-summary-in:checked + label:before {\n",
              "  content: '▼';\n",
              "}\n",
              "\n",
              ".xr-section-summary-in:checked + label > span {\n",
              "  display: none;\n",
              "}\n",
              "\n",
              ".xr-section-summary,\n",
              ".xr-section-inline-details {\n",
              "  padding-top: 4px;\n",
              "  padding-bottom: 4px;\n",
              "}\n",
              "\n",
              ".xr-section-inline-details {\n",
              "  grid-column: 2 / -1;\n",
              "}\n",
              "\n",
              ".xr-section-details {\n",
              "  display: none;\n",
              "  grid-column: 1 / -1;\n",
              "  margin-bottom: 5px;\n",
              "}\n",
              "\n",
              ".xr-section-summary-in:checked ~ .xr-section-details {\n",
              "  display: contents;\n",
              "}\n",
              "\n",
              ".xr-array-wrap {\n",
              "  grid-column: 1 / -1;\n",
              "  display: grid;\n",
              "  grid-template-columns: 20px auto;\n",
              "}\n",
              "\n",
              ".xr-array-wrap > label {\n",
              "  grid-column: 1;\n",
              "  vertical-align: top;\n",
              "}\n",
              "\n",
              ".xr-preview {\n",
              "  color: var(--xr-font-color3);\n",
              "}\n",
              "\n",
              ".xr-array-preview,\n",
              ".xr-array-data {\n",
              "  padding: 0 5px !important;\n",
              "  grid-column: 2;\n",
              "}\n",
              "\n",
              ".xr-array-data,\n",
              ".xr-array-in:checked ~ .xr-array-preview {\n",
              "  display: none;\n",
              "}\n",
              "\n",
              ".xr-array-in:checked ~ .xr-array-data,\n",
              ".xr-array-preview {\n",
              "  display: inline-block;\n",
              "}\n",
              "\n",
              ".xr-dim-list {\n",
              "  display: inline-block !important;\n",
              "  list-style: none;\n",
              "  padding: 0 !important;\n",
              "  margin: 0;\n",
              "}\n",
              "\n",
              ".xr-dim-list li {\n",
              "  display: inline-block;\n",
              "  padding: 0;\n",
              "  margin: 0;\n",
              "}\n",
              "\n",
              ".xr-dim-list:before {\n",
              "  content: '(';\n",
              "}\n",
              "\n",
              ".xr-dim-list:after {\n",
              "  content: ')';\n",
              "}\n",
              "\n",
              ".xr-dim-list li:not(:last-child):after {\n",
              "  content: ',';\n",
              "  padding-right: 5px;\n",
              "}\n",
              "\n",
              ".xr-has-index {\n",
              "  font-weight: bold;\n",
              "}\n",
              "\n",
              ".xr-var-list,\n",
              ".xr-var-item {\n",
              "  display: contents;\n",
              "}\n",
              "\n",
              ".xr-var-item > div,\n",
              ".xr-var-item label,\n",
              ".xr-var-item > .xr-var-name span {\n",
              "  background-color: var(--xr-background-color-row-even);\n",
              "  margin-bottom: 0;\n",
              "}\n",
              "\n",
              ".xr-var-item > .xr-var-name:hover span {\n",
              "  padding-right: 5px;\n",
              "}\n",
              "\n",
              ".xr-var-list > li:nth-child(odd) > div,\n",
              ".xr-var-list > li:nth-child(odd) > label,\n",
              ".xr-var-list > li:nth-child(odd) > .xr-var-name span {\n",
              "  background-color: var(--xr-background-color-row-odd);\n",
              "}\n",
              "\n",
              ".xr-var-name {\n",
              "  grid-column: 1;\n",
              "}\n",
              "\n",
              ".xr-var-dims {\n",
              "  grid-column: 2;\n",
              "}\n",
              "\n",
              ".xr-var-dtype {\n",
              "  grid-column: 3;\n",
              "  text-align: right;\n",
              "  color: var(--xr-font-color2);\n",
              "}\n",
              "\n",
              ".xr-var-preview {\n",
              "  grid-column: 4;\n",
              "}\n",
              "\n",
              ".xr-var-name,\n",
              ".xr-var-dims,\n",
              ".xr-var-dtype,\n",
              ".xr-preview,\n",
              ".xr-attrs dt {\n",
              "  white-space: nowrap;\n",
              "  overflow: hidden;\n",
              "  text-overflow: ellipsis;\n",
              "  padding-right: 10px;\n",
              "}\n",
              "\n",
              ".xr-var-name:hover,\n",
              ".xr-var-dims:hover,\n",
              ".xr-var-dtype:hover,\n",
              ".xr-attrs dt:hover {\n",
              "  overflow: visible;\n",
              "  width: auto;\n",
              "  z-index: 1;\n",
              "}\n",
              "\n",
              ".xr-var-attrs,\n",
              ".xr-var-data {\n",
              "  display: none;\n",
              "  background-color: var(--xr-background-color) !important;\n",
              "  padding-bottom: 5px !important;\n",
              "}\n",
              "\n",
              ".xr-var-attrs-in:checked ~ .xr-var-attrs,\n",
              ".xr-var-data-in:checked ~ .xr-var-data {\n",
              "  display: block;\n",
              "}\n",
              "\n",
              ".xr-var-data > table {\n",
              "  float: right;\n",
              "}\n",
              "\n",
              ".xr-var-name span,\n",
              ".xr-var-data,\n",
              ".xr-attrs {\n",
              "  padding-left: 25px !important;\n",
              "}\n",
              "\n",
              ".xr-attrs,\n",
              ".xr-var-attrs,\n",
              ".xr-var-data {\n",
              "  grid-column: 1 / -1;\n",
              "}\n",
              "\n",
              "dl.xr-attrs {\n",
              "  padding: 0;\n",
              "  margin: 0;\n",
              "  display: grid;\n",
              "  grid-template-columns: 125px auto;\n",
              "}\n",
              "\n",
              ".xr-attrs dt,\n",
              ".xr-attrs dd {\n",
              "  padding: 0;\n",
              "  margin: 0;\n",
              "  float: left;\n",
              "  padding-right: 10px;\n",
              "  width: auto;\n",
              "}\n",
              "\n",
              ".xr-attrs dt {\n",
              "  font-weight: normal;\n",
              "  grid-column: 1;\n",
              "}\n",
              "\n",
              ".xr-attrs dt:hover span {\n",
              "  display: inline-block;\n",
              "  background: var(--xr-background-color);\n",
              "  padding-right: 10px;\n",
              "}\n",
              "\n",
              ".xr-attrs dd {\n",
              "  grid-column: 2;\n",
              "  white-space: pre-wrap;\n",
              "  word-break: break-all;\n",
              "}\n",
              "\n",
              ".xr-icon-database,\n",
              ".xr-icon-file-text2 {\n",
              "  display: inline-block;\n",
              "  vertical-align: middle;\n",
              "  width: 1em;\n",
              "  height: 1.5em !important;\n",
              "  stroke-width: 0;\n",
              "  stroke: currentColor;\n",
              "  fill: currentColor;\n",
              "}\n",
              "</style><pre class='xr-text-repr-fallback'>&lt;xarray.DataArray &#x27;so&#x27; ()&gt;\n",
              "array(1031.78044714)\n",
              "Coordinates:\n",
              "    y        float64 32.38\n",
              "    year     int32 2001</pre><div class='xr-wrap' hidden><div class='xr-header'><div class='xr-obj-type'>xarray.DataArray</div><div class='xr-array-name'>'so'</div></div><ul class='xr-sections'><li class='xr-section-item'><div class='xr-array-wrap'><input id='section-f949e63a-48a9-4653-a62b-d150da2a96e5' class='xr-array-in' type='checkbox' checked><label for='section-f949e63a-48a9-4653-a62b-d150da2a96e5' title='Show/hide data repr'><svg class='icon xr-icon-database'><use xlink:href='#icon-database'></use></svg></label><div class='xr-array-preview xr-preview'><span>1.032e+03</span></div><div class='xr-array-data'><pre>array(1031.78044714)</pre></div></div></li><li class='xr-section-item'><input id='section-899114fe-004d-4d06-9d06-cd8d2c82d44e' class='xr-section-summary-in' type='checkbox'  checked><label for='section-899114fe-004d-4d06-9d06-cd8d2c82d44e' class='xr-section-summary' >Coordinates: <span>(2)</span></label><div class='xr-section-inline-details'></div><div class='xr-section-details'><ul class='xr-var-list'><li class='xr-var-item'><div class='xr-var-name'><span>y</span></div><div class='xr-var-dims'>()</div><div class='xr-var-dtype'>float64</div><div class='xr-var-preview xr-preview'>32.38</div><input id='attrs-828dd3c0-5c9f-4ff5-ab88-ecee5fea629b' class='xr-var-attrs-in' type='checkbox' ><label for='attrs-828dd3c0-5c9f-4ff5-ab88-ecee5fea629b' title='Show/Hide attributes'><svg class='icon xr-icon-file-text2'><use xlink:href='#icon-file-text2'></use></svg></label><input id='data-22abbc66-f991-45d1-b4f9-e4da0c744233' class='xr-var-data-in' type='checkbox'><label for='data-22abbc66-f991-45d1-b4f9-e4da0c744233' title='Show/Hide data repr'><svg class='icon xr-icon-database'><use xlink:href='#icon-database'></use></svg></label><div class='xr-var-attrs'><dl class='xr-attrs'><dt><span>axis :</span></dt><dd>Y</dd><dt><span>long_name :</span></dt><dd>y coordinate of projection</dd><dt><span>standard_name :</span></dt><dd>projection_y_coordinate</dd><dt><span>units :</span></dt><dd>degrees</dd></dl></div><div class='xr-var-data'><pre>array(32.37542538)</pre></div></li><li class='xr-var-item'><div class='xr-var-name'><span>year</span></div><div class='xr-var-dims'>()</div><div class='xr-var-dtype'>int32</div><div class='xr-var-preview xr-preview'>2001</div><input id='attrs-e7f4f1fc-f973-4d9c-a2fe-5ac90f5dec7d' class='xr-var-attrs-in' type='checkbox' disabled><label for='attrs-e7f4f1fc-f973-4d9c-a2fe-5ac90f5dec7d' title='Show/Hide attributes'><svg class='icon xr-icon-file-text2'><use xlink:href='#icon-file-text2'></use></svg></label><input id='data-b0c72ddb-7f19-47d1-9305-9aeaeaa0ce46' class='xr-var-data-in' type='checkbox'><label for='data-b0c72ddb-7f19-47d1-9305-9aeaeaa0ce46' title='Show/Hide data repr'><svg class='icon xr-icon-database'><use xlink:href='#icon-database'></use></svg></label><div class='xr-var-attrs'><dl class='xr-attrs'></dl></div><div class='xr-var-data'><pre>array(2001, dtype=int32)</pre></div></li></ul></div></li><li class='xr-section-item'><input id='section-59561b2b-0977-44ed-b7bd-6f44ad29fc53' class='xr-section-summary-in' type='checkbox' disabled ><label for='section-59561b2b-0977-44ed-b7bd-6f44ad29fc53' class='xr-section-summary'  title='Expand/collapse section'>Attributes: <span>(0)</span></label><div class='xr-section-inline-details'></div><div class='xr-section-details'><dl class='xr-attrs'></dl></div></li></ul></div></div>"
            ],
            "text/plain": [
              "<xarray.DataArray 'so' ()>\n",
              "array(1031.78044714)\n",
              "Coordinates:\n",
              "    y        float64 32.38\n",
              "    year     int32 2001"
            ]
          },
          "metadata": {
            "tags": []
          },
          "execution_count": 20
        }
      ]
    },
    {
      "cell_type": "markdown",
      "metadata": {
        "id": "p7OzXAR5zafv"
      },
      "source": [
        "We can see mean density is 1031.78 dbar."
      ]
    },
    {
      "cell_type": "code",
      "metadata": {
        "id": "uOx5iXBTWjFa"
      },
      "source": [
        "rho_zero = rho.min().values"
      ],
      "execution_count": null,
      "outputs": []
    },
    {
      "cell_type": "markdown",
      "metadata": {
        "id": "URMbsTmvzg8h"
      },
      "source": [
        "Now we can plot the density gradient into the cross-section."
      ]
    },
    {
      "cell_type": "code",
      "metadata": {
        "colab": {
          "base_uri": "https://localhost:8080/"
        },
        "id": "tH4rukorhBaU",
        "outputId": "e2a4e40c-e64d-4c86-da0d-48dd91e03a7a"
      },
      "source": [
        "plt.figure(figsize=(9,7))\n",
        "plt.title('Density Gradient')\n",
        "plt.pcolormesh(ds.x, -ds.lev, rho.values);plt.colorbar();"
      ],
      "execution_count": null,
      "outputs": [
        {
          "output_type": "display_data",
          "data": {
            "image/png": "[encoded data removed]",
            "text/plain": [
              "<Figure size 648x504 with 2 Axes>"
            ]
          },
          "metadata": {
            "tags": [],
            "needs_background": "light"
          }
        }
      ]
    },
    {
      "cell_type": "code",
      "metadata": {
        "colab": {
          "base_uri": "https://localhost:8080/"
        },
        "id": "BU5Zn3QqmCcj",
        "outputId": "b710d7d2-26c0-4d6f-d149-34f3e5836d31"
      },
      "source": [
        "Ct[:,85]"
      ],
      "execution_count": null,
      "outputs": [
        {
          "output_type": "execute_result",
          "data": {
            "text/html": [
              "<div><svg style=\"position: absolute; width: 0; height: 0; overflow: hidden\">\n",
              "<defs>\n",
              "<symbol id=\"icon-database\" viewBox=\"0 0 32 32\">\n",
              "<path d=\"M16 0c-8.837 0-16 2.239-16 5v4c0 2.761 7.163 5 16 5s16-2.239 16-5v-4c0-2.761-7.163-5-16-5z\"></path>\n",
              "<path d=\"M16 17c-8.837 0-16-2.239-16-5v6c0 2.761 7.163 5 16 5s16-2.239 16-5v-6c0 2.761-7.163 5-16 5z\"></path>\n",
              "<path d=\"M16 26c-8.837 0-16-2.239-16-5v6c0 2.761 7.163 5 16 5s16-2.239 16-5v-6c0 2.761-7.163 5-16 5z\"></path>\n",
              "</symbol>\n",
              "<symbol id=\"icon-file-text2\" viewBox=\"0 0 32 32\">\n",
              "<path d=\"M28.681 7.159c-0.694-0.947-1.662-2.053-2.724-3.116s-2.169-2.030-3.116-2.724c-1.612-1.182-2.393-1.319-2.841-1.319h-15.5c-1.378 0-2.5 1.121-2.5 2.5v27c0 1.378 1.122 2.5 2.5 2.5h23c1.378 0 2.5-1.122 2.5-2.5v-19.5c0-0.448-0.137-1.23-1.319-2.841zM24.543 5.457c0.959 0.959 1.712 1.825 2.268 2.543h-4.811v-4.811c0.718 0.556 1.584 1.309 2.543 2.268zM28 29.5c0 0.271-0.229 0.5-0.5 0.5h-23c-0.271 0-0.5-0.229-0.5-0.5v-27c0-0.271 0.229-0.5 0.5-0.5 0 0 15.499-0 15.5 0v7c0 0.552 0.448 1 1 1h7v19.5z\"></path>\n",
              "<path d=\"M23 26h-14c-0.552 0-1-0.448-1-1s0.448-1 1-1h14c0.552 0 1 0.448 1 1s-0.448 1-1 1z\"></path>\n",
              "<path d=\"M23 22h-14c-0.552 0-1-0.448-1-1s0.448-1 1-1h14c0.552 0 1 0.448 1 1s-0.448 1-1 1z\"></path>\n",
              "<path d=\"M23 18h-14c-0.552 0-1-0.448-1-1s0.448-1 1-1h14c0.552 0 1 0.448 1 1s-0.448 1-1 1z\"></path>\n",
              "</symbol>\n",
              "</defs>\n",
              "</svg>\n",
              "<style>/* CSS stylesheet for displaying xarray objects in jupyterlab.\n",
              " *\n",
              " */\n",
              "\n",
              ":root {\n",
              "  --xr-font-color0: var(--jp-content-font-color0, rgba(0, 0, 0, 1));\n",
              "  --xr-font-color2: var(--jp-content-font-color2, rgba(0, 0, 0, 0.54));\n",
              "  --xr-font-color3: var(--jp-content-font-color3, rgba(0, 0, 0, 0.38));\n",
              "  --xr-border-color: var(--jp-border-color2, #e0e0e0);\n",
              "  --xr-disabled-color: var(--jp-layout-color3, #bdbdbd);\n",
              "  --xr-background-color: var(--jp-layout-color0, white);\n",
              "  --xr-background-color-row-even: var(--jp-layout-color1, white);\n",
              "  --xr-background-color-row-odd: var(--jp-layout-color2, #eeeeee);\n",
              "}\n",
              "\n",
              "html[theme=dark],\n",
              "body.vscode-dark {\n",
              "  --xr-font-color0: rgba(255, 255, 255, 1);\n",
              "  --xr-font-color2: rgba(255, 255, 255, 0.54);\n",
              "  --xr-font-color3: rgba(255, 255, 255, 0.38);\n",
              "  --xr-border-color: #1F1F1F;\n",
              "  --xr-disabled-color: #515151;\n",
              "  --xr-background-color: #111111;\n",
              "  --xr-background-color-row-even: #111111;\n",
              "  --xr-background-color-row-odd: #313131;\n",
              "}\n",
              "\n",
              ".xr-wrap {\n",
              "  display: block;\n",
              "  min-width: 300px;\n",
              "  max-width: 700px;\n",
              "}\n",
              "\n",
              ".xr-text-repr-fallback {\n",
              "  /* fallback to plain text repr when CSS is not injected (untrusted notebook) */\n",
              "  display: none;\n",
              "}\n",
              "\n",
              ".xr-header {\n",
              "  padding-top: 6px;\n",
              "  padding-bottom: 6px;\n",
              "  margin-bottom: 4px;\n",
              "  border-bottom: solid 1px var(--xr-border-color);\n",
              "}\n",
              "\n",
              ".xr-header > div,\n",
              ".xr-header > ul {\n",
              "  display: inline;\n",
              "  margin-top: 0;\n",
              "  margin-bottom: 0;\n",
              "}\n",
              "\n",
              ".xr-obj-type,\n",
              ".xr-array-name {\n",
              "  margin-left: 2px;\n",
              "  margin-right: 10px;\n",
              "}\n",
              "\n",
              ".xr-obj-type {\n",
              "  color: var(--xr-font-color2);\n",
              "}\n",
              "\n",
              ".xr-sections {\n",
              "  padding-left: 0 !important;\n",
              "  display: grid;\n",
              "  grid-template-columns: 150px auto auto 1fr 20px 20px;\n",
              "}\n",
              "\n",
              ".xr-section-item {\n",
              "  display: contents;\n",
              "}\n",
              "\n",
              ".xr-section-item input {\n",
              "  display: none;\n",
              "}\n",
              "\n",
              ".xr-section-item input + label {\n",
              "  color: var(--xr-disabled-color);\n",
              "}\n",
              "\n",
              ".xr-section-item input:enabled + label {\n",
              "  cursor: pointer;\n",
              "  color: var(--xr-font-color2);\n",
              "}\n",
              "\n",
              ".xr-section-item input:enabled + label:hover {\n",
              "  color: var(--xr-font-color0);\n",
              "}\n",
              "\n",
              ".xr-section-summary {\n",
              "  grid-column: 1;\n",
              "  color: var(--xr-font-color2);\n",
              "  font-weight: 500;\n",
              "}\n",
              "\n",
              ".xr-section-summary > span {\n",
              "  display: inline-block;\n",
              "  padding-left: 0.5em;\n",
              "}\n",
              "\n",
              ".xr-section-summary-in:disabled + label {\n",
              "  color: var(--xr-font-color2);\n",
              "}\n",
              "\n",
              ".xr-section-summary-in + label:before {\n",
              "  display: inline-block;\n",
              "  content: '►';\n",
              "  font-size: 11px;\n",
              "  width: 15px;\n",
              "  text-align: center;\n",
              "}\n",
              "\n",
              ".xr-section-summary-in:disabled + label:before {\n",
              "  color: var(--xr-disabled-color);\n",
              "}\n",
              "\n",
              ".xr-section-summary-in:checked + label:before {\n",
              "  content: '▼';\n",
              "}\n",
              "\n",
              ".xr-section-summary-in:checked + label > span {\n",
              "  display: none;\n",
              "}\n",
              "\n",
              ".xr-section-summary,\n",
              ".xr-section-inline-details {\n",
              "  padding-top: 4px;\n",
              "  padding-bottom: 4px;\n",
              "}\n",
              "\n",
              ".xr-section-inline-details {\n",
              "  grid-column: 2 / -1;\n",
              "}\n",
              "\n",
              ".xr-section-details {\n",
              "  display: none;\n",
              "  grid-column: 1 / -1;\n",
              "  margin-bottom: 5px;\n",
              "}\n",
              "\n",
              ".xr-section-summary-in:checked ~ .xr-section-details {\n",
              "  display: contents;\n",
              "}\n",
              "\n",
              ".xr-array-wrap {\n",
              "  grid-column: 1 / -1;\n",
              "  display: grid;\n",
              "  grid-template-columns: 20px auto;\n",
              "}\n",
              "\n",
              ".xr-array-wrap > label {\n",
              "  grid-column: 1;\n",
              "  vertical-align: top;\n",
              "}\n",
              "\n",
              ".xr-preview {\n",
              "  color: var(--xr-font-color3);\n",
              "}\n",
              "\n",
              ".xr-array-preview,\n",
              ".xr-array-data {\n",
              "  padding: 0 5px !important;\n",
              "  grid-column: 2;\n",
              "}\n",
              "\n",
              ".xr-array-data,\n",
              ".xr-array-in:checked ~ .xr-array-preview {\n",
              "  display: none;\n",
              "}\n",
              "\n",
              ".xr-array-in:checked ~ .xr-array-data,\n",
              ".xr-array-preview {\n",
              "  display: inline-block;\n",
              "}\n",
              "\n",
              ".xr-dim-list {\n",
              "  display: inline-block !important;\n",
              "  list-style: none;\n",
              "  padding: 0 !important;\n",
              "  margin: 0;\n",
              "}\n",
              "\n",
              ".xr-dim-list li {\n",
              "  display: inline-block;\n",
              "  padding: 0;\n",
              "  margin: 0;\n",
              "}\n",
              "\n",
              ".xr-dim-list:before {\n",
              "  content: '(';\n",
              "}\n",
              "\n",
              ".xr-dim-list:after {\n",
              "  content: ')';\n",
              "}\n",
              "\n",
              ".xr-dim-list li:not(:last-child):after {\n",
              "  content: ',';\n",
              "  padding-right: 5px;\n",
              "}\n",
              "\n",
              ".xr-has-index {\n",
              "  font-weight: bold;\n",
              "}\n",
              "\n",
              ".xr-var-list,\n",
              ".xr-var-item {\n",
              "  display: contents;\n",
              "}\n",
              "\n",
              ".xr-var-item > div,\n",
              ".xr-var-item label,\n",
              ".xr-var-item > .xr-var-name span {\n",
              "  background-color: var(--xr-background-color-row-even);\n",
              "  margin-bottom: 0;\n",
              "}\n",
              "\n",
              ".xr-var-item > .xr-var-name:hover span {\n",
              "  padding-right: 5px;\n",
              "}\n",
              "\n",
              ".xr-var-list > li:nth-child(odd) > div,\n",
              ".xr-var-list > li:nth-child(odd) > label,\n",
              ".xr-var-list > li:nth-child(odd) > .xr-var-name span {\n",
              "  background-color: var(--xr-background-color-row-odd);\n",
              "}\n",
              "\n",
              ".xr-var-name {\n",
              "  grid-column: 1;\n",
              "}\n",
              "\n",
              ".xr-var-dims {\n",
              "  grid-column: 2;\n",
              "}\n",
              "\n",
              ".xr-var-dtype {\n",
              "  grid-column: 3;\n",
              "  text-align: right;\n",
              "  color: var(--xr-font-color2);\n",
              "}\n",
              "\n",
              ".xr-var-preview {\n",
              "  grid-column: 4;\n",
              "}\n",
              "\n",
              ".xr-var-name,\n",
              ".xr-var-dims,\n",
              ".xr-var-dtype,\n",
              ".xr-preview,\n",
              ".xr-attrs dt {\n",
              "  white-space: nowrap;\n",
              "  overflow: hidden;\n",
              "  text-overflow: ellipsis;\n",
              "  padding-right: 10px;\n",
              "}\n",
              "\n",
              ".xr-var-name:hover,\n",
              ".xr-var-dims:hover,\n",
              ".xr-var-dtype:hover,\n",
              ".xr-attrs dt:hover {\n",
              "  overflow: visible;\n",
              "  width: auto;\n",
              "  z-index: 1;\n",
              "}\n",
              "\n",
              ".xr-var-attrs,\n",
              ".xr-var-data {\n",
              "  display: none;\n",
              "  background-color: var(--xr-background-color) !important;\n",
              "  padding-bottom: 5px !important;\n",
              "}\n",
              "\n",
              ".xr-var-attrs-in:checked ~ .xr-var-attrs,\n",
              ".xr-var-data-in:checked ~ .xr-var-data {\n",
              "  display: block;\n",
              "}\n",
              "\n",
              ".xr-var-data > table {\n",
              "  float: right;\n",
              "}\n",
              "\n",
              ".xr-var-name span,\n",
              ".xr-var-data,\n",
              ".xr-attrs {\n",
              "  padding-left: 25px !important;\n",
              "}\n",
              "\n",
              ".xr-attrs,\n",
              ".xr-var-attrs,\n",
              ".xr-var-data {\n",
              "  grid-column: 1 / -1;\n",
              "}\n",
              "\n",
              "dl.xr-attrs {\n",
              "  padding: 0;\n",
              "  margin: 0;\n",
              "  display: grid;\n",
              "  grid-template-columns: 125px auto;\n",
              "}\n",
              "\n",
              ".xr-attrs dt,\n",
              ".xr-attrs dd {\n",
              "  padding: 0;\n",
              "  margin: 0;\n",
              "  float: left;\n",
              "  padding-right: 10px;\n",
              "  width: auto;\n",
              "}\n",
              "\n",
              ".xr-attrs dt {\n",
              "  font-weight: normal;\n",
              "  grid-column: 1;\n",
              "}\n",
              "\n",
              ".xr-attrs dt:hover span {\n",
              "  display: inline-block;\n",
              "  background: var(--xr-background-color);\n",
              "  padding-right: 10px;\n",
              "}\n",
              "\n",
              ".xr-attrs dd {\n",
              "  grid-column: 2;\n",
              "  white-space: pre-wrap;\n",
              "  word-break: break-all;\n",
              "}\n",
              "\n",
              ".xr-icon-database,\n",
              ".xr-icon-file-text2 {\n",
              "  display: inline-block;\n",
              "  vertical-align: middle;\n",
              "  width: 1em;\n",
              "  height: 1.5em !important;\n",
              "  stroke-width: 0;\n",
              "  stroke: currentColor;\n",
              "  fill: currentColor;\n",
              "}\n",
              "</style><pre class='xr-text-repr-fallback'>&lt;xarray.DataArray &#x27;thetao&#x27; (lev: 35)&gt;\n",
              "array([24.430902, 24.328085, 23.88244 , 22.887335, 21.318243, 19.272509,\n",
              "       16.38816 , 14.398585, 12.582911, 10.768791,  9.92564 ,  9.741211,\n",
              "             nan,       nan,       nan,       nan,       nan,       nan,\n",
              "             nan,       nan,       nan,       nan,       nan,       nan,\n",
              "             nan,       nan,       nan,       nan,       nan,       nan,\n",
              "             nan,       nan,       nan,       nan,       nan], dtype=float32)\n",
              "Coordinates:\n",
              "    lat      float32 32.38\n",
              "    lon      float32 -78.62\n",
              "    x        float64 -78.27\n",
              "  * lev      (lev) float64 2.5 10.0 20.0 32.5 ... 5e+03 5.5e+03 6e+03 6.5e+03\n",
              "    y        float64 32.38\n",
              "    year     int32 2001</pre><div class='xr-wrap' hidden><div class='xr-header'><div class='xr-obj-type'>xarray.DataArray</div><div class='xr-array-name'>'thetao'</div><ul class='xr-dim-list'><li><span class='xr-has-index'>lev</span>: 35</li></ul></div><ul class='xr-sections'><li class='xr-section-item'><div class='xr-array-wrap'><input id='section-cfca2a1f-548d-4737-aa7e-02fea0978ecc' class='xr-array-in' type='checkbox' checked><label for='section-cfca2a1f-548d-4737-aa7e-02fea0978ecc' title='Show/hide data repr'><svg class='icon xr-icon-database'><use xlink:href='#icon-database'></use></svg></label><div class='xr-array-preview xr-preview'><span>24.43 24.33 23.88 22.89 21.32 19.27 16.39 ... nan nan nan nan nan nan</span></div><div class='xr-array-data'><pre>array([24.430902, 24.328085, 23.88244 , 22.887335, 21.318243, 19.272509,\n",
              "       16.38816 , 14.398585, 12.582911, 10.768791,  9.92564 ,  9.741211,\n",
              "             nan,       nan,       nan,       nan,       nan,       nan,\n",
              "             nan,       nan,       nan,       nan,       nan,       nan,\n",
              "             nan,       nan,       nan,       nan,       nan,       nan,\n",
              "             nan,       nan,       nan,       nan,       nan], dtype=float32)</pre></div></div></li><li class='xr-section-item'><input id='section-a21f01f1-7598-416e-a84b-6ba500b92130' class='xr-section-summary-in' type='checkbox'  checked><label for='section-a21f01f1-7598-416e-a84b-6ba500b92130' class='xr-section-summary' >Coordinates: <span>(6)</span></label><div class='xr-section-inline-details'></div><div class='xr-section-details'><ul class='xr-var-list'><li class='xr-var-item'><div class='xr-var-name'><span>lat</span></div><div class='xr-var-dims'>()</div><div class='xr-var-dtype'>float32</div><div class='xr-var-preview xr-preview'>32.38</div><input id='attrs-6988ae89-b446-49b0-b503-158c759bb273' class='xr-var-attrs-in' type='checkbox' ><label for='attrs-6988ae89-b446-49b0-b503-158c759bb273' title='Show/Hide attributes'><svg class='icon xr-icon-file-text2'><use xlink:href='#icon-file-text2'></use></svg></label><input id='data-583c3c6f-76f8-48dc-bc6c-364555f2756b' class='xr-var-data-in' type='checkbox'><label for='data-583c3c6f-76f8-48dc-bc6c-364555f2756b' title='Show/Hide data repr'><svg class='icon xr-icon-database'><use xlink:href='#icon-database'></use></svg></label><div class='xr-var-attrs'><dl class='xr-attrs'><dt><span>bounds :</span></dt><dd>lat_bnds</dd><dt><span>cell_methods :</span></dt><dd>y: point x: point</dd><dt><span>long_name :</span></dt><dd>latitude</dd><dt><span>standard_name :</span></dt><dd>latitude</dd><dt><span>units :</span></dt><dd>degrees_north</dd></dl></div><div class='xr-var-data'><pre>array(32.375427, dtype=float32)</pre></div></li><li class='xr-var-item'><div class='xr-var-name'><span>lon</span></div><div class='xr-var-dims'>()</div><div class='xr-var-dtype'>float32</div><div class='xr-var-preview xr-preview'>-78.62</div><input id='attrs-541fbd50-6ae5-4f8b-964c-d8dad9288b72' class='xr-var-attrs-in' type='checkbox' ><label for='attrs-541fbd50-6ae5-4f8b-964c-d8dad9288b72' title='Show/Hide attributes'><svg class='icon xr-icon-file-text2'><use xlink:href='#icon-file-text2'></use></svg></label><input id='data-6c1445c1-5116-4cb2-a535-132db866a1bc' class='xr-var-data-in' type='checkbox'><label for='data-6c1445c1-5116-4cb2-a535-132db866a1bc' title='Show/Hide data repr'><svg class='icon xr-icon-database'><use xlink:href='#icon-database'></use></svg></label><div class='xr-var-attrs'><dl class='xr-attrs'><dt><span>bounds :</span></dt><dd>lon_bnds</dd><dt><span>cell_methods :</span></dt><dd>y: point x: point</dd><dt><span>long_name :</span></dt><dd>longitude</dd><dt><span>standard_name :</span></dt><dd>longitude</dd><dt><span>units :</span></dt><dd>degrees_east</dd></dl></div><div class='xr-var-data'><pre>array(-78.625, dtype=float32)</pre></div></li><li class='xr-var-item'><div class='xr-var-name'><span>x</span></div><div class='xr-var-dims'>()</div><div class='xr-var-dtype'>float64</div><div class='xr-var-preview xr-preview'>-78.27</div><input id='attrs-78556266-6a67-4740-b10e-4776bc2079d6' class='xr-var-attrs-in' type='checkbox' ><label for='attrs-78556266-6a67-4740-b10e-4776bc2079d6' title='Show/Hide attributes'><svg class='icon xr-icon-file-text2'><use xlink:href='#icon-file-text2'></use></svg></label><input id='data-c47140f5-c697-4e5c-8f64-7978dddb12fa' class='xr-var-data-in' type='checkbox'><label for='data-c47140f5-c697-4e5c-8f64-7978dddb12fa' title='Show/Hide data repr'><svg class='icon xr-icon-database'><use xlink:href='#icon-database'></use></svg></label><div class='xr-var-attrs'><dl class='xr-attrs'><dt><span>axis :</span></dt><dd>X</dd><dt><span>long_name :</span></dt><dd>x coordinate of projection</dd><dt><span>standard_name :</span></dt><dd>projection_x_coordinate</dd><dt><span>units :</span></dt><dd>degrees</dd></dl></div><div class='xr-var-data'><pre>array(-78.27315008)</pre></div></li><li class='xr-var-item'><div class='xr-var-name'><span class='xr-has-index'>lev</span></div><div class='xr-var-dims'>(lev)</div><div class='xr-var-dtype'>float64</div><div class='xr-var-preview xr-preview'>2.5 10.0 20.0 ... 6e+03 6.5e+03</div><input id='attrs-9e5e4683-3029-4cc1-84d7-489be3d57abc' class='xr-var-attrs-in' type='checkbox' ><label for='attrs-9e5e4683-3029-4cc1-84d7-489be3d57abc' title='Show/Hide attributes'><svg class='icon xr-icon-file-text2'><use xlink:href='#icon-file-text2'></use></svg></label><input id='data-1c0239ff-4bd2-44d9-a2e0-f36bcfe54041' class='xr-var-data-in' type='checkbox'><label for='data-1c0239ff-4bd2-44d9-a2e0-f36bcfe54041' title='Show/Hide data repr'><svg class='icon xr-icon-database'><use xlink:href='#icon-database'></use></svg></label><div class='xr-var-attrs'><dl class='xr-attrs'><dt><span>axis :</span></dt><dd>Z</dd><dt><span>bounds :</span></dt><dd>lev_bnds</dd><dt><span>description :</span></dt><dd>generic ocean model vertical coordinate (nondimensional or dimensional)</dd><dt><span>long_name :</span></dt><dd>ocean model level</dd><dt><span>positive :</span></dt><dd>down</dd><dt><span>units :</span></dt><dd>m</dd></dl></div><div class='xr-var-data'><pre>array([2.5000e+00, 1.0000e+01, 2.0000e+01, 3.2500e+01, 5.1250e+01, 7.5000e+01,\n",
              "       1.0000e+02, 1.2500e+02, 1.5625e+02, 2.0000e+02, 2.5000e+02, 3.1250e+02,\n",
              "       4.0000e+02, 5.0000e+02, 6.0000e+02, 7.0000e+02, 8.0000e+02, 9.0000e+02,\n",
              "       1.0000e+03, 1.1000e+03, 1.2000e+03, 1.3000e+03, 1.4000e+03, 1.5375e+03,\n",
              "       1.7500e+03, 2.0625e+03, 2.5000e+03, 3.0000e+03, 3.5000e+03, 4.0000e+03,\n",
              "       4.5000e+03, 5.0000e+03, 5.5000e+03, 6.0000e+03, 6.5000e+03])</pre></div></li><li class='xr-var-item'><div class='xr-var-name'><span>y</span></div><div class='xr-var-dims'>()</div><div class='xr-var-dtype'>float64</div><div class='xr-var-preview xr-preview'>32.38</div><input id='attrs-c0649533-0bbd-455c-80a8-e74a5c394e8a' class='xr-var-attrs-in' type='checkbox' ><label for='attrs-c0649533-0bbd-455c-80a8-e74a5c394e8a' title='Show/Hide attributes'><svg class='icon xr-icon-file-text2'><use xlink:href='#icon-file-text2'></use></svg></label><input id='data-ac284fb0-557b-430a-af1b-e3cf687bc927' class='xr-var-data-in' type='checkbox'><label for='data-ac284fb0-557b-430a-af1b-e3cf687bc927' title='Show/Hide data repr'><svg class='icon xr-icon-database'><use xlink:href='#icon-database'></use></svg></label><div class='xr-var-attrs'><dl class='xr-attrs'><dt><span>axis :</span></dt><dd>Y</dd><dt><span>long_name :</span></dt><dd>y coordinate of projection</dd><dt><span>standard_name :</span></dt><dd>projection_y_coordinate</dd><dt><span>units :</span></dt><dd>degrees</dd></dl></div><div class='xr-var-data'><pre>array(32.375425)</pre></div></li><li class='xr-var-item'><div class='xr-var-name'><span>year</span></div><div class='xr-var-dims'>()</div><div class='xr-var-dtype'>int32</div><div class='xr-var-preview xr-preview'>2001</div><input id='attrs-29eaced7-5eb1-4a54-915e-f8bf7ffb7d3d' class='xr-var-attrs-in' type='checkbox' disabled><label for='attrs-29eaced7-5eb1-4a54-915e-f8bf7ffb7d3d' title='Show/Hide attributes'><svg class='icon xr-icon-file-text2'><use xlink:href='#icon-file-text2'></use></svg></label><input id='data-e4cae10b-8791-4585-86be-40550427abfc' class='xr-var-data-in' type='checkbox'><label for='data-e4cae10b-8791-4585-86be-40550427abfc' title='Show/Hide data repr'><svg class='icon xr-icon-database'><use xlink:href='#icon-database'></use></svg></label><div class='xr-var-attrs'><dl class='xr-attrs'></dl></div><div class='xr-var-data'><pre>array(2001, dtype=int32)</pre></div></li></ul></div></li><li class='xr-section-item'><input id='section-e4e3f55b-c368-45a7-a8b0-d617c35a0bea' class='xr-section-summary-in' type='checkbox' disabled ><label for='section-e4e3f55b-c368-45a7-a8b0-d617c35a0bea' class='xr-section-summary'  title='Expand/collapse section'>Attributes: <span>(0)</span></label><div class='xr-section-inline-details'></div><div class='xr-section-details'><dl class='xr-attrs'></dl></div></li></ul></div></div>"
            ],
            "text/plain": [
              "<xarray.DataArray 'thetao' (lev: 35)>\n",
              "array([24.430902, 24.328085, 23.88244 , 22.887335, 21.318243, 19.272509,\n",
              "       16.38816 , 14.398585, 12.582911, 10.768791,  9.92564 ,  9.741211,\n",
              "             nan,       nan,       nan,       nan,       nan,       nan,\n",
              "             nan,       nan,       nan,       nan,       nan,       nan,\n",
              "             nan,       nan,       nan,       nan,       nan,       nan,\n",
              "             nan,       nan,       nan,       nan,       nan], dtype=float32)\n",
              "Coordinates:\n",
              "    lat      float32 32.38\n",
              "    lon      float32 -78.62\n",
              "    x        float64 -78.27\n",
              "  * lev      (lev) float64 2.5 10.0 20.0 32.5 ... 5e+03 5.5e+03 6e+03 6.5e+03\n",
              "    y        float64 32.38\n",
              "    year     int32 2001"
            ]
          },
          "metadata": {
            "tags": []
          },
          "execution_count": 23
        }
      ]
    },
    {
      "cell_type": "markdown",
      "metadata": {
        "id": "KK9_fz9_zsHt"
      },
      "source": [
        "To see these 3 parameters better we can plot them into a 3D figure below."
      ]
    },
    {
      "cell_type": "code",
      "metadata": {
        "colab": {
          "base_uri": "https://localhost:8080/"
        },
        "id": "S26V3TOAQeFp",
        "outputId": "29103de1-337b-43a5-f1cd-1b2e8596bb69"
      },
      "source": [
        "plt.figure(figsize=(9,7))\n",
        "plt.title('Salinity-Temperature-Pressure')\n",
        "ax = plt.axes(projection='3d')\n",
        "ax.scatter(Sa[:,85], Ct[:,85], p, c=p, cmap='gist_heat', linewidth=0.5,);\n",
        "ax.set_xlabel('Salinity')\n",
        "ax.set_ylabel('Temperature')\n",
        "ax.set_zlabel('Pressure')"
      ],
      "execution_count": null,
      "outputs": [
        {
          "output_type": "stream",
          "text": [
            "/usr/local/lib/python3.7/dist-packages/ipykernel_launcher.py:3: MatplotlibDeprecationWarning: Adding an axes using the same arguments as a previous axes currently reuses the earlier instance.  In a future version, a new instance will always be created and returned.  Meanwhile, this warning can be suppressed, and the future behavior ensured, by passing a unique label to each axes instance.\n",
            "  This is separate from the ipykernel package so we can avoid doing imports until\n"
          ],
          "name": "stderr"
        },
        {
          "output_type": "execute_result",
          "data": {
            "text/plain": [
              "Text(0.5, 0, 'Pressure')"
            ]
          },
          "metadata": {
            "tags": []
          },
          "execution_count": 24
        },
        {
          "output_type": "display_data",
          "data": {
            "image/png": "[encoded data removed]",
            "text/plain": [
              "<Figure size 648x504 with 1 Axes>"
            ]
          },
          "metadata": {
            "tags": [],
            "needs_background": "light"
          }
        }
      ]
    },
    {
      "cell_type": "markdown",
      "metadata": {
        "id": "5_rVHeWKIWn4"
      },
      "source": [
        "## Ts Diagram"
      ]
    },
    {
      "cell_type": "markdown",
      "metadata": {
        "id": "kU4o0Aoqz8n-"
      },
      "source": [
        "To see relation between salinity and temperature we can plot a T/S diagram in longitude -78.62. Lower salinity cause lower pressure and density."
      ]
    },
    {
      "cell_type": "code",
      "metadata": {
        "colab": {
          "base_uri": "https://localhost:8080/",
          "height": 458
        },
        "id": "xfVaYzBWIZQg",
        "outputId": "95fe737e-5360-4df6-983d-fb05b5abfaac"
      },
      "source": [
        "plt.figure(figsize=(9,7))\n",
        "plt.title('T/S Diagram')\n",
        "# plt.scatter(Ct.values,Sa.values)\n",
        "plt.plot(Ct.values, Sa.values, 'gs')\n",
        "plt.xlabel(\"Temperature (°C)\")\n",
        "plt.ylabel(\"Salinity (PSU)\")\n",
        "plt.show()"
      ],
      "execution_count": null,
      "outputs": [
        {
          "output_type": "display_data",
          "data": {
            "image/png": "[encoded data removed]",
            "text/plain": [
              "<Figure size 648x504 with 1 Axes>"
            ]
          },
          "metadata": {
            "tags": [],
            "needs_background": "light"
          }
        }
      ]
    },
    {
      "cell_type": "markdown",
      "metadata": {
        "id": "xAfJRLrD0T-f"
      },
      "source": [
        "`gsw.CT_freezing` function can calculate freezing temrepature from the salinity , pressure and saturation fraction."
      ]
    },
    {
      "cell_type": "code",
      "metadata": {
        "colab": {
          "base_uri": "https://localhost:8080/"
        },
        "id": "pNWFAMhF0fqL",
        "outputId": "5e8767b2-caee-46d6-d0ba-e6ba0f661733"
      },
      "source": [
        "help(gsw.CT_freezing)"
      ],
      "execution_count": null,
      "outputs": [
        {
          "output_type": "stream",
          "text": [
            "Help on function CT_freezing in module gsw._wrapped_ufuncs:\n",
            "\n",
            "CT_freezing(SA, p, saturation_fraction)\n",
            "    Calculates the Conservative Temperature at which seawater freezes.  The\n",
            "    Conservative Temperature freezing point is calculated from the exact\n",
            "    in-situ freezing temperature which is found by a modified Newton-Raphson\n",
            "    iteration (McDougall and Wotherspoon, 2014) of the equality of the\n",
            "    chemical potentials of water in seawater and in ice.\n",
            "    \n",
            "    Parameters\n",
            "    ----------\n",
            "    SA : array-like\n",
            "        Absolute Salinity, g/kg\n",
            "    p : array-like\n",
            "        Sea pressure (absolute pressure minus 10.1325 dbar), dbar\n",
            "    saturation_fraction : array-like\n",
            "        Saturation fraction of dissolved air in seawater. (0..1)\n",
            "    \n",
            "    Returns\n",
            "    -------\n",
            "    CT_freezing : array-like, deg C\n",
            "        Conservative Temperature at freezing of seawater\n",
            "        That is, the freezing temperature expressed in terms of\n",
            "        Conservative Temperature (ITS-90).\n",
            "\n"
          ],
          "name": "stdout"
        }
      ]
    },
    {
      "cell_type": "code",
      "metadata": {
        "id": "s_AzqrcNbQSM"
      },
      "source": [
        "freezing = gsw.CT_freezing(Sa,p,0)"
      ],
      "execution_count": null,
      "outputs": []
    },
    {
      "cell_type": "code",
      "metadata": {
        "colab": {
          "base_uri": "https://localhost:8080/",
          "height": 458
        },
        "id": "P_J0YfFybkbq",
        "outputId": "ea2cccbd-09cb-496d-c94b-343dba0a4e07"
      },
      "source": [
        "plt.figure(figsize=(9,7))\n",
        "plt.title('Freezing Temp / Depth')\n",
        "# plt.scatter(Ct.values,Sa.values)\n",
        "plt.plot(freezing.values, -df.lev, 'bs')\n",
        "plt.xlabel(\"Freezing Temperature (°C)\")\n",
        "plt.ylabel(\"Depth\")\n",
        "plt.show()"
      ],
      "execution_count": null,
      "outputs": [
        {
          "output_type": "display_data",
          "data": {
            "image/png": "[encoded data removed]",
            "text/plain": [
              "<Figure size 648x504 with 1 Axes>"
            ]
          },
          "metadata": {
            "tags": [],
            "needs_background": "light"
          }
        }
      ]
    },
    {
      "cell_type": "markdown",
      "metadata": {
        "id": "Sv3a1_1K0qpc"
      },
      "source": [
        "We can see from the plot above that freezing temperature is about -2 C near the surface, as it approaches a depth of 6500 meters, it decreases towards -7 C.\n",
        "> It is\tconsistent, because we know that ocean water starts to freeze from the surface.\n",
        "\n"
      ]
    },
    {
      "cell_type": "code",
      "metadata": {
        "colab": {
          "base_uri": "https://localhost:8080/",
          "height": 444
        },
        "id": "F_6neO6CjZVE",
        "outputId": "37825876-ed25-4965-d932-00f7a3e259ee"
      },
      "source": [
        "plt.figure(figsize=(9,7))\n",
        "plt.title('Freezing Temperature')\n",
        "plt.pcolormesh(df.x, -df.lev, freezing);plt.colorbar();"
      ],
      "execution_count": null,
      "outputs": [
        {
          "output_type": "display_data",
          "data": {
            "image/png": "[encoded data removed]",
            "text/plain": [
              "<Figure size 648x504 with 2 Axes>"
            ]
          },
          "metadata": {
            "tags": [],
            "needs_background": "light"
          }
        }
      ]
    },
    {
      "cell_type": "markdown",
      "metadata": {
        "id": "TCOavbIHcV57"
      },
      "source": [
        "##Hydrostatic Balance"
      ]
    },
    {
      "cell_type": "markdown",
      "metadata": {
        "id": "17pc0G4E1hI5"
      },
      "source": [
        "We have learnt Hydrostatic Balance formula shown below."
      ]
    },
    {
      "cell_type": "code",
      "metadata": {
        "colab": {
          "base_uri": "https://localhost:8080/"
        },
        "id": "G8Xc7k7N4o66",
        "outputId": "1595c47d-fac4-4612-9cff-1ca92923021e"
      },
      "source": [
        "%%latex\n",
        "$\\ \\frac{\\ -1 } {\\rho} \\frac{\\partial p}{\\partial x} = g $"
      ],
      "execution_count": null,
      "outputs": [
        {
          "output_type": "display_data",
          "data": {
            "text/latex": "$\\ \\frac{\\ -1 } {\\rho} \\frac{\\partial p}{\\partial x} = g $",
            "text/plain": [
              "<IPython.core.display.Latex object>"
            ]
          },
          "metadata": {
            "tags": []
          }
        }
      ]
    },
    {
      "cell_type": "markdown",
      "metadata": {
        "id": "Zf_0Xzzs1otP"
      },
      "source": [
        "We can see a partial difference term in the formula. If we integrate the equation:"
      ]
    },
    {
      "cell_type": "code",
      "metadata": {
        "id": "Z9vAskNeUdq-"
      },
      "source": [
        "g = 9.82"
      ],
      "execution_count": null,
      "outputs": []
    },
    {
      "cell_type": "code",
      "metadata": {
        "colab": {
          "base_uri": "https://localhost:8080/"
        },
        "id": "nGOoC0HUcjyb",
        "outputId": "7757e6fc-8efa-4616-96fc-48c3db75c126"
      },
      "source": [
        "%%latex\n",
        "$\\ \\int \\frac{\\ -1 } {\\rho} \\frac{\\partial p}{\\partial x} = \\int g $"
      ],
      "execution_count": null,
      "outputs": [
        {
          "output_type": "display_data",
          "data": {
            "text/latex": "$\\ \\int \\frac{\\ -1 } {\\rho} \\frac{\\partial p}{\\partial x} = \\int g $",
            "text/plain": [
              "<IPython.core.display.Latex object>"
            ]
          },
          "metadata": {
            "tags": []
          }
        }
      ]
    },
    {
      "cell_type": "code",
      "metadata": {
        "colab": {
          "base_uri": "https://localhost:8080/"
        },
        "id": "GRiTIvo1dMTh",
        "outputId": "757e2f5b-5333-4ffd-858b-56607518c559"
      },
      "source": [
        "%%latex\n",
        "$\\ \\frac{\\ -p } {\\rho} = gz+c $"
      ],
      "execution_count": null,
      "outputs": [
        {
          "output_type": "display_data",
          "data": {
            "text/latex": "$\\ \\frac{\\ -p } {\\rho} = gz+c $",
            "text/plain": [
              "<IPython.core.display.Latex object>"
            ]
          },
          "metadata": {
            "tags": []
          }
        }
      ]
    },
    {
      "cell_type": "markdown",
      "metadata": {
        "id": "NPFcCT2b14RP"
      },
      "source": [
        "Now we have an constant term (c). To find out c we can use the equation in the water surface. We know that water pressure at the surface is zero. "
      ]
    },
    {
      "cell_type": "code",
      "metadata": {
        "colab": {
          "base_uri": "https://localhost:8080/"
        },
        "id": "ypQL5ziN88A4",
        "outputId": "66244520-b7ff-426d-919a-16d17828f9d4"
      },
      "source": [
        "pmax = p.max()\n",
        "pmax.values"
      ],
      "execution_count": null,
      "outputs": [
        {
          "output_type": "execute_result",
          "data": {
            "text/plain": [
              "array(6646.08936396)"
            ]
          },
          "metadata": {
            "tags": []
          },
          "execution_count": 34
        }
      ]
    },
    {
      "cell_type": "code",
      "metadata": {
        "colab": {
          "base_uri": "https://localhost:8080/"
        },
        "id": "9bEYszKha93R",
        "outputId": "0ac28837-5cd0-44eb-e608-8e8daa5c8d09"
      },
      "source": [
        "c=(-1*pmax.values)/1031.78044714 - (6000*g)\n",
        "c"
      ],
      "execution_count": null,
      "outputs": [
        {
          "output_type": "execute_result",
          "data": {
            "text/plain": [
              "-58926.441379445"
            ]
          },
          "metadata": {
            "tags": []
          },
          "execution_count": 35
        }
      ]
    },
    {
      "cell_type": "markdown",
      "metadata": {
        "id": "EyYsb9kC2NYq"
      },
      "source": [
        "So we found c as -58926.441379445 and our formula turned out to:"
      ]
    },
    {
      "cell_type": "code",
      "metadata": {
        "colab": {
          "base_uri": "https://localhost:8080/"
        },
        "id": "852T1PQKbk1z",
        "outputId": "3ecae577-ba86-4754-b658-9e8152acea60"
      },
      "source": [
        "%%latex\n",
        "$\\ \\frac{\\ -p } {\\rho} = gz-58926.4414 $"
      ],
      "execution_count": null,
      "outputs": [
        {
          "output_type": "display_data",
          "data": {
            "text/latex": "$\\ \\frac{\\ -p } {\\rho} = gz-58926.4414 $",
            "text/plain": [
              "<IPython.core.display.Latex object>"
            ]
          },
          "metadata": {
            "tags": []
          }
        }
      ]
    },
    {
      "cell_type": "code",
      "metadata": {
        "colab": {
          "base_uri": "https://localhost:8080/"
        },
        "id": "MAO0M5LHhEcI",
        "outputId": "9af1c155-ee57-414d-880b-d87bf7c12271"
      },
      "source": [
        "%%latex\n",
        "$\\ {p}= {\\rho} (58926.4414-gz)  $"
      ],
      "execution_count": null,
      "outputs": [
        {
          "output_type": "display_data",
          "data": {
            "text/latex": "$\\ {p}= {\\rho} (58926.4414-gz)  $",
            "text/plain": [
              "<IPython.core.display.Latex object>"
            ]
          },
          "metadata": {
            "tags": []
          }
        }
      ]
    },
    {
      "cell_type": "code",
      "metadata": {
        "colab": {
          "base_uri": "https://localhost:8080/"
        },
        "id": "nSrVcMrUYV_A",
        "outputId": "9d4931bf-38b7-4d6c-f432-66953e17a9b5"
      },
      "source": [
        "p_HB = rho[:, 85].values*(58926.4414 - (g*df.lev.values))\n",
        "p_HB"
      ],
      "execution_count": null,
      "outputs": [
        {
          "output_type": "execute_result",
          "data": {
            "text/plain": [
              "array([60343157.01287297, 60272454.06718594, 60183339.08295384,\n",
              "       60078460.73764706, 59919440.87737861, 59712660.65005118,\n",
              "       59497251.91275038, 59267295.47164183, 58971715.68363356,\n",
              "       58551671.2543539 , 58064107.44180189, 57449817.67013754,\n",
              "                     nan,               nan,               nan,\n",
              "                     nan,               nan,               nan,\n",
              "                     nan,               nan,               nan,\n",
              "                     nan,               nan,               nan,\n",
              "                     nan,               nan,               nan,\n",
              "                     nan,               nan,               nan,\n",
              "                     nan,               nan,               nan,\n",
              "                     nan,               nan])"
            ]
          },
          "metadata": {
            "tags": []
          },
          "execution_count": 38
        }
      ]
    },
    {
      "cell_type": "code",
      "metadata": {
        "colab": {
          "base_uri": "https://localhost:8080/"
        },
        "id": "4wuTPOAvZJcW",
        "outputId": "501fde79-5d1f-4071-f1b6-d8b37448e444"
      },
      "source": [
        "plt.figure(figsize=(8,6))\n",
        "plt.title('Pressure (Hydrostatic Balance)')\n",
        "plt.plot(p_HB)"
      ],
      "execution_count": null,
      "outputs": [
        {
          "output_type": "execute_result",
          "data": {
            "text/plain": [
              "[<matplotlib.lines.Line2D at 0x7fa1b8d33ed0>]"
            ]
          },
          "metadata": {
            "tags": []
          },
          "execution_count": 39
        },
        {
          "output_type": "display_data",
          "data": {
            "image/png": "[encoded data removed]",
            "text/plain": [
              "<Figure size 576x432 with 1 Axes>"
            ]
          },
          "metadata": {
            "tags": [],
            "needs_background": "light"
          }
        }
      ]
    },
    {
      "cell_type": "markdown",
      "metadata": {
        "id": "IuLplCMQCip-"
      },
      "source": [
        "##Geostrophic Balance"
      ]
    },
    {
      "cell_type": "markdown",
      "metadata": {
        "id": "EMKawcdxCrp7"
      },
      "source": [
        "According to geostrophic balance velocity in x direction is:"
      ]
    },
    {
      "cell_type": "code",
      "metadata": {
        "colab": {
          "base_uri": "https://localhost:8080/"
        },
        "id": "n9lFh3sWC0ON",
        "outputId": "612043e1-0304-4d9d-ac48-557e7623ac3f"
      },
      "source": [
        "%%latex\n",
        "$\\ {v}_{g} = \\frac{\\ -1 } {f \\rho} \\frac{\\partial p}{\\partial x} $"
      ],
      "execution_count": null,
      "outputs": [
        {
          "output_type": "display_data",
          "data": {
            "text/latex": "$\\ {v}_{g} = \\frac{\\ -1 } {f \\rho} \\frac{\\partial p}{\\partial x} $",
            "text/plain": [
              "<IPython.core.display.Latex object>"
            ]
          },
          "metadata": {
            "tags": []
          }
        }
      ]
    },
    {
      "cell_type": "markdown",
      "metadata": {
        "id": "KY1rY5ywDRy9"
      },
      "source": [
        "According to geostrophic balance velocity in y direction is:"
      ]
    },
    {
      "cell_type": "code",
      "metadata": {
        "colab": {
          "base_uri": "https://localhost:8080/"
        },
        "id": "I0btLXhwDXz6",
        "outputId": "d31f3955-4561-42d4-d7c6-45bdbb843db4"
      },
      "source": [
        "%%latex\n",
        "$\\ {u}_{g} = \\frac{\\ -1 } {f \\rho} \\frac{\\partial p}{\\partial y} $"
      ],
      "execution_count": null,
      "outputs": [
        {
          "output_type": "display_data",
          "data": {
            "text/latex": "$\\ {u}_{g} = \\frac{\\ -1 } {f \\rho} \\frac{\\partial p}{\\partial y} $",
            "text/plain": [
              "<IPython.core.display.Latex object>"
            ]
          },
          "metadata": {
            "tags": []
          }
        }
      ]
    },
    {
      "cell_type": "markdown",
      "metadata": {
        "id": "uhFyB_JyDdO9"
      },
      "source": [
        "In those formula f is coriolis coefficent which is using to find coriolis force:"
      ]
    },
    {
      "cell_type": "code",
      "metadata": {
        "colab": {
          "base_uri": "https://localhost:8080/"
        },
        "id": "ef1UeX2eDvep",
        "outputId": "7396f51a-1d3d-4019-a647-01a70221e207"
      },
      "source": [
        "%%latex\n",
        "$\\ {F} = {-2m } ({\\omega} \\times v) $"
      ],
      "execution_count": null,
      "outputs": [
        {
          "output_type": "display_data",
          "data": {
            "text/latex": "$\\ {F} = {-2m } ({\\omega} \\times v) $",
            "text/plain": [
              "<IPython.core.display.Latex object>"
            ]
          },
          "metadata": {
            "tags": []
          }
        }
      ]
    },
    {
      "cell_type": "code",
      "metadata": {
        "colab": {
          "base_uri": "https://localhost:8080/"
        },
        "id": "QKytSXCU-WbY",
        "outputId": "9b6654f6-cd34-4584-e166-9d09edb935cc"
      },
      "source": [
        "%%latex\n",
        "$\\ {f} = 2{\\Omega}sin{\\varphi} $"
      ],
      "execution_count": null,
      "outputs": [
        {
          "output_type": "display_data",
          "data": {
            "text/latex": "$\\ {f} = 2{\\Omega}sin{\\varphi} $",
            "text/plain": [
              "<IPython.core.display.Latex object>"
            ]
          },
          "metadata": {
            "tags": []
          }
        }
      ]
    },
    {
      "cell_type": "markdown",
      "metadata": {
        "id": "mdJyXsPxNRiJ"
      },
      "source": [
        "`gsw.geostrophy.f` function helps to find f for the formula of coriolis force from latitude.\n"
      ]
    },
    {
      "cell_type": "code",
      "metadata": {
        "colab": {
          "base_uri": "https://localhost:8080/"
        },
        "id": "34MjedzvhhFo",
        "outputId": "31f4a51b-2557-4fdb-ee4b-fa9f7cb85c84"
      },
      "source": [
        "help(gsw.geostrophy.f)"
      ],
      "execution_count": null,
      "outputs": [
        {
          "output_type": "stream",
          "text": [
            "Help on function f in module gsw.geostrophy:\n",
            "\n",
            "f(lat)\n",
            "    Coriolis parameter in 1/s for latitude in degrees.\n",
            "\n"
          ],
          "name": "stdout"
        }
      ]
    },
    {
      "cell_type": "code",
      "metadata": {
        "colab": {
          "base_uri": "https://localhost:8080/"
        },
        "id": "rIAxcamwCpq0",
        "outputId": "5066bacb-133f-48c3-c853-612aa9b67232"
      },
      "source": [
        "f = gsw.geostrophy.f(df.lat)\n",
        "f.tail(50)"
      ],
      "execution_count": null,
      "outputs": [
        {
          "output_type": "execute_result",
          "data": {
            "text/html": [
              "<div><svg style=\"position: absolute; width: 0; height: 0; overflow: hidden\">\n",
              "<defs>\n",
              "<symbol id=\"icon-database\" viewBox=\"0 0 32 32\">\n",
              "<path d=\"M16 0c-8.837 0-16 2.239-16 5v4c0 2.761 7.163 5 16 5s16-2.239 16-5v-4c0-2.761-7.163-5-16-5z\"></path>\n",
              "<path d=\"M16 17c-8.837 0-16-2.239-16-5v6c0 2.761 7.163 5 16 5s16-2.239 16-5v-6c0 2.761-7.163 5-16 5z\"></path>\n",
              "<path d=\"M16 26c-8.837 0-16-2.239-16-5v6c0 2.761 7.163 5 16 5s16-2.239 16-5v-6c0 2.761-7.163 5-16 5z\"></path>\n",
              "</symbol>\n",
              "<symbol id=\"icon-file-text2\" viewBox=\"0 0 32 32\">\n",
              "<path d=\"M28.681 7.159c-0.694-0.947-1.662-2.053-2.724-3.116s-2.169-2.030-3.116-2.724c-1.612-1.182-2.393-1.319-2.841-1.319h-15.5c-1.378 0-2.5 1.121-2.5 2.5v27c0 1.378 1.122 2.5 2.5 2.5h23c1.378 0 2.5-1.122 2.5-2.5v-19.5c0-0.448-0.137-1.23-1.319-2.841zM24.543 5.457c0.959 0.959 1.712 1.825 2.268 2.543h-4.811v-4.811c0.718 0.556 1.584 1.309 2.543 2.268zM28 29.5c0 0.271-0.229 0.5-0.5 0.5h-23c-0.271 0-0.5-0.229-0.5-0.5v-27c0-0.271 0.229-0.5 0.5-0.5 0 0 15.499-0 15.5 0v7c0 0.552 0.448 1 1 1h7v19.5z\"></path>\n",
              "<path d=\"M23 26h-14c-0.552 0-1-0.448-1-1s0.448-1 1-1h14c0.552 0 1 0.448 1 1s-0.448 1-1 1z\"></path>\n",
              "<path d=\"M23 22h-14c-0.552 0-1-0.448-1-1s0.448-1 1-1h14c0.552 0 1 0.448 1 1s-0.448 1-1 1z\"></path>\n",
              "<path d=\"M23 18h-14c-0.552 0-1-0.448-1-1s0.448-1 1-1h14c0.552 0 1 0.448 1 1s-0.448 1-1 1z\"></path>\n",
              "</symbol>\n",
              "</defs>\n",
              "</svg>\n",
              "<style>/* CSS stylesheet for displaying xarray objects in jupyterlab.\n",
              " *\n",
              " */\n",
              "\n",
              ":root {\n",
              "  --xr-font-color0: var(--jp-content-font-color0, rgba(0, 0, 0, 1));\n",
              "  --xr-font-color2: var(--jp-content-font-color2, rgba(0, 0, 0, 0.54));\n",
              "  --xr-font-color3: var(--jp-content-font-color3, rgba(0, 0, 0, 0.38));\n",
              "  --xr-border-color: var(--jp-border-color2, #e0e0e0);\n",
              "  --xr-disabled-color: var(--jp-layout-color3, #bdbdbd);\n",
              "  --xr-background-color: var(--jp-layout-color0, white);\n",
              "  --xr-background-color-row-even: var(--jp-layout-color1, white);\n",
              "  --xr-background-color-row-odd: var(--jp-layout-color2, #eeeeee);\n",
              "}\n",
              "\n",
              "html[theme=dark],\n",
              "body.vscode-dark {\n",
              "  --xr-font-color0: rgba(255, 255, 255, 1);\n",
              "  --xr-font-color2: rgba(255, 255, 255, 0.54);\n",
              "  --xr-font-color3: rgba(255, 255, 255, 0.38);\n",
              "  --xr-border-color: #1F1F1F;\n",
              "  --xr-disabled-color: #515151;\n",
              "  --xr-background-color: #111111;\n",
              "  --xr-background-color-row-even: #111111;\n",
              "  --xr-background-color-row-odd: #313131;\n",
              "}\n",
              "\n",
              ".xr-wrap {\n",
              "  display: block;\n",
              "  min-width: 300px;\n",
              "  max-width: 700px;\n",
              "}\n",
              "\n",
              ".xr-text-repr-fallback {\n",
              "  /* fallback to plain text repr when CSS is not injected (untrusted notebook) */\n",
              "  display: none;\n",
              "}\n",
              "\n",
              ".xr-header {\n",
              "  padding-top: 6px;\n",
              "  padding-bottom: 6px;\n",
              "  margin-bottom: 4px;\n",
              "  border-bottom: solid 1px var(--xr-border-color);\n",
              "}\n",
              "\n",
              ".xr-header > div,\n",
              ".xr-header > ul {\n",
              "  display: inline;\n",
              "  margin-top: 0;\n",
              "  margin-bottom: 0;\n",
              "}\n",
              "\n",
              ".xr-obj-type,\n",
              ".xr-array-name {\n",
              "  margin-left: 2px;\n",
              "  margin-right: 10px;\n",
              "}\n",
              "\n",
              ".xr-obj-type {\n",
              "  color: var(--xr-font-color2);\n",
              "}\n",
              "\n",
              ".xr-sections {\n",
              "  padding-left: 0 !important;\n",
              "  display: grid;\n",
              "  grid-template-columns: 150px auto auto 1fr 20px 20px;\n",
              "}\n",
              "\n",
              ".xr-section-item {\n",
              "  display: contents;\n",
              "}\n",
              "\n",
              ".xr-section-item input {\n",
              "  display: none;\n",
              "}\n",
              "\n",
              ".xr-section-item input + label {\n",
              "  color: var(--xr-disabled-color);\n",
              "}\n",
              "\n",
              ".xr-section-item input:enabled + label {\n",
              "  cursor: pointer;\n",
              "  color: var(--xr-font-color2);\n",
              "}\n",
              "\n",
              ".xr-section-item input:enabled + label:hover {\n",
              "  color: var(--xr-font-color0);\n",
              "}\n",
              "\n",
              ".xr-section-summary {\n",
              "  grid-column: 1;\n",
              "  color: var(--xr-font-color2);\n",
              "  font-weight: 500;\n",
              "}\n",
              "\n",
              ".xr-section-summary > span {\n",
              "  display: inline-block;\n",
              "  padding-left: 0.5em;\n",
              "}\n",
              "\n",
              ".xr-section-summary-in:disabled + label {\n",
              "  color: var(--xr-font-color2);\n",
              "}\n",
              "\n",
              ".xr-section-summary-in + label:before {\n",
              "  display: inline-block;\n",
              "  content: '►';\n",
              "  font-size: 11px;\n",
              "  width: 15px;\n",
              "  text-align: center;\n",
              "}\n",
              "\n",
              ".xr-section-summary-in:disabled + label:before {\n",
              "  color: var(--xr-disabled-color);\n",
              "}\n",
              "\n",
              ".xr-section-summary-in:checked + label:before {\n",
              "  content: '▼';\n",
              "}\n",
              "\n",
              ".xr-section-summary-in:checked + label > span {\n",
              "  display: none;\n",
              "}\n",
              "\n",
              ".xr-section-summary,\n",
              ".xr-section-inline-details {\n",
              "  padding-top: 4px;\n",
              "  padding-bottom: 4px;\n",
              "}\n",
              "\n",
              ".xr-section-inline-details {\n",
              "  grid-column: 2 / -1;\n",
              "}\n",
              "\n",
              ".xr-section-details {\n",
              "  display: none;\n",
              "  grid-column: 1 / -1;\n",
              "  margin-bottom: 5px;\n",
              "}\n",
              "\n",
              ".xr-section-summary-in:checked ~ .xr-section-details {\n",
              "  display: contents;\n",
              "}\n",
              "\n",
              ".xr-array-wrap {\n",
              "  grid-column: 1 / -1;\n",
              "  display: grid;\n",
              "  grid-template-columns: 20px auto;\n",
              "}\n",
              "\n",
              ".xr-array-wrap > label {\n",
              "  grid-column: 1;\n",
              "  vertical-align: top;\n",
              "}\n",
              "\n",
              ".xr-preview {\n",
              "  color: var(--xr-font-color3);\n",
              "}\n",
              "\n",
              ".xr-array-preview,\n",
              ".xr-array-data {\n",
              "  padding: 0 5px !important;\n",
              "  grid-column: 2;\n",
              "}\n",
              "\n",
              ".xr-array-data,\n",
              ".xr-array-in:checked ~ .xr-array-preview {\n",
              "  display: none;\n",
              "}\n",
              "\n",
              ".xr-array-in:checked ~ .xr-array-data,\n",
              ".xr-array-preview {\n",
              "  display: inline-block;\n",
              "}\n",
              "\n",
              ".xr-dim-list {\n",
              "  display: inline-block !important;\n",
              "  list-style: none;\n",
              "  padding: 0 !important;\n",
              "  margin: 0;\n",
              "}\n",
              "\n",
              ".xr-dim-list li {\n",
              "  display: inline-block;\n",
              "  padding: 0;\n",
              "  margin: 0;\n",
              "}\n",
              "\n",
              ".xr-dim-list:before {\n",
              "  content: '(';\n",
              "}\n",
              "\n",
              ".xr-dim-list:after {\n",
              "  content: ')';\n",
              "}\n",
              "\n",
              ".xr-dim-list li:not(:last-child):after {\n",
              "  content: ',';\n",
              "  padding-right: 5px;\n",
              "}\n",
              "\n",
              ".xr-has-index {\n",
              "  font-weight: bold;\n",
              "}\n",
              "\n",
              ".xr-var-list,\n",
              ".xr-var-item {\n",
              "  display: contents;\n",
              "}\n",
              "\n",
              ".xr-var-item > div,\n",
              ".xr-var-item label,\n",
              ".xr-var-item > .xr-var-name span {\n",
              "  background-color: var(--xr-background-color-row-even);\n",
              "  margin-bottom: 0;\n",
              "}\n",
              "\n",
              ".xr-var-item > .xr-var-name:hover span {\n",
              "  padding-right: 5px;\n",
              "}\n",
              "\n",
              ".xr-var-list > li:nth-child(odd) > div,\n",
              ".xr-var-list > li:nth-child(odd) > label,\n",
              ".xr-var-list > li:nth-child(odd) > .xr-var-name span {\n",
              "  background-color: var(--xr-background-color-row-odd);\n",
              "}\n",
              "\n",
              ".xr-var-name {\n",
              "  grid-column: 1;\n",
              "}\n",
              "\n",
              ".xr-var-dims {\n",
              "  grid-column: 2;\n",
              "}\n",
              "\n",
              ".xr-var-dtype {\n",
              "  grid-column: 3;\n",
              "  text-align: right;\n",
              "  color: var(--xr-font-color2);\n",
              "}\n",
              "\n",
              ".xr-var-preview {\n",
              "  grid-column: 4;\n",
              "}\n",
              "\n",
              ".xr-var-name,\n",
              ".xr-var-dims,\n",
              ".xr-var-dtype,\n",
              ".xr-preview,\n",
              ".xr-attrs dt {\n",
              "  white-space: nowrap;\n",
              "  overflow: hidden;\n",
              "  text-overflow: ellipsis;\n",
              "  padding-right: 10px;\n",
              "}\n",
              "\n",
              ".xr-var-name:hover,\n",
              ".xr-var-dims:hover,\n",
              ".xr-var-dtype:hover,\n",
              ".xr-attrs dt:hover {\n",
              "  overflow: visible;\n",
              "  width: auto;\n",
              "  z-index: 1;\n",
              "}\n",
              "\n",
              ".xr-var-attrs,\n",
              ".xr-var-data {\n",
              "  display: none;\n",
              "  background-color: var(--xr-background-color) !important;\n",
              "  padding-bottom: 5px !important;\n",
              "}\n",
              "\n",
              ".xr-var-attrs-in:checked ~ .xr-var-attrs,\n",
              ".xr-var-data-in:checked ~ .xr-var-data {\n",
              "  display: block;\n",
              "}\n",
              "\n",
              ".xr-var-data > table {\n",
              "  float: right;\n",
              "}\n",
              "\n",
              ".xr-var-name span,\n",
              ".xr-var-data,\n",
              ".xr-attrs {\n",
              "  padding-left: 25px !important;\n",
              "}\n",
              "\n",
              ".xr-attrs,\n",
              ".xr-var-attrs,\n",
              ".xr-var-data {\n",
              "  grid-column: 1 / -1;\n",
              "}\n",
              "\n",
              "dl.xr-attrs {\n",
              "  padding: 0;\n",
              "  margin: 0;\n",
              "  display: grid;\n",
              "  grid-template-columns: 125px auto;\n",
              "}\n",
              "\n",
              ".xr-attrs dt,\n",
              ".xr-attrs dd {\n",
              "  padding: 0;\n",
              "  margin: 0;\n",
              "  float: left;\n",
              "  padding-right: 10px;\n",
              "  width: auto;\n",
              "}\n",
              "\n",
              ".xr-attrs dt {\n",
              "  font-weight: normal;\n",
              "  grid-column: 1;\n",
              "}\n",
              "\n",
              ".xr-attrs dt:hover span {\n",
              "  display: inline-block;\n",
              "  background: var(--xr-background-color);\n",
              "  padding-right: 10px;\n",
              "}\n",
              "\n",
              ".xr-attrs dd {\n",
              "  grid-column: 2;\n",
              "  white-space: pre-wrap;\n",
              "  word-break: break-all;\n",
              "}\n",
              "\n",
              ".xr-icon-database,\n",
              ".xr-icon-file-text2 {\n",
              "  display: inline-block;\n",
              "  vertical-align: middle;\n",
              "  width: 1em;\n",
              "  height: 1.5em !important;\n",
              "  stroke-width: 0;\n",
              "  stroke: currentColor;\n",
              "  fill: currentColor;\n",
              "}\n",
              "</style><pre class='xr-text-repr-fallback'>&lt;xarray.DataArray &#x27;lat&#x27; (x: 50)&gt;\n",
              "array([7.80934e-05, 7.80934e-05, 7.80934e-05, 7.80934e-05, 7.80934e-05,\n",
              "       7.80934e-05, 7.80934e-05, 7.80934e-05, 7.80934e-05, 7.80934e-05,\n",
              "       7.80934e-05, 7.80934e-05, 7.80934e-05, 7.80934e-05, 7.80934e-05,\n",
              "       7.80934e-05, 7.80934e-05, 7.80934e-05, 7.80934e-05, 7.80934e-05,\n",
              "       7.80934e-05, 7.80934e-05, 7.80934e-05, 7.80934e-05, 7.80934e-05,\n",
              "       7.80934e-05, 7.80934e-05, 7.80934e-05, 7.80934e-05, 7.80934e-05,\n",
              "       7.80934e-05, 7.80934e-05, 7.80934e-05, 7.80934e-05, 7.80934e-05,\n",
              "       7.80934e-05, 7.80934e-05, 7.80934e-05, 7.80934e-05, 7.80934e-05,\n",
              "       7.80934e-05, 7.80934e-05, 7.80934e-05, 7.80934e-05, 7.80934e-05,\n",
              "       7.80934e-05, 7.80934e-05, 7.80934e-05, 7.80934e-05, 7.80934e-05],\n",
              "      dtype=float32)\n",
              "Coordinates:\n",
              "    lat      (x) float32 32.38 32.38 32.38 32.38 ... 32.38 32.38 32.38 32.38\n",
              "    lon      (x) float32 -12.38 -12.12 -11.88 -11.62 ... -0.625 -0.375 -0.125\n",
              "  * x        (x) float64 -11.66 -11.42 -11.17 -10.92 ... 0.02098 0.2693 0.5177\n",
              "    y        float64 32.38\n",
              "    year     int32 2001</pre><div class='xr-wrap' hidden><div class='xr-header'><div class='xr-obj-type'>xarray.DataArray</div><div class='xr-array-name'>'lat'</div><ul class='xr-dim-list'><li><span class='xr-has-index'>x</span>: 50</li></ul></div><ul class='xr-sections'><li class='xr-section-item'><div class='xr-array-wrap'><input id='section-8fd60cdd-ad19-4187-8f60-b32301ab55b7' class='xr-array-in' type='checkbox' checked><label for='section-8fd60cdd-ad19-4187-8f60-b32301ab55b7' title='Show/hide data repr'><svg class='icon xr-icon-database'><use xlink:href='#icon-database'></use></svg></label><div class='xr-array-preview xr-preview'><span>7.809e-05 7.809e-05 7.809e-05 ... 7.809e-05 7.809e-05 7.809e-05</span></div><div class='xr-array-data'><pre>array([7.80934e-05, 7.80934e-05, 7.80934e-05, 7.80934e-05, 7.80934e-05,\n",
              "       7.80934e-05, 7.80934e-05, 7.80934e-05, 7.80934e-05, 7.80934e-05,\n",
              "       7.80934e-05, 7.80934e-05, 7.80934e-05, 7.80934e-05, 7.80934e-05,\n",
              "       7.80934e-05, 7.80934e-05, 7.80934e-05, 7.80934e-05, 7.80934e-05,\n",
              "       7.80934e-05, 7.80934e-05, 7.80934e-05, 7.80934e-05, 7.80934e-05,\n",
              "       7.80934e-05, 7.80934e-05, 7.80934e-05, 7.80934e-05, 7.80934e-05,\n",
              "       7.80934e-05, 7.80934e-05, 7.80934e-05, 7.80934e-05, 7.80934e-05,\n",
              "       7.80934e-05, 7.80934e-05, 7.80934e-05, 7.80934e-05, 7.80934e-05,\n",
              "       7.80934e-05, 7.80934e-05, 7.80934e-05, 7.80934e-05, 7.80934e-05,\n",
              "       7.80934e-05, 7.80934e-05, 7.80934e-05, 7.80934e-05, 7.80934e-05],\n",
              "      dtype=float32)</pre></div></div></li><li class='xr-section-item'><input id='section-d5bbf6d2-feba-4f3a-a182-5d282d9b0145' class='xr-section-summary-in' type='checkbox'  checked><label for='section-d5bbf6d2-feba-4f3a-a182-5d282d9b0145' class='xr-section-summary' >Coordinates: <span>(5)</span></label><div class='xr-section-inline-details'></div><div class='xr-section-details'><ul class='xr-var-list'><li class='xr-var-item'><div class='xr-var-name'><span>lat</span></div><div class='xr-var-dims'>(x)</div><div class='xr-var-dtype'>float32</div><div class='xr-var-preview xr-preview'>32.38 32.38 32.38 ... 32.38 32.38</div><input id='attrs-fdba437b-a631-45d0-baf3-032958a9ef4f' class='xr-var-attrs-in' type='checkbox' ><label for='attrs-fdba437b-a631-45d0-baf3-032958a9ef4f' title='Show/Hide attributes'><svg class='icon xr-icon-file-text2'><use xlink:href='#icon-file-text2'></use></svg></label><input id='data-f3727fbd-949f-4386-8dbe-423b6c470ba9' class='xr-var-data-in' type='checkbox'><label for='data-f3727fbd-949f-4386-8dbe-423b6c470ba9' title='Show/Hide data repr'><svg class='icon xr-icon-database'><use xlink:href='#icon-database'></use></svg></label><div class='xr-var-attrs'><dl class='xr-attrs'><dt><span>bounds :</span></dt><dd>lat_bnds</dd><dt><span>cell_methods :</span></dt><dd>y: point x: point</dd><dt><span>long_name :</span></dt><dd>latitude</dd><dt><span>standard_name :</span></dt><dd>latitude</dd><dt><span>units :</span></dt><dd>degrees_north</dd></dl></div><div class='xr-var-data'><pre>array([32.375427, 32.375427, 32.375427, 32.375427, 32.375427, 32.375427,\n",
              "       32.375427, 32.375427, 32.375427, 32.375427, 32.375427, 32.375427,\n",
              "       32.375427, 32.375427, 32.375427, 32.375427, 32.375427, 32.375427,\n",
              "       32.375427, 32.375427, 32.375427, 32.375427, 32.375427, 32.375427,\n",
              "       32.375427, 32.375427, 32.375427, 32.375427, 32.375427, 32.375427,\n",
              "       32.375427, 32.375427, 32.375427, 32.375427, 32.375427, 32.375427,\n",
              "       32.375427, 32.375427, 32.375427, 32.375427, 32.375427, 32.375427,\n",
              "       32.375427, 32.375427, 32.375427, 32.375427, 32.375427, 32.375427,\n",
              "       32.375427, 32.375427], dtype=float32)</pre></div></li><li class='xr-var-item'><div class='xr-var-name'><span>lon</span></div><div class='xr-var-dims'>(x)</div><div class='xr-var-dtype'>float32</div><div class='xr-var-preview xr-preview'>-12.38 -12.12 ... -0.375 -0.125</div><input id='attrs-608ce52e-6958-4b2c-8571-38270aa8181b' class='xr-var-attrs-in' type='checkbox' ><label for='attrs-608ce52e-6958-4b2c-8571-38270aa8181b' title='Show/Hide attributes'><svg class='icon xr-icon-file-text2'><use xlink:href='#icon-file-text2'></use></svg></label><input id='data-bbd45335-8501-4177-8f8f-b24148560c9a' class='xr-var-data-in' type='checkbox'><label for='data-bbd45335-8501-4177-8f8f-b24148560c9a' title='Show/Hide data repr'><svg class='icon xr-icon-database'><use xlink:href='#icon-database'></use></svg></label><div class='xr-var-attrs'><dl class='xr-attrs'><dt><span>bounds :</span></dt><dd>lon_bnds</dd><dt><span>cell_methods :</span></dt><dd>y: point x: point</dd><dt><span>long_name :</span></dt><dd>longitude</dd><dt><span>standard_name :</span></dt><dd>longitude</dd><dt><span>units :</span></dt><dd>degrees_east</dd></dl></div><div class='xr-var-data'><pre>array([-12.375, -12.125, -11.875, -11.625, -11.375, -11.125, -10.875, -10.625,\n",
              "       -10.375, -10.125,  -9.875,  -9.625,  -9.375,  -9.125,  -8.875,  -8.625,\n",
              "        -8.375,  -8.125,  -7.875,  -7.625,  -7.375,  -7.125,  -6.875,  -6.625,\n",
              "        -6.375,  -6.125,  -5.875,  -5.625,  -5.375,  -5.125,  -4.875,  -4.625,\n",
              "        -4.375,  -4.125,  -3.875,  -3.625,  -3.375,  -3.125,  -2.875,  -2.625,\n",
              "        -2.375,  -2.125,  -1.875,  -1.625,  -1.375,  -1.125,  -0.875,  -0.625,\n",
              "        -0.375,  -0.125], dtype=float32)</pre></div></li><li class='xr-var-item'><div class='xr-var-name'><span class='xr-has-index'>x</span></div><div class='xr-var-dims'>(x)</div><div class='xr-var-dtype'>float64</div><div class='xr-var-preview xr-preview'>-11.66 -11.42 ... 0.2693 0.5177</div><input id='attrs-a8a909d3-8fef-421d-b45e-9a496ee10c4d' class='xr-var-attrs-in' type='checkbox' ><label for='attrs-a8a909d3-8fef-421d-b45e-9a496ee10c4d' title='Show/Hide attributes'><svg class='icon xr-icon-file-text2'><use xlink:href='#icon-file-text2'></use></svg></label><input id='data-56321e1c-2441-4c59-af2b-92a485731ed3' class='xr-var-data-in' type='checkbox'><label for='data-56321e1c-2441-4c59-af2b-92a485731ed3' title='Show/Hide data repr'><svg class='icon xr-icon-database'><use xlink:href='#icon-database'></use></svg></label><div class='xr-var-attrs'><dl class='xr-attrs'><dt><span>axis :</span></dt><dd>X</dd><dt><span>long_name :</span></dt><dd>x coordinate of projection</dd><dt><span>standard_name :</span></dt><dd>projection_x_coordinate</dd><dt><span>units :</span></dt><dd>degrees</dd></dl></div><div class='xr-var-data'><pre>array([-11.664304, -11.415395, -11.166499, -10.917616, -10.668748, -10.419893,\n",
              "       -10.171052,  -9.922224,  -9.673409,  -9.424607,  -9.175819,  -8.927043,\n",
              "        -8.678281,  -8.429531,  -8.180794,  -7.93207 ,  -7.683358,  -7.434659,\n",
              "        -7.185972,  -6.937298,  -6.688635,  -6.439985,  -6.191347,  -5.94272 ,\n",
              "        -5.694106,  -5.445503,  -5.196912,  -4.948332,  -4.699764,  -4.451207,\n",
              "        -4.202661,  -3.954127,  -3.705604,  -3.457091,  -3.20859 ,  -2.960099,\n",
              "        -2.711619,  -2.463149,  -2.21469 ,  -1.966242,  -1.717803,  -1.469375,\n",
              "        -1.220957,  -0.972549,  -0.724151,  -0.475763,  -0.227385,   0.020984,\n",
              "         0.269343,   0.517693])</pre></div></li><li class='xr-var-item'><div class='xr-var-name'><span>y</span></div><div class='xr-var-dims'>()</div><div class='xr-var-dtype'>float64</div><div class='xr-var-preview xr-preview'>32.38</div><input id='attrs-bd197c41-eee6-41fa-9098-d92888acaeb9' class='xr-var-attrs-in' type='checkbox' ><label for='attrs-bd197c41-eee6-41fa-9098-d92888acaeb9' title='Show/Hide attributes'><svg class='icon xr-icon-file-text2'><use xlink:href='#icon-file-text2'></use></svg></label><input id='data-303a5711-de4c-4f6d-98c9-361d04eff8ed' class='xr-var-data-in' type='checkbox'><label for='data-303a5711-de4c-4f6d-98c9-361d04eff8ed' title='Show/Hide data repr'><svg class='icon xr-icon-database'><use xlink:href='#icon-database'></use></svg></label><div class='xr-var-attrs'><dl class='xr-attrs'><dt><span>axis :</span></dt><dd>Y</dd><dt><span>long_name :</span></dt><dd>y coordinate of projection</dd><dt><span>standard_name :</span></dt><dd>projection_y_coordinate</dd><dt><span>units :</span></dt><dd>degrees</dd></dl></div><div class='xr-var-data'><pre>array(32.375425)</pre></div></li><li class='xr-var-item'><div class='xr-var-name'><span>year</span></div><div class='xr-var-dims'>()</div><div class='xr-var-dtype'>int32</div><div class='xr-var-preview xr-preview'>2001</div><input id='attrs-0dd667df-26fd-48e7-abbf-17470bf22afa' class='xr-var-attrs-in' type='checkbox' disabled><label for='attrs-0dd667df-26fd-48e7-abbf-17470bf22afa' title='Show/Hide attributes'><svg class='icon xr-icon-file-text2'><use xlink:href='#icon-file-text2'></use></svg></label><input id='data-544066f0-d82f-48b6-8944-7fca989825b3' class='xr-var-data-in' type='checkbox'><label for='data-544066f0-d82f-48b6-8944-7fca989825b3' title='Show/Hide data repr'><svg class='icon xr-icon-database'><use xlink:href='#icon-database'></use></svg></label><div class='xr-var-attrs'><dl class='xr-attrs'></dl></div><div class='xr-var-data'><pre>array(2001, dtype=int32)</pre></div></li></ul></div></li><li class='xr-section-item'><input id='section-b042abd7-25a0-481c-a903-4b494d01e919' class='xr-section-summary-in' type='checkbox' disabled ><label for='section-b042abd7-25a0-481c-a903-4b494d01e919' class='xr-section-summary'  title='Expand/collapse section'>Attributes: <span>(0)</span></label><div class='xr-section-inline-details'></div><div class='xr-section-details'><dl class='xr-attrs'></dl></div></li></ul></div></div>"
            ],
            "text/plain": [
              "<xarray.DataArray 'lat' (x: 50)>\n",
              "array([7.80934e-05, 7.80934e-05, 7.80934e-05, 7.80934e-05, 7.80934e-05,\n",
              "       7.80934e-05, 7.80934e-05, 7.80934e-05, 7.80934e-05, 7.80934e-05,\n",
              "       7.80934e-05, 7.80934e-05, 7.80934e-05, 7.80934e-05, 7.80934e-05,\n",
              "       7.80934e-05, 7.80934e-05, 7.80934e-05, 7.80934e-05, 7.80934e-05,\n",
              "       7.80934e-05, 7.80934e-05, 7.80934e-05, 7.80934e-05, 7.80934e-05,\n",
              "       7.80934e-05, 7.80934e-05, 7.80934e-05, 7.80934e-05, 7.80934e-05,\n",
              "       7.80934e-05, 7.80934e-05, 7.80934e-05, 7.80934e-05, 7.80934e-05,\n",
              "       7.80934e-05, 7.80934e-05, 7.80934e-05, 7.80934e-05, 7.80934e-05,\n",
              "       7.80934e-05, 7.80934e-05, 7.80934e-05, 7.80934e-05, 7.80934e-05,\n",
              "       7.80934e-05, 7.80934e-05, 7.80934e-05, 7.80934e-05, 7.80934e-05],\n",
              "      dtype=float32)\n",
              "Coordinates:\n",
              "    lat      (x) float32 32.38 32.38 32.38 32.38 ... 32.38 32.38 32.38 32.38\n",
              "    lon      (x) float32 -12.38 -12.12 -11.88 -11.62 ... -0.625 -0.375 -0.125\n",
              "  * x        (x) float64 -11.66 -11.42 -11.17 -10.92 ... 0.02098 0.2693 0.5177\n",
              "    y        float64 32.38\n",
              "    year     int32 2001"
            ]
          },
          "metadata": {
            "tags": []
          },
          "execution_count": 45
        }
      ]
    },
    {
      "cell_type": "markdown",
      "metadata": {
        "id": "Ck5rGf0M3Ou0"
      },
      "source": [
        "Our latitude is constant so our coriolis coefficent is also constant (7.809e-05)"
      ]
    },
    {
      "cell_type": "markdown",
      "metadata": {
        "id": "yZUJGQo1NeyK"
      },
      "source": [
        "Now we can calculate u and v"
      ]
    },
    {
      "cell_type": "markdown",
      "metadata": {
        "id": "HWm-SH1UhyyT"
      },
      "source": [
        "We can use helper functions from gsw library or we can calculate from the formula"
      ]
    },
    {
      "cell_type": "code",
      "metadata": {
        "colab": {
          "base_uri": "https://localhost:8080/"
        },
        "id": "dks7mvfuEY7D",
        "outputId": "079f6e3f-1764-4b37-990f-4e9182faaeb5"
      },
      "source": [
        "help(gsw.geostrophy.geostrophic_velocity)"
      ],
      "execution_count": null,
      "outputs": [
        {
          "output_type": "stream",
          "text": [
            "Help on function geostrophic_velocity in module gsw.geostrophy:\n",
            "\n",
            "geostrophic_velocity(geo_strf, lon, lat, p=0, axis=0)\n",
            "    Calculate geostrophic velocity from a streamfunction.\n",
            "    \n",
            "    Calculates geostrophic velocity relative to a reference pressure,\n",
            "    given a geostrophic streamfunction and the position of each station\n",
            "    in sequence along an ocean section.  The data can be from a single\n",
            "    isobaric or \"density\" surface, or from a series of such surfaces.\n",
            "    \n",
            "    Parameters\n",
            "    ----------\n",
            "    geo_strf : array-like, 1-D or 2-D\n",
            "        geostrophic streamfunction; see Notes below.\n",
            "    lon : array-like, 1-D\n",
            "        Longitude, -360 to 360 degrees\n",
            "    lat : array-like, 1-D\n",
            "        Latitude, degrees\n",
            "    p : float or array-like, optional\n",
            "        Sea pressure (absolute pressure minus 10.1325 dbar), dbar.\n",
            "        This used only for a tiny correction in the distance calculation;\n",
            "        it is safe to omit it.\n",
            "    axis : int, 0 or 1, optional\n",
            "        The axis or dimension along which pressure increases in geo_strf.\n",
            "        If geo_strf is 1-D, it is ignored.\n",
            "    \n",
            "    Returns\n",
            "    -------\n",
            "    velocity : array, 2-D or 1-D\n",
            "        Geostrophic velocity in m/s relative to the sea surface,\n",
            "        averaged between each successive pair of positions.\n",
            "    mid_lon, mid_lat : array, 1-D\n",
            "        Midpoints of input lon and lat.\n",
            "    \n",
            "    Notes\n",
            "    -----\n",
            "    The geostrophic streamfunction can be:\n",
            "    \n",
            "    - geo_strf_dyn_height (in an isobaric surface)\n",
            "    - geo_strf_Montgomery (in a specific volume anomaly surface)\n",
            "    - geo_strf_Cunninhgam (in an approximately neutral surface\n",
            "      such as a potential density surface).\n",
            "    - geo_strf_isopycnal (in an approximately neutral surface\n",
            "      such as a potential density surface, a Neutral Density\n",
            "      surface, or an omega surface (Klocker et al., 2009)).\n",
            "    \n",
            "    Only :func:`geo_strf_dyn_height` is presently implemented\n",
            "    in GSW-Python.\n",
            "\n"
          ],
          "name": "stdout"
        }
      ]
    },
    {
      "cell_type": "code",
      "metadata": {
        "colab": {
          "base_uri": "https://localhost:8080/"
        },
        "id": "zQmrYWh0h7Vr",
        "outputId": "cb604cb7-50be-42d1-f192-417251809558"
      },
      "source": [
        "%%latex\n",
        "$\\ {v}_{g} = \\frac{\\ -1 } {f \\rho} \\frac{\\partial p}{\\partial x} $"
      ],
      "execution_count": null,
      "outputs": [
        {
          "output_type": "display_data",
          "data": {
            "text/latex": "$\\ {v}_{g} = \\frac{\\ -1 } {f \\rho} \\frac{\\partial p}{\\partial x} $",
            "text/plain": [
              "<IPython.core.display.Latex object>"
            ]
          },
          "metadata": {
            "tags": []
          }
        }
      ]
    },
    {
      "cell_type": "markdown",
      "metadata": {
        "id": "puacwLnb3jYQ"
      },
      "source": [
        "We have a numeric soliton for the partial term."
      ]
    },
    {
      "cell_type": "code",
      "metadata": {
        "colab": {
          "base_uri": "https://localhost:8080/"
        },
        "id": "Og1KhrQYhxdE",
        "outputId": "fd9d2aee-e8c7-4200-a058-67b85950e344"
      },
      "source": [
        "%%latex\n",
        "$\\ \\frac{\\partial p}{\\partial x} = \\frac{\\Delta p } {\\Delta x}  = \\frac{{p}_{n}-{p}_{n-1}} {dx} $"
      ],
      "execution_count": null,
      "outputs": [
        {
          "output_type": "display_data",
          "data": {
            "text/latex": "$\\ \\frac{\\partial p}{\\partial x} = \\frac{\\Delta p } {\\Delta x}  = \\frac{{p}_{n}-{p}_{n-1}} {dx} $",
            "text/plain": [
              "<IPython.core.display.Latex object>"
            ]
          },
          "metadata": {
            "tags": []
          }
        }
      ]
    },
    {
      "cell_type": "code",
      "metadata": {
        "id": "SkRexhUsYNr7"
      },
      "source": [
        "p.shape\n",
        "dp =np.empty([35,1], dtype=float)\n",
        "for i in np.arange(1, 34):\n",
        "  dp[i] = p.values[i+1]-p.values[i]\n",
        "dp [34] = float(\"nan\")\n",
        "# dp"
      ],
      "execution_count": null,
      "outputs": []
    },
    {
      "cell_type": "markdown",
      "metadata": {
        "id": "7fVFBPOr4FRG"
      },
      "source": [
        "We have calculated dp now we should calculate dx. We have two way to find it."
      ]
    },
    {
      "cell_type": "code",
      "metadata": {
        "id": "I77fm2o7gsGl"
      },
      "source": [
        "dlon = df.lon.values\n",
        "dlat = df.lat.values"
      ],
      "execution_count": null,
      "outputs": []
    },
    {
      "cell_type": "markdown",
      "metadata": {
        "id": "6dGwydQ-4Ngy"
      },
      "source": [
        "`gsw.distance` helps to find distance in given location."
      ]
    },
    {
      "cell_type": "code",
      "metadata": {
        "id": "zE59I8e8efuT"
      },
      "source": [
        "dx = gsw.distance(dlon,dlat)\n",
        "dx = dx[0]"
      ],
      "execution_count": null,
      "outputs": []
    },
    {
      "cell_type": "code",
      "metadata": {
        "colab": {
          "base_uri": "https://localhost:8080/"
        },
        "id": "RsrEbN_IgS0O",
        "outputId": "1b9a7f2d-de07-4255-e3bf-b2a36502095d"
      },
      "source": [
        "print (\"dx=\", dx, \"m\")"
      ],
      "execution_count": null,
      "outputs": [
        {
          "output_type": "stream",
          "text": [
            "dx= 23477.626167212766 m\n"
          ],
          "name": "stdout"
        }
      ]
    },
    {
      "cell_type": "markdown",
      "metadata": {
        "id": "He5RRZGoo7UF"
      },
      "source": [
        "*Distance also can calculated from https://www.nhc.noaa.gov/gccalc.shtml*\n"
      ]
    },
    {
      "cell_type": "code",
      "metadata": {
        "colab": {
          "base_uri": "https://localhost:8080/"
        },
        "id": "OJDjfyGKX8sB",
        "outputId": "7d8c25f3-f6cf-4501-dee7-3c2c7b639ab3"
      },
      "source": [
        "dp.shape"
      ],
      "execution_count": null,
      "outputs": [
        {
          "output_type": "execute_result",
          "data": {
            "text/plain": [
              "(35, 1)"
            ]
          },
          "metadata": {
            "tags": []
          },
          "execution_count": 53
        }
      ]
    },
    {
      "cell_type": "code",
      "metadata": {
        "colab": {
          "base_uri": "https://localhost:8080/"
        },
        "id": "kuPASDMjhtna",
        "outputId": "3c338bc8-7c68-4357-e18d-4ae43afc513b"
      },
      "source": [
        "vg = -1*(dp/dx*(f[0].values*rho))\n",
        "vg.max().values"
      ],
      "execution_count": null,
      "outputs": [
        {
          "output_type": "execute_result",
          "data": {
            "text/plain": [
              "array(-0.)"
            ]
          },
          "metadata": {
            "tags": []
          },
          "execution_count": 54
        }
      ]
    },
    {
      "cell_type": "markdown",
      "metadata": {
        "id": "u_zQNq354p89"
      },
      "source": [
        "Now we can plot the Vg values:"
      ]
    },
    {
      "cell_type": "code",
      "metadata": {
        "colab": {
          "base_uri": "https://localhost:8080/"
        },
        "id": "zHIFWAvu7pcI",
        "outputId": "584e7626-dd7a-4161-b30c-027a7399386c"
      },
      "source": [
        "plt.figure(figsize=(9,9))\n",
        "plt.title('Velocity ( Vg )')\n",
        "plt.pcolormesh(df.x, -df.lev, vg);plt.colorbar();"
      ],
      "execution_count": null,
      "outputs": [
        {
          "output_type": "display_data",
          "data": {
            "image/png": "[encoded data removed]",
            "text/plain": [
              "<Figure size 648x648 with 2 Axes>"
            ]
          },
          "metadata": {
            "tags": [],
            "needs_background": "light"
          }
        }
      ]
    },
    {
      "cell_type": "markdown",
      "metadata": {
        "id": "cQTESNVt4vOd"
      },
      "source": [
        "Same calculations have done in y direction to find u velocity."
      ]
    },
    {
      "cell_type": "code",
      "metadata": {
        "colab": {
          "base_uri": "https://localhost:8080/"
        },
        "id": "rE-VB-SgkOlq",
        "outputId": "cd3482d5-8610-4f5b-cab4-b42811cce6e4"
      },
      "source": [
        "dy = df.lat[1:]-df.lat[:-1]\n",
        "dy.max()\n",
        "df.y"
      ],
      "execution_count": null,
      "outputs": [
        {
          "output_type": "execute_result",
          "data": {
            "text/html": [
              "<div><svg style=\"position: absolute; width: 0; height: 0; overflow: hidden\">\n",
              "<defs>\n",
              "<symbol id=\"icon-database\" viewBox=\"0 0 32 32\">\n",
              "<path d=\"M16 0c-8.837 0-16 2.239-16 5v4c0 2.761 7.163 5 16 5s16-2.239 16-5v-4c0-2.761-7.163-5-16-5z\"></path>\n",
              "<path d=\"M16 17c-8.837 0-16-2.239-16-5v6c0 2.761 7.163 5 16 5s16-2.239 16-5v-6c0 2.761-7.163 5-16 5z\"></path>\n",
              "<path d=\"M16 26c-8.837 0-16-2.239-16-5v6c0 2.761 7.163 5 16 5s16-2.239 16-5v-6c0 2.761-7.163 5-16 5z\"></path>\n",
              "</symbol>\n",
              "<symbol id=\"icon-file-text2\" viewBox=\"0 0 32 32\">\n",
              "<path d=\"M28.681 7.159c-0.694-0.947-1.662-2.053-2.724-3.116s-2.169-2.030-3.116-2.724c-1.612-1.182-2.393-1.319-2.841-1.319h-15.5c-1.378 0-2.5 1.121-2.5 2.5v27c0 1.378 1.122 2.5 2.5 2.5h23c1.378 0 2.5-1.122 2.5-2.5v-19.5c0-0.448-0.137-1.23-1.319-2.841zM24.543 5.457c0.959 0.959 1.712 1.825 2.268 2.543h-4.811v-4.811c0.718 0.556 1.584 1.309 2.543 2.268zM28 29.5c0 0.271-0.229 0.5-0.5 0.5h-23c-0.271 0-0.5-0.229-0.5-0.5v-27c0-0.271 0.229-0.5 0.5-0.5 0 0 15.499-0 15.5 0v7c0 0.552 0.448 1 1 1h7v19.5z\"></path>\n",
              "<path d=\"M23 26h-14c-0.552 0-1-0.448-1-1s0.448-1 1-1h14c0.552 0 1 0.448 1 1s-0.448 1-1 1z\"></path>\n",
              "<path d=\"M23 22h-14c-0.552 0-1-0.448-1-1s0.448-1 1-1h14c0.552 0 1 0.448 1 1s-0.448 1-1 1z\"></path>\n",
              "<path d=\"M23 18h-14c-0.552 0-1-0.448-1-1s0.448-1 1-1h14c0.552 0 1 0.448 1 1s-0.448 1-1 1z\"></path>\n",
              "</symbol>\n",
              "</defs>\n",
              "</svg>\n",
              "<style>/* CSS stylesheet for displaying xarray objects in jupyterlab.\n",
              " *\n",
              " */\n",
              "\n",
              ":root {\n",
              "  --xr-font-color0: var(--jp-content-font-color0, rgba(0, 0, 0, 1));\n",
              "  --xr-font-color2: var(--jp-content-font-color2, rgba(0, 0, 0, 0.54));\n",
              "  --xr-font-color3: var(--jp-content-font-color3, rgba(0, 0, 0, 0.38));\n",
              "  --xr-border-color: var(--jp-border-color2, #e0e0e0);\n",
              "  --xr-disabled-color: var(--jp-layout-color3, #bdbdbd);\n",
              "  --xr-background-color: var(--jp-layout-color0, white);\n",
              "  --xr-background-color-row-even: var(--jp-layout-color1, white);\n",
              "  --xr-background-color-row-odd: var(--jp-layout-color2, #eeeeee);\n",
              "}\n",
              "\n",
              "html[theme=dark],\n",
              "body.vscode-dark {\n",
              "  --xr-font-color0: rgba(255, 255, 255, 1);\n",
              "  --xr-font-color2: rgba(255, 255, 255, 0.54);\n",
              "  --xr-font-color3: rgba(255, 255, 255, 0.38);\n",
              "  --xr-border-color: #1F1F1F;\n",
              "  --xr-disabled-color: #515151;\n",
              "  --xr-background-color: #111111;\n",
              "  --xr-background-color-row-even: #111111;\n",
              "  --xr-background-color-row-odd: #313131;\n",
              "}\n",
              "\n",
              ".xr-wrap {\n",
              "  display: block;\n",
              "  min-width: 300px;\n",
              "  max-width: 700px;\n",
              "}\n",
              "\n",
              ".xr-text-repr-fallback {\n",
              "  /* fallback to plain text repr when CSS is not injected (untrusted notebook) */\n",
              "  display: none;\n",
              "}\n",
              "\n",
              ".xr-header {\n",
              "  padding-top: 6px;\n",
              "  padding-bottom: 6px;\n",
              "  margin-bottom: 4px;\n",
              "  border-bottom: solid 1px var(--xr-border-color);\n",
              "}\n",
              "\n",
              ".xr-header > div,\n",
              ".xr-header > ul {\n",
              "  display: inline;\n",
              "  margin-top: 0;\n",
              "  margin-bottom: 0;\n",
              "}\n",
              "\n",
              ".xr-obj-type,\n",
              ".xr-array-name {\n",
              "  margin-left: 2px;\n",
              "  margin-right: 10px;\n",
              "}\n",
              "\n",
              ".xr-obj-type {\n",
              "  color: var(--xr-font-color2);\n",
              "}\n",
              "\n",
              ".xr-sections {\n",
              "  padding-left: 0 !important;\n",
              "  display: grid;\n",
              "  grid-template-columns: 150px auto auto 1fr 20px 20px;\n",
              "}\n",
              "\n",
              ".xr-section-item {\n",
              "  display: contents;\n",
              "}\n",
              "\n",
              ".xr-section-item input {\n",
              "  display: none;\n",
              "}\n",
              "\n",
              ".xr-section-item input + label {\n",
              "  color: var(--xr-disabled-color);\n",
              "}\n",
              "\n",
              ".xr-section-item input:enabled + label {\n",
              "  cursor: pointer;\n",
              "  color: var(--xr-font-color2);\n",
              "}\n",
              "\n",
              ".xr-section-item input:enabled + label:hover {\n",
              "  color: var(--xr-font-color0);\n",
              "}\n",
              "\n",
              ".xr-section-summary {\n",
              "  grid-column: 1;\n",
              "  color: var(--xr-font-color2);\n",
              "  font-weight: 500;\n",
              "}\n",
              "\n",
              ".xr-section-summary > span {\n",
              "  display: inline-block;\n",
              "  padding-left: 0.5em;\n",
              "}\n",
              "\n",
              ".xr-section-summary-in:disabled + label {\n",
              "  color: var(--xr-font-color2);\n",
              "}\n",
              "\n",
              ".xr-section-summary-in + label:before {\n",
              "  display: inline-block;\n",
              "  content: '►';\n",
              "  font-size: 11px;\n",
              "  width: 15px;\n",
              "  text-align: center;\n",
              "}\n",
              "\n",
              ".xr-section-summary-in:disabled + label:before {\n",
              "  color: var(--xr-disabled-color);\n",
              "}\n",
              "\n",
              ".xr-section-summary-in:checked + label:before {\n",
              "  content: '▼';\n",
              "}\n",
              "\n",
              ".xr-section-summary-in:checked + label > span {\n",
              "  display: none;\n",
              "}\n",
              "\n",
              ".xr-section-summary,\n",
              ".xr-section-inline-details {\n",
              "  padding-top: 4px;\n",
              "  padding-bottom: 4px;\n",
              "}\n",
              "\n",
              ".xr-section-inline-details {\n",
              "  grid-column: 2 / -1;\n",
              "}\n",
              "\n",
              ".xr-section-details {\n",
              "  display: none;\n",
              "  grid-column: 1 / -1;\n",
              "  margin-bottom: 5px;\n",
              "}\n",
              "\n",
              ".xr-section-summary-in:checked ~ .xr-section-details {\n",
              "  display: contents;\n",
              "}\n",
              "\n",
              ".xr-array-wrap {\n",
              "  grid-column: 1 / -1;\n",
              "  display: grid;\n",
              "  grid-template-columns: 20px auto;\n",
              "}\n",
              "\n",
              ".xr-array-wrap > label {\n",
              "  grid-column: 1;\n",
              "  vertical-align: top;\n",
              "}\n",
              "\n",
              ".xr-preview {\n",
              "  color: var(--xr-font-color3);\n",
              "}\n",
              "\n",
              ".xr-array-preview,\n",
              ".xr-array-data {\n",
              "  padding: 0 5px !important;\n",
              "  grid-column: 2;\n",
              "}\n",
              "\n",
              ".xr-array-data,\n",
              ".xr-array-in:checked ~ .xr-array-preview {\n",
              "  display: none;\n",
              "}\n",
              "\n",
              ".xr-array-in:checked ~ .xr-array-data,\n",
              ".xr-array-preview {\n",
              "  display: inline-block;\n",
              "}\n",
              "\n",
              ".xr-dim-list {\n",
              "  display: inline-block !important;\n",
              "  list-style: none;\n",
              "  padding: 0 !important;\n",
              "  margin: 0;\n",
              "}\n",
              "\n",
              ".xr-dim-list li {\n",
              "  display: inline-block;\n",
              "  padding: 0;\n",
              "  margin: 0;\n",
              "}\n",
              "\n",
              ".xr-dim-list:before {\n",
              "  content: '(';\n",
              "}\n",
              "\n",
              ".xr-dim-list:after {\n",
              "  content: ')';\n",
              "}\n",
              "\n",
              ".xr-dim-list li:not(:last-child):after {\n",
              "  content: ',';\n",
              "  padding-right: 5px;\n",
              "}\n",
              "\n",
              ".xr-has-index {\n",
              "  font-weight: bold;\n",
              "}\n",
              "\n",
              ".xr-var-list,\n",
              ".xr-var-item {\n",
              "  display: contents;\n",
              "}\n",
              "\n",
              ".xr-var-item > div,\n",
              ".xr-var-item label,\n",
              ".xr-var-item > .xr-var-name span {\n",
              "  background-color: var(--xr-background-color-row-even);\n",
              "  margin-bottom: 0;\n",
              "}\n",
              "\n",
              ".xr-var-item > .xr-var-name:hover span {\n",
              "  padding-right: 5px;\n",
              "}\n",
              "\n",
              ".xr-var-list > li:nth-child(odd) > div,\n",
              ".xr-var-list > li:nth-child(odd) > label,\n",
              ".xr-var-list > li:nth-child(odd) > .xr-var-name span {\n",
              "  background-color: var(--xr-background-color-row-odd);\n",
              "}\n",
              "\n",
              ".xr-var-name {\n",
              "  grid-column: 1;\n",
              "}\n",
              "\n",
              ".xr-var-dims {\n",
              "  grid-column: 2;\n",
              "}\n",
              "\n",
              ".xr-var-dtype {\n",
              "  grid-column: 3;\n",
              "  text-align: right;\n",
              "  color: var(--xr-font-color2);\n",
              "}\n",
              "\n",
              ".xr-var-preview {\n",
              "  grid-column: 4;\n",
              "}\n",
              "\n",
              ".xr-var-name,\n",
              ".xr-var-dims,\n",
              ".xr-var-dtype,\n",
              ".xr-preview,\n",
              ".xr-attrs dt {\n",
              "  white-space: nowrap;\n",
              "  overflow: hidden;\n",
              "  text-overflow: ellipsis;\n",
              "  padding-right: 10px;\n",
              "}\n",
              "\n",
              ".xr-var-name:hover,\n",
              ".xr-var-dims:hover,\n",
              ".xr-var-dtype:hover,\n",
              ".xr-attrs dt:hover {\n",
              "  overflow: visible;\n",
              "  width: auto;\n",
              "  z-index: 1;\n",
              "}\n",
              "\n",
              ".xr-var-attrs,\n",
              ".xr-var-data {\n",
              "  display: none;\n",
              "  background-color: var(--xr-background-color) !important;\n",
              "  padding-bottom: 5px !important;\n",
              "}\n",
              "\n",
              ".xr-var-attrs-in:checked ~ .xr-var-attrs,\n",
              ".xr-var-data-in:checked ~ .xr-var-data {\n",
              "  display: block;\n",
              "}\n",
              "\n",
              ".xr-var-data > table {\n",
              "  float: right;\n",
              "}\n",
              "\n",
              ".xr-var-name span,\n",
              ".xr-var-data,\n",
              ".xr-attrs {\n",
              "  padding-left: 25px !important;\n",
              "}\n",
              "\n",
              ".xr-attrs,\n",
              ".xr-var-attrs,\n",
              ".xr-var-data {\n",
              "  grid-column: 1 / -1;\n",
              "}\n",
              "\n",
              "dl.xr-attrs {\n",
              "  padding: 0;\n",
              "  margin: 0;\n",
              "  display: grid;\n",
              "  grid-template-columns: 125px auto;\n",
              "}\n",
              "\n",
              ".xr-attrs dt,\n",
              ".xr-attrs dd {\n",
              "  padding: 0;\n",
              "  margin: 0;\n",
              "  float: left;\n",
              "  padding-right: 10px;\n",
              "  width: auto;\n",
              "}\n",
              "\n",
              ".xr-attrs dt {\n",
              "  font-weight: normal;\n",
              "  grid-column: 1;\n",
              "}\n",
              "\n",
              ".xr-attrs dt:hover span {\n",
              "  display: inline-block;\n",
              "  background: var(--xr-background-color);\n",
              "  padding-right: 10px;\n",
              "}\n",
              "\n",
              ".xr-attrs dd {\n",
              "  grid-column: 2;\n",
              "  white-space: pre-wrap;\n",
              "  word-break: break-all;\n",
              "}\n",
              "\n",
              ".xr-icon-database,\n",
              ".xr-icon-file-text2 {\n",
              "  display: inline-block;\n",
              "  vertical-align: middle;\n",
              "  width: 1em;\n",
              "  height: 1.5em !important;\n",
              "  stroke-width: 0;\n",
              "  stroke: currentColor;\n",
              "  fill: currentColor;\n",
              "}\n",
              "</style><pre class='xr-text-repr-fallback'>&lt;xarray.DataArray &#x27;y&#x27; ()&gt;\n",
              "array(32.375425)\n",
              "Coordinates:\n",
              "    y        float64 32.38\n",
              "    year     int32 2001\n",
              "Attributes:\n",
              "    axis:           Y\n",
              "    long_name:      y coordinate of projection\n",
              "    standard_name:  projection_y_coordinate\n",
              "    units:          degrees</pre><div class='xr-wrap' hidden><div class='xr-header'><div class='xr-obj-type'>xarray.DataArray</div><div class='xr-array-name'>'y'</div></div><ul class='xr-sections'><li class='xr-section-item'><div class='xr-array-wrap'><input id='section-b2373fd5-a9e3-4caa-b372-e9db7d665d50' class='xr-array-in' type='checkbox' checked><label for='section-b2373fd5-a9e3-4caa-b372-e9db7d665d50' title='Show/hide data repr'><svg class='icon xr-icon-database'><use xlink:href='#icon-database'></use></svg></label><div class='xr-array-preview xr-preview'><span>32.38</span></div><div class='xr-array-data'><pre>array(32.375425)</pre></div></div></li><li class='xr-section-item'><input id='section-2f9e5134-6cbd-4406-85ba-cbf50ad8fa44' class='xr-section-summary-in' type='checkbox'  checked><label for='section-2f9e5134-6cbd-4406-85ba-cbf50ad8fa44' class='xr-section-summary' >Coordinates: <span>(2)</span></label><div class='xr-section-inline-details'></div><div class='xr-section-details'><ul class='xr-var-list'><li class='xr-var-item'><div class='xr-var-name'><span>y</span></div><div class='xr-var-dims'>()</div><div class='xr-var-dtype'>float64</div><div class='xr-var-preview xr-preview'>32.38</div><input id='attrs-cc712af3-3d1e-458c-b5bf-2db2a610fb96' class='xr-var-attrs-in' type='checkbox' ><label for='attrs-cc712af3-3d1e-458c-b5bf-2db2a610fb96' title='Show/Hide attributes'><svg class='icon xr-icon-file-text2'><use xlink:href='#icon-file-text2'></use></svg></label><input id='data-76bb3900-5f85-4403-a190-4904f0acf809' class='xr-var-data-in' type='checkbox'><label for='data-76bb3900-5f85-4403-a190-4904f0acf809' title='Show/Hide data repr'><svg class='icon xr-icon-database'><use xlink:href='#icon-database'></use></svg></label><div class='xr-var-attrs'><dl class='xr-attrs'><dt><span>axis :</span></dt><dd>Y</dd><dt><span>long_name :</span></dt><dd>y coordinate of projection</dd><dt><span>standard_name :</span></dt><dd>projection_y_coordinate</dd><dt><span>units :</span></dt><dd>degrees</dd></dl></div><div class='xr-var-data'><pre>array(32.375425)</pre></div></li><li class='xr-var-item'><div class='xr-var-name'><span>year</span></div><div class='xr-var-dims'>()</div><div class='xr-var-dtype'>int32</div><div class='xr-var-preview xr-preview'>2001</div><input id='attrs-dec7af75-08f6-4332-9a85-d71474f3112e' class='xr-var-attrs-in' type='checkbox' disabled><label for='attrs-dec7af75-08f6-4332-9a85-d71474f3112e' title='Show/Hide attributes'><svg class='icon xr-icon-file-text2'><use xlink:href='#icon-file-text2'></use></svg></label><input id='data-2d2e3ddc-0aeb-4d8a-a959-6fb489385f70' class='xr-var-data-in' type='checkbox'><label for='data-2d2e3ddc-0aeb-4d8a-a959-6fb489385f70' title='Show/Hide data repr'><svg class='icon xr-icon-database'><use xlink:href='#icon-database'></use></svg></label><div class='xr-var-attrs'><dl class='xr-attrs'></dl></div><div class='xr-var-data'><pre>array(2001, dtype=int32)</pre></div></li></ul></div></li><li class='xr-section-item'><input id='section-99fef193-67d9-4672-abc5-ceba8fe800b8' class='xr-section-summary-in' type='checkbox'  checked><label for='section-99fef193-67d9-4672-abc5-ceba8fe800b8' class='xr-section-summary' >Attributes: <span>(4)</span></label><div class='xr-section-inline-details'></div><div class='xr-section-details'><dl class='xr-attrs'><dt><span>axis :</span></dt><dd>Y</dd><dt><span>long_name :</span></dt><dd>y coordinate of projection</dd><dt><span>standard_name :</span></dt><dd>projection_y_coordinate</dd><dt><span>units :</span></dt><dd>degrees</dd></dl></div></li></ul></div></div>"
            ],
            "text/plain": [
              "<xarray.DataArray 'y' ()>\n",
              "array(32.375425)\n",
              "Coordinates:\n",
              "    y        float64 32.38\n",
              "    year     int32 2001\n",
              "Attributes:\n",
              "    axis:           Y\n",
              "    long_name:      y coordinate of projection\n",
              "    standard_name:  projection_y_coordinate\n",
              "    units:          degrees"
            ]
          },
          "metadata": {
            "tags": []
          },
          "execution_count": 56
        }
      ]
    },
    {
      "cell_type": "code",
      "metadata": {
        "colab": {
          "base_uri": "https://localhost:8080/"
        },
        "id": "mM-qo5Ti38Oe",
        "outputId": "c1790c96-c5ec-4b95-d317-501e7f7584c6"
      },
      "source": [
        "dt.tauuo.values\n",
        "dt"
      ],
      "execution_count": null,
      "outputs": [
        {
          "output_type": "execute_result",
          "data": {
            "text/html": [
              "<div><svg style=\"position: absolute; width: 0; height: 0; overflow: hidden\">\n",
              "<defs>\n",
              "<symbol id=\"icon-database\" viewBox=\"0 0 32 32\">\n",
              "<path d=\"M16 0c-8.837 0-16 2.239-16 5v4c0 2.761 7.163 5 16 5s16-2.239 16-5v-4c0-2.761-7.163-5-16-5z\"></path>\n",
              "<path d=\"M16 17c-8.837 0-16-2.239-16-5v6c0 2.761 7.163 5 16 5s16-2.239 16-5v-6c0 2.761-7.163 5-16 5z\"></path>\n",
              "<path d=\"M16 26c-8.837 0-16-2.239-16-5v6c0 2.761 7.163 5 16 5s16-2.239 16-5v-6c0 2.761-7.163 5-16 5z\"></path>\n",
              "</symbol>\n",
              "<symbol id=\"icon-file-text2\" viewBox=\"0 0 32 32\">\n",
              "<path d=\"M28.681 7.159c-0.694-0.947-1.662-2.053-2.724-3.116s-2.169-2.030-3.116-2.724c-1.612-1.182-2.393-1.319-2.841-1.319h-15.5c-1.378 0-2.5 1.121-2.5 2.5v27c0 1.378 1.122 2.5 2.5 2.5h23c1.378 0 2.5-1.122 2.5-2.5v-19.5c0-0.448-0.137-1.23-1.319-2.841zM24.543 5.457c0.959 0.959 1.712 1.825 2.268 2.543h-4.811v-4.811c0.718 0.556 1.584 1.309 2.543 2.268zM28 29.5c0 0.271-0.229 0.5-0.5 0.5h-23c-0.271 0-0.5-0.229-0.5-0.5v-27c0-0.271 0.229-0.5 0.5-0.5 0 0 15.499-0 15.5 0v7c0 0.552 0.448 1 1 1h7v19.5z\"></path>\n",
              "<path d=\"M23 26h-14c-0.552 0-1-0.448-1-1s0.448-1 1-1h14c0.552 0 1 0.448 1 1s-0.448 1-1 1z\"></path>\n",
              "<path d=\"M23 22h-14c-0.552 0-1-0.448-1-1s0.448-1 1-1h14c0.552 0 1 0.448 1 1s-0.448 1-1 1z\"></path>\n",
              "<path d=\"M23 18h-14c-0.552 0-1-0.448-1-1s0.448-1 1-1h14c0.552 0 1 0.448 1 1s-0.448 1-1 1z\"></path>\n",
              "</symbol>\n",
              "</defs>\n",
              "</svg>\n",
              "<style>/* CSS stylesheet for displaying xarray objects in jupyterlab.\n",
              " *\n",
              " */\n",
              "\n",
              ":root {\n",
              "  --xr-font-color0: var(--jp-content-font-color0, rgba(0, 0, 0, 1));\n",
              "  --xr-font-color2: var(--jp-content-font-color2, rgba(0, 0, 0, 0.54));\n",
              "  --xr-font-color3: var(--jp-content-font-color3, rgba(0, 0, 0, 0.38));\n",
              "  --xr-border-color: var(--jp-border-color2, #e0e0e0);\n",
              "  --xr-disabled-color: var(--jp-layout-color3, #bdbdbd);\n",
              "  --xr-background-color: var(--jp-layout-color0, white);\n",
              "  --xr-background-color-row-even: var(--jp-layout-color1, white);\n",
              "  --xr-background-color-row-odd: var(--jp-layout-color2, #eeeeee);\n",
              "}\n",
              "\n",
              "html[theme=dark],\n",
              "body.vscode-dark {\n",
              "  --xr-font-color0: rgba(255, 255, 255, 1);\n",
              "  --xr-font-color2: rgba(255, 255, 255, 0.54);\n",
              "  --xr-font-color3: rgba(255, 255, 255, 0.38);\n",
              "  --xr-border-color: #1F1F1F;\n",
              "  --xr-disabled-color: #515151;\n",
              "  --xr-background-color: #111111;\n",
              "  --xr-background-color-row-even: #111111;\n",
              "  --xr-background-color-row-odd: #313131;\n",
              "}\n",
              "\n",
              ".xr-wrap {\n",
              "  display: block;\n",
              "  min-width: 300px;\n",
              "  max-width: 700px;\n",
              "}\n",
              "\n",
              ".xr-text-repr-fallback {\n",
              "  /* fallback to plain text repr when CSS is not injected (untrusted notebook) */\n",
              "  display: none;\n",
              "}\n",
              "\n",
              ".xr-header {\n",
              "  padding-top: 6px;\n",
              "  padding-bottom: 6px;\n",
              "  margin-bottom: 4px;\n",
              "  border-bottom: solid 1px var(--xr-border-color);\n",
              "}\n",
              "\n",
              ".xr-header > div,\n",
              ".xr-header > ul {\n",
              "  display: inline;\n",
              "  margin-top: 0;\n",
              "  margin-bottom: 0;\n",
              "}\n",
              "\n",
              ".xr-obj-type,\n",
              ".xr-array-name {\n",
              "  margin-left: 2px;\n",
              "  margin-right: 10px;\n",
              "}\n",
              "\n",
              ".xr-obj-type {\n",
              "  color: var(--xr-font-color2);\n",
              "}\n",
              "\n",
              ".xr-sections {\n",
              "  padding-left: 0 !important;\n",
              "  display: grid;\n",
              "  grid-template-columns: 150px auto auto 1fr 20px 20px;\n",
              "}\n",
              "\n",
              ".xr-section-item {\n",
              "  display: contents;\n",
              "}\n",
              "\n",
              ".xr-section-item input {\n",
              "  display: none;\n",
              "}\n",
              "\n",
              ".xr-section-item input + label {\n",
              "  color: var(--xr-disabled-color);\n",
              "}\n",
              "\n",
              ".xr-section-item input:enabled + label {\n",
              "  cursor: pointer;\n",
              "  color: var(--xr-font-color2);\n",
              "}\n",
              "\n",
              ".xr-section-item input:enabled + label:hover {\n",
              "  color: var(--xr-font-color0);\n",
              "}\n",
              "\n",
              ".xr-section-summary {\n",
              "  grid-column: 1;\n",
              "  color: var(--xr-font-color2);\n",
              "  font-weight: 500;\n",
              "}\n",
              "\n",
              ".xr-section-summary > span {\n",
              "  display: inline-block;\n",
              "  padding-left: 0.5em;\n",
              "}\n",
              "\n",
              ".xr-section-summary-in:disabled + label {\n",
              "  color: var(--xr-font-color2);\n",
              "}\n",
              "\n",
              ".xr-section-summary-in + label:before {\n",
              "  display: inline-block;\n",
              "  content: '►';\n",
              "  font-size: 11px;\n",
              "  width: 15px;\n",
              "  text-align: center;\n",
              "}\n",
              "\n",
              ".xr-section-summary-in:disabled + label:before {\n",
              "  color: var(--xr-disabled-color);\n",
              "}\n",
              "\n",
              ".xr-section-summary-in:checked + label:before {\n",
              "  content: '▼';\n",
              "}\n",
              "\n",
              ".xr-section-summary-in:checked + label > span {\n",
              "  display: none;\n",
              "}\n",
              "\n",
              ".xr-section-summary,\n",
              ".xr-section-inline-details {\n",
              "  padding-top: 4px;\n",
              "  padding-bottom: 4px;\n",
              "}\n",
              "\n",
              ".xr-section-inline-details {\n",
              "  grid-column: 2 / -1;\n",
              "}\n",
              "\n",
              ".xr-section-details {\n",
              "  display: none;\n",
              "  grid-column: 1 / -1;\n",
              "  margin-bottom: 5px;\n",
              "}\n",
              "\n",
              ".xr-section-summary-in:checked ~ .xr-section-details {\n",
              "  display: contents;\n",
              "}\n",
              "\n",
              ".xr-array-wrap {\n",
              "  grid-column: 1 / -1;\n",
              "  display: grid;\n",
              "  grid-template-columns: 20px auto;\n",
              "}\n",
              "\n",
              ".xr-array-wrap > label {\n",
              "  grid-column: 1;\n",
              "  vertical-align: top;\n",
              "}\n",
              "\n",
              ".xr-preview {\n",
              "  color: var(--xr-font-color3);\n",
              "}\n",
              "\n",
              ".xr-array-preview,\n",
              ".xr-array-data {\n",
              "  padding: 0 5px !important;\n",
              "  grid-column: 2;\n",
              "}\n",
              "\n",
              ".xr-array-data,\n",
              ".xr-array-in:checked ~ .xr-array-preview {\n",
              "  display: none;\n",
              "}\n",
              "\n",
              ".xr-array-in:checked ~ .xr-array-data,\n",
              ".xr-array-preview {\n",
              "  display: inline-block;\n",
              "}\n",
              "\n",
              ".xr-dim-list {\n",
              "  display: inline-block !important;\n",
              "  list-style: none;\n",
              "  padding: 0 !important;\n",
              "  margin: 0;\n",
              "}\n",
              "\n",
              ".xr-dim-list li {\n",
              "  display: inline-block;\n",
              "  padding: 0;\n",
              "  margin: 0;\n",
              "}\n",
              "\n",
              ".xr-dim-list:before {\n",
              "  content: '(';\n",
              "}\n",
              "\n",
              ".xr-dim-list:after {\n",
              "  content: ')';\n",
              "}\n",
              "\n",
              ".xr-dim-list li:not(:last-child):after {\n",
              "  content: ',';\n",
              "  padding-right: 5px;\n",
              "}\n",
              "\n",
              ".xr-has-index {\n",
              "  font-weight: bold;\n",
              "}\n",
              "\n",
              ".xr-var-list,\n",
              ".xr-var-item {\n",
              "  display: contents;\n",
              "}\n",
              "\n",
              ".xr-var-item > div,\n",
              ".xr-var-item label,\n",
              ".xr-var-item > .xr-var-name span {\n",
              "  background-color: var(--xr-background-color-row-even);\n",
              "  margin-bottom: 0;\n",
              "}\n",
              "\n",
              ".xr-var-item > .xr-var-name:hover span {\n",
              "  padding-right: 5px;\n",
              "}\n",
              "\n",
              ".xr-var-list > li:nth-child(odd) > div,\n",
              ".xr-var-list > li:nth-child(odd) > label,\n",
              ".xr-var-list > li:nth-child(odd) > .xr-var-name span {\n",
              "  background-color: var(--xr-background-color-row-odd);\n",
              "}\n",
              "\n",
              ".xr-var-name {\n",
              "  grid-column: 1;\n",
              "}\n",
              "\n",
              ".xr-var-dims {\n",
              "  grid-column: 2;\n",
              "}\n",
              "\n",
              ".xr-var-dtype {\n",
              "  grid-column: 3;\n",
              "  text-align: right;\n",
              "  color: var(--xr-font-color2);\n",
              "}\n",
              "\n",
              ".xr-var-preview {\n",
              "  grid-column: 4;\n",
              "}\n",
              "\n",
              ".xr-var-name,\n",
              ".xr-var-dims,\n",
              ".xr-var-dtype,\n",
              ".xr-preview,\n",
              ".xr-attrs dt {\n",
              "  white-space: nowrap;\n",
              "  overflow: hidden;\n",
              "  text-overflow: ellipsis;\n",
              "  padding-right: 10px;\n",
              "}\n",
              "\n",
              ".xr-var-name:hover,\n",
              ".xr-var-dims:hover,\n",
              ".xr-var-dtype:hover,\n",
              ".xr-attrs dt:hover {\n",
              "  overflow: visible;\n",
              "  width: auto;\n",
              "  z-index: 1;\n",
              "}\n",
              "\n",
              ".xr-var-attrs,\n",
              ".xr-var-data {\n",
              "  display: none;\n",
              "  background-color: var(--xr-background-color) !important;\n",
              "  padding-bottom: 5px !important;\n",
              "}\n",
              "\n",
              ".xr-var-attrs-in:checked ~ .xr-var-attrs,\n",
              ".xr-var-data-in:checked ~ .xr-var-data {\n",
              "  display: block;\n",
              "}\n",
              "\n",
              ".xr-var-data > table {\n",
              "  float: right;\n",
              "}\n",
              "\n",
              ".xr-var-name span,\n",
              ".xr-var-data,\n",
              ".xr-attrs {\n",
              "  padding-left: 25px !important;\n",
              "}\n",
              "\n",
              ".xr-attrs,\n",
              ".xr-var-attrs,\n",
              ".xr-var-data {\n",
              "  grid-column: 1 / -1;\n",
              "}\n",
              "\n",
              "dl.xr-attrs {\n",
              "  padding: 0;\n",
              "  margin: 0;\n",
              "  display: grid;\n",
              "  grid-template-columns: 125px auto;\n",
              "}\n",
              "\n",
              ".xr-attrs dt,\n",
              ".xr-attrs dd {\n",
              "  padding: 0;\n",
              "  margin: 0;\n",
              "  float: left;\n",
              "  padding-right: 10px;\n",
              "  width: auto;\n",
              "}\n",
              "\n",
              ".xr-attrs dt {\n",
              "  font-weight: normal;\n",
              "  grid-column: 1;\n",
              "}\n",
              "\n",
              ".xr-attrs dt:hover span {\n",
              "  display: inline-block;\n",
              "  background: var(--xr-background-color);\n",
              "  padding-right: 10px;\n",
              "}\n",
              "\n",
              ".xr-attrs dd {\n",
              "  grid-column: 2;\n",
              "  white-space: pre-wrap;\n",
              "  word-break: break-all;\n",
              "}\n",
              "\n",
              ".xr-icon-database,\n",
              ".xr-icon-file-text2 {\n",
              "  display: inline-block;\n",
              "  vertical-align: middle;\n",
              "  width: 1em;\n",
              "  height: 1.5em !important;\n",
              "  stroke-width: 0;\n",
              "  stroke: currentColor;\n",
              "  fill: currentColor;\n",
              "}\n",
              "</style><pre class='xr-text-repr-fallback'>&lt;xarray.Dataset&gt;\n",
              "Dimensions:  (x: 400)\n",
              "Coordinates:\n",
              "    lat      (x) float32 32.38 32.38 32.38 32.38 ... 32.38 32.38 32.38 32.38\n",
              "    lon      (x) float32 -99.88 -99.62 -99.38 -99.12 ... -0.625 -0.375 -0.125\n",
              "  * x        (x) float64 -99.87 -99.62 -99.36 -99.11 ... 0.02098 0.2693 0.5177\n",
              "    y        float64 32.38\n",
              "    year     int32 2001\n",
              "Data variables:\n",
              "    tauuo    (x) float32 nan nan nan nan nan nan nan ... nan nan nan nan nan nan</pre><div class='xr-wrap' hidden><div class='xr-header'><div class='xr-obj-type'>xarray.Dataset</div></div><ul class='xr-sections'><li class='xr-section-item'><input id='section-c7a00576-dfa8-452c-9d43-42426024d570' class='xr-section-summary-in' type='checkbox' disabled ><label for='section-c7a00576-dfa8-452c-9d43-42426024d570' class='xr-section-summary'  title='Expand/collapse section'>Dimensions:</label><div class='xr-section-inline-details'><ul class='xr-dim-list'><li><span class='xr-has-index'>x</span>: 400</li></ul></div><div class='xr-section-details'></div></li><li class='xr-section-item'><input id='section-20758b96-d701-49e7-9de6-2aa2dd52d440' class='xr-section-summary-in' type='checkbox'  checked><label for='section-20758b96-d701-49e7-9de6-2aa2dd52d440' class='xr-section-summary' >Coordinates: <span>(5)</span></label><div class='xr-section-inline-details'></div><div class='xr-section-details'><ul class='xr-var-list'><li class='xr-var-item'><div class='xr-var-name'><span>lat</span></div><div class='xr-var-dims'>(x)</div><div class='xr-var-dtype'>float32</div><div class='xr-var-preview xr-preview'>...</div><input id='attrs-f54c6333-652b-4489-b8bc-0cdd48edcd7a' class='xr-var-attrs-in' type='checkbox' ><label for='attrs-f54c6333-652b-4489-b8bc-0cdd48edcd7a' title='Show/Hide attributes'><svg class='icon xr-icon-file-text2'><use xlink:href='#icon-file-text2'></use></svg></label><input id='data-b0deac07-8af3-4a1d-a3bd-7abd2acf489f' class='xr-var-data-in' type='checkbox'><label for='data-b0deac07-8af3-4a1d-a3bd-7abd2acf489f' title='Show/Hide data repr'><svg class='icon xr-icon-database'><use xlink:href='#icon-database'></use></svg></label><div class='xr-var-attrs'><dl class='xr-attrs'><dt><span>cell_methods :</span></dt><dd>y: point x: point</dd><dt><span>long_name :</span></dt><dd>latitude</dd><dt><span>standard_name :</span></dt><dd>latitude</dd><dt><span>units :</span></dt><dd>degrees_north</dd></dl></div><div class='xr-var-data'><pre>array([32.375427, 32.375427, 32.375427, ..., 32.375427, 32.375427, 32.375427],\n",
              "      dtype=float32)</pre></div></li><li class='xr-var-item'><div class='xr-var-name'><span>lon</span></div><div class='xr-var-dims'>(x)</div><div class='xr-var-dtype'>float32</div><div class='xr-var-preview xr-preview'>...</div><input id='attrs-466448f5-7e91-4a05-bebf-ad39e224e56b' class='xr-var-attrs-in' type='checkbox' ><label for='attrs-466448f5-7e91-4a05-bebf-ad39e224e56b' title='Show/Hide attributes'><svg class='icon xr-icon-file-text2'><use xlink:href='#icon-file-text2'></use></svg></label><input id='data-ef29ac9b-2f23-46e1-b373-6f301e2ea798' class='xr-var-data-in' type='checkbox'><label for='data-ef29ac9b-2f23-46e1-b373-6f301e2ea798' title='Show/Hide data repr'><svg class='icon xr-icon-database'><use xlink:href='#icon-database'></use></svg></label><div class='xr-var-attrs'><dl class='xr-attrs'><dt><span>cell_methods :</span></dt><dd>y: point x: point</dd><dt><span>long_name :</span></dt><dd>longitude</dd><dt><span>standard_name :</span></dt><dd>longitude</dd><dt><span>units :</span></dt><dd>degrees_east</dd></dl></div><div class='xr-var-data'><pre>array([-99.875, -99.625, -99.375, ...,  -0.625,  -0.375,  -0.125],\n",
              "      dtype=float32)</pre></div></li><li class='xr-var-item'><div class='xr-var-name'><span class='xr-has-index'>x</span></div><div class='xr-var-dims'>(x)</div><div class='xr-var-dtype'>float64</div><div class='xr-var-preview xr-preview'>-99.87 -99.62 ... 0.2693 0.5177</div><input id='attrs-e8a9bbd5-7e30-43b9-99cb-8abf861416bf' class='xr-var-attrs-in' type='checkbox' ><label for='attrs-e8a9bbd5-7e30-43b9-99cb-8abf861416bf' title='Show/Hide attributes'><svg class='icon xr-icon-file-text2'><use xlink:href='#icon-file-text2'></use></svg></label><input id='data-fc462f03-1c7b-46c7-bd07-24651464b5ff' class='xr-var-data-in' type='checkbox'><label for='data-fc462f03-1c7b-46c7-bd07-24651464b5ff' title='Show/Hide data repr'><svg class='icon xr-icon-database'><use xlink:href='#icon-database'></use></svg></label><div class='xr-var-attrs'><dl class='xr-attrs'><dt><span>axis :</span></dt><dd>X</dd><dt><span>long_name :</span></dt><dd>x coordinate of projection</dd><dt><span>standard_name :</span></dt><dd>projection_x_coordinate</dd><dt><span>units :</span></dt><dd>degrees</dd></dl></div><div class='xr-var-data'><pre>array([-9.987285e+01, -9.961855e+01, -9.936425e+01, ...,  2.098417e-02,\n",
              "        2.693434e-01,  5.176932e-01])</pre></div></li><li class='xr-var-item'><div class='xr-var-name'><span>y</span></div><div class='xr-var-dims'>()</div><div class='xr-var-dtype'>float64</div><div class='xr-var-preview xr-preview'>...</div><input id='attrs-18da086f-4edf-4f13-bb4b-4ad3029f0e4a' class='xr-var-attrs-in' type='checkbox' ><label for='attrs-18da086f-4edf-4f13-bb4b-4ad3029f0e4a' title='Show/Hide attributes'><svg class='icon xr-icon-file-text2'><use xlink:href='#icon-file-text2'></use></svg></label><input id='data-79150f52-9c3e-4a88-a857-3cd1a9984d0e' class='xr-var-data-in' type='checkbox'><label for='data-79150f52-9c3e-4a88-a857-3cd1a9984d0e' title='Show/Hide data repr'><svg class='icon xr-icon-database'><use xlink:href='#icon-database'></use></svg></label><div class='xr-var-attrs'><dl class='xr-attrs'><dt><span>axis :</span></dt><dd>Y</dd><dt><span>long_name :</span></dt><dd>y coordinate of projection</dd><dt><span>standard_name :</span></dt><dd>projection_y_coordinate</dd><dt><span>units :</span></dt><dd>degrees</dd></dl></div><div class='xr-var-data'><pre>array(32.375425)</pre></div></li><li class='xr-var-item'><div class='xr-var-name'><span>year</span></div><div class='xr-var-dims'>()</div><div class='xr-var-dtype'>int32</div><div class='xr-var-preview xr-preview'>...</div><input id='attrs-86bc21bb-ad2f-44aa-a8dd-4e4d4d9af7ea' class='xr-var-attrs-in' type='checkbox' disabled><label for='attrs-86bc21bb-ad2f-44aa-a8dd-4e4d4d9af7ea' title='Show/Hide attributes'><svg class='icon xr-icon-file-text2'><use xlink:href='#icon-file-text2'></use></svg></label><input id='data-5f22c533-6c3f-40e5-a2e3-9787e250b1cd' class='xr-var-data-in' type='checkbox'><label for='data-5f22c533-6c3f-40e5-a2e3-9787e250b1cd' title='Show/Hide data repr'><svg class='icon xr-icon-database'><use xlink:href='#icon-database'></use></svg></label><div class='xr-var-attrs'><dl class='xr-attrs'></dl></div><div class='xr-var-data'><pre>array(2001, dtype=int32)</pre></div></li></ul></div></li><li class='xr-section-item'><input id='section-bdc6b200-1acf-4a26-ae5b-47a1c1c0a4dc' class='xr-section-summary-in' type='checkbox'  checked><label for='section-bdc6b200-1acf-4a26-ae5b-47a1c1c0a4dc' class='xr-section-summary' >Data variables: <span>(1)</span></label><div class='xr-section-inline-details'></div><div class='xr-section-details'><ul class='xr-var-list'><li class='xr-var-item'><div class='xr-var-name'><span>tauuo</span></div><div class='xr-var-dims'>(x)</div><div class='xr-var-dtype'>float32</div><div class='xr-var-preview xr-preview'>nan nan nan nan ... nan nan nan nan</div><input id='attrs-34600a1a-9f71-474a-a1a5-df8501cba252' class='xr-var-attrs-in' type='checkbox' disabled><label for='attrs-34600a1a-9f71-474a-a1a5-df8501cba252' title='Show/Hide attributes'><svg class='icon xr-icon-file-text2'><use xlink:href='#icon-file-text2'></use></svg></label><input id='data-15157870-e217-4a7a-adc3-3a65b3e11b83' class='xr-var-data-in' type='checkbox'><label for='data-15157870-e217-4a7a-adc3-3a65b3e11b83' title='Show/Hide data repr'><svg class='icon xr-icon-database'><use xlink:href='#icon-database'></use></svg></label><div class='xr-var-attrs'><dl class='xr-attrs'></dl></div><div class='xr-var-data'><pre>array([nan, nan, nan, ..., nan, nan, nan], dtype=float32)</pre></div></li></ul></div></li><li class='xr-section-item'><input id='section-ebec1160-76e7-4e07-a318-0a52c31eef01' class='xr-section-summary-in' type='checkbox' disabled ><label for='section-ebec1160-76e7-4e07-a318-0a52c31eef01' class='xr-section-summary'  title='Expand/collapse section'>Attributes: <span>(0)</span></label><div class='xr-section-inline-details'></div><div class='xr-section-details'><dl class='xr-attrs'></dl></div></li></ul></div></div>"
            ],
            "text/plain": [
              "<xarray.Dataset>\n",
              "Dimensions:  (x: 400)\n",
              "Coordinates:\n",
              "    lat      (x) float32 ...\n",
              "    lon      (x) float32 ...\n",
              "  * x        (x) float64 -99.87 -99.62 -99.36 -99.11 ... 0.02098 0.2693 0.5177\n",
              "    y        float64 ...\n",
              "    year     int32 ...\n",
              "Data variables:\n",
              "    tauuo    (x) float32 nan nan nan nan nan nan nan ... nan nan nan nan nan nan"
            ]
          },
          "metadata": {
            "tags": []
          },
          "execution_count": 57
        }
      ]
    },
    {
      "cell_type": "code",
      "metadata": {
        "colab": {
          "base_uri": "https://localhost:8080/"
        },
        "id": "UhM_xkMJEGMG",
        "outputId": "838bb4b8-fc52-4353-82e1-8612093f0fb0"
      },
      "source": [
        "df.lev"
      ],
      "execution_count": null,
      "outputs": [
        {
          "output_type": "execute_result",
          "data": {
            "text/html": [
              "<div><svg style=\"position: absolute; width: 0; height: 0; overflow: hidden\">\n",
              "<defs>\n",
              "<symbol id=\"icon-database\" viewBox=\"0 0 32 32\">\n",
              "<path d=\"M16 0c-8.837 0-16 2.239-16 5v4c0 2.761 7.163 5 16 5s16-2.239 16-5v-4c0-2.761-7.163-5-16-5z\"></path>\n",
              "<path d=\"M16 17c-8.837 0-16-2.239-16-5v6c0 2.761 7.163 5 16 5s16-2.239 16-5v-6c0 2.761-7.163 5-16 5z\"></path>\n",
              "<path d=\"M16 26c-8.837 0-16-2.239-16-5v6c0 2.761 7.163 5 16 5s16-2.239 16-5v-6c0 2.761-7.163 5-16 5z\"></path>\n",
              "</symbol>\n",
              "<symbol id=\"icon-file-text2\" viewBox=\"0 0 32 32\">\n",
              "<path d=\"M28.681 7.159c-0.694-0.947-1.662-2.053-2.724-3.116s-2.169-2.030-3.116-2.724c-1.612-1.182-2.393-1.319-2.841-1.319h-15.5c-1.378 0-2.5 1.121-2.5 2.5v27c0 1.378 1.122 2.5 2.5 2.5h23c1.378 0 2.5-1.122 2.5-2.5v-19.5c0-0.448-0.137-1.23-1.319-2.841zM24.543 5.457c0.959 0.959 1.712 1.825 2.268 2.543h-4.811v-4.811c0.718 0.556 1.584 1.309 2.543 2.268zM28 29.5c0 0.271-0.229 0.5-0.5 0.5h-23c-0.271 0-0.5-0.229-0.5-0.5v-27c0-0.271 0.229-0.5 0.5-0.5 0 0 15.499-0 15.5 0v7c0 0.552 0.448 1 1 1h7v19.5z\"></path>\n",
              "<path d=\"M23 26h-14c-0.552 0-1-0.448-1-1s0.448-1 1-1h14c0.552 0 1 0.448 1 1s-0.448 1-1 1z\"></path>\n",
              "<path d=\"M23 22h-14c-0.552 0-1-0.448-1-1s0.448-1 1-1h14c0.552 0 1 0.448 1 1s-0.448 1-1 1z\"></path>\n",
              "<path d=\"M23 18h-14c-0.552 0-1-0.448-1-1s0.448-1 1-1h14c0.552 0 1 0.448 1 1s-0.448 1-1 1z\"></path>\n",
              "</symbol>\n",
              "</defs>\n",
              "</svg>\n",
              "<style>/* CSS stylesheet for displaying xarray objects in jupyterlab.\n",
              " *\n",
              " */\n",
              "\n",
              ":root {\n",
              "  --xr-font-color0: var(--jp-content-font-color0, rgba(0, 0, 0, 1));\n",
              "  --xr-font-color2: var(--jp-content-font-color2, rgba(0, 0, 0, 0.54));\n",
              "  --xr-font-color3: var(--jp-content-font-color3, rgba(0, 0, 0, 0.38));\n",
              "  --xr-border-color: var(--jp-border-color2, #e0e0e0);\n",
              "  --xr-disabled-color: var(--jp-layout-color3, #bdbdbd);\n",
              "  --xr-background-color: var(--jp-layout-color0, white);\n",
              "  --xr-background-color-row-even: var(--jp-layout-color1, white);\n",
              "  --xr-background-color-row-odd: var(--jp-layout-color2, #eeeeee);\n",
              "}\n",
              "\n",
              "html[theme=dark],\n",
              "body.vscode-dark {\n",
              "  --xr-font-color0: rgba(255, 255, 255, 1);\n",
              "  --xr-font-color2: rgba(255, 255, 255, 0.54);\n",
              "  --xr-font-color3: rgba(255, 255, 255, 0.38);\n",
              "  --xr-border-color: #1F1F1F;\n",
              "  --xr-disabled-color: #515151;\n",
              "  --xr-background-color: #111111;\n",
              "  --xr-background-color-row-even: #111111;\n",
              "  --xr-background-color-row-odd: #313131;\n",
              "}\n",
              "\n",
              ".xr-wrap {\n",
              "  display: block;\n",
              "  min-width: 300px;\n",
              "  max-width: 700px;\n",
              "}\n",
              "\n",
              ".xr-text-repr-fallback {\n",
              "  /* fallback to plain text repr when CSS is not injected (untrusted notebook) */\n",
              "  display: none;\n",
              "}\n",
              "\n",
              ".xr-header {\n",
              "  padding-top: 6px;\n",
              "  padding-bottom: 6px;\n",
              "  margin-bottom: 4px;\n",
              "  border-bottom: solid 1px var(--xr-border-color);\n",
              "}\n",
              "\n",
              ".xr-header > div,\n",
              ".xr-header > ul {\n",
              "  display: inline;\n",
              "  margin-top: 0;\n",
              "  margin-bottom: 0;\n",
              "}\n",
              "\n",
              ".xr-obj-type,\n",
              ".xr-array-name {\n",
              "  margin-left: 2px;\n",
              "  margin-right: 10px;\n",
              "}\n",
              "\n",
              ".xr-obj-type {\n",
              "  color: var(--xr-font-color2);\n",
              "}\n",
              "\n",
              ".xr-sections {\n",
              "  padding-left: 0 !important;\n",
              "  display: grid;\n",
              "  grid-template-columns: 150px auto auto 1fr 20px 20px;\n",
              "}\n",
              "\n",
              ".xr-section-item {\n",
              "  display: contents;\n",
              "}\n",
              "\n",
              ".xr-section-item input {\n",
              "  display: none;\n",
              "}\n",
              "\n",
              ".xr-section-item input + label {\n",
              "  color: var(--xr-disabled-color);\n",
              "}\n",
              "\n",
              ".xr-section-item input:enabled + label {\n",
              "  cursor: pointer;\n",
              "  color: var(--xr-font-color2);\n",
              "}\n",
              "\n",
              ".xr-section-item input:enabled + label:hover {\n",
              "  color: var(--xr-font-color0);\n",
              "}\n",
              "\n",
              ".xr-section-summary {\n",
              "  grid-column: 1;\n",
              "  color: var(--xr-font-color2);\n",
              "  font-weight: 500;\n",
              "}\n",
              "\n",
              ".xr-section-summary > span {\n",
              "  display: inline-block;\n",
              "  padding-left: 0.5em;\n",
              "}\n",
              "\n",
              ".xr-section-summary-in:disabled + label {\n",
              "  color: var(--xr-font-color2);\n",
              "}\n",
              "\n",
              ".xr-section-summary-in + label:before {\n",
              "  display: inline-block;\n",
              "  content: '►';\n",
              "  font-size: 11px;\n",
              "  width: 15px;\n",
              "  text-align: center;\n",
              "}\n",
              "\n",
              ".xr-section-summary-in:disabled + label:before {\n",
              "  color: var(--xr-disabled-color);\n",
              "}\n",
              "\n",
              ".xr-section-summary-in:checked + label:before {\n",
              "  content: '▼';\n",
              "}\n",
              "\n",
              ".xr-section-summary-in:checked + label > span {\n",
              "  display: none;\n",
              "}\n",
              "\n",
              ".xr-section-summary,\n",
              ".xr-section-inline-details {\n",
              "  padding-top: 4px;\n",
              "  padding-bottom: 4px;\n",
              "}\n",
              "\n",
              ".xr-section-inline-details {\n",
              "  grid-column: 2 / -1;\n",
              "}\n",
              "\n",
              ".xr-section-details {\n",
              "  display: none;\n",
              "  grid-column: 1 / -1;\n",
              "  margin-bottom: 5px;\n",
              "}\n",
              "\n",
              ".xr-section-summary-in:checked ~ .xr-section-details {\n",
              "  display: contents;\n",
              "}\n",
              "\n",
              ".xr-array-wrap {\n",
              "  grid-column: 1 / -1;\n",
              "  display: grid;\n",
              "  grid-template-columns: 20px auto;\n",
              "}\n",
              "\n",
              ".xr-array-wrap > label {\n",
              "  grid-column: 1;\n",
              "  vertical-align: top;\n",
              "}\n",
              "\n",
              ".xr-preview {\n",
              "  color: var(--xr-font-color3);\n",
              "}\n",
              "\n",
              ".xr-array-preview,\n",
              ".xr-array-data {\n",
              "  padding: 0 5px !important;\n",
              "  grid-column: 2;\n",
              "}\n",
              "\n",
              ".xr-array-data,\n",
              ".xr-array-in:checked ~ .xr-array-preview {\n",
              "  display: none;\n",
              "}\n",
              "\n",
              ".xr-array-in:checked ~ .xr-array-data,\n",
              ".xr-array-preview {\n",
              "  display: inline-block;\n",
              "}\n",
              "\n",
              ".xr-dim-list {\n",
              "  display: inline-block !important;\n",
              "  list-style: none;\n",
              "  padding: 0 !important;\n",
              "  margin: 0;\n",
              "}\n",
              "\n",
              ".xr-dim-list li {\n",
              "  display: inline-block;\n",
              "  padding: 0;\n",
              "  margin: 0;\n",
              "}\n",
              "\n",
              ".xr-dim-list:before {\n",
              "  content: '(';\n",
              "}\n",
              "\n",
              ".xr-dim-list:after {\n",
              "  content: ')';\n",
              "}\n",
              "\n",
              ".xr-dim-list li:not(:last-child):after {\n",
              "  content: ',';\n",
              "  padding-right: 5px;\n",
              "}\n",
              "\n",
              ".xr-has-index {\n",
              "  font-weight: bold;\n",
              "}\n",
              "\n",
              ".xr-var-list,\n",
              ".xr-var-item {\n",
              "  display: contents;\n",
              "}\n",
              "\n",
              ".xr-var-item > div,\n",
              ".xr-var-item label,\n",
              ".xr-var-item > .xr-var-name span {\n",
              "  background-color: var(--xr-background-color-row-even);\n",
              "  margin-bottom: 0;\n",
              "}\n",
              "\n",
              ".xr-var-item > .xr-var-name:hover span {\n",
              "  padding-right: 5px;\n",
              "}\n",
              "\n",
              ".xr-var-list > li:nth-child(odd) > div,\n",
              ".xr-var-list > li:nth-child(odd) > label,\n",
              ".xr-var-list > li:nth-child(odd) > .xr-var-name span {\n",
              "  background-color: var(--xr-background-color-row-odd);\n",
              "}\n",
              "\n",
              ".xr-var-name {\n",
              "  grid-column: 1;\n",
              "}\n",
              "\n",
              ".xr-var-dims {\n",
              "  grid-column: 2;\n",
              "}\n",
              "\n",
              ".xr-var-dtype {\n",
              "  grid-column: 3;\n",
              "  text-align: right;\n",
              "  color: var(--xr-font-color2);\n",
              "}\n",
              "\n",
              ".xr-var-preview {\n",
              "  grid-column: 4;\n",
              "}\n",
              "\n",
              ".xr-var-name,\n",
              ".xr-var-dims,\n",
              ".xr-var-dtype,\n",
              ".xr-preview,\n",
              ".xr-attrs dt {\n",
              "  white-space: nowrap;\n",
              "  overflow: hidden;\n",
              "  text-overflow: ellipsis;\n",
              "  padding-right: 10px;\n",
              "}\n",
              "\n",
              ".xr-var-name:hover,\n",
              ".xr-var-dims:hover,\n",
              ".xr-var-dtype:hover,\n",
              ".xr-attrs dt:hover {\n",
              "  overflow: visible;\n",
              "  width: auto;\n",
              "  z-index: 1;\n",
              "}\n",
              "\n",
              ".xr-var-attrs,\n",
              ".xr-var-data {\n",
              "  display: none;\n",
              "  background-color: var(--xr-background-color) !important;\n",
              "  padding-bottom: 5px !important;\n",
              "}\n",
              "\n",
              ".xr-var-attrs-in:checked ~ .xr-var-attrs,\n",
              ".xr-var-data-in:checked ~ .xr-var-data {\n",
              "  display: block;\n",
              "}\n",
              "\n",
              ".xr-var-data > table {\n",
              "  float: right;\n",
              "}\n",
              "\n",
              ".xr-var-name span,\n",
              ".xr-var-data,\n",
              ".xr-attrs {\n",
              "  padding-left: 25px !important;\n",
              "}\n",
              "\n",
              ".xr-attrs,\n",
              ".xr-var-attrs,\n",
              ".xr-var-data {\n",
              "  grid-column: 1 / -1;\n",
              "}\n",
              "\n",
              "dl.xr-attrs {\n",
              "  padding: 0;\n",
              "  margin: 0;\n",
              "  display: grid;\n",
              "  grid-template-columns: 125px auto;\n",
              "}\n",
              "\n",
              ".xr-attrs dt,\n",
              ".xr-attrs dd {\n",
              "  padding: 0;\n",
              "  margin: 0;\n",
              "  float: left;\n",
              "  padding-right: 10px;\n",
              "  width: auto;\n",
              "}\n",
              "\n",
              ".xr-attrs dt {\n",
              "  font-weight: normal;\n",
              "  grid-column: 1;\n",
              "}\n",
              "\n",
              ".xr-attrs dt:hover span {\n",
              "  display: inline-block;\n",
              "  background: var(--xr-background-color);\n",
              "  padding-right: 10px;\n",
              "}\n",
              "\n",
              ".xr-attrs dd {\n",
              "  grid-column: 2;\n",
              "  white-space: pre-wrap;\n",
              "  word-break: break-all;\n",
              "}\n",
              "\n",
              ".xr-icon-database,\n",
              ".xr-icon-file-text2 {\n",
              "  display: inline-block;\n",
              "  vertical-align: middle;\n",
              "  width: 1em;\n",
              "  height: 1.5em !important;\n",
              "  stroke-width: 0;\n",
              "  stroke: currentColor;\n",
              "  fill: currentColor;\n",
              "}\n",
              "</style><pre class='xr-text-repr-fallback'>&lt;xarray.DataArray &#x27;lev&#x27; (lev: 35)&gt;\n",
              "array([2.5000e+00, 1.0000e+01, 2.0000e+01, 3.2500e+01, 5.1250e+01, 7.5000e+01,\n",
              "       1.0000e+02, 1.2500e+02, 1.5625e+02, 2.0000e+02, 2.5000e+02, 3.1250e+02,\n",
              "       4.0000e+02, 5.0000e+02, 6.0000e+02, 7.0000e+02, 8.0000e+02, 9.0000e+02,\n",
              "       1.0000e+03, 1.1000e+03, 1.2000e+03, 1.3000e+03, 1.4000e+03, 1.5375e+03,\n",
              "       1.7500e+03, 2.0625e+03, 2.5000e+03, 3.0000e+03, 3.5000e+03, 4.0000e+03,\n",
              "       4.5000e+03, 5.0000e+03, 5.5000e+03, 6.0000e+03, 6.5000e+03])\n",
              "Coordinates:\n",
              "  * lev      (lev) float64 2.5 10.0 20.0 32.5 ... 5e+03 5.5e+03 6e+03 6.5e+03\n",
              "    y        float64 32.38\n",
              "    year     int32 2001\n",
              "Attributes:\n",
              "    axis:         Z\n",
              "    bounds:       lev_bnds\n",
              "    description:  generic ocean model vertical coordinate (nondimensional or ...\n",
              "    long_name:    ocean model level\n",
              "    positive:     down\n",
              "    units:        m</pre><div class='xr-wrap' hidden><div class='xr-header'><div class='xr-obj-type'>xarray.DataArray</div><div class='xr-array-name'>'lev'</div><ul class='xr-dim-list'><li><span class='xr-has-index'>lev</span>: 35</li></ul></div><ul class='xr-sections'><li class='xr-section-item'><div class='xr-array-wrap'><input id='section-e238adee-e143-44e7-9be4-dd6d3f94be74' class='xr-array-in' type='checkbox' checked><label for='section-e238adee-e143-44e7-9be4-dd6d3f94be74' title='Show/hide data repr'><svg class='icon xr-icon-database'><use xlink:href='#icon-database'></use></svg></label><div class='xr-array-preview xr-preview'><span>2.5 10.0 20.0 32.5 51.25 75.0 ... 4.5e+03 5e+03 5.5e+03 6e+03 6.5e+03</span></div><div class='xr-array-data'><pre>array([2.5000e+00, 1.0000e+01, 2.0000e+01, 3.2500e+01, 5.1250e+01, 7.5000e+01,\n",
              "       1.0000e+02, 1.2500e+02, 1.5625e+02, 2.0000e+02, 2.5000e+02, 3.1250e+02,\n",
              "       4.0000e+02, 5.0000e+02, 6.0000e+02, 7.0000e+02, 8.0000e+02, 9.0000e+02,\n",
              "       1.0000e+03, 1.1000e+03, 1.2000e+03, 1.3000e+03, 1.4000e+03, 1.5375e+03,\n",
              "       1.7500e+03, 2.0625e+03, 2.5000e+03, 3.0000e+03, 3.5000e+03, 4.0000e+03,\n",
              "       4.5000e+03, 5.0000e+03, 5.5000e+03, 6.0000e+03, 6.5000e+03])</pre></div></div></li><li class='xr-section-item'><input id='section-fc63f2be-df54-485a-b3da-8d8e9f8b5c5e' class='xr-section-summary-in' type='checkbox'  checked><label for='section-fc63f2be-df54-485a-b3da-8d8e9f8b5c5e' class='xr-section-summary' >Coordinates: <span>(3)</span></label><div class='xr-section-inline-details'></div><div class='xr-section-details'><ul class='xr-var-list'><li class='xr-var-item'><div class='xr-var-name'><span class='xr-has-index'>lev</span></div><div class='xr-var-dims'>(lev)</div><div class='xr-var-dtype'>float64</div><div class='xr-var-preview xr-preview'>2.5 10.0 20.0 ... 6e+03 6.5e+03</div><input id='attrs-080835d3-653c-43bd-99ba-c6d0f8290fc4' class='xr-var-attrs-in' type='checkbox' ><label for='attrs-080835d3-653c-43bd-99ba-c6d0f8290fc4' title='Show/Hide attributes'><svg class='icon xr-icon-file-text2'><use xlink:href='#icon-file-text2'></use></svg></label><input id='data-d21bd49b-9bcc-4296-8dcc-49ab7b60a8df' class='xr-var-data-in' type='checkbox'><label for='data-d21bd49b-9bcc-4296-8dcc-49ab7b60a8df' title='Show/Hide data repr'><svg class='icon xr-icon-database'><use xlink:href='#icon-database'></use></svg></label><div class='xr-var-attrs'><dl class='xr-attrs'><dt><span>axis :</span></dt><dd>Z</dd><dt><span>bounds :</span></dt><dd>lev_bnds</dd><dt><span>description :</span></dt><dd>generic ocean model vertical coordinate (nondimensional or dimensional)</dd><dt><span>long_name :</span></dt><dd>ocean model level</dd><dt><span>positive :</span></dt><dd>down</dd><dt><span>units :</span></dt><dd>m</dd></dl></div><div class='xr-var-data'><pre>array([2.5000e+00, 1.0000e+01, 2.0000e+01, 3.2500e+01, 5.1250e+01, 7.5000e+01,\n",
              "       1.0000e+02, 1.2500e+02, 1.5625e+02, 2.0000e+02, 2.5000e+02, 3.1250e+02,\n",
              "       4.0000e+02, 5.0000e+02, 6.0000e+02, 7.0000e+02, 8.0000e+02, 9.0000e+02,\n",
              "       1.0000e+03, 1.1000e+03, 1.2000e+03, 1.3000e+03, 1.4000e+03, 1.5375e+03,\n",
              "       1.7500e+03, 2.0625e+03, 2.5000e+03, 3.0000e+03, 3.5000e+03, 4.0000e+03,\n",
              "       4.5000e+03, 5.0000e+03, 5.5000e+03, 6.0000e+03, 6.5000e+03])</pre></div></li><li class='xr-var-item'><div class='xr-var-name'><span>y</span></div><div class='xr-var-dims'>()</div><div class='xr-var-dtype'>float64</div><div class='xr-var-preview xr-preview'>32.38</div><input id='attrs-43d00b76-02f1-48c5-ad99-4fe56d0cbe81' class='xr-var-attrs-in' type='checkbox' ><label for='attrs-43d00b76-02f1-48c5-ad99-4fe56d0cbe81' title='Show/Hide attributes'><svg class='icon xr-icon-file-text2'><use xlink:href='#icon-file-text2'></use></svg></label><input id='data-41ee49d4-eea5-4177-8384-f86aa9b2a2b6' class='xr-var-data-in' type='checkbox'><label for='data-41ee49d4-eea5-4177-8384-f86aa9b2a2b6' title='Show/Hide data repr'><svg class='icon xr-icon-database'><use xlink:href='#icon-database'></use></svg></label><div class='xr-var-attrs'><dl class='xr-attrs'><dt><span>axis :</span></dt><dd>Y</dd><dt><span>long_name :</span></dt><dd>y coordinate of projection</dd><dt><span>standard_name :</span></dt><dd>projection_y_coordinate</dd><dt><span>units :</span></dt><dd>degrees</dd></dl></div><div class='xr-var-data'><pre>array(32.375425)</pre></div></li><li class='xr-var-item'><div class='xr-var-name'><span>year</span></div><div class='xr-var-dims'>()</div><div class='xr-var-dtype'>int32</div><div class='xr-var-preview xr-preview'>2001</div><input id='attrs-5e20fd7d-e3b1-472f-b1de-5f3bcc4f9392' class='xr-var-attrs-in' type='checkbox' disabled><label for='attrs-5e20fd7d-e3b1-472f-b1de-5f3bcc4f9392' title='Show/Hide attributes'><svg class='icon xr-icon-file-text2'><use xlink:href='#icon-file-text2'></use></svg></label><input id='data-4c6f2676-8733-490e-8431-75554be2ac66' class='xr-var-data-in' type='checkbox'><label for='data-4c6f2676-8733-490e-8431-75554be2ac66' title='Show/Hide data repr'><svg class='icon xr-icon-database'><use xlink:href='#icon-database'></use></svg></label><div class='xr-var-attrs'><dl class='xr-attrs'></dl></div><div class='xr-var-data'><pre>array(2001, dtype=int32)</pre></div></li></ul></div></li><li class='xr-section-item'><input id='section-6882183a-03af-400c-9f59-d1ae08ae5805' class='xr-section-summary-in' type='checkbox'  checked><label for='section-6882183a-03af-400c-9f59-d1ae08ae5805' class='xr-section-summary' >Attributes: <span>(6)</span></label><div class='xr-section-inline-details'></div><div class='xr-section-details'><dl class='xr-attrs'><dt><span>axis :</span></dt><dd>Z</dd><dt><span>bounds :</span></dt><dd>lev_bnds</dd><dt><span>description :</span></dt><dd>generic ocean model vertical coordinate (nondimensional or dimensional)</dd><dt><span>long_name :</span></dt><dd>ocean model level</dd><dt><span>positive :</span></dt><dd>down</dd><dt><span>units :</span></dt><dd>m</dd></dl></div></li></ul></div></div>"
            ],
            "text/plain": [
              "<xarray.DataArray 'lev' (lev: 35)>\n",
              "array([2.5000e+00, 1.0000e+01, 2.0000e+01, 3.2500e+01, 5.1250e+01, 7.5000e+01,\n",
              "       1.0000e+02, 1.2500e+02, 1.5625e+02, 2.0000e+02, 2.5000e+02, 3.1250e+02,\n",
              "       4.0000e+02, 5.0000e+02, 6.0000e+02, 7.0000e+02, 8.0000e+02, 9.0000e+02,\n",
              "       1.0000e+03, 1.1000e+03, 1.2000e+03, 1.3000e+03, 1.4000e+03, 1.5375e+03,\n",
              "       1.7500e+03, 2.0625e+03, 2.5000e+03, 3.0000e+03, 3.5000e+03, 4.0000e+03,\n",
              "       4.5000e+03, 5.0000e+03, 5.5000e+03, 6.0000e+03, 6.5000e+03])\n",
              "Coordinates:\n",
              "  * lev      (lev) float64 2.5 10.0 20.0 32.5 ... 5e+03 5.5e+03 6e+03 6.5e+03\n",
              "    y        float64 32.38\n",
              "    year     int32 2001\n",
              "Attributes:\n",
              "    axis:         Z\n",
              "    bounds:       lev_bnds\n",
              "    description:  generic ocean model vertical coordinate (nondimensional or ...\n",
              "    long_name:    ocean model level\n",
              "    positive:     down\n",
              "    units:        m"
            ]
          },
          "metadata": {
            "tags": []
          },
          "execution_count": 58
        }
      ]
    },
    {
      "cell_type": "code",
      "metadata": {
        "id": "RC2ZMHgFEeN2"
      },
      "source": [
        "taux = dt.tauuo.values\n",
        "# taux"
      ],
      "execution_count": null,
      "outputs": []
    },
    {
      "cell_type": "markdown",
      "metadata": {
        "id": "SaeKdtdeOyX3"
      },
      "source": [
        "##Ekman Layer"
      ]
    },
    {
      "cell_type": "markdown",
      "metadata": {
        "id": "9wzSSTdoO1CM"
      },
      "source": [
        "We can also [Compute](https://en.wikipedia.org/wiki/Ekman_layer#Solution) Ekman Layer Depth with using f in the given latitude \n",
        "\n",
        "\n",
        "> f = 7.81E-5:\n",
        "\n"
      ]
    },
    {
      "cell_type": "code",
      "metadata": {
        "colab": {
          "base_uri": "https://localhost:8080/"
        },
        "id": "LW3QRDcyMSMs",
        "outputId": "68f50764-480e-4756-d463-6bbd5cb3bf06"
      },
      "source": [
        "Km = 0.1 # U10 assumed approximately 5\n",
        "f_lat = f.values[0]\n",
        "DEk = sqrt(2*Km/abs(f_lat))\n",
        "print (\"Depth of Ekman Layer is approximately\",round(DEk,3), \"m\")"
      ],
      "execution_count": null,
      "outputs": [
        {
          "output_type": "stream",
          "text": [
            "Depth of Ekman Layer is approximately 50.607 m\n"
          ],
          "name": "stdout"
        }
      ]
    },
    {
      "cell_type": "code",
      "metadata": {
        "id": "ZiPej5S0WS1d"
      },
      "source": [
        "def deg_to_rad(deg):\n",
        "  rad = (pi/180)*deg\n",
        "  return rad"
      ],
      "execution_count": null,
      "outputs": []
    },
    {
      "cell_type": "code",
      "metadata": {
        "colab": {
          "base_uri": "https://localhost:8080/"
        },
        "id": "XKYUjsShWyo9",
        "outputId": "16f38ce9-7a15-48a1-d07d-35d4d03ab67f"
      },
      "source": [
        "df.lat.values[0]"
      ],
      "execution_count": null,
      "outputs": [
        {
          "output_type": "execute_result",
          "data": {
            "text/plain": [
              "32.375427"
            ]
          },
          "metadata": {
            "tags": []
          },
          "execution_count": 62
        }
      ]
    },
    {
      "cell_type": "code",
      "metadata": {
        "colab": {
          "base_uri": "https://localhost:8080/"
        },
        "id": "fg3Q0XOsLx0n",
        "outputId": "9d2fae7a-789f-47eb-881e-72f6752f6399"
      },
      "source": [
        "U10 = DEk*sqrt(sin(deg_to_rad(df.lat.values[0])))/7.6\n",
        "print(round(U10))"
      ],
      "execution_count": null,
      "outputs": [
        {
          "output_type": "stream",
          "text": [
            "5\n"
          ],
          "name": "stdout"
        }
      ]
    },
    {
      "cell_type": "markdown",
      "metadata": {
        "id": "0ZfO1MrnXFZc"
      },
      "source": [
        "U10 value is consistent, so we can calculate V0 velocity"
      ]
    },
    {
      "cell_type": "code",
      "metadata": {
        "colab": {
          "base_uri": "https://localhost:8080/"
        },
        "id": "fRsvbkEgSDTO",
        "outputId": "2b622fe1-727f-42fb-ec01-c5165da4eb94"
      },
      "source": [
        "V0 = 0.0127/((sqrt(sin(deg_to_rad(df.lat.values[0]))))*U10)\n",
        "print(\"V0 Ekman velocity found as \", round(V0,4), \"m/s\")"
      ],
      "execution_count": null,
      "outputs": [
        {
          "output_type": "stream",
          "text": [
            "V0 Ekman velocity found as  0.0036 m/s\n"
          ],
          "name": "stdout"
        }
      ]
    },
    {
      "cell_type": "markdown",
      "metadata": {
        "id": "zaOSz9OAb7fi"
      },
      "source": [
        "### Ekman Transport"
      ]
    },
    {
      "cell_type": "markdown",
      "metadata": {
        "id": "_IlLr9v25nYd"
      },
      "source": [
        "After the finding Ekman layer depth, we can find the Ekman transport value from the formula shown below."
      ]
    },
    {
      "cell_type": "code",
      "metadata": {
        "colab": {
          "base_uri": "https://localhost:8080/"
        },
        "id": "MS5QkD7CdBZ7",
        "outputId": "65c69ee2-da0e-4fbc-f32b-4d0c8450d80e"
      },
      "source": [
        "%%latex\n",
        "$\\ {V}_{Ek} = - \\frac{{\\tau}_{x}}{{\\rho}_{0}f} $"
      ],
      "execution_count": null,
      "outputs": [
        {
          "output_type": "display_data",
          "data": {
            "text/latex": "$\\ {V}_{Ek} = - \\frac{{\\tau}_{x}}{{\\rho}_{0}f} $",
            "text/plain": [
              "<IPython.core.display.Latex object>"
            ]
          },
          "metadata": {
            "tags": []
          }
        }
      ]
    },
    {
      "cell_type": "code",
      "metadata": {
        "id": "6LDZqXWKXhzO"
      },
      "source": [
        "VEk = -1*taux/(rho*f)\n",
        "# VEk[0].values"
      ],
      "execution_count": null,
      "outputs": []
    },
    {
      "cell_type": "code",
      "metadata": {
        "colab": {
          "base_uri": "https://localhost:8080/"
        },
        "id": "ldv-xerDdntQ",
        "outputId": "a81059bf-27be-478b-b0fa-f851e3094f5a"
      },
      "source": [
        "plt.figure(figsize=(10,7))\n",
        "plt.title('Ekman Transport')\n",
        "plt.pcolormesh(df.x, -df.lev, VEk);plt.colorbar();"
      ],
      "execution_count": null,
      "outputs": [
        {
          "output_type": "display_data",
          "data": {
            "image/png": "[encoded data removed]",
            "text/plain": [
              "<Figure size 720x504 with 2 Axes>"
            ]
          },
          "metadata": {
            "tags": [],
            "needs_background": "light"
          }
        }
      ]
    },
    {
      "cell_type": "markdown",
      "metadata": {
        "id": "Zrlq8MXVhorS"
      },
      "source": [
        "##Thermal Wind Balance"
      ]
    },
    {
      "cell_type": "markdown",
      "metadata": {
        "id": "K42eBKycQVQx"
      },
      "source": [
        "Density Gradient is important for thermal wind balance. Therefore let's look at the Density Gradient figure again"
      ]
    },
    {
      "cell_type": "code",
      "metadata": {
        "colab": {
          "base_uri": "https://localhost:8080/"
        },
        "id": "mYBkok4Fca_F",
        "outputId": "1b50173d-6df8-4951-9678-92b473d6848b"
      },
      "source": [
        "plt.figure(figsize=(20,9))\n",
        "plt.title('Density Gradient')\n",
        "plt.pcolormesh(ds.x, -ds.lev, rho.values);plt.colorbar();"
      ],
      "execution_count": null,
      "outputs": [
        {
          "output_type": "display_data",
          "data": {
            "image/png": "[encoded data removed]",
            "text/plain": [
              "<Figure size 1440x648 with 2 Axes>"
            ]
          },
          "metadata": {
            "tags": [],
            "needs_background": "light"
          }
        }
      ]
    },
    {
      "cell_type": "markdown",
      "metadata": {
        "id": "rzC-RsayQlvE"
      },
      "source": [
        "2D Velocity is depend on z direction and x direction \n",
        "\n",
        "\n",
        "---\n",
        "\n",
        "\n",
        "\n",
        "---\n",
        "\n",
        "\n",
        "V(z,x)"
      ]
    },
    {
      "cell_type": "code",
      "metadata": {
        "colab": {
          "base_uri": "https://localhost:8080/"
        },
        "id": "q8fsvfnihrLn",
        "outputId": "4967c552-5298-4824-a723-6ef302880e38"
      },
      "source": [
        "%%latex\n",
        "$\\ \\frac{\\partial v}{\\partial z} = \\frac{g}{f {\\rho}_{0}} \\frac{\\partial {\\rho}^\\prime }{\\partial x} $"
      ],
      "execution_count": null,
      "outputs": [
        {
          "output_type": "display_data",
          "data": {
            "text/latex": "$\\ \\frac{\\partial v}{\\partial z} = \\frac{g}{f {\\rho}_{0}} \\frac{\\partial {\\rho}^\\prime }{\\partial x} $",
            "text/plain": [
              "<IPython.core.display.Latex object>"
            ]
          },
          "metadata": {
            "tags": []
          }
        }
      ]
    },
    {
      "cell_type": "markdown",
      "metadata": {
        "id": "Zj6j45NuT4Tg"
      },
      "source": [
        "The last term in the formula is density gradient. So if we apply the formula:"
      ]
    },
    {
      "cell_type": "code",
      "metadata": {
        "id": "02Xwz_ykRM9M"
      },
      "source": [
        "v = (g*rho)/(f*rho_zero*dx)"
      ],
      "execution_count": null,
      "outputs": []
    },
    {
      "cell_type": "code",
      "metadata": {
        "colab": {
          "base_uri": "https://localhost:8080/"
        },
        "id": "4l4IENfXW5eF",
        "outputId": "796d8f62-bc49-4fc3-d03c-a6ba353aa7fb"
      },
      "source": [
        "v.min()"
      ],
      "execution_count": null,
      "outputs": [
        {
          "output_type": "execute_result",
          "data": {
            "text/html": [
              "<div><svg style=\"position: absolute; width: 0; height: 0; overflow: hidden\">\n",
              "<defs>\n",
              "<symbol id=\"icon-database\" viewBox=\"0 0 32 32\">\n",
              "<path d=\"M16 0c-8.837 0-16 2.239-16 5v4c0 2.761 7.163 5 16 5s16-2.239 16-5v-4c0-2.761-7.163-5-16-5z\"></path>\n",
              "<path d=\"M16 17c-8.837 0-16-2.239-16-5v6c0 2.761 7.163 5 16 5s16-2.239 16-5v-6c0 2.761-7.163 5-16 5z\"></path>\n",
              "<path d=\"M16 26c-8.837 0-16-2.239-16-5v6c0 2.761 7.163 5 16 5s16-2.239 16-5v-6c0 2.761-7.163 5-16 5z\"></path>\n",
              "</symbol>\n",
              "<symbol id=\"icon-file-text2\" viewBox=\"0 0 32 32\">\n",
              "<path d=\"M28.681 7.159c-0.694-0.947-1.662-2.053-2.724-3.116s-2.169-2.030-3.116-2.724c-1.612-1.182-2.393-1.319-2.841-1.319h-15.5c-1.378 0-2.5 1.121-2.5 2.5v27c0 1.378 1.122 2.5 2.5 2.5h23c1.378 0 2.5-1.122 2.5-2.5v-19.5c0-0.448-0.137-1.23-1.319-2.841zM24.543 5.457c0.959 0.959 1.712 1.825 2.268 2.543h-4.811v-4.811c0.718 0.556 1.584 1.309 2.543 2.268zM28 29.5c0 0.271-0.229 0.5-0.5 0.5h-23c-0.271 0-0.5-0.229-0.5-0.5v-27c0-0.271 0.229-0.5 0.5-0.5 0 0 15.499-0 15.5 0v7c0 0.552 0.448 1 1 1h7v19.5z\"></path>\n",
              "<path d=\"M23 26h-14c-0.552 0-1-0.448-1-1s0.448-1 1-1h14c0.552 0 1 0.448 1 1s-0.448 1-1 1z\"></path>\n",
              "<path d=\"M23 22h-14c-0.552 0-1-0.448-1-1s0.448-1 1-1h14c0.552 0 1 0.448 1 1s-0.448 1-1 1z\"></path>\n",
              "<path d=\"M23 18h-14c-0.552 0-1-0.448-1-1s0.448-1 1-1h14c0.552 0 1 0.448 1 1s-0.448 1-1 1z\"></path>\n",
              "</symbol>\n",
              "</defs>\n",
              "</svg>\n",
              "<style>/* CSS stylesheet for displaying xarray objects in jupyterlab.\n",
              " *\n",
              " */\n",
              "\n",
              ":root {\n",
              "  --xr-font-color0: var(--jp-content-font-color0, rgba(0, 0, 0, 1));\n",
              "  --xr-font-color2: var(--jp-content-font-color2, rgba(0, 0, 0, 0.54));\n",
              "  --xr-font-color3: var(--jp-content-font-color3, rgba(0, 0, 0, 0.38));\n",
              "  --xr-border-color: var(--jp-border-color2, #e0e0e0);\n",
              "  --xr-disabled-color: var(--jp-layout-color3, #bdbdbd);\n",
              "  --xr-background-color: var(--jp-layout-color0, white);\n",
              "  --xr-background-color-row-even: var(--jp-layout-color1, white);\n",
              "  --xr-background-color-row-odd: var(--jp-layout-color2, #eeeeee);\n",
              "}\n",
              "\n",
              "html[theme=dark],\n",
              "body.vscode-dark {\n",
              "  --xr-font-color0: rgba(255, 255, 255, 1);\n",
              "  --xr-font-color2: rgba(255, 255, 255, 0.54);\n",
              "  --xr-font-color3: rgba(255, 255, 255, 0.38);\n",
              "  --xr-border-color: #1F1F1F;\n",
              "  --xr-disabled-color: #515151;\n",
              "  --xr-background-color: #111111;\n",
              "  --xr-background-color-row-even: #111111;\n",
              "  --xr-background-color-row-odd: #313131;\n",
              "}\n",
              "\n",
              ".xr-wrap {\n",
              "  display: block;\n",
              "  min-width: 300px;\n",
              "  max-width: 700px;\n",
              "}\n",
              "\n",
              ".xr-text-repr-fallback {\n",
              "  /* fallback to plain text repr when CSS is not injected (untrusted notebook) */\n",
              "  display: none;\n",
              "}\n",
              "\n",
              ".xr-header {\n",
              "  padding-top: 6px;\n",
              "  padding-bottom: 6px;\n",
              "  margin-bottom: 4px;\n",
              "  border-bottom: solid 1px var(--xr-border-color);\n",
              "}\n",
              "\n",
              ".xr-header > div,\n",
              ".xr-header > ul {\n",
              "  display: inline;\n",
              "  margin-top: 0;\n",
              "  margin-bottom: 0;\n",
              "}\n",
              "\n",
              ".xr-obj-type,\n",
              ".xr-array-name {\n",
              "  margin-left: 2px;\n",
              "  margin-right: 10px;\n",
              "}\n",
              "\n",
              ".xr-obj-type {\n",
              "  color: var(--xr-font-color2);\n",
              "}\n",
              "\n",
              ".xr-sections {\n",
              "  padding-left: 0 !important;\n",
              "  display: grid;\n",
              "  grid-template-columns: 150px auto auto 1fr 20px 20px;\n",
              "}\n",
              "\n",
              ".xr-section-item {\n",
              "  display: contents;\n",
              "}\n",
              "\n",
              ".xr-section-item input {\n",
              "  display: none;\n",
              "}\n",
              "\n",
              ".xr-section-item input + label {\n",
              "  color: var(--xr-disabled-color);\n",
              "}\n",
              "\n",
              ".xr-section-item input:enabled + label {\n",
              "  cursor: pointer;\n",
              "  color: var(--xr-font-color2);\n",
              "}\n",
              "\n",
              ".xr-section-item input:enabled + label:hover {\n",
              "  color: var(--xr-font-color0);\n",
              "}\n",
              "\n",
              ".xr-section-summary {\n",
              "  grid-column: 1;\n",
              "  color: var(--xr-font-color2);\n",
              "  font-weight: 500;\n",
              "}\n",
              "\n",
              ".xr-section-summary > span {\n",
              "  display: inline-block;\n",
              "  padding-left: 0.5em;\n",
              "}\n",
              "\n",
              ".xr-section-summary-in:disabled + label {\n",
              "  color: var(--xr-font-color2);\n",
              "}\n",
              "\n",
              ".xr-section-summary-in + label:before {\n",
              "  display: inline-block;\n",
              "  content: '►';\n",
              "  font-size: 11px;\n",
              "  width: 15px;\n",
              "  text-align: center;\n",
              "}\n",
              "\n",
              ".xr-section-summary-in:disabled + label:before {\n",
              "  color: var(--xr-disabled-color);\n",
              "}\n",
              "\n",
              ".xr-section-summary-in:checked + label:before {\n",
              "  content: '▼';\n",
              "}\n",
              "\n",
              ".xr-section-summary-in:checked + label > span {\n",
              "  display: none;\n",
              "}\n",
              "\n",
              ".xr-section-summary,\n",
              ".xr-section-inline-details {\n",
              "  padding-top: 4px;\n",
              "  padding-bottom: 4px;\n",
              "}\n",
              "\n",
              ".xr-section-inline-details {\n",
              "  grid-column: 2 / -1;\n",
              "}\n",
              "\n",
              ".xr-section-details {\n",
              "  display: none;\n",
              "  grid-column: 1 / -1;\n",
              "  margin-bottom: 5px;\n",
              "}\n",
              "\n",
              ".xr-section-summary-in:checked ~ .xr-section-details {\n",
              "  display: contents;\n",
              "}\n",
              "\n",
              ".xr-array-wrap {\n",
              "  grid-column: 1 / -1;\n",
              "  display: grid;\n",
              "  grid-template-columns: 20px auto;\n",
              "}\n",
              "\n",
              ".xr-array-wrap > label {\n",
              "  grid-column: 1;\n",
              "  vertical-align: top;\n",
              "}\n",
              "\n",
              ".xr-preview {\n",
              "  color: var(--xr-font-color3);\n",
              "}\n",
              "\n",
              ".xr-array-preview,\n",
              ".xr-array-data {\n",
              "  padding: 0 5px !important;\n",
              "  grid-column: 2;\n",
              "}\n",
              "\n",
              ".xr-array-data,\n",
              ".xr-array-in:checked ~ .xr-array-preview {\n",
              "  display: none;\n",
              "}\n",
              "\n",
              ".xr-array-in:checked ~ .xr-array-data,\n",
              ".xr-array-preview {\n",
              "  display: inline-block;\n",
              "}\n",
              "\n",
              ".xr-dim-list {\n",
              "  display: inline-block !important;\n",
              "  list-style: none;\n",
              "  padding: 0 !important;\n",
              "  margin: 0;\n",
              "}\n",
              "\n",
              ".xr-dim-list li {\n",
              "  display: inline-block;\n",
              "  padding: 0;\n",
              "  margin: 0;\n",
              "}\n",
              "\n",
              ".xr-dim-list:before {\n",
              "  content: '(';\n",
              "}\n",
              "\n",
              ".xr-dim-list:after {\n",
              "  content: ')';\n",
              "}\n",
              "\n",
              ".xr-dim-list li:not(:last-child):after {\n",
              "  content: ',';\n",
              "  padding-right: 5px;\n",
              "}\n",
              "\n",
              ".xr-has-index {\n",
              "  font-weight: bold;\n",
              "}\n",
              "\n",
              ".xr-var-list,\n",
              ".xr-var-item {\n",
              "  display: contents;\n",
              "}\n",
              "\n",
              ".xr-var-item > div,\n",
              ".xr-var-item label,\n",
              ".xr-var-item > .xr-var-name span {\n",
              "  background-color: var(--xr-background-color-row-even);\n",
              "  margin-bottom: 0;\n",
              "}\n",
              "\n",
              ".xr-var-item > .xr-var-name:hover span {\n",
              "  padding-right: 5px;\n",
              "}\n",
              "\n",
              ".xr-var-list > li:nth-child(odd) > div,\n",
              ".xr-var-list > li:nth-child(odd) > label,\n",
              ".xr-var-list > li:nth-child(odd) > .xr-var-name span {\n",
              "  background-color: var(--xr-background-color-row-odd);\n",
              "}\n",
              "\n",
              ".xr-var-name {\n",
              "  grid-column: 1;\n",
              "}\n",
              "\n",
              ".xr-var-dims {\n",
              "  grid-column: 2;\n",
              "}\n",
              "\n",
              ".xr-var-dtype {\n",
              "  grid-column: 3;\n",
              "  text-align: right;\n",
              "  color: var(--xr-font-color2);\n",
              "}\n",
              "\n",
              ".xr-var-preview {\n",
              "  grid-column: 4;\n",
              "}\n",
              "\n",
              ".xr-var-name,\n",
              ".xr-var-dims,\n",
              ".xr-var-dtype,\n",
              ".xr-preview,\n",
              ".xr-attrs dt {\n",
              "  white-space: nowrap;\n",
              "  overflow: hidden;\n",
              "  text-overflow: ellipsis;\n",
              "  padding-right: 10px;\n",
              "}\n",
              "\n",
              ".xr-var-name:hover,\n",
              ".xr-var-dims:hover,\n",
              ".xr-var-dtype:hover,\n",
              ".xr-attrs dt:hover {\n",
              "  overflow: visible;\n",
              "  width: auto;\n",
              "  z-index: 1;\n",
              "}\n",
              "\n",
              ".xr-var-attrs,\n",
              ".xr-var-data {\n",
              "  display: none;\n",
              "  background-color: var(--xr-background-color) !important;\n",
              "  padding-bottom: 5px !important;\n",
              "}\n",
              "\n",
              ".xr-var-attrs-in:checked ~ .xr-var-attrs,\n",
              ".xr-var-data-in:checked ~ .xr-var-data {\n",
              "  display: block;\n",
              "}\n",
              "\n",
              ".xr-var-data > table {\n",
              "  float: right;\n",
              "}\n",
              "\n",
              ".xr-var-name span,\n",
              ".xr-var-data,\n",
              ".xr-attrs {\n",
              "  padding-left: 25px !important;\n",
              "}\n",
              "\n",
              ".xr-attrs,\n",
              ".xr-var-attrs,\n",
              ".xr-var-data {\n",
              "  grid-column: 1 / -1;\n",
              "}\n",
              "\n",
              "dl.xr-attrs {\n",
              "  padding: 0;\n",
              "  margin: 0;\n",
              "  display: grid;\n",
              "  grid-template-columns: 125px auto;\n",
              "}\n",
              "\n",
              ".xr-attrs dt,\n",
              ".xr-attrs dd {\n",
              "  padding: 0;\n",
              "  margin: 0;\n",
              "  float: left;\n",
              "  padding-right: 10px;\n",
              "  width: auto;\n",
              "}\n",
              "\n",
              ".xr-attrs dt {\n",
              "  font-weight: normal;\n",
              "  grid-column: 1;\n",
              "}\n",
              "\n",
              ".xr-attrs dt:hover span {\n",
              "  display: inline-block;\n",
              "  background: var(--xr-background-color);\n",
              "  padding-right: 10px;\n",
              "}\n",
              "\n",
              ".xr-attrs dd {\n",
              "  grid-column: 2;\n",
              "  white-space: pre-wrap;\n",
              "  word-break: break-all;\n",
              "}\n",
              "\n",
              ".xr-icon-database,\n",
              ".xr-icon-file-text2 {\n",
              "  display: inline-block;\n",
              "  vertical-align: middle;\n",
              "  width: 1em;\n",
              "  height: 1.5em !important;\n",
              "  stroke-width: 0;\n",
              "  stroke: currentColor;\n",
              "  fill: currentColor;\n",
              "}\n",
              "</style><pre class='xr-text-repr-fallback'>&lt;xarray.DataArray ()&gt;\n",
              "array(5.35602993)\n",
              "Coordinates:\n",
              "    y        float64 32.38\n",
              "    year     int32 2001</pre><div class='xr-wrap' hidden><div class='xr-header'><div class='xr-obj-type'>xarray.DataArray</div><div class='xr-array-name'></div></div><ul class='xr-sections'><li class='xr-section-item'><div class='xr-array-wrap'><input id='section-301bb036-d0c4-4721-9286-cdacfb63aa41' class='xr-array-in' type='checkbox' checked><label for='section-301bb036-d0c4-4721-9286-cdacfb63aa41' title='Show/hide data repr'><svg class='icon xr-icon-database'><use xlink:href='#icon-database'></use></svg></label><div class='xr-array-preview xr-preview'><span>5.356</span></div><div class='xr-array-data'><pre>array(5.35602993)</pre></div></div></li><li class='xr-section-item'><input id='section-665649e8-dbe1-499f-9da1-e7787a726442' class='xr-section-summary-in' type='checkbox'  checked><label for='section-665649e8-dbe1-499f-9da1-e7787a726442' class='xr-section-summary' >Coordinates: <span>(2)</span></label><div class='xr-section-inline-details'></div><div class='xr-section-details'><ul class='xr-var-list'><li class='xr-var-item'><div class='xr-var-name'><span>y</span></div><div class='xr-var-dims'>()</div><div class='xr-var-dtype'>float64</div><div class='xr-var-preview xr-preview'>32.38</div><input id='attrs-3812c0a6-aa29-49e3-afb2-b5055d9f596c' class='xr-var-attrs-in' type='checkbox' ><label for='attrs-3812c0a6-aa29-49e3-afb2-b5055d9f596c' title='Show/Hide attributes'><svg class='icon xr-icon-file-text2'><use xlink:href='#icon-file-text2'></use></svg></label><input id='data-8f046bff-17ef-43ec-ba9d-79d8a94851ea' class='xr-var-data-in' type='checkbox'><label for='data-8f046bff-17ef-43ec-ba9d-79d8a94851ea' title='Show/Hide data repr'><svg class='icon xr-icon-database'><use xlink:href='#icon-database'></use></svg></label><div class='xr-var-attrs'><dl class='xr-attrs'><dt><span>axis :</span></dt><dd>Y</dd><dt><span>long_name :</span></dt><dd>y coordinate of projection</dd><dt><span>standard_name :</span></dt><dd>projection_y_coordinate</dd><dt><span>units :</span></dt><dd>degrees</dd></dl></div><div class='xr-var-data'><pre>array(32.37542538)</pre></div></li><li class='xr-var-item'><div class='xr-var-name'><span>year</span></div><div class='xr-var-dims'>()</div><div class='xr-var-dtype'>int32</div><div class='xr-var-preview xr-preview'>2001</div><input id='attrs-7d451f30-73d1-48a5-9067-28be05ee80c9' class='xr-var-attrs-in' type='checkbox' disabled><label for='attrs-7d451f30-73d1-48a5-9067-28be05ee80c9' title='Show/Hide attributes'><svg class='icon xr-icon-file-text2'><use xlink:href='#icon-file-text2'></use></svg></label><input id='data-128fbcf7-658e-43d2-ab21-ac233a7dcbac' class='xr-var-data-in' type='checkbox'><label for='data-128fbcf7-658e-43d2-ab21-ac233a7dcbac' title='Show/Hide data repr'><svg class='icon xr-icon-database'><use xlink:href='#icon-database'></use></svg></label><div class='xr-var-attrs'><dl class='xr-attrs'></dl></div><div class='xr-var-data'><pre>array(2001, dtype=int32)</pre></div></li></ul></div></li><li class='xr-section-item'><input id='section-fca97e85-a477-4c49-8f53-816f9aff9731' class='xr-section-summary-in' type='checkbox' disabled ><label for='section-fca97e85-a477-4c49-8f53-816f9aff9731' class='xr-section-summary'  title='Expand/collapse section'>Attributes: <span>(0)</span></label><div class='xr-section-inline-details'></div><div class='xr-section-details'><dl class='xr-attrs'></dl></div></li></ul></div></div>"
            ],
            "text/plain": [
              "<xarray.DataArray ()>\n",
              "array(5.35602993)\n",
              "Coordinates:\n",
              "    y        float64 32.38\n",
              "    year     int32 2001"
            ]
          },
          "metadata": {
            "tags": []
          },
          "execution_count": 71
        }
      ]
    },
    {
      "cell_type": "code",
      "metadata": {
        "id": "m1bFV6sJjs6q",
        "colab": {
          "base_uri": "https://localhost:8080/"
        },
        "outputId": "b297a644-e338-4d48-eb4d-061b215cdc2a"
      },
      "source": [
        "plt.figure(figsize=(10,8))\n",
        "plt.title('Thermal Wind Velocity V(x,z)')\n",
        "plt.pcolormesh(df.x, -df.lev, v);plt.colorbar();"
      ],
      "execution_count": null,
      "outputs": [
        {
          "output_type": "display_data",
          "data": {
            "image/png": "[encoded data removed]",
            "text/plain": [
              "<Figure size 720x576 with 2 Axes>"
            ]
          },
          "metadata": {
            "tags": [],
            "needs_background": "light"
          }
        }
      ]
    },
    {
      "cell_type": "code",
      "metadata": {
        "id": "9hmkX5ZEfXyP"
      },
      "source": [
        ""
      ],
      "execution_count": null,
      "outputs": []
    }
  ]
}